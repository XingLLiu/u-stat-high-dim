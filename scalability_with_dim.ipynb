{
 "cells": [
  {
   "cell_type": "code",
   "execution_count": 1,
   "metadata": {},
   "outputs": [],
   "source": [
    "%load_ext autoreload\n",
    "%autoreload 2\n",
    "\n",
    "import src.ksd.models as models\n",
    "from src.ksd.find_modes import find_modes, pairwise_directions, run_bfgs\n",
    "from src.ksd.langevin import RandomWalkMH, RandomWalkBarker\n",
    "import src.ksd.langevin as mcmc\n",
    "from src.ksd.ksd import KSD, SDEKSD, GKSD\n",
    "from src.ksd.kernel import IMQ, RBF\n",
    "from src.ksd.bootstrap import Bootstrap\n",
    "from src.ksd.find_modes import find_modes, pairwise_directions\n",
    "from tqdm.notebook import tqdm, trange\n",
    "\n",
    "import numpy as np\n",
    "import pandas as pd\n",
    "import tensorflow as tf\n",
    "import tensorflow_probability as tfp\n",
    "tfd = tfp.distributions\n",
    "import matplotlib.pyplot as plt\n",
    "import seaborn as sns\n",
    "\n",
    "import src.kgof.density as density\n",
    "import src.kgof.data as data\n",
    "\n",
    "MCMCKernel = RandomWalkMH # RandomWalkBarker"
   ]
  },
  {
   "cell_type": "code",
   "execution_count": 2,
   "metadata": {},
   "outputs": [],
   "source": [
    "tf.random.set_seed(1)"
   ]
  },
  {
   "cell_type": "code",
   "execution_count": 3,
   "metadata": {},
   "outputs": [],
   "source": [
    "def generate_target_proposal(dim):\n",
    "    ## single gaussians\n",
    "    k = 1\n",
    "    delta = 2.\n",
    "    \n",
    "    mean1 = tf.eye(dim)[:, 0] * delta\n",
    "    mean2 = tf.zeros(dim)\n",
    "\n",
    "    target = tfd.MultivariateNormalDiag(mean1)\n",
    "    proposal_off = tfd.MultivariateNormalDiag(mean2)\n",
    "    \n",
    "    return target, proposal_off"
   ]
  },
  {
   "cell_type": "code",
   "execution_count": 4,
   "metadata": {},
   "outputs": [],
   "source": [
    "def plot_bandwidth(dims, kernel_class, n):\n",
    "    \n",
    "    bandwidths = []\n",
    "    for d in dims:\n",
    "        print(f\"dim {d}\")\n",
    "        _, proposal_dist = generate_target_proposal(d)\n",
    "        X = proposal_dist.sample(n)\n",
    "        \n",
    "        kernel = kernel_class(med_heuristic=True)\n",
    "        kernel.bandwidth(X, tf.identity(X))\n",
    "        bandwidths.append(kernel.sigma_sq)\n",
    "        \n",
    "    # plot\n",
    "    fig, ax = plt.subplots()\n",
    "    ax.plot(dims, bandwidths, label=\"empirical\")\n",
    "    ax.plot(dims, dims, label=\"theoretical\")\n",
    "    ax.set_ylabel(\"Bandwidth\")\n",
    "    ax.set_xlabel(\"Dim\")\n",
    "    ax.legend()\n",
    "    plt.show()\n",
    "    \n",
    "    return bandwidths"
   ]
  },
  {
   "cell_type": "code",
   "execution_count": 5,
   "metadata": {},
   "outputs": [],
   "source": [
    "dims = [1, 2, 5, 10, 20, 30, 40, 50, 100, 500, 1000]"
   ]
  },
  {
   "cell_type": "code",
   "execution_count": 9,
   "metadata": {},
   "outputs": [
    {
     "data": {
      "application/vnd.jupyter.widget-view+json": {
       "model_id": "a07b3e96c2b245778758bc3dc7253c55",
       "version_major": 2,
       "version_minor": 0
      },
      "text/plain": [
       "  0%|          | 0/11 [00:00<?, ?it/s]"
      ]
     },
     "metadata": {},
     "output_type": "display_data"
    },
    {
     "name": "stdout",
     "output_type": "stream",
     "text": [
      "dim 1\n",
      "dim 2\n",
      "dim 5\n",
      "dim 10\n",
      "dim 20\n",
      "dim 30\n",
      "dim 40\n",
      "dim 50\n",
      "dim 100\n",
      "dim 500\n",
      "dim 1000\n"
     ]
    },
    {
     "data": {
      "image/png": "[encoded data removed]",
      "text/plain": [
       "<Figure size 432x288 with 1 Axes>"
      ]
     },
     "metadata": {
      "needs_background": "light"
     },
     "output_type": "display_data"
    }
   ],
   "source": [
    "tf.random.set_seed(1)\n",
    "bandwidths = plot_bandwidth(dims, RBF, n=10000)"
   ]
  },
  {
   "cell_type": "code",
   "execution_count": 6,
   "metadata": {},
   "outputs": [],
   "source": [
    "def ksd_gaussians(d):\n",
    "    delta = 2.\n",
    "    mean1 = tf.eye(dim)[:, 0] * delta\n",
    "    mean1_norm_sq = np.sum(mean1**2)\n",
    "    \n",
    "    res = (2 * np.pi)**(d / 2) * d / (np.sqrt(2 * d + 2)) * mean1_norm_sq\n",
    "    return res"
   ]
  },
  {
   "cell_type": "code",
   "execution_count": 7,
   "metadata": {},
   "outputs": [],
   "source": [
    "def plot_ksd(dims, kernel_class, n):\n",
    "    \n",
    "    ksd_empirical_list = []\n",
    "    for d in dims:\n",
    "        print(f\"dim: {d}\")\n",
    "        target, proposal_dist = generate_target_proposal(d)\n",
    "        X = proposal_dist.sample(n)\n",
    "        \n",
    "        # compute ksd empirically\n",
    "        kernel = kernel_class(med_heuristic=True)\n",
    "        ksd = KSD(kernel=kernel, log_prob=target.log_prob)\n",
    "        ksd_val = ksd(X, tf.identity(X))\n",
    "        \n",
    "        ksd_empirical_list.append(ksd_val)\n",
    "        \n",
    "    # compute ksd from theoretical formula\n",
    "    ksd_theoretical_list = ksd_gaussians(dims)\n",
    "        \n",
    "    fig, ax = plt.subplots()\n",
    "    ax.plot(dims, ksd_empirical_list, label=\"empirical\")\n",
    "    ax.plot(dims, ksd_theoretical_list, label=\"theoretical\")\n",
    "    ax.set_ylabel(\"KSD\")\n",
    "    ax.set_xlabel(\"Dim\")\n",
    "    \n",
    "    return ksd_empirical_list, ksd_theoretical_list"
   ]
  },
  {
   "cell_type": "code",
   "execution_count": null,
   "metadata": {},
   "outputs": [
    {
     "name": "stdout",
     "output_type": "stream",
     "text": [
      "dim: 1\n",
      "dim: 2\n"
     ]
    },
    {
     "name": "stderr",
     "output_type": "stream",
     "text": [
      "2022-10-21 10:36:48.592891: E tensorflow/stream_executor/cuda/cuda_driver.cc:271] failed call to cuInit: CUDA_ERROR_NO_DEVICE: no CUDA-capable device is detected\n",
      "2022-10-21 10:36:48.592943: I tensorflow/stream_executor/cuda/cuda_diagnostics.cc:169] retrieving CUDA diagnostic information for host: nvidia4\n",
      "2022-10-21 10:36:48.592950: I tensorflow/stream_executor/cuda/cuda_diagnostics.cc:176] hostname: nvidia4\n",
      "2022-10-21 10:36:48.593083: I tensorflow/stream_executor/cuda/cuda_diagnostics.cc:200] libcuda reported version is: 460.27.4\n",
      "2022-10-21 10:36:48.593112: I tensorflow/stream_executor/cuda/cuda_diagnostics.cc:204] kernel reported version is: 460.27.4\n",
      "2022-10-21 10:36:48.593118: I tensorflow/stream_executor/cuda/cuda_diagnostics.cc:310] kernel version seems to match DSO: 460.27.4\n",
      "2022-10-21 10:36:48.593597: I tensorflow/core/platform/cpu_feature_guard.cc:142] This TensorFlow binary is optimized with oneAPI Deep Neural Network Library (oneDNN) to use the following CPU instructions in performance-critical operations:  AVX2 AVX512F FMA\n",
      "To enable them in other operations, rebuild TensorFlow with the appropriate compiler flags.\n"
     ]
    },
    {
     "name": "stdout",
     "output_type": "stream",
     "text": [
      "dim: 5\n",
      "dim: 10\n",
      "dim: 20\n",
      "dim: 30\n",
      "dim: 40\n",
      "dim: 50\n",
      "dim: 100\n",
      "dim: 500\n"
     ]
    },
    {
     "name": "stderr",
     "output_type": "stream",
     "text": [
      "2022-10-21 10:37:30.733537: W tensorflow/core/framework/cpu_allocator_impl.cc:80] Allocation of 1000000000000 exceeds 10% of free system memory.\n"
     ]
    }
   ],
   "source": [
    "tf.random.set_seed(1)\n",
    "ksd_empirical_list, ksd_theoretical_list = plot_ksd(dims, RBF, n=1000)"
   ]
  },
  {
   "cell_type": "code",
   "execution_count": null,
   "metadata": {},
   "outputs": [],
   "source": []
  }
 ],
 "metadata": {
  "kernelspec": {
   "display_name": "pksd",
   "language": "python",
   "name": "pksd"
  },
  "language_info": {
   "codemirror_mode": {
    "name": "ipython",
    "version": 3
   },
   "file_extension": ".py",
   "mimetype": "text/x-python",
   "name": "python",
   "nbconvert_exporter": "python",
   "pygments_lexer": "ipython3",
   "version": "3.8.10"
  }
 },
 "nbformat": 4,
 "nbformat_minor": 4
}
