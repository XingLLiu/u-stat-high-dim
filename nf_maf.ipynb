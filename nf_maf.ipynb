{
 "cells": [
  {
   "cell_type": "code",
   "execution_count": 1,
   "id": "028525de",
   "metadata": {},
   "outputs": [],
   "source": [
    "%load_ext autoreload\n",
    "%autoreload 2\n",
    "\n",
    "import src.ksd.models as models\n",
    "from src.ksd.find_modes import find_modes, pairwise_directions, run_bfgs\n",
    "from src.ksd.langevin import RandomWalkMH, RandomWalkBarker\n",
    "import src.ksd.langevin as mcmc\n",
    "from src.ksd.ksd import KSD\n",
    "from src.ksd.kernel import IMQ\n",
    "from src.ksd.bootstrap import Bootstrap\n",
    "from src.ksd.find_modes import find_modes, pairwise_directions\n",
    "from tqdm.notebook import tqdm, trange\n",
    "\n",
    "import numpy as np\n",
    "import pandas as pd\n",
    "import tensorflow as tf\n",
    "import tensorflow_probability as tfp\n",
    "tfd = tfp.distributions\n",
    "import matplotlib.pyplot as plt\n",
    "import seaborn as sns\n",
    "\n",
    "import src.kgof.density as density\n",
    "import src.kgof.data as data\n",
    "\n",
    "from src.nf_maf import init_model, show\n",
    "\n",
    "MCMCKernel = RandomWalkMH # RandomWalkBarker "
   ]
  },
  {
   "cell_type": "code",
   "execution_count": 2,
   "id": "1ec5096c",
   "metadata": {},
   "outputs": [
    {
     "name": "stderr",
     "output_type": "stream",
     "text": [
      "2022-04-13 18:55:33.372837: E tensorflow/stream_executor/cuda/cuda_driver.cc:271] failed call to cuInit: CUDA_ERROR_NO_DEVICE: no CUDA-capable device is detected\n",
      "2022-04-13 18:55:33.372900: I tensorflow/stream_executor/cuda/cuda_diagnostics.cc:169] retrieving CUDA diagnostic information for host: nvidia4\n",
      "2022-04-13 18:55:33.372906: I tensorflow/stream_executor/cuda/cuda_diagnostics.cc:176] hostname: nvidia4\n",
      "2022-04-13 18:55:33.373061: I tensorflow/stream_executor/cuda/cuda_diagnostics.cc:200] libcuda reported version is: 460.27.4\n",
      "2022-04-13 18:55:33.373092: I tensorflow/stream_executor/cuda/cuda_diagnostics.cc:204] kernel reported version is: 460.27.4\n",
      "2022-04-13 18:55:33.373097: I tensorflow/stream_executor/cuda/cuda_diagnostics.cc:310] kernel version seems to match DSO: 460.27.4\n",
      "2022-04-13 18:55:33.373833: I tensorflow/core/platform/cpu_feature_guard.cc:142] This TensorFlow binary is optimized with oneAPI Deep Neural Network Library (oneDNN) to use the following CPU instructions in performance-critical operations:  AVX2 AVX512F FMA\n",
      "To enable them in other operations, rebuild TensorFlow with the appropriate compiler flags.\n"
     ]
    },
    {
     "name": "stdout",
     "output_type": "stream",
     "text": [
      "num in classes in train: [(0, 4932), (1, 5678)]\n",
      "num in classes in val: [(0, 991), (1, 1064)]\n",
      "num in classes in test: [(0, 980), (1, 1135)]\n"
     ]
    },
    {
     "name": "stderr",
     "output_type": "stream",
     "text": [
      "2022-04-13 18:55:33.886850: W tensorflow/core/data/root_dataset.cc:167] Optimization loop failed: Cancelled: Operation was cancelled\n"
     ]
    },
    {
     "name": "stdout",
     "output_type": "stream",
     "text": [
      "Successfully initialized!\n",
      "Successfully loaded trained model!\n"
     ]
    }
   ],
   "source": [
    "checkpoint, maf, batched_train_data = init_model()"
   ]
  },
  {
   "cell_type": "code",
   "execution_count": 3,
   "id": "12e321a4",
   "metadata": {},
   "outputs": [],
   "source": [
    "xx = maf.sample(10)"
   ]
  },
  {
   "cell_type": "code",
   "execution_count": 62,
   "id": "589e2b9b",
   "metadata": {},
   "outputs": [
    {
     "data": {
      "text/plain": [
       "TensorShape([10, 28, 28])"
      ]
     },
     "execution_count": 62,
     "metadata": {},
     "output_type": "execute_result"
    }
   ],
   "source": [
    "xx.shape"
   ]
  },
  {
   "cell_type": "code",
   "execution_count": 64,
   "id": "7593d88a",
   "metadata": {},
   "outputs": [],
   "source": [
    "show(xx)"
   ]
  },
  {
   "cell_type": "code",
   "execution_count": 76,
   "id": "10fa8c19",
   "metadata": {},
   "outputs": [],
   "source": [
    "xx_orig = tf.identity(xx)"
   ]
  },
  {
   "cell_type": "code",
   "execution_count": 80,
   "id": "f9e6f9ab",
   "metadata": {},
   "outputs": [],
   "source": [
    "xx = tf.convert_to_tensor(xx_orig, dtype=tf.float32)\n",
    "# xx"
   ]
  },
  {
   "cell_type": "code",
   "execution_count": 85,
   "id": "96b4d9c9",
   "metadata": {},
   "outputs": [
    {
     "data": {
      "text/plain": [
       "<tf.Tensor: shape=(2, 28, 28), dtype=float32, numpy=\n",
       "array([[[-7.4110522e+08, -2.7321490e+09, -4.8901002e+09, ...,\n",
       "          4.6334566e+09,  6.9905418e+09, -6.5231570e+09],\n",
       "        [-7.3135462e+09,  9.9679171e+09,  1.2854808e+11, ...,\n",
       "          3.9617446e+10, -1.7979771e+10, -1.4283122e+10],\n",
       "        [ 2.2583882e+10,  2.5827489e+09, -1.3882862e+10, ...,\n",
       "          5.6513237e+10,  1.5028539e+10,  3.3719091e+10],\n",
       "        ...,\n",
       "        [-1.0478778e+10, -1.6964180e+11,  1.4208826e+10, ...,\n",
       "          5.7636069e+10, -2.4373962e+09,  3.4707820e+11],\n",
       "        [ 4.9107558e+10, -1.1279250e+10, -8.6099296e+10, ...,\n",
       "         -5.0653327e+10,  5.2843438e+10, -4.9387494e+11],\n",
       "        [-1.4443377e+11, -2.6590026e+10, -2.2719773e+10, ...,\n",
       "         -1.1086394e+10, -1.5583674e+10,  5.1940516e+10]],\n",
       "\n",
       "       [[-2.2653535e+09, -4.8806932e+09, -9.1292600e+09, ...,\n",
       "         -9.9990733e+09, -2.0031934e+10,  2.8840474e+09],\n",
       "        [-9.3842790e+09, -3.8108103e+10,  1.5733010e+11, ...,\n",
       "          2.5241285e+09, -4.2482839e+09, -7.9167237e+09],\n",
       "        [ 3.1460172e+10,  3.1498299e+10,  2.4287244e+10, ...,\n",
       "         -2.9265058e+10, -8.2069238e+09,  8.6324830e+10],\n",
       "        ...,\n",
       "        [ 1.2982289e+10,  8.0093454e+10, -1.5102172e+09, ...,\n",
       "         -1.0200631e+11, -5.9715719e+10, -1.5812723e+11],\n",
       "        [ 5.0508653e+10, -1.1632059e+10, -2.2110028e+10, ...,\n",
       "         -5.0790478e+10, -3.0221275e+10,  7.9276831e+09],\n",
       "        [-1.4888088e+11, -1.0002059e+11, -6.3823360e+10, ...,\n",
       "         -4.2703870e+11, -4.0461824e+10,  1.3675298e+11]]], dtype=float32)>"
      ]
     },
     "execution_count": 85,
     "metadata": {},
     "output_type": "execute_result"
    }
   ],
   "source": [
    "with tf.GradientTape() as g:\n",
    "    g.watch(xx)\n",
    "    ll = tf.reduce_sum(maf.log_prob(xx))\n",
    "\n",
    "gg = g.gradient(ll, xx)\n",
    "gg[:2]"
   ]
  },
  {
   "cell_type": "markdown",
   "id": "b862e32d",
   "metadata": {},
   "source": [
    "# KSD test"
   ]
  },
  {
   "cell_type": "code",
   "execution_count": 3,
   "id": "c5aa926e",
   "metadata": {},
   "outputs": [],
   "source": [
    "# can only run once!\n",
    "log_prob_old = maf.log_prob\n",
    "\n",
    "def maf_log_prob(img):\n",
    "    img = tf.reshape(img, (-1, 28, 28))\n",
    "    return log_prob_old(img)\n",
    "\n",
    "maf.log_prob = maf_log_prob"
   ]
  },
  {
   "cell_type": "code",
   "execution_count": 5,
   "id": "0ddf4e51",
   "metadata": {},
   "outputs": [],
   "source": [
    "tf.random.set_seed(1)\n",
    "\n",
    "n = 100"
   ]
  },
  {
   "cell_type": "code",
   "execution_count": 6,
   "id": "c3bf5247",
   "metadata": {
    "scrolled": true
   },
   "outputs": [
    {
     "name": "stderr",
     "output_type": "stream",
     "text": [
      "2022-04-13 18:55:39.725903: W tensorflow/core/data/root_dataset.cc:167] Optimization loop failed: Cancelled: Operation was cancelled\n"
     ]
    }
   ],
   "source": [
    "sample_batch = next(iter(batched_train_data))\n",
    "ind = np.random.randint(0, sample_batch.shape[0], size=n).tolist()\n",
    "sample_off = np.take(sample_batch, ind, axis=0)\n",
    "sample_off = tf.reshape(sample_off, (-1, 28*28))"
   ]
  },
  {
   "cell_type": "code",
   "execution_count": 7,
   "id": "9006cf9b",
   "metadata": {},
   "outputs": [],
   "source": [
    "sample_on = tf.convert_to_tensor(maf.sample(n), dtype=tf.float32)\n",
    "sample_on = tf.reshape(sample_on, (-1, 28*28))"
   ]
  },
  {
   "cell_type": "code",
   "execution_count": 9,
   "id": "e9694d1c",
   "metadata": {},
   "outputs": [],
   "source": [
    "num_boot = 800\n",
    "alpha = 0.05\n",
    "nrep = 1\n",
    "\n",
    "kernel = IMQ(med_heuristic=True)\n",
    "ksd = KSD(target=maf, kernel=kernel)"
   ]
  },
  {
   "cell_type": "code",
   "execution_count": 10,
   "id": "04611014",
   "metadata": {},
   "outputs": [
    {
     "name": "stderr",
     "output_type": "stream",
     "text": [
      "2022-04-13 18:56:44.162608: I tensorflow/compiler/mlir/mlir_graph_optimization_pass.cc:185] None of the MLIR Optimization Passes are enabled (registered 2)\n"
     ]
    }
   ],
   "source": [
    "# initialise bootstrap\n",
    "bootstrap_nopert = Bootstrap(ksd, n)\n",
    "multinom_samples_notrain = bootstrap_nopert.multinom.sample((nrep, num_boot)) # nrep x num_boot x n"
   ]
  },
  {
   "cell_type": "code",
   "execution_count": 15,
   "id": "3d4b7f1e",
   "metadata": {},
   "outputs": [],
   "source": [
    "## KSD\n",
    "multinom_one_sample = multinom_samples_notrain[0, :] # nrep x num_boost x n\n",
    "\n",
    "# compute p-value\n",
    "rej_on, pval_on = bootstrap_nopert.test_once(\n",
    "    alpha=alpha, num_boot=num_boot,X=sample_on, multinom_samples=multinom_one_sample)\n",
    "\n",
    "rej_off, pval_off = bootstrap_nopert.test_once(\n",
    "    alpha=alpha, num_boot=num_boot,X=sample_off, multinom_samples=multinom_one_sample)"
   ]
  },
  {
   "cell_type": "code",
   "execution_count": 16,
   "id": "495be624",
   "metadata": {},
   "outputs": [],
   "source": [
    "pval_on = pva_on\n",
    "pval_off = pva_off"
   ]
  },
  {
   "cell_type": "code",
   "execution_count": 17,
   "id": "a7895fbd",
   "metadata": {},
   "outputs": [
    {
     "name": "stdout",
     "output_type": "stream",
     "text": [
      "on p-value: 0.05368289637952559 off p-value: 0.7191011235955056\n"
     ]
    }
   ],
   "source": [
    "print(\"on p-value:\", pval_on, \"off p-value:\", pval_off)"
   ]
  },
  {
   "cell_type": "code",
   "execution_count": null,
   "id": "ee5105e2",
   "metadata": {},
   "outputs": [],
   "source": []
  },
  {
   "cell_type": "code",
   "execution_count": null,
   "id": "09ddd123",
   "metadata": {},
   "outputs": [],
   "source": []
  }
 ],
 "metadata": {
  "kernelspec": {
   "display_name": "fast-mcmc",
   "language": "python",
   "name": "fast-mcmc"
  },
  "language_info": {
   "codemirror_mode": {
    "name": "ipython",
    "version": 3
   },
   "file_extension": ".py",
   "mimetype": "text/x-python",
   "name": "python",
   "nbconvert_exporter": "python",
   "pygments_lexer": "ipython3",
   "version": "3.8.10"
  }
 },
 "nbformat": 4,
 "nbformat_minor": 5
}
