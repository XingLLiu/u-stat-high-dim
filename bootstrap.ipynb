{
 "cells": [
  {
   "cell_type": "code",
   "execution_count": 44,
   "metadata": {},
   "outputs": [
    {
     "name": "stdout",
     "output_type": "stream",
     "text": [
      "The autoreload extension is already loaded. To reload it, use:\n",
      "  %reload_ext autoreload\n"
     ]
    }
   ],
   "source": [
    "%load_ext autoreload\n",
    "%autoreload 2\n",
    "\n",
    "import numpy as np\n",
    "import pandas as pd\n",
    "import tensorflow as tf\n",
    "import tensorflow_probability as tfp\n",
    "tfd = tfp.distributions\n",
    "import matplotlib.pyplot as plt\n",
    "import seaborn as sns\n",
    "from tqdm.notebook import tqdm, trange\n",
    "\n",
    "from src.ksd.ksd import ConvolvedKSD\n",
    "from src.ksd.kernel import RBF, IMQ\n",
    "from src.ksd.bootstrap import Bootstrap\n",
    "from experiments.compare_samplers import create_mixture_gaussian\n",
    "# from experiments.bootstrap_test_convolved import run_bootstrap_experiment"
   ]
  },
  {
   "cell_type": "code",
   "execution_count": 57,
   "metadata": {},
   "outputs": [],
   "source": [
    "tf.random.set_seed(0)"
   ]
  },
  {
   "cell_type": "code",
   "execution_count": 58,
   "metadata": {},
   "outputs": [],
   "source": [
    "\n",
    "def run_bootstrap_experiment(nrep, target, proposal_on, proposal_off, convolution, kernel, alpha, num_boot, num_est):\n",
    "    \"\"\"compute KSD and repeat for nrep times\"\"\"\n",
    "    ksd = ConvolvedKSD(target=target, kernel=kernel, conv_kernel=convolution)\n",
    "    \n",
    "    nsamples_list = [500]\n",
    "    ksd_df = pd.DataFrame(columns=[\"n\", \"p_value\", \"ksd_hat\", \"seed\", \"type\"])\n",
    "    iterator = tqdm(nsamples_list)\n",
    "    for n in iterator:\n",
    "        bootstrap = Bootstrap(ksd, n)\n",
    "        multinom_samples = bootstrap.multinom.sample((nrep, num_boot)) # nrep x num_boot x n\n",
    "        iterator.set_description(f\"Running with sample size {n}\")\n",
    "        for seed in range(nrep):\n",
    "            iterator.set_description(f\"Repetition: {seed+1} of {nrep}\")\n",
    "            # off-target sample\n",
    "            proposal_off_sample = proposal_off.sample(n)\n",
    "            conv_sample = convolution.sample(n)\n",
    "            proposal_off_sample += conv_sample\n",
    "            _, p_val = bootstrap.test_once(alpha=alpha, num_boot=num_boot, X=proposal_off_sample, multinom_samples=multinom_samples[seed, :], num_est=num_est)\n",
    "            ksd_df.loc[len(ksd_df)] = [n, p_val, bootstrap.ksd_hat, seed, \"off-target\"]\n",
    "\n",
    "            # on-target sample\n",
    "            proposal_on_sample = proposal_on.sample(n)\n",
    "            proposal_on_sample += conv_sample\n",
    "            _, p_val = bootstrap.test_once(alpha=alpha, num_boot=num_boot, X=proposal_on_sample, multinom_samples=multinom_samples[seed, :], num_est=num_est)\n",
    "            ksd_df.loc[len(ksd_df)] = [n, p_val, bootstrap.ksd_hat, seed, \"target\"]\n",
    "    return ksd_df"
   ]
  },
  {
   "cell_type": "code",
   "execution_count": 59,
   "metadata": {},
   "outputs": [],
   "source": [
    "nrep = 1000\n",
    "num_boot = 1000 # number of bootstrap samples to compute critical val\n",
    "alpha = 0.05 # significant level\n",
    "delta = 4.0\n",
    "var_list = [50.]#, [1., 5.,]\n",
    "dim = 1\n",
    "num_est = 10000 # num samples used to estimate concolved target\n"
   ]
  },
  {
   "cell_type": "code",
   "execution_count": 60,
   "metadata": {},
   "outputs": [
    {
     "name": "stdout",
     "output_type": "stream",
     "text": [
      "Running with var = 50.0\n"
     ]
    },
    {
     "data": {
      "application/vnd.jupyter.widget-view+json": {
       "model_id": "59287717288e47ce9d73a135adbd5e1a",
       "version_major": 2,
       "version_minor": 0
      },
      "text/plain": [
       "  0%|          | 0/1 [00:00<?, ?it/s]"
      ]
     },
     "metadata": {},
     "output_type": "display_data"
    },
    {
     "ename": "AttributeError",
     "evalue": "'SubFigure' object has no attribute 'flat'",
     "output_type": "error",
     "traceback": [
      "\u001b[0;31m---------------------------------------------------------------------------\u001b[0m",
      "\u001b[0;31mAttributeError\u001b[0m                            Traceback (most recent call last)",
      "\u001b[0;32m/tmp/ipykernel_2055226/1742617531.py\u001b[0m in \u001b[0;36m<module>\u001b[0;34m\u001b[0m\n\u001b[1;32m     23\u001b[0m \u001b[0;34m\u001b[0m\u001b[0m\n\u001b[1;32m     24\u001b[0m     \u001b[0;31m# plot\u001b[0m\u001b[0;34m\u001b[0m\u001b[0;34m\u001b[0m\u001b[0;34m\u001b[0m\u001b[0m\n\u001b[0;32m---> 25\u001b[0;31m     \u001b[0msubfig\u001b[0m \u001b[0;34m=\u001b[0m \u001b[0msubfigs\u001b[0m\u001b[0;34m.\u001b[0m\u001b[0mflat\u001b[0m\u001b[0;34m[\u001b[0m\u001b[0mind\u001b[0m\u001b[0;34m]\u001b[0m\u001b[0;34m\u001b[0m\u001b[0;34m\u001b[0m\u001b[0m\n\u001b[0m\u001b[1;32m     26\u001b[0m     \u001b[0msubfig\u001b[0m\u001b[0;34m.\u001b[0m\u001b[0msuptitle\u001b[0m\u001b[0;34m(\u001b[0m\u001b[0;34mf\"var = {var}\"\u001b[0m\u001b[0;34m)\u001b[0m\u001b[0;34m\u001b[0m\u001b[0;34m\u001b[0m\u001b[0m\n\u001b[1;32m     27\u001b[0m     \u001b[0maxs\u001b[0m \u001b[0;34m=\u001b[0m \u001b[0msubfig\u001b[0m\u001b[0;34m.\u001b[0m\u001b[0msubplots\u001b[0m\u001b[0;34m(\u001b[0m\u001b[0;36m3\u001b[0m\u001b[0;34m,\u001b[0m \u001b[0;36m1\u001b[0m\u001b[0;34m)\u001b[0m\u001b[0;34m\u001b[0m\u001b[0;34m\u001b[0m\u001b[0m\n",
      "\u001b[0;31mAttributeError\u001b[0m: 'SubFigure' object has no attribute 'flat'"
     ]
    },
    {
     "data": {
      "text/plain": [
       "<Figure size 360x648 with 0 Axes>"
      ]
     },
     "metadata": {},
     "output_type": "display_data"
    }
   ],
   "source": [
    "res_ls = []\n",
    "fig = plt.figure(constrained_layout=True, figsize=(5*len(var_list), 9))\n",
    "subfigs = fig.subfigures(1, len(var_list))\n",
    "for ind, var in enumerate(var_list):\n",
    "    print(f\"Running with var = {var}\")\n",
    "    # target distribution\n",
    "    target = create_mixture_gaussian(dim=dim, delta=delta)\n",
    "\n",
    "    # convolution kernel\n",
    "    convolution = tfd.MultivariateNormalDiag(0., tf.math.sqrt(var) * tf.ones(dim))\n",
    "\n",
    "    # off-target proposal distribution\n",
    "    proposal_on = create_mixture_gaussian(dim=dim, delta=delta)\n",
    "\n",
    "    # off-target proposal distribution\n",
    "    proposal_mean = - delta * tf.eye(dim)[:, 0]\n",
    "    proposal_off = tfd.MultivariateNormalDiag(proposal_mean)\n",
    "\n",
    "    # with IMQ\n",
    "    imq = IMQ(med_heuristic=True)\n",
    "    test_imq_df = run_bootstrap_experiment(nrep, target, proposal_on, proposal_off, convolution, imq, alpha, num_boot, num_est)\n",
    "    res_ls.append(test_imq_df)\n",
    " \n",
    "    # plot\n",
    "    subfig = subfigs.flat[ind]\n",
    "    subfig.suptitle(f\"var = {var}\")\n",
    "    axs = subfig.subplots(3, 1)\n",
    "    axs = axs.flat\n",
    "    convolution_sample = convolution.sample(10000)\n",
    "    axs[0].hist((proposal_off.sample(10000) + convolution_sample).numpy()[:, 0], label=\"off-target\", alpha=0.2)\n",
    "    axs[0].hist((proposal_on.sample(10000) + convolution_sample).numpy()[:, 0], label=\"target\", alpha=0.2)\n",
    "    axs[0].legend()\n",
    "\n",
    "    sns.histplot(ax=axs[1], data=test_imq_df.loc[test_imq_df.type == \"off-target\"], x=\"p_value\", hue=\"type\", bins=20)\n",
    "    axs[1].axis(xmin=0., xmax=1.)\n",
    "    axs[1].set_title(\"off target\")\n",
    "    axs[1].set_xlabel(\"p-value\")\n",
    "\n",
    "    sns.histplot(ax=axs[2], data=test_imq_df.loc[test_imq_df.type == \"target\"], x=\"p_value\", hue=\"type\", bins=20)\n",
    "    axs[2].axis(xmin=0., xmax=1.)\n",
    "    axs[2].set_title(\"On target\")\n",
    "    axs[2].set_xlabel(\"p-value\")"
   ]
  },
  {
   "cell_type": "code",
   "execution_count": 61,
   "metadata": {},
   "outputs": [
    {
     "data": {
      "image/png": "[encoded data removed]",
      "text/plain": [
       "<Figure size 432x288 with 1 Axes>"
      ]
     },
     "metadata": {
      "needs_background": "light"
     },
     "output_type": "display_data"
    },
    {
     "data": {
      "image/png": "[encoded data removed]",
      "text/plain": [
       "<Figure size 432x288 with 1 Axes>"
      ]
     },
     "metadata": {
      "needs_background": "light"
     },
     "output_type": "display_data"
    }
   ],
   "source": [
    "sns.histplot(data=test_imq_df.loc[test_imq_df.type == \"off-target\"], x=\"p_value\", hue=\"type\", bins=20)\n",
    "plt.axis(xmin=-0.01, xmax=1.)\n",
    "plt.show()\n",
    "\n",
    "sns.histplot(data=test_imq_df.loc[test_imq_df.type == \"target\"], x=\"p_value\", hue=\"type\", bins=20)\n",
    "plt.axis(xmin=-0.01, xmax=1.)\n",
    "plt.show()\n"
   ]
  },
  {
   "cell_type": "code",
   "execution_count": 62,
   "metadata": {},
   "outputs": [
    {
     "data": {
      "image/png": "[encoded data removed]",
      "text/plain": [
       "<Figure size 432x288 with 1 Axes>"
      ]
     },
     "metadata": {
      "needs_background": "light"
     },
     "output_type": "display_data"
    }
   ],
   "source": [
    "sns.histplot(data=test_imq_df, x=\"ksd_hat\", hue=\"type\", bins=20)\n",
    "plt.show()\n"
   ]
  },
  {
   "cell_type": "markdown",
   "metadata": {},
   "source": [
    "# check bootstrap samples to get intuition"
   ]
  },
  {
   "cell_type": "code",
   "execution_count": null,
   "metadata": {},
   "outputs": [
    {
     "data": {
      "application/vnd.jupyter.widget-view+json": {
       "model_id": "9e2efdd02ae24538bbdc3d27d50a3ba3",
       "version_major": 2,
       "version_minor": 0
      },
      "text/plain": [
       "  0%|          | 0/1000 [00:00<?, ?it/s]"
      ]
     },
     "metadata": {},
     "output_type": "display_data"
    }
   ],
   "source": [
    "ksd = ConvolvedKSD(target=target, kernel=imq, conv_kernel=convolution)\n",
    "\n",
    "ksd_df = pd.DataFrame(columns=[\"n\", \"p_value\", \"ksd_hat\", \"seed\", \"type\"])\n",
    "n = 500\n",
    "bootstrap = Bootstrap(ksd, n)\n",
    "\n",
    "multinom_samples = bootstrap.multinom.sample((nrep, num_boot)) # nrep x num_boot x n\n",
    "\n",
    "iterator = trange(nrep)\n",
    "for seed in iterator:\n",
    "    iterator.set_description(f\"Repetition: {seed+1} of {nrep}\")\n",
    "\n",
    "    # off-target sample\n",
    "    proposal_off_sample = proposal_off.sample(n)\n",
    "    conv_sample = convolution.sample(n)\n",
    "    proposal_off_sample += conv_sample\n",
    "    _, p_val = bootstrap.test_once(alpha=alpha, num_boot=num_boot, X=proposal_off_sample, multinom_samples=multinom_samples[seed, :], num_est=num_est)\n",
    "    ksd_df.loc[len(ksd_df)] = [n, p_val, bootstrap.ksd_hat, seed, \"off-target\"]\n",
    "\n",
    "    # on-target sample\n",
    "    proposal_on_sample = proposal_on.sample(n)\n",
    "    proposal_on_sample += conv_sample\n",
    "    _, p_val = bootstrap.test_once(alpha=alpha, num_boot=num_boot, X=proposal_on_sample, multinom_samples=multinom_samples[seed, :], num_est=num_est)\n",
    "    ksd_df.loc[len(ksd_df)] = [n, p_val, bootstrap.ksd_hat, seed, \"target\"]\n"
   ]
  },
  {
   "cell_type": "code",
   "execution_count": null,
   "metadata": {},
   "outputs": [],
   "source": [
    "# _ = plt.hist(proposal_on_sample[:, 0].numpy(), density=True)\n",
    "_ = plt.scatter(proposal_on_sample[:, 0].numpy(), target.prob(proposal_on_sample).numpy())"
   ]
  },
  {
   "cell_type": "code",
   "execution_count": null,
   "metadata": {},
   "outputs": [],
   "source": [
    "plt.hist(ksd_df.loc[ksd_df.type == \"target\", \"p_value\"])"
   ]
  },
  {
   "cell_type": "code",
   "execution_count": null,
   "metadata": {
    "scrolled": false
   },
   "outputs": [],
   "source": [
    "_ = plt.hist(bootstrap.ksd_star.numpy())\n",
    "plt.vlines(x=bootstrap.ksd_hat, ymin=0., ymax=300., color=\"red\")"
   ]
  },
  {
   "cell_type": "code",
   "execution_count": null,
   "metadata": {},
   "outputs": [],
   "source": [
    "(bootstrap.ksd_star >= bootstrap.ksd_hat).numpy().mean()"
   ]
  },
  {
   "cell_type": "code",
   "execution_count": null,
   "metadata": {},
   "outputs": [],
   "source": [
    "p_val"
   ]
  },
  {
   "cell_type": "code",
   "execution_count": null,
   "metadata": {},
   "outputs": [],
   "source": []
  }
 ],
 "metadata": {
  "interpreter": {
   "hash": "40d3a090f54c6569ab1632332b64b2c03c39dcf918b08424e98f38b5ae0af88f"
  },
  "kernelspec": {
   "display_name": "Python 3 (ipykernel)",
   "language": "python",
   "name": "python3"
  },
  "language_info": {
   "codemirror_mode": {
    "name": "ipython",
    "version": 3
   },
   "file_extension": ".py",
   "mimetype": "text/x-python",
   "name": "python",
   "nbconvert_exporter": "python",
   "pygments_lexer": "ipython3",
   "version": "3.8.5"
  }
 },
 "nbformat": 4,
 "nbformat_minor": 2
}
