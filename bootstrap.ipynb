{
 "cells": [
  {
   "cell_type": "code",
   "execution_count": 1,
   "metadata": {},
   "outputs": [],
   "source": [
    "%load_ext autoreload\n",
    "%autoreload 2\n",
    "\n",
    "import numpy as np\n",
    "import pandas as pd\n",
    "import tensorflow as tf\n",
    "import tensorflow_probability as tfp\n",
    "tfd = tfp.distributions\n",
    "import matplotlib.pyplot as plt\n",
    "import seaborn as sns\n",
    "from tqdm.notebook import tqdm, trange\n",
    "\n",
    "from src.ksd.ksd import ConvolvedKSD\n",
    "from src.ksd.kernel import RBF, IMQ\n",
    "from src.ksd.bootstrap import Bootstrap\n",
    "from experiments.compare_samplers import create_mixture_gaussian\n",
    "# from experiments.bootstrap_test_convolved import run_bootstrap_experiment"
   ]
  },
  {
   "cell_type": "code",
   "execution_count": 13,
   "metadata": {},
   "outputs": [],
   "source": [
    "tf.random.set_seed(0)"
   ]
  },
  {
   "cell_type": "code",
   "execution_count": 14,
   "metadata": {},
   "outputs": [],
   "source": [
    "def run_bootstrap_experiment(nrep, target, proposal_on, proposal_off, convolution, kernel, alpha, num_boot, num_est):\n",
    "    \"\"\"compute KSD and repeat for nrep times\"\"\"\n",
    "    ksd = ConvolvedKSD(target=target, kernel=kernel, conv_kernel=convolution)\n",
    "    \n",
    "    nsamples_list = [500]\n",
    "    ksd_df = pd.DataFrame(columns=[\"n\", \"p_value\", \"seed\", \"type\"])\n",
    "    iterator = tqdm(nsamples_list)\n",
    "    for n in iterator:\n",
    "        bootstrap = Bootstrap(ksd, n)\n",
    "        multinom_samples = bootstrap.multinom.sample((nrep, num_boot)) # nrep x num_boot x n\n",
    "        iterator.set_description(f\"Running with sample size {n}\")\n",
    "        for seed in range(nrep):\n",
    "            iterator.set_description(f\"Repetition: {seed+1} of {nrep}\")\n",
    "            # convolution sample\n",
    "            conv_sample_full = convolution.sample(num_est) # for p\n",
    "\n",
    "            conv_ind = tf.experimental.numpy.random.randint(low=0, high=num_est, size=n)\n",
    "            conv_sample = tf.gather(conv_sample_full, conv_ind, axis=0) # for q\n",
    "            \n",
    "            # off-target sample\n",
    "            proposal_off_sample = proposal_off.sample(n)\n",
    "            proposal_off_sample += conv_sample\n",
    "            _, p_val = bootstrap.test_once(alpha=alpha, num_boot=num_boot, X=proposal_off_sample, multinom_samples=multinom_samples[seed, :], conv_samples=conv_sample_full)\n",
    "            ksd_df.loc[len(ksd_df)] = [n, p_val, seed, \"off-target\"]\n",
    "\n",
    "            # on-target sample\n",
    "            proposal_on_sample = proposal_on.sample(n)\n",
    "            proposal_on_sample += conv_sample\n",
    "            _, p_val = bootstrap.test_once(alpha=alpha, num_boot=num_boot, X=proposal_on_sample, multinom_samples=multinom_samples[seed, :], conv_samples=conv_sample_full)\n",
    "            ksd_df.loc[len(ksd_df)] = [n, p_val, seed, \"target\"]\n",
    "    return ksd_df"
   ]
  },
  {
   "cell_type": "code",
   "execution_count": 15,
   "metadata": {},
   "outputs": [],
   "source": [
    "nrep = 1000\n",
    "num_boot = 1000 # number of bootstrap samples to compute critical val\n",
    "alpha = 0.05 # significant level\n",
    "delta = 4.0\n",
    "var_list = [50.]#, [1., 5.,]\n",
    "dim = 5\n",
    "num_est = 10000 # num samples used to estimate concolved target\n"
   ]
  },
  {
   "cell_type": "code",
   "execution_count": 16,
   "metadata": {},
   "outputs": [
    {
     "name": "stdout",
     "output_type": "stream",
     "text": [
      "Running with var = 50.0\n"
     ]
    },
    {
     "data": {
      "application/vnd.jupyter.widget-view+json": {
       "model_id": "d38c724013e04330a4833d1cdb980007",
       "version_major": 2,
       "version_minor": 0
      },
      "text/plain": [
       "  0%|          | 0/1 [00:00<?, ?it/s]"
      ]
     },
     "metadata": {},
     "output_type": "display_data"
    },
    {
     "ename": "AttributeError",
     "evalue": "'SubFigure' object has no attribute 'flat'",
     "output_type": "error",
     "traceback": [
      "\u001b[0;31m---------------------------------------------------------------------------\u001b[0m",
      "\u001b[0;31mAttributeError\u001b[0m                            Traceback (most recent call last)",
      "\u001b[0;32m/tmp/ipykernel_2094620/1742617531.py\u001b[0m in \u001b[0;36m<module>\u001b[0;34m\u001b[0m\n\u001b[1;32m     23\u001b[0m \u001b[0;34m\u001b[0m\u001b[0m\n\u001b[1;32m     24\u001b[0m     \u001b[0;31m# plot\u001b[0m\u001b[0;34m\u001b[0m\u001b[0;34m\u001b[0m\u001b[0;34m\u001b[0m\u001b[0m\n\u001b[0;32m---> 25\u001b[0;31m     \u001b[0msubfig\u001b[0m \u001b[0;34m=\u001b[0m \u001b[0msubfigs\u001b[0m\u001b[0;34m.\u001b[0m\u001b[0mflat\u001b[0m\u001b[0;34m[\u001b[0m\u001b[0mind\u001b[0m\u001b[0;34m]\u001b[0m\u001b[0;34m\u001b[0m\u001b[0;34m\u001b[0m\u001b[0m\n\u001b[0m\u001b[1;32m     26\u001b[0m     \u001b[0msubfig\u001b[0m\u001b[0;34m.\u001b[0m\u001b[0msuptitle\u001b[0m\u001b[0;34m(\u001b[0m\u001b[0;34mf\"var = {var}\"\u001b[0m\u001b[0;34m)\u001b[0m\u001b[0;34m\u001b[0m\u001b[0;34m\u001b[0m\u001b[0m\n\u001b[1;32m     27\u001b[0m     \u001b[0maxs\u001b[0m \u001b[0;34m=\u001b[0m \u001b[0msubfig\u001b[0m\u001b[0;34m.\u001b[0m\u001b[0msubplots\u001b[0m\u001b[0;34m(\u001b[0m\u001b[0;36m3\u001b[0m\u001b[0;34m,\u001b[0m \u001b[0;36m1\u001b[0m\u001b[0;34m)\u001b[0m\u001b[0;34m\u001b[0m\u001b[0;34m\u001b[0m\u001b[0m\n",
      "\u001b[0;31mAttributeError\u001b[0m: 'SubFigure' object has no attribute 'flat'"
     ]
    },
    {
     "data": {
      "text/plain": [
       "<Figure size 360x648 with 0 Axes>"
      ]
     },
     "metadata": {},
     "output_type": "display_data"
    }
   ],
   "source": [
    "res_ls = []\n",
    "fig = plt.figure(constrained_layout=True, figsize=(5*len(var_list), 9))\n",
    "subfigs = fig.subfigures(1, len(var_list))\n",
    "for ind, var in enumerate(var_list):\n",
    "    print(f\"Running with var = {var}\")\n",
    "    # target distribution\n",
    "    target = create_mixture_gaussian(dim=dim, delta=delta)\n",
    "\n",
    "    # convolution kernel\n",
    "    convolution = tfd.MultivariateNormalDiag(0., tf.math.sqrt(var) * tf.ones(dim))\n",
    "\n",
    "    # off-target proposal distribution\n",
    "    proposal_on = create_mixture_gaussian(dim=dim, delta=delta)\n",
    "\n",
    "    # off-target proposal distribution\n",
    "    proposal_mean = - delta * tf.eye(dim)[:, 0]\n",
    "    proposal_off = tfd.MultivariateNormalDiag(proposal_mean)\n",
    "\n",
    "    # with IMQ\n",
    "    imq = IMQ(med_heuristic=True)\n",
    "    test_imq_df = run_bootstrap_experiment(nrep, target, proposal_on, proposal_off, convolution, imq, alpha, num_boot, num_est)\n",
    "    res_ls.append(test_imq_df)\n",
    " \n",
    "    # plot\n",
    "    subfig = subfigs.flat[ind]\n",
    "    subfig.suptitle(f\"var = {var}\")\n",
    "    axs = subfig.subplots(3, 1)\n",
    "    axs = axs.flat\n",
    "    convolution_sample = convolution.sample(10000)\n",
    "    axs[0].hist((proposal_off.sample(10000) + convolution_sample).numpy()[:, 0], label=\"off-target\", alpha=0.2)\n",
    "    axs[0].hist((proposal_on.sample(10000) + convolution_sample).numpy()[:, 0], label=\"target\", alpha=0.2)\n",
    "    axs[0].legend()\n",
    "\n",
    "    sns.histplot(ax=axs[1], data=test_imq_df.loc[test_imq_df.type == \"off-target\"], x=\"p_value\", hue=\"type\", bins=20)\n",
    "    axs[1].axis(xmin=0., xmax=1.)\n",
    "    axs[1].set_title(\"off target\")\n",
    "    axs[1].set_xlabel(\"p-value\")\n",
    "\n",
    "    sns.histplot(ax=axs[2], data=test_imq_df.loc[test_imq_df.type == \"target\"], x=\"p_value\", hue=\"type\", bins=20)\n",
    "    axs[2].axis(xmin=0., xmax=1.)\n",
    "    axs[2].set_title(\"On target\")\n",
    "    axs[2].set_xlabel(\"p-value\")"
   ]
  },
  {
   "cell_type": "code",
   "execution_count": 17,
   "metadata": {},
   "outputs": [
    {
     "data": {
      "image/png": "[encoded data removed]",
      "text/plain": [
       "<Figure size 432x288 with 1 Axes>"
      ]
     },
     "metadata": {
      "needs_background": "light"
     },
     "output_type": "display_data"
    },
    {
     "data": {
      "image/png": "[encoded data removed]",
      "text/plain": [
       "<Figure size 432x288 with 1 Axes>"
      ]
     },
     "metadata": {
      "needs_background": "light"
     },
     "output_type": "display_data"
    }
   ],
   "source": [
    "sns.histplot(data=test_imq_df.loc[test_imq_df.type == \"off-target\"], x=\"p_value\", hue=\"type\", bins=20)\n",
    "plt.axis(xmin=-0.01, xmax=1.)\n",
    "plt.show()\n",
    "\n",
    "sns.histplot(data=test_imq_df.loc[test_imq_df.type == \"target\"], x=\"p_value\", hue=\"type\", bins=20)\n",
    "plt.axis(xmin=-0.01, xmax=1.)\n",
    "plt.show()\n"
   ]
  },
  {
   "cell_type": "code",
   "execution_count": 18,
   "metadata": {},
   "outputs": [
    {
     "ename": "ValueError",
     "evalue": "Could not interpret value `ksd_hat` for parameter `x`",
     "output_type": "error",
     "traceback": [
      "\u001b[0;31m---------------------------------------------------------------------------\u001b[0m",
      "\u001b[0;31mValueError\u001b[0m                                Traceback (most recent call last)",
      "\u001b[0;32m/tmp/ipykernel_2094620/794814572.py\u001b[0m in \u001b[0;36m<module>\u001b[0;34m\u001b[0m\n\u001b[0;32m----> 1\u001b[0;31m \u001b[0msns\u001b[0m\u001b[0;34m.\u001b[0m\u001b[0mhistplot\u001b[0m\u001b[0;34m(\u001b[0m\u001b[0mdata\u001b[0m\u001b[0;34m=\u001b[0m\u001b[0mtest_imq_df\u001b[0m\u001b[0;34m,\u001b[0m \u001b[0mx\u001b[0m\u001b[0;34m=\u001b[0m\u001b[0;34m\"ksd_hat\"\u001b[0m\u001b[0;34m,\u001b[0m \u001b[0mhue\u001b[0m\u001b[0;34m=\u001b[0m\u001b[0;34m\"type\"\u001b[0m\u001b[0;34m,\u001b[0m \u001b[0mbins\u001b[0m\u001b[0;34m=\u001b[0m\u001b[0;36m20\u001b[0m\u001b[0;34m)\u001b[0m\u001b[0;34m\u001b[0m\u001b[0;34m\u001b[0m\u001b[0m\n\u001b[0m\u001b[1;32m      2\u001b[0m \u001b[0mplt\u001b[0m\u001b[0;34m.\u001b[0m\u001b[0mshow\u001b[0m\u001b[0;34m(\u001b[0m\u001b[0;34m)\u001b[0m\u001b[0;34m\u001b[0m\u001b[0;34m\u001b[0m\u001b[0m\n",
      "\u001b[0;32m/data/xl6116/.envs/fast-mcmc/lib/python3.8/site-packages/seaborn/distributions.py\u001b[0m in \u001b[0;36mhistplot\u001b[0;34m(data, x, y, hue, weights, stat, bins, binwidth, binrange, discrete, cumulative, common_bins, common_norm, multiple, element, fill, shrink, kde, kde_kws, line_kws, thresh, pthresh, pmax, cbar, cbar_ax, cbar_kws, palette, hue_order, hue_norm, color, log_scale, legend, ax, **kwargs)\u001b[0m\n\u001b[1;32m   1428\u001b[0m ):\n\u001b[1;32m   1429\u001b[0m \u001b[0;34m\u001b[0m\u001b[0m\n\u001b[0;32m-> 1430\u001b[0;31m     p = _DistributionPlotter(\n\u001b[0m\u001b[1;32m   1431\u001b[0m         \u001b[0mdata\u001b[0m\u001b[0;34m=\u001b[0m\u001b[0mdata\u001b[0m\u001b[0;34m,\u001b[0m\u001b[0;34m\u001b[0m\u001b[0;34m\u001b[0m\u001b[0m\n\u001b[1;32m   1432\u001b[0m         \u001b[0mvariables\u001b[0m\u001b[0;34m=\u001b[0m\u001b[0m_DistributionPlotter\u001b[0m\u001b[0;34m.\u001b[0m\u001b[0mget_semantics\u001b[0m\u001b[0;34m(\u001b[0m\u001b[0mlocals\u001b[0m\u001b[0;34m(\u001b[0m\u001b[0;34m)\u001b[0m\u001b[0;34m)\u001b[0m\u001b[0;34m\u001b[0m\u001b[0;34m\u001b[0m\u001b[0m\n",
      "\u001b[0;32m/data/xl6116/.envs/fast-mcmc/lib/python3.8/site-packages/seaborn/distributions.py\u001b[0m in \u001b[0;36m__init__\u001b[0;34m(self, data, variables)\u001b[0m\n\u001b[1;32m    109\u001b[0m     ):\n\u001b[1;32m    110\u001b[0m \u001b[0;34m\u001b[0m\u001b[0m\n\u001b[0;32m--> 111\u001b[0;31m         \u001b[0msuper\u001b[0m\u001b[0;34m(\u001b[0m\u001b[0;34m)\u001b[0m\u001b[0;34m.\u001b[0m\u001b[0m__init__\u001b[0m\u001b[0;34m(\u001b[0m\u001b[0mdata\u001b[0m\u001b[0;34m=\u001b[0m\u001b[0mdata\u001b[0m\u001b[0;34m,\u001b[0m \u001b[0mvariables\u001b[0m\u001b[0;34m=\u001b[0m\u001b[0mvariables\u001b[0m\u001b[0;34m)\u001b[0m\u001b[0;34m\u001b[0m\u001b[0;34m\u001b[0m\u001b[0m\n\u001b[0m\u001b[1;32m    112\u001b[0m \u001b[0;34m\u001b[0m\u001b[0m\n\u001b[1;32m    113\u001b[0m     \u001b[0;34m@\u001b[0m\u001b[0mproperty\u001b[0m\u001b[0;34m\u001b[0m\u001b[0;34m\u001b[0m\u001b[0m\n",
      "\u001b[0;32m/data/xl6116/.envs/fast-mcmc/lib/python3.8/site-packages/seaborn/_core.py\u001b[0m in \u001b[0;36m__init__\u001b[0;34m(self, data, variables)\u001b[0m\n\u001b[1;32m    603\u001b[0m     \u001b[0;32mdef\u001b[0m \u001b[0m__init__\u001b[0m\u001b[0;34m(\u001b[0m\u001b[0mself\u001b[0m\u001b[0;34m,\u001b[0m \u001b[0mdata\u001b[0m\u001b[0;34m=\u001b[0m\u001b[0;32mNone\u001b[0m\u001b[0;34m,\u001b[0m \u001b[0mvariables\u001b[0m\u001b[0;34m=\u001b[0m\u001b[0;34m{\u001b[0m\u001b[0;34m}\u001b[0m\u001b[0;34m)\u001b[0m\u001b[0;34m:\u001b[0m\u001b[0;34m\u001b[0m\u001b[0;34m\u001b[0m\u001b[0m\n\u001b[1;32m    604\u001b[0m \u001b[0;34m\u001b[0m\u001b[0m\n\u001b[0;32m--> 605\u001b[0;31m         \u001b[0mself\u001b[0m\u001b[0;34m.\u001b[0m\u001b[0massign_variables\u001b[0m\u001b[0;34m(\u001b[0m\u001b[0mdata\u001b[0m\u001b[0;34m,\u001b[0m \u001b[0mvariables\u001b[0m\u001b[0;34m)\u001b[0m\u001b[0;34m\u001b[0m\u001b[0;34m\u001b[0m\u001b[0m\n\u001b[0m\u001b[1;32m    606\u001b[0m \u001b[0;34m\u001b[0m\u001b[0m\n\u001b[1;32m    607\u001b[0m         \u001b[0;32mfor\u001b[0m \u001b[0mvar\u001b[0m\u001b[0;34m,\u001b[0m \u001b[0mcls\u001b[0m \u001b[0;32min\u001b[0m \u001b[0mself\u001b[0m\u001b[0;34m.\u001b[0m\u001b[0m_semantic_mappings\u001b[0m\u001b[0;34m.\u001b[0m\u001b[0mitems\u001b[0m\u001b[0;34m(\u001b[0m\u001b[0;34m)\u001b[0m\u001b[0;34m:\u001b[0m\u001b[0;34m\u001b[0m\u001b[0;34m\u001b[0m\u001b[0m\n",
      "\u001b[0;32m/data/xl6116/.envs/fast-mcmc/lib/python3.8/site-packages/seaborn/_core.py\u001b[0m in \u001b[0;36massign_variables\u001b[0;34m(self, data, variables)\u001b[0m\n\u001b[1;32m    666\u001b[0m         \u001b[0;32melse\u001b[0m\u001b[0;34m:\u001b[0m\u001b[0;34m\u001b[0m\u001b[0;34m\u001b[0m\u001b[0m\n\u001b[1;32m    667\u001b[0m             \u001b[0mself\u001b[0m\u001b[0;34m.\u001b[0m\u001b[0minput_format\u001b[0m \u001b[0;34m=\u001b[0m \u001b[0;34m\"long\"\u001b[0m\u001b[0;34m\u001b[0m\u001b[0;34m\u001b[0m\u001b[0m\n\u001b[0;32m--> 668\u001b[0;31m             plot_data, variables = self._assign_variables_longform(\n\u001b[0m\u001b[1;32m    669\u001b[0m                 \u001b[0mdata\u001b[0m\u001b[0;34m,\u001b[0m \u001b[0;34m**\u001b[0m\u001b[0mvariables\u001b[0m\u001b[0;34m,\u001b[0m\u001b[0;34m\u001b[0m\u001b[0;34m\u001b[0m\u001b[0m\n\u001b[1;32m    670\u001b[0m             )\n",
      "\u001b[0;32m/data/xl6116/.envs/fast-mcmc/lib/python3.8/site-packages/seaborn/_core.py\u001b[0m in \u001b[0;36m_assign_variables_longform\u001b[0;34m(self, data, **kwargs)\u001b[0m\n\u001b[1;32m    901\u001b[0m \u001b[0;34m\u001b[0m\u001b[0m\n\u001b[1;32m    902\u001b[0m                 \u001b[0merr\u001b[0m \u001b[0;34m=\u001b[0m \u001b[0;34mf\"Could not interpret value `{val}` for parameter `{key}`\"\u001b[0m\u001b[0;34m\u001b[0m\u001b[0;34m\u001b[0m\u001b[0m\n\u001b[0;32m--> 903\u001b[0;31m                 \u001b[0;32mraise\u001b[0m \u001b[0mValueError\u001b[0m\u001b[0;34m(\u001b[0m\u001b[0merr\u001b[0m\u001b[0;34m)\u001b[0m\u001b[0;34m\u001b[0m\u001b[0;34m\u001b[0m\u001b[0m\n\u001b[0m\u001b[1;32m    904\u001b[0m \u001b[0;34m\u001b[0m\u001b[0m\n\u001b[1;32m    905\u001b[0m             \u001b[0;32melse\u001b[0m\u001b[0;34m:\u001b[0m\u001b[0;34m\u001b[0m\u001b[0;34m\u001b[0m\u001b[0m\n",
      "\u001b[0;31mValueError\u001b[0m: Could not interpret value `ksd_hat` for parameter `x`"
     ]
    }
   ],
   "source": [
    "sns.histplot(data=test_imq_df, x=\"ksd_hat\", hue=\"type\", bins=20)\n",
    "plt.show()\n"
   ]
  },
  {
   "cell_type": "markdown",
   "metadata": {},
   "source": [
    "# check bootstrap samples to get intuition"
   ]
  },
  {
   "cell_type": "code",
   "execution_count": 63,
   "metadata": {},
   "outputs": [
    {
     "data": {
      "application/vnd.jupyter.widget-view+json": {
       "model_id": "9e2efdd02ae24538bbdc3d27d50a3ba3",
       "version_major": 2,
       "version_minor": 0
      },
      "text/plain": [
       "  0%|          | 0/1000 [00:00<?, ?it/s]"
      ]
     },
     "metadata": {},
     "output_type": "display_data"
    }
   ],
   "source": [
    "ksd = ConvolvedKSD(target=target, kernel=imq, conv_kernel=convolution)\n",
    "\n",
    "ksd_df = pd.DataFrame(columns=[\"n\", \"p_value\", \"ksd_hat\", \"seed\", \"type\"])\n",
    "n = 500\n",
    "bootstrap = Bootstrap(ksd, n)\n",
    "\n",
    "multinom_samples = bootstrap.multinom.sample((nrep, num_boot)) # nrep x num_boot x n\n",
    "\n",
    "iterator = trange(nrep)\n",
    "for seed in iterator:\n",
    "    iterator.set_description(f\"Repetition: {seed+1} of {nrep}\")\n",
    "\n",
    "    # off-target sample\n",
    "    proposal_off_sample = proposal_off.sample(n)\n",
    "    conv_sample = convolution.sample(n)\n",
    "    proposal_off_sample += conv_sample\n",
    "    _, p_val = bootstrap.test_once(alpha=alpha, num_boot=num_boot, X=proposal_off_sample, multinom_samples=multinom_samples[seed, :], num_est=num_est)\n",
    "    ksd_df.loc[len(ksd_df)] = [n, p_val, bootstrap.ksd_hat, seed, \"off-target\"]\n",
    "\n",
    "    # on-target sample\n",
    "    proposal_on_sample = proposal_on.sample(n)\n",
    "    proposal_on_sample += conv_sample\n",
    "    _, p_val = bootstrap.test_once(alpha=alpha, num_boot=num_boot, X=proposal_on_sample, multinom_samples=multinom_samples[seed, :], num_est=num_est)\n",
    "    ksd_df.loc[len(ksd_df)] = [n, p_val, bootstrap.ksd_hat, seed, \"target\"]\n"
   ]
  },
  {
   "cell_type": "code",
   "execution_count": 64,
   "metadata": {},
   "outputs": [
    {
     "data": {
      "image/png": "[encoded data removed]",
      "text/plain": [
       "<Figure size 432x288 with 1 Axes>"
      ]
     },
     "metadata": {
      "needs_background": "light"
     },
     "output_type": "display_data"
    }
   ],
   "source": [
    "# _ = plt.hist(proposal_on_sample[:, 0].numpy(), density=True)\n",
    "_ = plt.scatter(proposal_on_sample[:, 0].numpy(), target.prob(proposal_on_sample).numpy())"
   ]
  },
  {
   "cell_type": "code",
   "execution_count": 65,
   "metadata": {},
   "outputs": [
    {
     "data": {
      "text/plain": [
       "(array([100.,  99., 111.,  93.,  82., 107., 102., 105., 101., 100.]),\n",
       " array([0.    , 0.0998, 0.1996, 0.2994, 0.3992, 0.499 , 0.5988, 0.6986,\n",
       "        0.7984, 0.8982, 0.998 ]),\n",
       " <BarContainer object of 10 artists>)"
      ]
     },
     "execution_count": 65,
     "metadata": {},
     "output_type": "execute_result"
    },
    {
     "data": {
      "image/png": "[encoded data removed]",
      "text/plain": [
       "<Figure size 432x288 with 1 Axes>"
      ]
     },
     "metadata": {
      "needs_background": "light"
     },
     "output_type": "display_data"
    }
   ],
   "source": [
    "plt.hist(ksd_df.loc[ksd_df.type == \"target\", \"p_value\"])"
   ]
  },
  {
   "cell_type": "code",
   "execution_count": 52,
   "metadata": {},
   "outputs": [
    {
     "data": {
      "text/plain": [
       "<tf.Tensor: shape=(500,), dtype=float32, numpy=\n",
       "array([0.00000000e+00, 3.96665058e-30, 0.00000000e+00, 2.30600567e-17,\n",
       "       0.00000000e+00, 8.12822247e-27, 0.00000000e+00, 1.38987489e-27,\n",
       "       0.00000000e+00, 4.82168084e-14, 0.00000000e+00, 3.85040117e-33,\n",
       "       0.00000000e+00, 3.25917138e-22, 0.00000000e+00, 0.00000000e+00,\n",
       "       1.71664306e-23, 0.00000000e+00, 1.83340610e-28, 0.00000000e+00,\n",
       "       2.45345760e-24, 0.00000000e+00, 1.16824550e-21, 3.04775994e-22,\n",
       "       0.00000000e+00, 0.00000000e+00, 0.00000000e+00, 0.00000000e+00,\n",
       "       5.86085384e-30, 4.36350768e-26, 0.00000000e+00, 3.80262398e-19,\n",
       "       0.00000000e+00, 0.00000000e+00, 0.00000000e+00, 0.00000000e+00,\n",
       "       0.00000000e+00, 0.00000000e+00, 2.83551791e-38, 1.36616128e-21,\n",
       "       8.23734921e-34, 0.00000000e+00, 7.62142882e-15, 0.00000000e+00,\n",
       "       0.00000000e+00, 1.98398359e-14, 0.00000000e+00, 0.00000000e+00,\n",
       "       5.86327043e-37, 0.00000000e+00, 1.01611177e-23, 0.00000000e+00,\n",
       "       2.30365232e-22, 0.00000000e+00, 0.00000000e+00, 2.62550840e-38,\n",
       "       5.53777387e-32, 4.18005245e-24, 0.00000000e+00, 0.00000000e+00,\n",
       "       0.00000000e+00, 0.00000000e+00, 0.00000000e+00, 0.00000000e+00,\n",
       "       3.56113372e-18, 0.00000000e+00, 0.00000000e+00, 0.00000000e+00,\n",
       "       0.00000000e+00, 0.00000000e+00, 7.70079133e-33, 0.00000000e+00,\n",
       "       0.00000000e+00, 0.00000000e+00, 3.62999260e-37, 0.00000000e+00,\n",
       "       2.77906940e-18, 7.26120622e-11, 5.00669860e-34, 0.00000000e+00,\n",
       "       3.75996443e-15, 0.00000000e+00, 6.62926519e-24, 5.09179383e-34,\n",
       "       1.60826773e-32, 3.93262519e-25, 0.00000000e+00, 0.00000000e+00,\n",
       "       0.00000000e+00, 5.73176246e-19, 5.50033382e-27, 6.12017568e-25,\n",
       "       1.06169122e-13, 0.00000000e+00, 0.00000000e+00, 0.00000000e+00,\n",
       "       0.00000000e+00, 0.00000000e+00, 1.21717299e-27, 4.35106119e-32,\n",
       "       2.46808757e-35, 2.54980750e-34, 0.00000000e+00, 1.02112687e-33,\n",
       "       1.08059090e-28, 0.00000000e+00, 0.00000000e+00, 0.00000000e+00,\n",
       "       0.00000000e+00, 6.43916263e-33, 8.32139885e-25, 0.00000000e+00,\n",
       "       0.00000000e+00, 0.00000000e+00, 0.00000000e+00, 3.69341890e-38,\n",
       "       0.00000000e+00, 3.03505016e-18, 0.00000000e+00, 0.00000000e+00,\n",
       "       9.94238690e-06, 0.00000000e+00, 3.75992236e-22, 1.63500084e-20,\n",
       "       0.00000000e+00, 0.00000000e+00, 0.00000000e+00, 9.88432380e-24,\n",
       "       8.79495293e-32, 0.00000000e+00, 0.00000000e+00, 0.00000000e+00,\n",
       "       2.25668897e-25, 0.00000000e+00, 7.75112785e-26, 0.00000000e+00,\n",
       "       0.00000000e+00, 0.00000000e+00, 0.00000000e+00, 0.00000000e+00,\n",
       "       6.72982477e-27, 3.89778154e-10, 4.46987227e-16, 0.00000000e+00,\n",
       "       2.94252244e-27, 3.36031211e-27, 0.00000000e+00, 3.71152587e-23,\n",
       "       0.00000000e+00, 0.00000000e+00, 9.05223165e-21, 0.00000000e+00,\n",
       "       3.16284840e-13, 8.59697977e-34, 0.00000000e+00, 9.63595056e-34,\n",
       "       0.00000000e+00, 0.00000000e+00, 0.00000000e+00, 0.00000000e+00,\n",
       "       2.73750259e-22, 0.00000000e+00, 5.58006857e-28, 3.77162025e-27,\n",
       "       7.87585376e-36, 6.42207434e-30, 0.00000000e+00, 0.00000000e+00,\n",
       "       3.79160983e-22, 0.00000000e+00, 0.00000000e+00, 0.00000000e+00,\n",
       "       9.40557671e-22, 2.00662471e-13, 3.86101268e-37, 4.45999521e-30,\n",
       "       0.00000000e+00, 0.00000000e+00, 0.00000000e+00, 2.00658405e-08,\n",
       "       2.92387793e-29, 0.00000000e+00, 0.00000000e+00, 0.00000000e+00,\n",
       "       6.38814168e-36, 0.00000000e+00, 5.58515410e-07, 6.19382421e-27,\n",
       "       5.90335660e-21, 6.99380043e-27, 5.74976788e-10, 1.33325164e-37,\n",
       "       6.17237144e-16, 3.22088318e-21, 0.00000000e+00, 0.00000000e+00,\n",
       "       0.00000000e+00, 0.00000000e+00, 0.00000000e+00, 0.00000000e+00,\n",
       "       0.00000000e+00, 0.00000000e+00, 0.00000000e+00, 1.23022208e-31,\n",
       "       0.00000000e+00, 1.41085533e-23, 1.38222514e-33, 5.94197995e-32,\n",
       "       0.00000000e+00, 0.00000000e+00, 0.00000000e+00, 0.00000000e+00,\n",
       "       0.00000000e+00, 1.09313733e-27, 5.80069684e-27, 3.84090376e-36,\n",
       "       1.62932423e-18, 0.00000000e+00, 1.31798661e-20, 2.25458222e-24,\n",
       "       0.00000000e+00, 3.04047911e-37, 0.00000000e+00, 0.00000000e+00,\n",
       "       4.32658701e-11, 4.95010082e-21, 0.00000000e+00, 0.00000000e+00,\n",
       "       1.46556012e-13, 0.00000000e+00, 0.00000000e+00, 0.00000000e+00,\n",
       "       0.00000000e+00, 0.00000000e+00, 1.02385041e-31, 0.00000000e+00,\n",
       "       6.75414378e-30, 0.00000000e+00, 1.18909804e-37, 0.00000000e+00,\n",
       "       0.00000000e+00, 6.79865039e-17, 1.66970300e-15, 0.00000000e+00,\n",
       "       2.28728386e-13, 2.15292732e-34, 0.00000000e+00, 0.00000000e+00,\n",
       "       0.00000000e+00, 1.52832556e-20, 6.15580509e-20, 0.00000000e+00,\n",
       "       0.00000000e+00, 0.00000000e+00, 0.00000000e+00, 0.00000000e+00,\n",
       "       9.38533858e-27, 5.04844642e-28, 0.00000000e+00, 0.00000000e+00,\n",
       "       3.06447912e-36, 0.00000000e+00, 1.54735830e-17, 0.00000000e+00,\n",
       "       3.17712536e-27, 3.02375689e-35, 1.47463655e-17, 0.00000000e+00,\n",
       "       5.25060742e-16, 0.00000000e+00, 0.00000000e+00, 4.22767487e-19,\n",
       "       0.00000000e+00, 0.00000000e+00, 5.52261581e-36, 0.00000000e+00,\n",
       "       0.00000000e+00, 9.46698312e-30, 0.00000000e+00, 0.00000000e+00,\n",
       "       0.00000000e+00, 8.16934319e-28, 0.00000000e+00, 5.53503535e-22,\n",
       "       0.00000000e+00, 0.00000000e+00, 0.00000000e+00, 0.00000000e+00,\n",
       "       1.87470153e-28, 0.00000000e+00, 5.53478760e-35, 0.00000000e+00,\n",
       "       0.00000000e+00, 0.00000000e+00, 3.98858751e-32, 1.32486657e-21,\n",
       "       0.00000000e+00, 0.00000000e+00, 0.00000000e+00, 1.72258055e-37,\n",
       "       0.00000000e+00, 0.00000000e+00, 0.00000000e+00, 3.41229545e-10,\n",
       "       0.00000000e+00, 0.00000000e+00, 0.00000000e+00, 3.36832390e-25,\n",
       "       3.97111353e-13, 0.00000000e+00, 3.03652007e-26, 0.00000000e+00,\n",
       "       4.11785710e-11, 0.00000000e+00, 0.00000000e+00, 7.06623955e-14,\n",
       "       0.00000000e+00, 7.61767985e-15, 0.00000000e+00, 0.00000000e+00,\n",
       "       2.77410596e-15, 2.81412069e-28, 0.00000000e+00, 0.00000000e+00,\n",
       "       0.00000000e+00, 2.72728706e-15, 1.02223850e-24, 0.00000000e+00,\n",
       "       4.21264629e-23, 2.00366247e-30, 0.00000000e+00, 0.00000000e+00,\n",
       "       0.00000000e+00, 0.00000000e+00, 0.00000000e+00, 8.89056186e-22,\n",
       "       0.00000000e+00, 0.00000000e+00, 6.56163474e-32, 0.00000000e+00,\n",
       "       0.00000000e+00, 7.59452640e-11, 2.18156440e-27, 0.00000000e+00,\n",
       "       0.00000000e+00, 2.34141288e-21, 1.98004227e-20, 1.23783724e-26,\n",
       "       0.00000000e+00, 0.00000000e+00, 2.21734986e-18, 0.00000000e+00,\n",
       "       1.14742656e-19, 0.00000000e+00, 0.00000000e+00, 0.00000000e+00,\n",
       "       0.00000000e+00, 1.37764191e-23, 2.06347297e-18, 0.00000000e+00,\n",
       "       0.00000000e+00, 4.78592889e-25, 0.00000000e+00, 5.76787403e-16,\n",
       "       2.66239823e-07, 9.80051699e-25, 0.00000000e+00, 4.79388475e-22,\n",
       "       5.22380309e-21, 2.37275027e-34, 5.63160717e-20, 6.27845007e-24,\n",
       "       0.00000000e+00, 0.00000000e+00, 0.00000000e+00, 0.00000000e+00,\n",
       "       0.00000000e+00, 9.63644291e-16, 0.00000000e+00, 0.00000000e+00,\n",
       "       0.00000000e+00, 7.04422748e-32, 0.00000000e+00, 5.29154022e-07,\n",
       "       0.00000000e+00, 0.00000000e+00, 3.11462291e-23, 4.68257846e-17,\n",
       "       7.35397935e-33, 0.00000000e+00, 0.00000000e+00, 0.00000000e+00,\n",
       "       3.27962999e-19, 0.00000000e+00, 4.87723362e-25, 2.13598687e-14,\n",
       "       0.00000000e+00, 0.00000000e+00, 0.00000000e+00, 0.00000000e+00,\n",
       "       1.16537085e-35, 0.00000000e+00, 3.73184653e-28, 0.00000000e+00,\n",
       "       0.00000000e+00, 0.00000000e+00, 0.00000000e+00, 2.18001052e-18,\n",
       "       1.52248528e-25, 0.00000000e+00, 0.00000000e+00, 0.00000000e+00,\n",
       "       0.00000000e+00, 4.04595671e-12, 1.40605582e-25, 0.00000000e+00,\n",
       "       1.44278868e-21, 0.00000000e+00, 0.00000000e+00, 0.00000000e+00,\n",
       "       0.00000000e+00, 0.00000000e+00, 0.00000000e+00, 0.00000000e+00,\n",
       "       1.75268456e-32, 0.00000000e+00, 0.00000000e+00, 0.00000000e+00,\n",
       "       0.00000000e+00, 0.00000000e+00, 5.79685150e-07, 2.00440977e-32,\n",
       "       0.00000000e+00, 0.00000000e+00, 1.24836232e-37, 0.00000000e+00,\n",
       "       3.07480405e-23, 0.00000000e+00, 3.31313480e-38, 0.00000000e+00,\n",
       "       3.54552797e-28, 0.00000000e+00, 1.61745265e-05, 3.17590265e-34,\n",
       "       4.12172518e-10, 3.11349554e-15, 1.78250639e-18, 0.00000000e+00,\n",
       "       2.16416091e-17, 1.24075587e-12, 0.00000000e+00, 0.00000000e+00,\n",
       "       1.49621929e-25, 0.00000000e+00, 7.84581500e-34, 1.61060485e-27,\n",
       "       1.41204598e-37, 0.00000000e+00, 3.15766747e-30, 0.00000000e+00,\n",
       "       0.00000000e+00, 4.09032145e-06, 4.15331796e-24, 0.00000000e+00,\n",
       "       0.00000000e+00, 0.00000000e+00, 0.00000000e+00, 0.00000000e+00,\n",
       "       0.00000000e+00, 0.00000000e+00, 4.87133319e-20, 0.00000000e+00,\n",
       "       0.00000000e+00, 5.01212058e-36, 0.00000000e+00, 0.00000000e+00,\n",
       "       6.24937532e-11, 0.00000000e+00, 0.00000000e+00, 2.35181642e-27,\n",
       "       0.00000000e+00, 0.00000000e+00, 0.00000000e+00, 5.11819653e-09,\n",
       "       0.00000000e+00, 0.00000000e+00, 0.00000000e+00, 0.00000000e+00,\n",
       "       0.00000000e+00, 3.51721612e-33, 1.70833832e-25, 0.00000000e+00,\n",
       "       0.00000000e+00, 7.17913674e-24, 0.00000000e+00, 0.00000000e+00,\n",
       "       2.82774710e-26, 0.00000000e+00, 0.00000000e+00, 0.00000000e+00],\n",
       "      dtype=float32)>"
      ]
     },
     "execution_count": 52,
     "metadata": {},
     "output_type": "execute_result"
    }
   ],
   "source": []
  },
  {
   "cell_type": "code",
   "execution_count": 66,
   "metadata": {
    "scrolled": false
   },
   "outputs": [
    {
     "data": {
      "text/plain": [
       "<matplotlib.collections.LineCollection at 0x7fc8182879d0>"
      ]
     },
     "execution_count": 66,
     "metadata": {},
     "output_type": "execute_result"
    },
    {
     "data": {
      "image/png": "[encoded data removed]",
      "text/plain": [
       "<Figure size 432x288 with 1 Axes>"
      ]
     },
     "metadata": {
      "needs_background": "light"
     },
     "output_type": "display_data"
    }
   ],
   "source": [
    "_ = plt.hist(bootstrap.ksd_star.numpy())\n",
    "plt.vlines(x=bootstrap.ksd_hat, ymin=0., ymax=300., color=\"red\")"
   ]
  },
  {
   "cell_type": "code",
   "execution_count": 67,
   "metadata": {},
   "outputs": [
    {
     "data": {
      "text/plain": [
       "0.205"
      ]
     },
     "execution_count": 67,
     "metadata": {},
     "output_type": "execute_result"
    }
   ],
   "source": [
    "(bootstrap.ksd_star >= bootstrap.ksd_hat).numpy().mean()"
   ]
  },
  {
   "cell_type": "code",
   "execution_count": 68,
   "metadata": {},
   "outputs": [
    {
     "data": {
      "text/plain": [
       "0.205"
      ]
     },
     "execution_count": 68,
     "metadata": {},
     "output_type": "execute_result"
    }
   ],
   "source": [
    "p_val"
   ]
  },
  {
   "cell_type": "code",
   "execution_count": 77,
   "metadata": {},
   "outputs": [
    {
     "data": {
      "text/plain": [
       "<tf.Tensor: shape=(100,), dtype=int64, numpy=\n",
       "array([6, 8, 6, 2, 5, 4, 7, 1, 8, 6, 7, 2, 6, 3, 4, 7, 7, 0, 6, 8, 1, 7,\n",
       "       9, 6, 0, 7, 3, 3, 0, 7, 6, 0, 1, 6, 6, 0, 3, 0, 0, 2, 4, 3, 2, 1,\n",
       "       7, 3, 2, 4, 1, 1, 5, 4, 6, 8, 7, 1, 0, 3, 3, 0, 2, 3, 3, 1, 5, 2,\n",
       "       9, 5, 2, 7, 0, 6, 9, 6, 1, 7, 4, 1, 7, 3, 3, 6, 3, 2, 9, 2, 1, 3,\n",
       "       4, 8, 0, 4, 6, 3, 6, 4, 7, 4, 9, 0])>"
      ]
     },
     "execution_count": 77,
     "metadata": {},
     "output_type": "execute_result"
    }
   ],
   "source": [
    "tf.experimental.numpy.random.randint(low=0, high=10, size=100)\n",
    "# np.random.choice(tf.range(10).numpy(), 5)"
   ]
  },
  {
   "cell_type": "code",
   "execution_count": 33,
   "metadata": {},
   "outputs": [
    {
     "data": {
      "text/plain": [
       "50.0"
      ]
     },
     "execution_count": 33,
     "metadata": {},
     "output_type": "execute_result"
    }
   ],
   "source": [
    "var"
   ]
  },
  {
   "cell_type": "code",
   "execution_count": 8,
   "metadata": {},
   "outputs": [],
   "source": [
    "conv_sample_full = convolution.sample(num_est) # for p\n",
    "\n",
    "conv_ind = tf.experimental.numpy.random.randint(low=0, high=num_est, size=500)\n",
    "# conv_sample = conv_sample_full[conv_ind, :] # for q"
   ]
  },
  {
   "cell_type": "code",
   "execution_count": 12,
   "metadata": {},
   "outputs": [
    {
     "data": {
      "text/plain": [
       "TensorShape([10000, 5])"
      ]
     },
     "execution_count": 12,
     "metadata": {},
     "output_type": "execute_result"
    }
   ],
   "source": [
    "conv_sample_full.shape"
   ]
  },
  {
   "cell_type": "code",
   "execution_count": 11,
   "metadata": {},
   "outputs": [
    {
     "data": {
      "text/plain": [
       "TensorShape([500, 5])"
      ]
     },
     "execution_count": 11,
     "metadata": {},
     "output_type": "execute_result"
    }
   ],
   "source": [
    "tf.gather(conv_sample_full, conv_ind, axis=0).shape"
   ]
  },
  {
   "cell_type": "code",
   "execution_count": null,
   "metadata": {},
   "outputs": [],
   "source": []
  }
 ],
 "metadata": {
  "interpreter": {
   "hash": "40d3a090f54c6569ab1632332b64b2c03c39dcf918b08424e98f38b5ae0af88f"
  },
  "kernelspec": {
   "display_name": "Python 3 (ipykernel)",
   "language": "python",
   "name": "python3"
  },
  "language_info": {
   "codemirror_mode": {
    "name": "ipython",
    "version": 3
   },
   "file_extension": ".py",
   "mimetype": "text/x-python",
   "name": "python",
   "nbconvert_exporter": "python",
   "pygments_lexer": "ipython3",
   "version": "3.8.5"
  }
 },
 "nbformat": 4,
 "nbformat_minor": 2
}
