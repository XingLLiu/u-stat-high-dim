{
 "cells": [
  {
   "cell_type": "code",
   "execution_count": 77,
   "metadata": {},
   "outputs": [
    {
     "name": "stdout",
     "output_type": "stream",
     "text": [
      "The autoreload extension is already loaded. To reload it, use:\n",
      "  %reload_ext autoreload\n"
     ]
    }
   ],
   "source": [
    "%load_ext autoreload\n",
    "%autoreload 2\n",
    "\n",
    "import matplotlib.pyplot as plt\n",
    "import seaborn as sns\n",
    "import pandas as pd\n",
    "import numpy as np\n",
    "from scipy.stats import norm\n",
    "import multiprocessing\n",
    "\n",
    "import tensorflow as tf\n",
    "import tensorflow_probability as tfp\n",
    "tfd = tfp.distributions\n",
    "\n",
    "import sys\n",
    "sys.path.append(\".\")\n",
    "from src.dc_smc import dc_smc \n",
    "from src.model import Model\n",
    "from src.utils import resample"
   ]
  },
  {
   "cell_type": "markdown",
   "metadata": {},
   "source": [
    "# 2-var model with updated samples"
   ]
  },
  {
   "cell_type": "markdown",
   "metadata": {},
   "source": [
    "Target:\n",
    "$$\n",
    "y_i \\sim \\mathcal{N}(x_i, \\sigma^2), i = 1, 2 \\\\\n",
    "x_i \\sim \\mathcal{N}(x_3, \\tau^2), i = 1, 2 \\\\\n",
    "$$\n",
    "Priors:\n",
    "$$\n",
    "x_i \\sim \\mathcal{N}(\\mu_0, \\sigma_0^2), i = 1, 2, 3\n",
    "$$"
   ]
  },
  {
   "cell_type": "code",
   "execution_count": 137,
   "metadata": {},
   "outputs": [],
   "source": [
    "tf.random.set_seed(2021)\n",
    "\n",
    "N = 500 # num params samples\n",
    "nobs = 1000 # num observations\n",
    "\n",
    "sigma, tau = np.array([1.]), np.array([1.])\n",
    "mu0, sigma0 = np.array([0.]), np.array([1.])\n",
    "\n",
    "x3 = np.array([-2.]) \n",
    "x1, x2 = tfd.Normal(loc=x3, scale=tau).sample(2)\n",
    "x_true = tf.reshape(tf.concat([x1, x2, x3], axis=0), (1, -1))\n"
   ]
  },
  {
   "cell_type": "code",
   "execution_count": 138,
   "metadata": {},
   "outputs": [],
   "source": [
    "# simulate data\n",
    "y1 = tfd.Normal(loc=x_true[:, 0], scale=sigma).sample((nobs, 1))\n",
    "y2 = tfd.Normal(loc=x_true[:, 1], scale=sigma).sample((nobs, 1))\n",
    "obs = tf.transpose(tf.concat([y1, y2], axis=1)[:, :, 0])"
   ]
  },
  {
   "cell_type": "code",
   "execution_count": 139,
   "metadata": {},
   "outputs": [],
   "source": [
    "def init_target(obs):\n",
    "    def log_gamma1(x):\n",
    "        loglik = tfd.Normal(loc=x[:, :1], scale=sigma).log_prob(obs[:1, ])\n",
    "        loglik = tf.reduce_sum(loglik, axis=1, keepdims=True)\n",
    "        logprior = tfd.Normal(loc=mu0, scale=sigma0).log_prob(x[:, :1])\n",
    "        return loglik + logprior\n",
    "\n",
    "    def log_gamma2(x):\n",
    "        loglik = tfd.Normal(loc=x[:, 1:2], scale=sigma).log_prob(obs[1:2, ])\n",
    "        loglik = tf.reduce_sum(loglik, axis=1, keepdims=True)\n",
    "        logprior = tfd.Normal(loc=mu0, scale=sigma0).log_prob(x[:, 1:2])\n",
    "        return loglik + logprior\n",
    "\n",
    "    def log_gamma3(x):\n",
    "        loglik1 = tfd.Normal(loc=x[:, 0:1], scale=sigma).log_prob(obs[:1, ])\n",
    "        loglik2 = tfd.Normal(loc=x[:, 1:2], scale=sigma).log_prob(obs[1:2, ])\n",
    "        loglik = tf.reduce_sum(loglik1 + loglik2, axis=1, keepdims=True)\n",
    "\n",
    "        logprior1 = tfd.Normal(loc=x[:, 2:3], scale=tau).log_prob(x[:, 0:1])\n",
    "        logprior2 = tfd.Normal(loc=x[:, 2:3], scale=tau).log_prob(x[:, 1:2])\n",
    "        logprior3 = tfd.Normal(loc=mu0, scale=sigma0).log_prob(x[:, 2:3])\n",
    "        return loglik + logprior1 + logprior2 + logprior3\n",
    "    \n",
    "    def log_gamma2_new(x):\n",
    "        loglik = tfd.Normal(loc=1 + x[:, 1:2], scale=sigma).log_prob(obs[1:2, ])\n",
    "        loglik = tf.reduce_sum(loglik, axis=1, keepdims=True)\n",
    "        logprior = tfd.Normal(loc=mu0, scale=sigma0).log_prob(x[:, 1:2])\n",
    "        return loglik + logprior\n",
    "\n",
    "    def log_gamma3_new(x):\n",
    "        loglik1 = tfd.Normal(loc=x[:, 0:1], scale=sigma).log_prob(obs[:1, ])\n",
    "        loglik2 = tfd.Normal(loc=1 + x[:, 1:2], scale=sigma).log_prob(obs[1:2, ])\n",
    "        loglik = tf.reduce_sum(loglik1 + loglik2, axis=1, keepdims=True)\n",
    "\n",
    "        logprior1 = tfd.Normal(loc=x[:, 2:3], scale=tau).log_prob(x[:, 0:1])\n",
    "        logprior2 = tfd.Normal(loc=x[:, 2:3], scale=tau).log_prob(x[:, 1:2])\n",
    "        logprior3 = tfd.Normal(loc=mu0, scale=sigma0).log_prob(x[:, 2:3])\n",
    "        return loglik + logprior1 + logprior2 + logprior3\n",
    "    \n",
    "    return log_gamma1, log_gamma2, log_gamma3, log_gamma2_new, log_gamma3_new"
   ]
  },
  {
   "cell_type": "code",
   "execution_count": 140,
   "metadata": {},
   "outputs": [],
   "source": [
    "class Proposal:\n",
    "    def __init__(self):\n",
    "        self.dist = tfd.Normal(np.zeros(1), np.ones(1))\n",
    "    def log_prob(self, mu_new, mu_curr):\n",
    "        return self.dist.log_prob(mu_new) # nsample x dim\n",
    "    def sample(self, size, mu_curr):\n",
    "        return self.dist.sample(size)[:, :, 0]"
   ]
  },
  {
   "cell_type": "code",
   "execution_count": 141,
   "metadata": {},
   "outputs": [],
   "source": [
    "proposal = Proposal()\n",
    "log_gamma1, log_gamma2, log_gamma3, _, _ = init_target(obs)\n",
    "\n",
    "model = Model(log_gamma3, proposal, 2)\n",
    "model.build_child(log_gamma1, proposal, 0)\n",
    "model.build_child(log_gamma2, proposal, 1)"
   ]
  },
  {
   "cell_type": "code",
   "execution_count": 142,
   "metadata": {},
   "outputs": [],
   "source": [
    "# samples_init = tf.zeros((N, x_true.shape[1]), dtype=tf.dtypes.float64)\n",
    "samples_init = tfd.Normal(loc=np.zeros(1), scale=np.ones(1)).sample((N, x_true.shape[1]))[:, :, 0]\n",
    "log_w_init = np.ones(samples_init.shape)"
   ]
  },
  {
   "cell_type": "code",
   "execution_count": 143,
   "metadata": {},
   "outputs": [],
   "source": [
    "samples_res, log_w = dc_smc(samples_init, log_w_init, model)"
   ]
  },
  {
   "cell_type": "code",
   "execution_count": 144,
   "metadata": {},
   "outputs": [],
   "source": [
    "samples_plot = samples_res.numpy()\n",
    "samples_plot[:, -1] = resample(log_w, samples_res[:, -1])\n",
    "samples_plot = tf.convert_to_tensor(samples_plot)"
   ]
  },
  {
   "cell_type": "code",
   "execution_count": 145,
   "metadata": {},
   "outputs": [
    {
     "data": {
      "image/png": "[encoded data removed]",
      "text/plain": [
       "<Figure size 432x288 with 1 Axes>"
      ]
     },
     "metadata": {
      "needs_background": "light"
     },
     "output_type": "display_data"
    },
    {
     "name": "stdout",
     "output_type": "stream",
     "text": [
      "true x3: tf.Tensor(-2.0, shape=(), dtype=float64) \n",
      "estimate: tf.Tensor(-1.103186519491207, shape=(), dtype=float64)\n"
     ]
    }
   ],
   "source": [
    "ind = 2\n",
    "\n",
    "sns.histplot(tf.reshape(samples_plot[:, ind], -1), stat=\"density\", color=\"r\", alpha=0.4, label=f\"final x{ind}\")\n",
    "sns.histplot(tf.reshape(samples_init[:, ind], -1), stat=\"density\", alpha=0.4, label=f\"init x{ind}\")\n",
    "ymax = plt.ylim()[1]\n",
    "plt.vlines(x_true[0, ind], 0, ymax, color=\"k\", label=\"true mu\")\n",
    "plt.ylim(0, ymax)\n",
    "x_plot = np.linspace(2, 4, 500)\n",
    "plt.legend()\n",
    "plt.show()\n",
    "\n",
    "print(\n",
    "    f\"true x{ind+1}:\",\n",
    "    x_true[0, ind],\n",
    "    \"\\nestimate:\",\n",
    "    tf.reduce_mean(samples_plot[:, ind])\n",
    ")"
   ]
  },
  {
   "cell_type": "markdown",
   "metadata": {},
   "source": [
    "### Update observations"
   ]
  },
  {
   "cell_type": "code",
   "execution_count": 146,
   "metadata": {},
   "outputs": [],
   "source": [
    "# simulate data\n",
    "y2_new = tfd.Normal(loc=1 + x_true[:, 1], scale=sigma).sample((nobs, 1))\n",
    "obs_new = tf.transpose(tf.concat([y1, y2_new], axis=1)[:, :, 0])"
   ]
  },
  {
   "cell_type": "code",
   "execution_count": 147,
   "metadata": {},
   "outputs": [],
   "source": [
    "proposal = Proposal()\n",
    "log_gamma1, log_gamma2, log_gamma3, log_gamma2_new, log_gamma3_new = init_target(obs_new)\n",
    "\n",
    "model = Model(log_gamma3_new, proposal, 2)\n",
    "model.build_child(log_gamma1, proposal, 0, update=False)\n",
    "model.build_child(log_gamma2_new, proposal, 1)"
   ]
  },
  {
   "cell_type": "code",
   "execution_count": 148,
   "metadata": {},
   "outputs": [],
   "source": [
    "log_w_init = np.ones(samples_res.shape)"
   ]
  },
  {
   "cell_type": "code",
   "execution_count": 149,
   "metadata": {},
   "outputs": [],
   "source": [
    "samples_res_new, log_w_new = dc_smc(samples_res, log_w_init, model)"
   ]
  },
  {
   "cell_type": "code",
   "execution_count": 150,
   "metadata": {},
   "outputs": [],
   "source": [
    "samples_plot_new = samples_res_new.numpy()\n",
    "samples_plot_new[:, -1] = resample(log_w_new, samples_res_new[:, -1])\n",
    "samples_plot_new = tf.convert_to_tensor(samples_plot_new)"
   ]
  },
  {
   "cell_type": "code",
   "execution_count": 151,
   "metadata": {},
   "outputs": [
    {
     "data": {
      "image/png": "[encoded data removed]",
      "text/plain": [
       "<Figure size 432x288 with 1 Axes>"
      ]
     },
     "metadata": {
      "needs_background": "light"
     },
     "output_type": "display_data"
    },
    {
     "name": "stdout",
     "output_type": "stream",
     "text": [
      "true x3: tf.Tensor(-2.0, shape=(), dtype=float64) \n",
      "estimate: tf.Tensor(-1.1902754667414137, shape=(), dtype=float64)\n"
     ]
    }
   ],
   "source": [
    "ind = 2\n",
    "\n",
    "sns.histplot(tf.reshape(samples_plot_new[:, ind], -1), stat=\"density\", color=\"r\", alpha=0.4, label=f\"final x{ind}\")\n",
    "sns.histplot(tf.reshape(samples_res[:, ind], -1), stat=\"density\", alpha=0.4, label=f\"init x{ind}\")\n",
    "ymax = plt.ylim()[1]\n",
    "plt.vlines(x_true[0, ind], 0, ymax, color=\"k\", label=\"true mu\")\n",
    "plt.ylim(0, ymax)\n",
    "x_plot = np.linspace(2, 4, 500)\n",
    "plt.legend()\n",
    "plt.show()\n",
    "\n",
    "print(\n",
    "    f\"true x{ind+1}:\",\n",
    "    x_true[0, ind],\n",
    "    \"\\nestimate:\",\n",
    "    tf.reduce_mean(samples_plot_new[:, ind])\n",
    ")"
   ]
  },
  {
   "cell_type": "code",
   "execution_count": null,
   "metadata": {},
   "outputs": [],
   "source": []
  },
  {
   "cell_type": "code",
   "execution_count": null,
   "metadata": {},
   "outputs": [],
   "source": []
  },
  {
   "cell_type": "code",
   "execution_count": null,
   "metadata": {},
   "outputs": [],
   "source": []
  },
  {
   "cell_type": "markdown",
   "metadata": {},
   "source": [
    "# 5-var model"
   ]
  },
  {
   "cell_type": "markdown",
   "metadata": {},
   "source": [
    "Target:\n",
    "$$\n",
    "y_i | x_i \\sim \\mathcal{N}(x_i, \\sigma^2), i = 1, 2, 3 \\\\\n",
    "x_i | x_4 \\sim \\mathcal{N}(x_4, \\tau^2), i = 1, 2 \\\\\n",
    "x_i | x_5 \\sim \\mathcal{N}(x_t, \\gamma^2), i = 3, 4\n",
    "$$\n",
    "Priors:\n",
    "$$\n",
    "x_i \\sim \\mathcal{N}(\\mu_0, \\sigma_0^2), i = 1, 2, \\ldots, 5\n",
    "$$"
   ]
  },
  {
   "cell_type": "code",
   "execution_count": 339,
   "metadata": {},
   "outputs": [],
   "source": [
    "tf.random.set_seed(1)\n",
    "\n",
    "N = 100 # num params samples\n",
    "nobs = 500 # num observations\n",
    "\n",
    "sigma, tau, gamma = np.array([1.]), np.array([1.]), np.array([1.])\n",
    "mu0, sigma0 = np.array([0.]), np.array([1.])\n",
    "\n",
    "x5 = np.array([-1.])\n",
    "x4, x3 = tfd.Normal(loc=x5, scale=gamma).sample(2)\n",
    "x1, x2 = tfd.Normal(loc=x4, scale=tau).sample(2)\n",
    "x_true = tf.reshape(tf.concat([x1, x2, x3, x4, x5], axis=0), (1, -1))\n"
   ]
  },
  {
   "cell_type": "code",
   "execution_count": 340,
   "metadata": {},
   "outputs": [],
   "source": [
    "# simulate data\n",
    "y1 = tfd.Normal(loc=x_true[:, 0], scale=sigma).sample((nobs, 1))\n",
    "y2 = tfd.Normal(loc=x_true[:, 1], scale=sigma).sample((nobs, 1))\n",
    "y3 = tfd.Normal(loc=x_true[:, 2], scale=sigma).sample((nobs, 1))\n",
    "obs = tf.transpose(tf.concat([y1, y2, y3], axis=1)[:, :, 0])"
   ]
  },
  {
   "cell_type": "code",
   "execution_count": 341,
   "metadata": {},
   "outputs": [],
   "source": [
    "def log_gamma1(x):\n",
    "    loglik = tfd.Normal(loc=x[:, :1], scale=sigma).log_prob(obs[:1, ])\n",
    "    loglik = tf.reduce_sum(loglik, axis=1, keepdims=True)\n",
    "    logprior = tfd.Normal(loc=mu0, scale=sigma0).log_prob(x[:, :1])\n",
    "    return loglik + logprior\n",
    "\n",
    "def log_gamma2(x):\n",
    "    loglik = tfd.Normal(loc=x[:, 1:2], scale=sigma).log_prob(obs[1:2, ])\n",
    "    loglik = tf.reduce_sum(loglik, axis=1, keepdims=True)\n",
    "    logprior = tfd.Normal(loc=mu0, scale=sigma0).log_prob(x[:, 1:2])\n",
    "    return loglik + logprior\n",
    "\n",
    "def log_gamma3(x):\n",
    "    loglik = tfd.Normal(loc=x[:, 2:3], scale=sigma).log_prob(obs[2:3, ])\n",
    "    loglik = tf.reduce_sum(loglik, axis=1, keepdims=True)\n",
    "    logprior = tfd.Normal(loc=mu0, scale=sigma0).log_prob(x[:, 2:3])\n",
    "    return loglik + logprior\n",
    "\n",
    "def log_gamma4(x):\n",
    "    loglik1 = tfd.Normal(loc=x[:, 0:1], scale=sigma).log_prob(obs[:1, ])\n",
    "    loglik2 = tfd.Normal(loc=x[:, 1:2], scale=sigma).log_prob(obs[1:2, ])\n",
    "    loglik = tf.reduce_sum(loglik1 + loglik2, axis=1, keepdims=True)\n",
    "    logprior1 = tfd.Normal(loc=x[:, 3:4], scale=tau).log_prob(x[:, 0:1])\n",
    "    logprior2 = tfd.Normal(loc=x[:, 3:4], scale=tau).log_prob(x[:, 1:2])\n",
    "    logprior4 = tfd.Normal(loc=mu0, scale=sigma0).log_prob(x[:, 3:4])\n",
    "    return loglik + logprior1 + logprior2 + logprior4\n",
    "\n",
    "def log_gamma5(x):\n",
    "    loglik1 = tfd.Normal(loc=x[:, 0:1], scale=sigma).log_prob(obs[:1, ])\n",
    "    loglik2 = tfd.Normal(loc=x[:, 1:2], scale=sigma).log_prob(obs[1:2, ])\n",
    "    loglik3 = tfd.Normal(loc=x[:, 2:3], scale=sigma).log_prob(obs[2:3, ])\n",
    "    loglik = tf.reduce_sum(loglik1 + loglik2 + loglik3, axis=1, keepdims=True)\n",
    "    logp1 = tfd.Normal(loc=x[:, 3:4], scale=tau).log_prob(x[:, 0:1])\n",
    "    logp2 = tfd.Normal(loc=x[:, 3:4], scale=tau).log_prob(x[:, 1:2])   \n",
    "    logp3 = tfd.Normal(loc=x[:, 4:5], scale=sigma0).log_prob(x[:, 2:3])\n",
    "    logp4 = tfd.Normal(loc=x[:, 4:5], scale=sigma0).log_prob(x[:, 3:4])\n",
    "    logprior5 = tfd.Normal(loc=mu0, scale=sigma0).log_prob(x[:, 4:5])\n",
    "    return loglik + logp1 + logp2 + logp3 + logp4 + logprior5"
   ]
  },
  {
   "cell_type": "code",
   "execution_count": 342,
   "metadata": {},
   "outputs": [],
   "source": [
    "class Proposal:\n",
    "    def __init__(self):\n",
    "        self.dist = tfd.Normal(np.zeros(1), np.ones(1))\n",
    "    def log_prob(self, mu_new, mu_curr):\n",
    "        return self.dist.log_prob(mu_new) # nsample x dim\n",
    "    def sample(self, size, mu_curr):\n",
    "        return self.dist.sample(size)[:, :, 0]"
   ]
  },
  {
   "cell_type": "code",
   "execution_count": 343,
   "metadata": {},
   "outputs": [],
   "source": [
    "model = Model(log_gamma5, proposal, 4)\n",
    "model.build_left(log_gamma4, proposal, 3)\n",
    "model.build_right(log_gamma3, proposal, 2)\n",
    "model.left.build_left(log_gamma1, proposal, 0)\n",
    "model.left.build_right(log_gamma2, proposal, 1)"
   ]
  },
  {
   "cell_type": "code",
   "execution_count": 344,
   "metadata": {},
   "outputs": [],
   "source": [
    "samples_init = tfd.Normal(loc=np.zeros(1), scale=np.ones(1)).sample((N, x_true.shape[1]))[:, :, 0]\n",
    "log_w_init = np.ones(samples_init.shape)"
   ]
  },
  {
   "cell_type": "code",
   "execution_count": 345,
   "metadata": {},
   "outputs": [],
   "source": [
    "samples_res, log_w = dc_smc(samples_init, log_w_init, model)"
   ]
  },
  {
   "cell_type": "code",
   "execution_count": 346,
   "metadata": {},
   "outputs": [],
   "source": [
    "samples_plot = samples_res.numpy()\n",
    "samples_plot[:, -1] = resample(log_w, samples_res[:, -1])\n",
    "samples_plot = tf.convert_to_tensor(samples_plot)"
   ]
  },
  {
   "cell_type": "code",
   "execution_count": 365,
   "metadata": {},
   "outputs": [
    {
     "data": {
      "image/png": "[encoded data removed]",
      "text/plain": [
       "<Figure size 432x288 with 1 Axes>"
      ]
     },
     "metadata": {
      "needs_background": "light"
     },
     "output_type": "display_data"
    },
    {
     "name": "stdout",
     "output_type": "stream",
     "text": [
      "true x4: tf.Tensor(-0.5540992987520248, shape=(), dtype=float64) \n",
      "estimate: tf.Tensor(0.3465873554342571, shape=(), dtype=float64)\n"
     ]
    }
   ],
   "source": [
    "ind = 3\n",
    "\n",
    "sns.histplot(tf.reshape(samples_plot[:, ind], -1), stat=\"density\", color=\"r\", alpha=0.4, label=f\"final x{ind}\")\n",
    "sns.histplot(tf.reshape(samples_init[:, ind], -1), stat=\"density\", alpha=0.4, label=f\"init x{ind}\")\n",
    "ymax = plt.ylim()[1]\n",
    "plt.vlines(x_true[0, ind], 0, ymax, color=\"orange\", label=\"true mu\")\n",
    "plt.ylim(0, ymax)\n",
    "x_plot = np.linspace(2, 4, 500)\n",
    "# plt.plot(x_plot, posterior_den(x_plot, y), color=\"grey\", label=\"true posterior\")\n",
    "plt.legend()\n",
    "plt.show()\n",
    "\n",
    "print(\n",
    "    f\"true x{ind+1}:\",\n",
    "    x_true[0, ind],\n",
    "    \"\\nestimate:\",\n",
    "    tf.reduce_mean(samples_plot[:, ind])\n",
    ")"
   ]
  },
  {
   "cell_type": "markdown",
   "metadata": {},
   "source": [
    "### Compare with results from SMC"
   ]
  },
  {
   "cell_type": "code",
   "execution_count": 351,
   "metadata": {},
   "outputs": [],
   "source": [
    "def loglik(x):\n",
    "    loglik1 = tfd.Normal(loc=x[:, 0:1], scale=sigma).log_prob(obs[:1, ])\n",
    "    loglik2 = tfd.Normal(loc=x[:, 1:2], scale=sigma).log_prob(obs[1:2, ])\n",
    "    loglik3 = tfd.Normal(loc=x[:, 2:3], scale=sigma).log_prob(obs[2:3, ])\n",
    "    loglik = tf.reduce_sum(loglik1 + loglik2 + loglik3, axis=1, keepdims=True)\n",
    "    return loglik\n",
    "\n",
    "def logprior(x):\n",
    "    logp1 = tfd.Normal(loc=x[:, 3:4], scale=tau).log_prob(x[:, 0:1])\n",
    "    logp2 = tfd.Normal(loc=x[:, 3:4], scale=tau).log_prob(x[:, 1:2])   \n",
    "    logp3 = tfd.Normal(loc=x[:, 4:5], scale=sigma0).log_prob(x[:, 2:3])\n",
    "    logp4 = tfd.Normal(loc=x[:, 4:5], scale=sigma0).log_prob(x[:, 3:4])\n",
    "    logprior5 = tfd.Normal(loc=mu0, scale=sigma0).log_prob(x[:, 4:5])\n",
    "    return logp1 + logp2 + logp3 + logp4 + logprior5\n",
    "    \n",
    "def smc(seed):\n",
    "    return tfp.experimental.mcmc.sample_sequential_monte_carlo(\n",
    "        prior_log_prob_fn=logprior,\n",
    "        likelihood_log_prob_fn=loglik,\n",
    "        current_state=samples_init,\n",
    "        seed=seed)[1]"
   ]
  },
  {
   "cell_type": "code",
   "execution_count": 352,
   "metadata": {},
   "outputs": [],
   "source": [
    "smc_res = smc(seed=(12, 34))"
   ]
  },
  {
   "cell_type": "code",
   "execution_count": 373,
   "metadata": {},
   "outputs": [
    {
     "data": {
      "image/png": "[encoded data removed]",
      "text/plain": [
       "<Figure size 432x288 with 1 Axes>"
      ]
     },
     "metadata": {
      "needs_background": "light"
     },
     "output_type": "display_data"
    },
    {
     "name": "stdout",
     "output_type": "stream",
     "text": [
      "true x4: tf.Tensor(-0.5540992987520248, shape=(), dtype=float64) \n",
      "estimate: tf.Tensor(0.31870905059996657, shape=(), dtype=float64)\n"
     ]
    }
   ],
   "source": [
    "ind = 3\n",
    "\n",
    "sns.histplot(tf.reshape(smc_res[:, ind], -1), stat=\"density\", color=\"r\", alpha=0.4, label=f\"final x{ind}\")\n",
    "sns.histplot(tf.reshape(samples_init[:, ind], -1), stat=\"density\", alpha=0.4, label=f\"init x{ind}\")\n",
    "ymax = plt.ylim()[1]\n",
    "plt.vlines(x_true[0, ind], 0, ymax, color=\"k\", label=\"true mu\")\n",
    "plt.ylim(0, ymax)\n",
    "x_plot = np.linspace(2, 4, 500)\n",
    "plt.legend()\n",
    "plt.show()\n",
    "\n",
    "print(\n",
    "    f\"true x{ind+1}:\",\n",
    "    x_true[0, ind],\n",
    "    \"\\nestimate:\",\n",
    "    tf.reduce_mean(smc_res[:, ind])\n",
    ")"
   ]
  },
  {
   "cell_type": "code",
   "execution_count": null,
   "metadata": {},
   "outputs": [],
   "source": []
  }
 ],
 "metadata": {
  "kernelspec": {
   "display_name": "fast-mcmc",
   "language": "python",
   "name": "fast-mcmc"
  },
  "language_info": {
   "codemirror_mode": {
    "name": "ipython",
    "version": 3
   },
   "file_extension": ".py",
   "mimetype": "text/x-python",
   "name": "python",
   "nbconvert_exporter": "python",
   "pygments_lexer": "ipython3",
   "version": "3.8.8"
  }
 },
 "nbformat": 4,
 "nbformat_minor": 2
}
