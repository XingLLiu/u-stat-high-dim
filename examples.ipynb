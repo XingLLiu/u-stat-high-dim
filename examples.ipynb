{
 "cells": [
  {
   "cell_type": "code",
   "execution_count": 550,
   "metadata": {},
   "outputs": [
    {
     "name": "stdout",
     "output_type": "stream",
     "text": [
      "The autoreload extension is already loaded. To reload it, use:\n",
      "  %reload_ext autoreload\n"
     ]
    }
   ],
   "source": [
    "%load_ext autoreload\n",
    "%autoreload 2\n",
    "\n",
    "import matplotlib.pyplot as plt\n",
    "import seaborn as sns\n",
    "import pandas as pd\n",
    "import numpy as np\n",
    "from scipy.stats import norm\n",
    "import multiprocessing\n",
    "\n",
    "import tensorflow as tf\n",
    "import tensorflow_probability as tfp\n",
    "tfd = tfp.distributions\n",
    "\n",
    "import sys\n",
    "sys.path.append(\".\")\n",
    "from src.dc_smc import dc_smc \n",
    "from src.model import Model, LinearGaussian, NonLinearGaussian\n",
    "from src.utils import resample"
   ]
  },
  {
   "cell_type": "markdown",
   "metadata": {},
   "source": [
    "# Linear Gaussian HMM"
   ]
  },
  {
   "cell_type": "code",
   "execution_count": 551,
   "metadata": {},
   "outputs": [],
   "source": [
    "# generate data\n",
    "nsamples = 50 # n_y\n",
    "T = 10\n",
    "tf.random.set_seed(0)\n",
    "\n",
    "# sigma0 = np.array([[1.]])\n",
    "sigma0 = np.array(1.)\n",
    "A = np.array([[0.8]])\n",
    "B = np.ones((1, 1))\n",
    "C = np.ones((1, 1))\n",
    "D = np.ones((1, 1))\n",
    "\n",
    "linear_hmm = LinearGaussian(sigma0, A, B, C, D)\n",
    "x_vec, y_vec = linear_hmm.sample(nsamples, T)"
   ]
  },
  {
   "cell_type": "code",
   "execution_count": 552,
   "metadata": {},
   "outputs": [
    {
     "name": "stdout",
     "output_type": "stream",
     "text": [
      "true x1: 2.2232272715607047 estimate: 2.0194198238800296\n",
      "true x2: 3.477558810809355 estimate: 3.394570652959467\n",
      "true x3: 1.6074973498178333 estimate: 1.8315214954282502\n",
      "true x4: 0.7157036784802129 estimate: 0.31924416522331583\n",
      "true x5: 1.921818385403494 estimate: 1.331434560057252\n",
      "true x6: 0.044118388399394526 estimate: 0.5539142400081464\n",
      "true x7: 0.678292810046603 estimate: 0.6610092158361197\n",
      "true x8: -0.6627111441898904 estimate: -0.59694124551972\n",
      "true x9: -2.064314985832259 estimate: -2.722512701259994\n",
      "true x10: -2.7020150856659293 estimate: -3.371547923705364\n"
     ]
    }
   ],
   "source": [
    "# SIS\n",
    "nx = 1000\n",
    "\n",
    "x_pos = np.zeros((T+1, nx))\n",
    "log_w = np.zeros_like(x_pos)\n",
    "x_pos_resampled = np.zeros_like(x_pos)\n",
    "\n",
    "# t=0\n",
    "proposal_init = tfd.Normal(loc=np.zeros(1), scale=np.ones(1))\n",
    "x_pos[0, :] = proposal_init.sample(nx)[:, 0]\n",
    "log_w[0, :] = linear_hmm.log_gamma(x_pos[:1, :], None) - proposal_init.log_prob(x_pos[0, :])\n",
    "x_pos_resampled[0, :] = resample(log_w[0, :], x_pos[0, :])\n",
    "\n",
    "# t>=1\n",
    "for t in range(T):\n",
    "    # proposal: N(x_{t-1}, 1)\n",
    "    proposal_t = tfd.Normal(loc=x_pos[t, :], scale=np.ones(1))\n",
    "    x_pos[t+1, :] = proposal_t.sample(1)\n",
    "    \n",
    "    alpha_t = linear_hmm.log_gamma(x_pos[:(t+2), :], y_vec[:(t+1), :]) - \\\n",
    "        linear_hmm.log_gamma(x_pos[:(t+1), :], y_vec[:t, :]) - \\\n",
    "        proposal_t.log_prob(x_pos[t+1, :])\n",
    "    log_w[t+1, :] = log_w[t, :] + alpha_t\n",
    "    \n",
    "    x_pos_resampled[t+1, :] = resample(log_w[t+1, :], x_pos[t+1, :])\n",
    "\n",
    "    print(\"true x{}: {} estimate: {}\".format(\n",
    "        t+1, \n",
    "        x_vec[t+1, 0], \n",
    "        tf.reduce_mean(x_pos_resampled[t+1, :]).numpy()\n",
    "    ))\n",
    "    "
   ]
  },
  {
   "cell_type": "code",
   "execution_count": 553,
   "metadata": {},
   "outputs": [
    {
     "name": "stdout",
     "output_type": "stream",
     "text": [
      "true x1: 2.2232272715607047 estimate: 2.0194198238800296\n"
     ]
    },
    {
     "data": {
      "image/png": "[encoded data removed]",
      "text/plain": [
       "<Figure size 432x288 with 1 Axes>"
      ]
     },
     "metadata": {
      "needs_background": "light"
     },
     "output_type": "display_data"
    }
   ],
   "source": [
    "ind = 1\n",
    "\n",
    "x_true = x_vec[ind, 0]\n",
    "\n",
    "sns.histplot(x_pos_resampled[ind, :], stat=\"density\", color=\"r\", alpha=0.4, label=f\"final x{ind}\")\n",
    "sns.histplot(x_pos[ind, :], stat=\"density\", alpha=0.4, label=f\"init x{ind}\")\n",
    "ymax = plt.ylim()[1]\n",
    "plt.vlines(x_true, 0, ymax, color=\"orange\", label=\"true x\")\n",
    "plt.legend()\n",
    "\n",
    "print(\n",
    "    f\"true x{ind}:\", x_true,\n",
    "    \"estimate:\", tf.reduce_mean(x_pos_resampled[ind, :]).numpy()\n",
    ")"
   ]
  },
  {
   "cell_type": "markdown",
   "metadata": {},
   "source": [
    "# Non-linear Gaussian HMM"
   ]
  },
  {
   "cell_type": "code",
   "execution_count": 554,
   "metadata": {},
   "outputs": [],
   "source": [
    "# generate data\n",
    "tf.random.set_seed(0)\n",
    "nsample = 50\n",
    "T = 4\n",
    "\n",
    "sigma0 = np.array([[1.]])\n",
    "mu0 = np.zeros((1, 1))\n",
    "sigma_v = np.array([[np.sqrt(10)]])\n",
    "sigma_w = np.ones((1, 1))\n",
    "\n",
    "nonlinear_hmm = NonLinearGaussian(sigma0, mu0, sigma_v, sigma_w)\n",
    "x_vec, y_vec = nonlinear_hmm.sample(nsample, T)"
   ]
  },
  {
   "cell_type": "code",
   "execution_count": 555,
   "metadata": {},
   "outputs": [
    {
     "name": "stdout",
     "output_type": "stream",
     "text": [
      "(1, 1000) (1000,) (1, 1) (1, 1)\n",
      "true x1: 18.46339823101679 estimate: 4.291952124693818\n",
      "(1, 1000) (1000,) (1, 1) (1, 1)\n",
      "(1, 1000) (1000,) (1, 1) (1, 1)\n",
      "true x2: 9.935913730800971 estimate: -2.2721344437953865\n",
      "(1, 1000) (1000,) (1, 1) (1, 1)\n",
      "(1, 1000) (1000,) (1, 1) (1, 1)\n",
      "true x3: 7.2453845003430155 estimate: 6.016206116044707\n",
      "(1, 1000) (1000,) (1, 1) (1, 1)\n",
      "(1, 1000) (1000,) (1, 1) (1, 1)\n",
      "true x4: -4.2920114514712395 estimate: 6.642293988349027\n"
     ]
    }
   ],
   "source": [
    "# SIS\n",
    "nx = 1000\n",
    "\n",
    "x_pos = np.zeros((T+1, nx))\n",
    "log_w = np.zeros_like(x_pos)\n",
    "x_pos_resampled = np.zeros_like(x_pos)\n",
    "\n",
    "# t=0\n",
    "proposal_init = tfd.Normal(loc=np.zeros(1), scale=np.ones(1))\n",
    "x_pos[0, :] = proposal_init.sample(nx)[:, 0]\n",
    "log_w[0, :] = nonlinear_hmm.log_gamma(x_pos[:1, :], None) - proposal_init.log_prob(x_pos[0, :])\n",
    "x_pos_resampled[0, :] = resample(log_w[0, :], x_pos[0, :])\n",
    "\n",
    "# t>=1\n",
    "for t in range(T):\n",
    "    # proposal: N(x_{t-1}, 1)\n",
    "    proposal_t = tfd.Normal(loc=x_pos[t, :], scale=np.ones(1))\n",
    "    x_pos[t+1, :] = proposal_t.sample(1)\n",
    "    \n",
    "    alpha_t = nonlinear_hmm.log_gamma(x_pos[:(t+2), :], y_vec[:(t+1), :]) - \\\n",
    "        nonlinear_hmm.log_gamma(x_pos[:(t+1), :], y_vec[:t, :]) - \\\n",
    "        proposal_t.log_prob(x_pos[t+1, :])\n",
    "    log_w[t+1, :] = log_w[t, :] + alpha_t\n",
    "    \n",
    "    x_pos_resampled[t+1, :] = resample(log_w[t+1, :], x_pos[t+1, :])\n",
    "\n",
    "    print(\"true x{}: {} estimate: {}\".format(\n",
    "        t+1, \n",
    "        x_vec[t+1, 0], \n",
    "        tf.reduce_mean(x_pos_resampled[t+1, :]).numpy()\n",
    "    ))\n",
    "    "
   ]
  },
  {
   "cell_type": "code",
   "execution_count": 561,
   "metadata": {},
   "outputs": [
    {
     "name": "stdout",
     "output_type": "stream",
     "text": [
      "true x1: 18.46339823101679 estimate: 4.291952124693818\n"
     ]
    },
    {
     "data": {
      "image/png": "[encoded data removed]",
      "text/plain": [
       "<Figure size 432x288 with 1 Axes>"
      ]
     },
     "metadata": {
      "needs_background": "light"
     },
     "output_type": "display_data"
    }
   ],
   "source": [
    "ind = 1\n",
    "\n",
    "x_true = x_vec[ind, 0]\n",
    "\n",
    "sns.histplot(x_pos_resampled[ind, :], stat=\"density\", color=\"r\", alpha=0.4, label=f\"final x{ind}\")\n",
    "sns.histplot(x_pos[ind, :], stat=\"density\", alpha=0.4, label=f\"init x{ind}\")\n",
    "ymax = plt.ylim()[1]\n",
    "plt.vlines(x_true, 0, ymax, color=\"orange\", label=\"true x\")\n",
    "plt.legend()\n",
    "\n",
    "print(\n",
    "    f\"true x{ind}:\", x_true,\n",
    "    \"estimate:\", tf.reduce_mean(x_pos_resampled[ind, :]).numpy()\n",
    ")"
   ]
  },
  {
   "cell_type": "markdown",
   "metadata": {},
   "source": [
    "## Compare with SMC"
   ]
  },
  {
   "cell_type": "code",
   "execution_count": 336,
   "metadata": {},
   "outputs": [],
   "source": [
    "# need to change according to model!\n",
    "def logprior(x):\n",
    "    T = x.shape[0] - 1\n",
    "    log_p = tfd.Normal(loc=mu0, scale=sigma0).log_prob(x[0, :])\n",
    "#     print(\"here\", log_p.shape, x[0, :].shape, mu0.shape, sigma0.shape)\n",
    "    for i in range(1, T):\n",
    "        log_p += tfd.Normal(\n",
    "            loc=nonlinear_hmm._latent_mean(x[i-1, :], i), \n",
    "            scale=sigma_v\n",
    "        ).log_prob(x[i, :])\n",
    "        print(i, T)\n",
    "    log_p = tf.reshape(log_p, (-1, 1))\n",
    "    print(\"prior\", log_p.shape)\n",
    "    return log_p\n",
    "\n",
    "def loglik(x):\n",
    "    T = x.shape[0] - 1\n",
    "    log_lik = 0\n",
    "    for t in range(T):\n",
    "        log_lik += tfd.Normal(\n",
    "            loc=1/20 * x[t+1, :]**2, \n",
    "            scale=sigma_w\n",
    "        ).log_prob(y_vec[t, :].reshape(-1, 1))\n",
    "        print(t, T, x.shape)\n",
    "    log_lik = tf.reshape(tf.reduce_sum(log_lik, axis=0), (-1, 1))\n",
    "    print(\"finished\")\n",
    "    print(\"lik\", log_lik.shape)\n",
    "    return log_lik\n",
    "\n",
    "def smc(seed, samples_init):\n",
    "    return tfp.experimental.mcmc.sample_sequential_monte_carlo(\n",
    "        prior_log_prob_fn=logprior,\n",
    "        likelihood_log_prob_fn=loglik,\n",
    "        current_state=samples_init,\n",
    "        seed=seed)[1]"
   ]
  },
  {
   "cell_type": "code",
   "execution_count": 337,
   "metadata": {},
   "outputs": [
    {
     "name": "stdout",
     "output_type": "stream",
     "text": [
      "0 4 (5, 1000)\n",
      "1 4 (5, 1000)\n",
      "2 4 (5, 1000)\n",
      "3 4 (5, 1000)\n",
      "finished\n",
      "lik (1000, 1)\n",
      "1 4\n",
      "2 4\n",
      "3 4\n",
      "prior (1000, 1)\n",
      "0 4 (5, 1000)\n",
      "1 4 (5, 1000)\n",
      "2 4 (5, 1000)\n",
      "3 4 (5, 1000)\n",
      "finished\n",
      "lik (1000, 1)\n"
     ]
    },
    {
     "ename": "InvalidArgumentError",
     "evalue": "indices[250,7] = 5 is not in [0, 5) [Op:GatherV2]",
     "output_type": "error",
     "traceback": [
      "\u001b[0;31m---------------------------------------------------------------------------\u001b[0m",
      "\u001b[0;31mInvalidArgumentError\u001b[0m                      Traceback (most recent call last)",
      "\u001b[0;32m<ipython-input-337-a2df03eee2fe>\u001b[0m in \u001b[0;36m<module>\u001b[0;34m\u001b[0m\n\u001b[1;32m      1\u001b[0m \u001b[0mx_smc_init\u001b[0m \u001b[0;34m=\u001b[0m \u001b[0mtfd\u001b[0m\u001b[0;34m.\u001b[0m\u001b[0mNormal\u001b[0m\u001b[0;34m(\u001b[0m\u001b[0mloc\u001b[0m\u001b[0;34m=\u001b[0m\u001b[0mnp\u001b[0m\u001b[0;34m.\u001b[0m\u001b[0marray\u001b[0m\u001b[0;34m(\u001b[0m\u001b[0;36m0.\u001b[0m\u001b[0;34m)\u001b[0m\u001b[0;34m,\u001b[0m \u001b[0mscale\u001b[0m\u001b[0;34m=\u001b[0m\u001b[0mnp\u001b[0m\u001b[0;34m.\u001b[0m\u001b[0marray\u001b[0m\u001b[0;34m(\u001b[0m\u001b[0;36m1.\u001b[0m\u001b[0;34m)\u001b[0m\u001b[0;34m)\u001b[0m\u001b[0;34m.\u001b[0m\u001b[0msample\u001b[0m\u001b[0;34m(\u001b[0m\u001b[0;34m(\u001b[0m\u001b[0mT\u001b[0m\u001b[0;34m+\u001b[0m\u001b[0;36m1\u001b[0m\u001b[0;34m,\u001b[0m \u001b[0mnx\u001b[0m\u001b[0;34m)\u001b[0m\u001b[0;34m)\u001b[0m\u001b[0;34m\u001b[0m\u001b[0;34m\u001b[0m\u001b[0m\n\u001b[0;32m----> 2\u001b[0;31m \u001b[0mx_smc_final\u001b[0m \u001b[0;34m=\u001b[0m \u001b[0msmc\u001b[0m\u001b[0;34m(\u001b[0m\u001b[0;36m1\u001b[0m\u001b[0;34m,\u001b[0m \u001b[0mx_smc_init\u001b[0m\u001b[0;34m)\u001b[0m\u001b[0;34m\u001b[0m\u001b[0;34m\u001b[0m\u001b[0m\n\u001b[0m",
      "\u001b[0;32m<ipython-input-336-3e32c2ebc3b5>\u001b[0m in \u001b[0;36msmc\u001b[0;34m(seed, samples_init)\u001b[0m\n\u001b[1;32m     29\u001b[0m \u001b[0;34m\u001b[0m\u001b[0m\n\u001b[1;32m     30\u001b[0m \u001b[0;32mdef\u001b[0m \u001b[0msmc\u001b[0m\u001b[0;34m(\u001b[0m\u001b[0mseed\u001b[0m\u001b[0;34m,\u001b[0m \u001b[0msamples_init\u001b[0m\u001b[0;34m)\u001b[0m\u001b[0;34m:\u001b[0m\u001b[0;34m\u001b[0m\u001b[0;34m\u001b[0m\u001b[0m\n\u001b[0;32m---> 31\u001b[0;31m     return tfp.experimental.mcmc.sample_sequential_monte_carlo(\n\u001b[0m\u001b[1;32m     32\u001b[0m         \u001b[0mprior_log_prob_fn\u001b[0m\u001b[0;34m=\u001b[0m\u001b[0mlogprior\u001b[0m\u001b[0;34m,\u001b[0m\u001b[0;34m\u001b[0m\u001b[0;34m\u001b[0m\u001b[0m\n\u001b[1;32m     33\u001b[0m         \u001b[0mlikelihood_log_prob_fn\u001b[0m\u001b[0;34m=\u001b[0m\u001b[0mloglik\u001b[0m\u001b[0;34m,\u001b[0m\u001b[0;34m\u001b[0m\u001b[0;34m\u001b[0m\u001b[0m\n",
      "\u001b[0;32m/opt/anaconda3/envs/fast-mcmc/lib/python3.8/site-packages/tensorflow_probability/python/experimental/mcmc/sample_sequential_monte_carlo.py\u001b[0m in \u001b[0;36msample_sequential_monte_carlo\u001b[0;34m(prior_log_prob_fn, likelihood_log_prob_fn, current_state, min_num_steps, max_num_steps, max_stage, make_kernel_fn, tuning_fn, make_tempered_target_log_prob_fn, resample_fn, ess_threshold_ratio, parallel_iterations, seed, name)\u001b[0m\n\u001b[1;32m    582\u001b[0m         \u001b[0mfinal_state\u001b[0m\u001b[0;34m,\u001b[0m\u001b[0;34m\u001b[0m\u001b[0;34m\u001b[0m\u001b[0m\n\u001b[1;32m    583\u001b[0m         \u001b[0mfinal_kernel_results\u001b[0m\u001b[0;34m\u001b[0m\u001b[0;34m\u001b[0m\u001b[0m\n\u001b[0;32m--> 584\u001b[0;31m     \u001b[0;34m)\u001b[0m \u001b[0;34m=\u001b[0m \u001b[0mtf\u001b[0m\u001b[0;34m.\u001b[0m\u001b[0mwhile_loop\u001b[0m\u001b[0;34m(\u001b[0m\u001b[0;34m\u001b[0m\u001b[0;34m\u001b[0m\u001b[0m\n\u001b[0m\u001b[1;32m    585\u001b[0m         cond=lambda i, state, pkr: (  # pylint: disable=g-long-lambda\n\u001b[1;32m    586\u001b[0m             \u001b[0;34m(\u001b[0m\u001b[0mi\u001b[0m \u001b[0;34m<\u001b[0m \u001b[0mmax_stage\u001b[0m\u001b[0;34m)\u001b[0m \u001b[0;34m&\u001b[0m\u001b[0;34m\u001b[0m\u001b[0;34m\u001b[0m\u001b[0m\n",
      "\u001b[0;32m/opt/anaconda3/envs/fast-mcmc/lib/python3.8/site-packages/tensorflow/python/util/deprecation.py\u001b[0m in \u001b[0;36mnew_func\u001b[0;34m(*args, **kwargs)\u001b[0m\n\u001b[1;32m    600\u001b[0m                   \u001b[0mfunc\u001b[0m\u001b[0;34m.\u001b[0m\u001b[0m__module__\u001b[0m\u001b[0;34m,\u001b[0m \u001b[0marg_name\u001b[0m\u001b[0;34m,\u001b[0m \u001b[0marg_value\u001b[0m\u001b[0;34m,\u001b[0m \u001b[0;34m'in a future version'\u001b[0m\u001b[0;34m\u001b[0m\u001b[0;34m\u001b[0m\u001b[0m\n\u001b[1;32m    601\u001b[0m                   if date is None else ('after %s' % date), instructions)\n\u001b[0;32m--> 602\u001b[0;31m       \u001b[0;32mreturn\u001b[0m \u001b[0mfunc\u001b[0m\u001b[0;34m(\u001b[0m\u001b[0;34m*\u001b[0m\u001b[0margs\u001b[0m\u001b[0;34m,\u001b[0m \u001b[0;34m**\u001b[0m\u001b[0mkwargs\u001b[0m\u001b[0;34m)\u001b[0m\u001b[0;34m\u001b[0m\u001b[0;34m\u001b[0m\u001b[0m\n\u001b[0m\u001b[1;32m    603\u001b[0m \u001b[0;34m\u001b[0m\u001b[0m\n\u001b[1;32m    604\u001b[0m     doc = _add_deprecated_arg_value_notice_to_docstring(\n",
      "\u001b[0;32m/opt/anaconda3/envs/fast-mcmc/lib/python3.8/site-packages/tensorflow/python/ops/control_flow_ops.py\u001b[0m in \u001b[0;36mwhile_loop_v2\u001b[0;34m(cond, body, loop_vars, shape_invariants, parallel_iterations, back_prop, swap_memory, maximum_iterations, name)\u001b[0m\n\u001b[1;32m   2529\u001b[0m \u001b[0;34m\u001b[0m\u001b[0m\n\u001b[1;32m   2530\u001b[0m   \"\"\"\n\u001b[0;32m-> 2531\u001b[0;31m   return while_loop(\n\u001b[0m\u001b[1;32m   2532\u001b[0m       \u001b[0mcond\u001b[0m\u001b[0;34m=\u001b[0m\u001b[0mcond\u001b[0m\u001b[0;34m,\u001b[0m\u001b[0;34m\u001b[0m\u001b[0;34m\u001b[0m\u001b[0m\n\u001b[1;32m   2533\u001b[0m       \u001b[0mbody\u001b[0m\u001b[0;34m=\u001b[0m\u001b[0mbody\u001b[0m\u001b[0;34m,\u001b[0m\u001b[0;34m\u001b[0m\u001b[0;34m\u001b[0m\u001b[0m\n",
      "\u001b[0;32m/opt/anaconda3/envs/fast-mcmc/lib/python3.8/site-packages/tensorflow/python/ops/control_flow_ops.py\u001b[0m in \u001b[0;36mwhile_loop\u001b[0;34m(cond, body, loop_vars, shape_invariants, parallel_iterations, back_prop, swap_memory, name, maximum_iterations, return_same_structure)\u001b[0m\n\u001b[1;32m   2775\u001b[0m                                               list(loop_vars))\n\u001b[1;32m   2776\u001b[0m       \u001b[0;32mwhile\u001b[0m \u001b[0mcond\u001b[0m\u001b[0;34m(\u001b[0m\u001b[0;34m*\u001b[0m\u001b[0mloop_vars\u001b[0m\u001b[0;34m)\u001b[0m\u001b[0;34m:\u001b[0m\u001b[0;34m\u001b[0m\u001b[0;34m\u001b[0m\u001b[0m\n\u001b[0;32m-> 2777\u001b[0;31m         \u001b[0mloop_vars\u001b[0m \u001b[0;34m=\u001b[0m \u001b[0mbody\u001b[0m\u001b[0;34m(\u001b[0m\u001b[0;34m*\u001b[0m\u001b[0mloop_vars\u001b[0m\u001b[0;34m)\u001b[0m\u001b[0;34m\u001b[0m\u001b[0;34m\u001b[0m\u001b[0m\n\u001b[0m\u001b[1;32m   2778\u001b[0m         \u001b[0;32mif\u001b[0m \u001b[0mtry_to_pack\u001b[0m \u001b[0;32mand\u001b[0m \u001b[0;32mnot\u001b[0m \u001b[0misinstance\u001b[0m\u001b[0;34m(\u001b[0m\u001b[0mloop_vars\u001b[0m\u001b[0;34m,\u001b[0m \u001b[0;34m(\u001b[0m\u001b[0mlist\u001b[0m\u001b[0;34m,\u001b[0m \u001b[0m_basetuple\u001b[0m\u001b[0;34m)\u001b[0m\u001b[0;34m)\u001b[0m\u001b[0;34m:\u001b[0m\u001b[0;34m\u001b[0m\u001b[0;34m\u001b[0m\u001b[0m\n\u001b[1;32m   2779\u001b[0m           \u001b[0mpacked\u001b[0m \u001b[0;34m=\u001b[0m \u001b[0;32mTrue\u001b[0m\u001b[0;34m\u001b[0m\u001b[0;34m\u001b[0m\u001b[0m\n",
      "\u001b[0;32m/opt/anaconda3/envs/fast-mcmc/lib/python3.8/site-packages/tensorflow_probability/python/experimental/mcmc/sample_sequential_monte_carlo.py\u001b[0m in \u001b[0;36msmc_body_fn\u001b[0;34m(stage, state, smc_kernel_result)\u001b[0m\n\u001b[1;32m    541\u001b[0m             )\n\u001b[1;32m    542\u001b[0m       (resampled_state,\n\u001b[0;32m--> 543\u001b[0;31m        \u001b[0mresampled_particle_info\u001b[0m\u001b[0;34m)\u001b[0m\u001b[0;34m,\u001b[0m \u001b[0m_\u001b[0m \u001b[0;34m=\u001b[0m \u001b[0mweighted_resampling\u001b[0m\u001b[0;34m.\u001b[0m\u001b[0mresample\u001b[0m\u001b[0;34m(\u001b[0m\u001b[0;34m\u001b[0m\u001b[0;34m\u001b[0m\u001b[0m\n\u001b[0m\u001b[1;32m    544\u001b[0m            \u001b[0mparticles\u001b[0m\u001b[0;34m=\u001b[0m\u001b[0;34m(\u001b[0m\u001b[0mstate\u001b[0m\u001b[0;34m,\u001b[0m \u001b[0msmc_kernel_result\u001b[0m\u001b[0;34m.\u001b[0m\u001b[0mparticle_info\u001b[0m\u001b[0;34m)\u001b[0m\u001b[0;34m,\u001b[0m\u001b[0;34m\u001b[0m\u001b[0;34m\u001b[0m\u001b[0m\n\u001b[1;32m    545\u001b[0m            \u001b[0mlog_weights\u001b[0m\u001b[0;34m=\u001b[0m\u001b[0mlog_weights\u001b[0m\u001b[0;34m,\u001b[0m\u001b[0;34m\u001b[0m\u001b[0;34m\u001b[0m\u001b[0m\n",
      "\u001b[0;32m/opt/anaconda3/envs/fast-mcmc/lib/python3.8/site-packages/tensorflow_probability/python/experimental/mcmc/weighted_resampling.py\u001b[0m in \u001b[0;36mresample\u001b[0;34m(particles, log_weights, resample_fn, seed)\u001b[0m\n\u001b[1;32m     58\u001b[0m     \u001b[0mlog_probs\u001b[0m \u001b[0;34m=\u001b[0m \u001b[0mtf\u001b[0m\u001b[0;34m.\u001b[0m\u001b[0mmath\u001b[0m\u001b[0;34m.\u001b[0m\u001b[0mlog_softmax\u001b[0m\u001b[0;34m(\u001b[0m\u001b[0mlog_weights\u001b[0m\u001b[0;34m,\u001b[0m \u001b[0maxis\u001b[0m\u001b[0;34m=\u001b[0m\u001b[0;36m0\u001b[0m\u001b[0;34m)\u001b[0m\u001b[0;34m\u001b[0m\u001b[0;34m\u001b[0m\u001b[0m\n\u001b[1;32m     59\u001b[0m     \u001b[0mresampled_indices\u001b[0m \u001b[0;34m=\u001b[0m \u001b[0mresample_fn\u001b[0m\u001b[0;34m(\u001b[0m\u001b[0mlog_probs\u001b[0m\u001b[0;34m,\u001b[0m \u001b[0mnum_particles\u001b[0m\u001b[0;34m,\u001b[0m \u001b[0;34m(\u001b[0m\u001b[0;34m)\u001b[0m\u001b[0;34m,\u001b[0m \u001b[0mseed\u001b[0m\u001b[0;34m=\u001b[0m\u001b[0mseed\u001b[0m\u001b[0;34m)\u001b[0m\u001b[0;34m\u001b[0m\u001b[0;34m\u001b[0m\u001b[0m\n\u001b[0;32m---> 60\u001b[0;31m     resampled_particles = tf.nest.map_structure(\n\u001b[0m\u001b[1;32m     61\u001b[0m         lambda x: mcmc_util.index_remapping_gather(  # pylint: disable=g-long-lambda\n\u001b[1;32m     62\u001b[0m             x, resampled_indices, axis=0),\n",
      "\u001b[0;32m/opt/anaconda3/envs/fast-mcmc/lib/python3.8/site-packages/tensorflow/python/util/nest.py\u001b[0m in \u001b[0;36mmap_structure\u001b[0;34m(func, *structure, **kwargs)\u001b[0m\n\u001b[1;32m    865\u001b[0m \u001b[0;34m\u001b[0m\u001b[0m\n\u001b[1;32m    866\u001b[0m   return pack_sequence_as(\n\u001b[0;32m--> 867\u001b[0;31m       \u001b[0mstructure\u001b[0m\u001b[0;34m[\u001b[0m\u001b[0;36m0\u001b[0m\u001b[0;34m]\u001b[0m\u001b[0;34m,\u001b[0m \u001b[0;34m[\u001b[0m\u001b[0mfunc\u001b[0m\u001b[0;34m(\u001b[0m\u001b[0;34m*\u001b[0m\u001b[0mx\u001b[0m\u001b[0;34m)\u001b[0m \u001b[0;32mfor\u001b[0m \u001b[0mx\u001b[0m \u001b[0;32min\u001b[0m \u001b[0mentries\u001b[0m\u001b[0;34m]\u001b[0m\u001b[0;34m,\u001b[0m\u001b[0;34m\u001b[0m\u001b[0;34m\u001b[0m\u001b[0m\n\u001b[0m\u001b[1;32m    868\u001b[0m       expand_composites=expand_composites)\n\u001b[1;32m    869\u001b[0m \u001b[0;34m\u001b[0m\u001b[0m\n",
      "\u001b[0;32m/opt/anaconda3/envs/fast-mcmc/lib/python3.8/site-packages/tensorflow/python/util/nest.py\u001b[0m in \u001b[0;36m<listcomp>\u001b[0;34m(.0)\u001b[0m\n\u001b[1;32m    865\u001b[0m \u001b[0;34m\u001b[0m\u001b[0m\n\u001b[1;32m    866\u001b[0m   return pack_sequence_as(\n\u001b[0;32m--> 867\u001b[0;31m       \u001b[0mstructure\u001b[0m\u001b[0;34m[\u001b[0m\u001b[0;36m0\u001b[0m\u001b[0;34m]\u001b[0m\u001b[0;34m,\u001b[0m \u001b[0;34m[\u001b[0m\u001b[0mfunc\u001b[0m\u001b[0;34m(\u001b[0m\u001b[0;34m*\u001b[0m\u001b[0mx\u001b[0m\u001b[0;34m)\u001b[0m \u001b[0;32mfor\u001b[0m \u001b[0mx\u001b[0m \u001b[0;32min\u001b[0m \u001b[0mentries\u001b[0m\u001b[0;34m]\u001b[0m\u001b[0;34m,\u001b[0m\u001b[0;34m\u001b[0m\u001b[0;34m\u001b[0m\u001b[0m\n\u001b[0m\u001b[1;32m    868\u001b[0m       expand_composites=expand_composites)\n\u001b[1;32m    869\u001b[0m \u001b[0;34m\u001b[0m\u001b[0m\n",
      "\u001b[0;32m/opt/anaconda3/envs/fast-mcmc/lib/python3.8/site-packages/tensorflow_probability/python/experimental/mcmc/weighted_resampling.py\u001b[0m in \u001b[0;36m<lambda>\u001b[0;34m(x)\u001b[0m\n\u001b[1;32m     59\u001b[0m     \u001b[0mresampled_indices\u001b[0m \u001b[0;34m=\u001b[0m \u001b[0mresample_fn\u001b[0m\u001b[0;34m(\u001b[0m\u001b[0mlog_probs\u001b[0m\u001b[0;34m,\u001b[0m \u001b[0mnum_particles\u001b[0m\u001b[0;34m,\u001b[0m \u001b[0;34m(\u001b[0m\u001b[0;34m)\u001b[0m\u001b[0;34m,\u001b[0m \u001b[0mseed\u001b[0m\u001b[0;34m=\u001b[0m\u001b[0mseed\u001b[0m\u001b[0;34m)\u001b[0m\u001b[0;34m\u001b[0m\u001b[0;34m\u001b[0m\u001b[0m\n\u001b[1;32m     60\u001b[0m     resampled_particles = tf.nest.map_structure(\n\u001b[0;32m---> 61\u001b[0;31m         lambda x: mcmc_util.index_remapping_gather(  # pylint: disable=g-long-lambda\n\u001b[0m\u001b[1;32m     62\u001b[0m             x, resampled_indices, axis=0),\n\u001b[1;32m     63\u001b[0m         particles)\n",
      "\u001b[0;32m/opt/anaconda3/envs/fast-mcmc/lib/python3.8/site-packages/tensorflow_probability/python/mcmc/internal/util.py\u001b[0m in \u001b[0;36mindex_remapping_gather\u001b[0;34m(params, indices, axis, indices_axis, name)\u001b[0m\n\u001b[1;32m    685\u001b[0m         result_shape[:broadcast_indices_ndims])\n\u001b[1;32m    686\u001b[0m \u001b[0;34m\u001b[0m\u001b[0m\n\u001b[0;32m--> 687\u001b[0;31m     result_t = tf.gather(transposed_params,\n\u001b[0m\u001b[1;32m    688\u001b[0m                          \u001b[0mbroadcast_indices\u001b[0m\u001b[0;34m,\u001b[0m\u001b[0;34m\u001b[0m\u001b[0;34m\u001b[0m\u001b[0m\n\u001b[1;32m    689\u001b[0m                          \u001b[0mbatch_dims\u001b[0m\u001b[0;34m=\u001b[0m\u001b[0mbroadcast_indices_ndims\u001b[0m \u001b[0;34m-\u001b[0m \u001b[0;36m1\u001b[0m\u001b[0;34m,\u001b[0m\u001b[0;34m\u001b[0m\u001b[0;34m\u001b[0m\u001b[0m\n",
      "\u001b[0;32m/opt/anaconda3/envs/fast-mcmc/lib/python3.8/site-packages/tensorflow/python/util/dispatch.py\u001b[0m in \u001b[0;36mwrapper\u001b[0;34m(*args, **kwargs)\u001b[0m\n\u001b[1;32m    204\u001b[0m     \u001b[0;34m\"\"\"Call target, and fall back on dispatchers if there is a TypeError.\"\"\"\u001b[0m\u001b[0;34m\u001b[0m\u001b[0;34m\u001b[0m\u001b[0m\n\u001b[1;32m    205\u001b[0m     \u001b[0;32mtry\u001b[0m\u001b[0;34m:\u001b[0m\u001b[0;34m\u001b[0m\u001b[0;34m\u001b[0m\u001b[0m\n\u001b[0;32m--> 206\u001b[0;31m       \u001b[0;32mreturn\u001b[0m \u001b[0mtarget\u001b[0m\u001b[0;34m(\u001b[0m\u001b[0;34m*\u001b[0m\u001b[0margs\u001b[0m\u001b[0;34m,\u001b[0m \u001b[0;34m**\u001b[0m\u001b[0mkwargs\u001b[0m\u001b[0;34m)\u001b[0m\u001b[0;34m\u001b[0m\u001b[0;34m\u001b[0m\u001b[0m\n\u001b[0m\u001b[1;32m    207\u001b[0m     \u001b[0;32mexcept\u001b[0m \u001b[0;34m(\u001b[0m\u001b[0mTypeError\u001b[0m\u001b[0;34m,\u001b[0m \u001b[0mValueError\u001b[0m\u001b[0;34m)\u001b[0m\u001b[0;34m:\u001b[0m\u001b[0;34m\u001b[0m\u001b[0;34m\u001b[0m\u001b[0m\n\u001b[1;32m    208\u001b[0m       \u001b[0;31m# Note: convert_to_eager_tensor currently raises a ValueError, not a\u001b[0m\u001b[0;34m\u001b[0m\u001b[0;34m\u001b[0m\u001b[0;34m\u001b[0m\u001b[0m\n",
      "\u001b[0;32m/opt/anaconda3/envs/fast-mcmc/lib/python3.8/site-packages/tensorflow/python/ops/array_ops.py\u001b[0m in \u001b[0;36mgather_v2\u001b[0;34m(params, indices, validate_indices, axis, batch_dims, name)\u001b[0m\n\u001b[1;32m   5041\u001b[0m               \u001b[0mbatch_dims\u001b[0m\u001b[0;34m=\u001b[0m\u001b[0;36m0\u001b[0m\u001b[0;34m,\u001b[0m\u001b[0;34m\u001b[0m\u001b[0;34m\u001b[0m\u001b[0m\n\u001b[1;32m   5042\u001b[0m               name=None):\n\u001b[0;32m-> 5043\u001b[0;31m   return gather(\n\u001b[0m\u001b[1;32m   5044\u001b[0m       \u001b[0mparams\u001b[0m\u001b[0;34m,\u001b[0m\u001b[0;34m\u001b[0m\u001b[0;34m\u001b[0m\u001b[0m\n\u001b[1;32m   5045\u001b[0m       \u001b[0mindices\u001b[0m\u001b[0;34m,\u001b[0m\u001b[0;34m\u001b[0m\u001b[0;34m\u001b[0m\u001b[0m\n",
      "\u001b[0;32m/opt/anaconda3/envs/fast-mcmc/lib/python3.8/site-packages/tensorflow/python/util/deprecation.py\u001b[0m in \u001b[0;36mnew_func\u001b[0;34m(*args, **kwargs)\u001b[0m\n\u001b[1;32m    533\u001b[0m                 \u001b[0;34m'in a future version'\u001b[0m \u001b[0;32mif\u001b[0m \u001b[0mdate\u001b[0m \u001b[0;32mis\u001b[0m \u001b[0;32mNone\u001b[0m \u001b[0;32melse\u001b[0m \u001b[0;34m(\u001b[0m\u001b[0;34m'after %s'\u001b[0m \u001b[0;34m%\u001b[0m \u001b[0mdate\u001b[0m\u001b[0;34m)\u001b[0m\u001b[0;34m,\u001b[0m\u001b[0;34m\u001b[0m\u001b[0;34m\u001b[0m\u001b[0m\n\u001b[1;32m    534\u001b[0m                 instructions)\n\u001b[0;32m--> 535\u001b[0;31m       \u001b[0;32mreturn\u001b[0m \u001b[0mfunc\u001b[0m\u001b[0;34m(\u001b[0m\u001b[0;34m*\u001b[0m\u001b[0margs\u001b[0m\u001b[0;34m,\u001b[0m \u001b[0;34m**\u001b[0m\u001b[0mkwargs\u001b[0m\u001b[0;34m)\u001b[0m\u001b[0;34m\u001b[0m\u001b[0;34m\u001b[0m\u001b[0m\n\u001b[0m\u001b[1;32m    536\u001b[0m \u001b[0;34m\u001b[0m\u001b[0m\n\u001b[1;32m    537\u001b[0m     doc = _add_deprecated_arg_notice_to_docstring(\n",
      "\u001b[0;32m/opt/anaconda3/envs/fast-mcmc/lib/python3.8/site-packages/tensorflow/python/util/dispatch.py\u001b[0m in \u001b[0;36mwrapper\u001b[0;34m(*args, **kwargs)\u001b[0m\n\u001b[1;32m    204\u001b[0m     \u001b[0;34m\"\"\"Call target, and fall back on dispatchers if there is a TypeError.\"\"\"\u001b[0m\u001b[0;34m\u001b[0m\u001b[0;34m\u001b[0m\u001b[0m\n\u001b[1;32m    205\u001b[0m     \u001b[0;32mtry\u001b[0m\u001b[0;34m:\u001b[0m\u001b[0;34m\u001b[0m\u001b[0;34m\u001b[0m\u001b[0m\n\u001b[0;32m--> 206\u001b[0;31m       \u001b[0;32mreturn\u001b[0m \u001b[0mtarget\u001b[0m\u001b[0;34m(\u001b[0m\u001b[0;34m*\u001b[0m\u001b[0margs\u001b[0m\u001b[0;34m,\u001b[0m \u001b[0;34m**\u001b[0m\u001b[0mkwargs\u001b[0m\u001b[0;34m)\u001b[0m\u001b[0;34m\u001b[0m\u001b[0;34m\u001b[0m\u001b[0m\n\u001b[0m\u001b[1;32m    207\u001b[0m     \u001b[0;32mexcept\u001b[0m \u001b[0;34m(\u001b[0m\u001b[0mTypeError\u001b[0m\u001b[0;34m,\u001b[0m \u001b[0mValueError\u001b[0m\u001b[0;34m)\u001b[0m\u001b[0;34m:\u001b[0m\u001b[0;34m\u001b[0m\u001b[0;34m\u001b[0m\u001b[0m\n\u001b[1;32m    208\u001b[0m       \u001b[0;31m# Note: convert_to_eager_tensor currently raises a ValueError, not a\u001b[0m\u001b[0;34m\u001b[0m\u001b[0;34m\u001b[0m\u001b[0;34m\u001b[0m\u001b[0m\n",
      "\u001b[0;32m/opt/anaconda3/envs/fast-mcmc/lib/python3.8/site-packages/tensorflow/python/ops/array_ops.py\u001b[0m in \u001b[0;36mgather\u001b[0;34m(***failed resolving arguments***)\u001b[0m\n\u001b[1;32m   5023\u001b[0m     \u001b[0maxis\u001b[0m \u001b[0;34m=\u001b[0m \u001b[0mbatch_dims\u001b[0m\u001b[0;34m\u001b[0m\u001b[0;34m\u001b[0m\u001b[0m\n\u001b[1;32m   5024\u001b[0m   \u001b[0;32mif\u001b[0m \u001b[0mtensor_util\u001b[0m\u001b[0;34m.\u001b[0m\u001b[0mconstant_value\u001b[0m\u001b[0;34m(\u001b[0m\u001b[0maxis\u001b[0m\u001b[0;34m)\u001b[0m \u001b[0;34m!=\u001b[0m \u001b[0;36m0\u001b[0m\u001b[0;34m:\u001b[0m\u001b[0;34m\u001b[0m\u001b[0;34m\u001b[0m\u001b[0m\n\u001b[0;32m-> 5025\u001b[0;31m     return gen_array_ops.gather_v2(\n\u001b[0m\u001b[1;32m   5026\u001b[0m         params, indices, axis, batch_dims=batch_dims, name=name)\n\u001b[1;32m   5027\u001b[0m   \u001b[0;32mtry\u001b[0m\u001b[0;34m:\u001b[0m\u001b[0;34m\u001b[0m\u001b[0;34m\u001b[0m\u001b[0m\n",
      "\u001b[0;32m/opt/anaconda3/envs/fast-mcmc/lib/python3.8/site-packages/tensorflow/python/ops/gen_array_ops.py\u001b[0m in \u001b[0;36mgather_v2\u001b[0;34m(params, indices, axis, batch_dims, name)\u001b[0m\n\u001b[1;32m   3810\u001b[0m       \u001b[0;32mpass\u001b[0m\u001b[0;34m\u001b[0m\u001b[0;34m\u001b[0m\u001b[0m\n\u001b[1;32m   3811\u001b[0m     \u001b[0;32mtry\u001b[0m\u001b[0;34m:\u001b[0m\u001b[0;34m\u001b[0m\u001b[0;34m\u001b[0m\u001b[0m\n\u001b[0;32m-> 3812\u001b[0;31m       return gather_v2_eager_fallback(\n\u001b[0m\u001b[1;32m   3813\u001b[0m           params, indices, axis, batch_dims=batch_dims, name=name, ctx=_ctx)\n\u001b[1;32m   3814\u001b[0m     \u001b[0;32mexcept\u001b[0m \u001b[0m_core\u001b[0m\u001b[0;34m.\u001b[0m\u001b[0m_SymbolicException\u001b[0m\u001b[0;34m:\u001b[0m\u001b[0;34m\u001b[0m\u001b[0;34m\u001b[0m\u001b[0m\n",
      "\u001b[0;32m/opt/anaconda3/envs/fast-mcmc/lib/python3.8/site-packages/tensorflow/python/ops/gen_array_ops.py\u001b[0m in \u001b[0;36mgather_v2_eager_fallback\u001b[0;34m(params, indices, axis, batch_dims, name, ctx)\u001b[0m\n\u001b[1;32m   3846\u001b[0m   _attrs = (\"batch_dims\", batch_dims, \"Tparams\", _attr_Tparams, \"Tindices\",\n\u001b[1;32m   3847\u001b[0m   _attr_Tindices, \"Taxis\", _attr_Taxis)\n\u001b[0;32m-> 3848\u001b[0;31m   _result = _execute.execute(b\"GatherV2\", 1, inputs=_inputs_flat,\n\u001b[0m\u001b[1;32m   3849\u001b[0m                              attrs=_attrs, ctx=ctx, name=name)\n\u001b[1;32m   3850\u001b[0m   \u001b[0;32mif\u001b[0m \u001b[0m_execute\u001b[0m\u001b[0;34m.\u001b[0m\u001b[0mmust_record_gradient\u001b[0m\u001b[0;34m(\u001b[0m\u001b[0;34m)\u001b[0m\u001b[0;34m:\u001b[0m\u001b[0;34m\u001b[0m\u001b[0;34m\u001b[0m\u001b[0m\n",
      "\u001b[0;32m/opt/anaconda3/envs/fast-mcmc/lib/python3.8/site-packages/tensorflow/python/eager/execute.py\u001b[0m in \u001b[0;36mquick_execute\u001b[0;34m(op_name, num_outputs, inputs, attrs, ctx, name)\u001b[0m\n\u001b[1;32m     57\u001b[0m   \u001b[0;32mtry\u001b[0m\u001b[0;34m:\u001b[0m\u001b[0;34m\u001b[0m\u001b[0;34m\u001b[0m\u001b[0m\n\u001b[1;32m     58\u001b[0m     \u001b[0mctx\u001b[0m\u001b[0;34m.\u001b[0m\u001b[0mensure_initialized\u001b[0m\u001b[0;34m(\u001b[0m\u001b[0;34m)\u001b[0m\u001b[0;34m\u001b[0m\u001b[0;34m\u001b[0m\u001b[0m\n\u001b[0;32m---> 59\u001b[0;31m     tensors = pywrap_tfe.TFE_Py_Execute(ctx._handle, device_name, op_name,\n\u001b[0m\u001b[1;32m     60\u001b[0m                                         inputs, attrs, num_outputs)\n\u001b[1;32m     61\u001b[0m   \u001b[0;32mexcept\u001b[0m \u001b[0mcore\u001b[0m\u001b[0;34m.\u001b[0m\u001b[0m_NotOkStatusException\u001b[0m \u001b[0;32mas\u001b[0m \u001b[0me\u001b[0m\u001b[0;34m:\u001b[0m\u001b[0;34m\u001b[0m\u001b[0;34m\u001b[0m\u001b[0m\n",
      "\u001b[0;31mInvalidArgumentError\u001b[0m: indices[250,7] = 5 is not in [0, 5) [Op:GatherV2]"
     ]
    }
   ],
   "source": [
    "x_smc_init = tfd.Normal(loc=np.array(0.), scale=np.array(1.)).sample((T+1, nx))\n",
    "x_smc_final = smc(1, x_smc_init)"
   ]
  },
  {
   "cell_type": "markdown",
   "metadata": {},
   "source": [
    "# Hierarchical model"
   ]
  },
  {
   "cell_type": "code",
   "execution_count": 537,
   "metadata": {},
   "outputs": [],
   "source": [
    "def sample_y(nsamples, x_vec, eta):\n",
    "    y_vec = tfd.Normal(loc=x_vec[1:, :], scale=eta).sample(nsamples)\n",
    "    return y_vec\n",
    "\n",
    "def hierarchical_targets(y, mu0, sigma0, eta, tau):\n",
    "    \"\"\"\n",
    "        y: n_y x nchildren\n",
    "        x: nsamples x dim x nchildren\n",
    "    \"\"\"\n",
    "    def log_gamma_leaf(x):\n",
    "        log_lik = tfd.Normal(loc=x[:, :, 1:], scale=eta).log_prob(y)\n",
    "        log_lik = tf.reduce_sum(log_lik, axis=1, keepdims=True)\n",
    "        \n",
    "        x0 = x[:, :, 0][:, :, np.newaxis]\n",
    "        log_p = tfd.Normal(loc=mu0, scale=sigma0).log_prob(x0)\n",
    "        log_p += tfd.Normal(loc=x0, scale=tau).log_prob(x[:, :, 1:])\n",
    "        \n",
    "        res = tf.reduce_sum(log_p + log_lik, axis=-1, keepdims=True)\n",
    "        return res\n",
    "    \n",
    "    def log_gamma_root(x):\n",
    "        x0 = x[:, :, 0][:, :, np.newaxis]\n",
    "        log_p = tfd.Normal(loc=mu0, scale=sigma0).log_prob(x0)\n",
    "        return log_p\n",
    "    \n",
    "    return log_gamma_leaf, log_gamma_root\n",
    "    \n",
    "# def sample_x(nsamples, mu0, sigma0, tau):\n",
    "#     x_vec = np.zeros((nsapmles, 5))\n",
    "#     x_vec[:, 0] = tfd.Normal(loc=mu0, scale=sigma0).sample(nsamples)\n",
    "#     x_vec[:, 1:] = tfd.Normal(loc=x_vec[:, 0], scale=tau).sample((nsamples, x_vec.shape[1]-1))\n",
    "#     return x_vec\n"
   ]
  },
  {
   "cell_type": "code",
   "execution_count": 538,
   "metadata": {},
   "outputs": [],
   "source": [
    "class Proposal:\n",
    "    def __init__(self):\n",
    "        self.dist = tfd.Normal(np.zeros(1), np.ones(1))\n",
    "    def log_prob(self, mu_new, mu_curr):\n",
    "        return self.dist.log_prob(mu_new) # nsample x dim\n",
    "    def sample(self, size, mu_curr):\n",
    "        return self.dist.sample(size)[:, :, 0]"
   ]
  },
  {
   "cell_type": "code",
   "execution_count": 543,
   "metadata": {},
   "outputs": [],
   "source": [
    "# sample data\n",
    "tf.random.set_seed(0)\n",
    "\n",
    "sigma0 = np.ones((1, 1))\n",
    "eta = np.ones((1, 1))\n",
    "tau = np.ones((1, 1))\n",
    "\n",
    "nchildren = 4\n",
    "nsample = 100 # n_y\n",
    "x_vec = np.ones((1, 1, nchildren + 1))\n",
    "x_vec[:, :, 1:] = tf.reshape(\n",
    "    tfd.Normal(loc=x_vec[:, :, 0], scale=np.array(1.)).sample(nchildren),\n",
    "    (1, -1)\n",
    ")\n",
    "y_vec = tfd.Normal(loc=x_vec[:, :, 1:], scale=eta).sample(nsample)[:, 0, 0, :]\n",
    "assert y_vec.shape[-1] == nchildren, f\"shape of y_vec is wrong! Got {y_vec.shape}\"\n",
    "\n",
    "proposal = Proposal()\n",
    "log_gamma_leaf, log_gamma_root = hierarchical_targets(y_vec, mu0, sigma0, eta, tau)"
   ]
  },
  {
   "cell_type": "code",
   "execution_count": 546,
   "metadata": {},
   "outputs": [],
   "source": [
    "model = Model(log_gamma_root, proposal, 0)\n",
    "for i in range(nchildren):\n",
    "    model.build_child(log_gamma_leaf, proposal, i)"
   ]
  },
  {
   "cell_type": "code",
   "execution_count": null,
   "metadata": {},
   "outputs": [],
   "source": []
  },
  {
   "cell_type": "code",
   "execution_count": null,
   "metadata": {},
   "outputs": [],
   "source": []
  },
  {
   "cell_type": "code",
   "execution_count": null,
   "metadata": {},
   "outputs": [],
   "source": []
  }
 ],
 "metadata": {
  "kernelspec": {
   "display_name": "fast-mcmc",
   "language": "python",
   "name": "fast-mcmc"
  },
  "language_info": {
   "codemirror_mode": {
    "name": "ipython",
    "version": 3
   },
   "file_extension": ".py",
   "mimetype": "text/x-python",
   "name": "python",
   "nbconvert_exporter": "python",
   "pygments_lexer": "ipython3",
   "version": "3.8.8"
  }
 },
 "nbformat": 4,
 "nbformat_minor": 2
}
