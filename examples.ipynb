{
 "cells": [
  {
   "cell_type": "code",
   "execution_count": 51,
   "metadata": {},
   "outputs": [
    {
     "name": "stdout",
     "output_type": "stream",
     "text": [
      "The autoreload extension is already loaded. To reload it, use:\n",
      "  %reload_ext autoreload\n"
     ]
    }
   ],
   "source": [
    "%load_ext autoreload\n",
    "%autoreload 2\n",
    "\n",
    "import matplotlib.pyplot as plt\n",
    "import seaborn as sns\n",
    "import pandas as pd\n",
    "import numpy as np\n",
    "from scipy.stats import norm\n",
    "import multiprocessing\n",
    "\n",
    "import tensorflow as tf\n",
    "import tensorflow_probability as tfp\n",
    "tfd = tfp.distributions\n",
    "\n",
    "import sys\n",
    "sys.path.append(\".\")\n",
    "from src.dc_smc import dc_smc \n",
    "from src.model import Model, LinearGaussian, NonLinearGaussian\n",
    "from src.utils import resample, effective_sample_size"
   ]
  },
  {
   "cell_type": "markdown",
   "metadata": {},
   "source": [
    "# Linear Gaussian HMM"
   ]
  },
  {
   "cell_type": "code",
   "execution_count": 57,
   "metadata": {},
   "outputs": [],
   "source": [
    "# generate data\n",
    "nsamples = 50 # n_y\n",
    "T = 10\n",
    "tf.random.set_seed(0)\n",
    "\n",
    "# sigma0 = np.array([[1.]])\n",
    "sigma0 = np.array(1.)\n",
    "A = np.array([[0.8]])\n",
    "B = np.ones((1, 1))\n",
    "C = np.ones((1, 1))\n",
    "D = np.ones((1, 1))\n",
    "\n",
    "linear_hmm = LinearGaussian(sigma0, A, B, C, D)\n",
    "x_vec, y_vec = linear_hmm.sample(nsamples, T)"
   ]
  },
  {
   "cell_type": "code",
   "execution_count": 58,
   "metadata": {},
   "outputs": [
    {
     "name": "stdout",
     "output_type": "stream",
     "text": [
      "true x1: 2.2232272715607047 estimate: 2.0194198238800296\n",
      "true x2: 3.477558810809355 estimate: 3.394570652959467\n",
      "true x3: 1.6074973498178333 estimate: 1.8315214954282502\n",
      "true x4: 0.7157036784802129 estimate: 0.31924416522331583\n",
      "true x5: 1.921818385403494 estimate: 1.331434560057252\n",
      "true x6: 0.044118388399394526 estimate: 0.5539142400081464\n",
      "true x7: 0.678292810046603 estimate: 0.6610092158361197\n",
      "true x8: -0.6627111441898904 estimate: -0.59694124551972\n",
      "true x9: -2.064314985832259 estimate: -2.722512701259994\n",
      "true x10: -2.7020150856659293 estimate: -3.371547923705364\n"
     ]
    }
   ],
   "source": [
    "# SIS\n",
    "nx = 1000\n",
    "\n",
    "x_pos = np.zeros((T+1, nx))\n",
    "log_w = np.zeros_like(x_pos)\n",
    "x_pos_resampled = np.zeros_like(x_pos)\n",
    "\n",
    "# t=0\n",
    "proposal_init = tfd.Normal(loc=np.zeros(1), scale=np.ones(1))\n",
    "x_pos[0, :] = proposal_init.sample(nx)[:, 0]\n",
    "log_w[0, :] = linear_hmm.log_gamma(x_pos[:1, :], None) - proposal_init.log_prob(x_pos[0, :])\n",
    "x_pos_resampled[0, :] = resample(log_w[0, :], x_pos[0, :])\n",
    "\n",
    "# t>=1\n",
    "for t in range(T):\n",
    "    # proposal: N(x_{t-1}, 1)\n",
    "    proposal_t = tfd.Normal(loc=x_pos[t, :], scale=np.ones(1))\n",
    "    x_pos[t+1, :] = proposal_t.sample(1)\n",
    "    \n",
    "    alpha_t = linear_hmm.log_gamma(x_pos[:(t+2), :], y_vec[:(t+1), :]) - \\\n",
    "        linear_hmm.log_gamma(x_pos[:(t+1), :], y_vec[:t, :]) - \\\n",
    "        proposal_t.log_prob(x_pos[t+1, :])\n",
    "    log_w[t+1, :] = log_w[t, :] + alpha_t\n",
    "    \n",
    "    x_pos_resampled[t+1, :] = resample(log_w[t+1, :], x_pos[t+1, :])\n",
    "\n",
    "    print(\"true x{}: {} estimate: {}\".format(\n",
    "        t+1, \n",
    "        x_vec[t+1, 0], \n",
    "        tf.reduce_mean(x_pos_resampled[t+1, :]).numpy()\n",
    "    ))\n",
    "    "
   ]
  },
  {
   "cell_type": "code",
   "execution_count": 65,
   "metadata": {},
   "outputs": [
    {
     "name": "stdout",
     "output_type": "stream",
     "text": [
      "true x7: 0.678292810046603 estimate: 0.6610092158361197\n"
     ]
    },
    {
     "data": {
      "image/png": "[encoded data removed]",
      "text/plain": [
       "<Figure size 432x288 with 1 Axes>"
      ]
     },
     "metadata": {
      "needs_background": "light"
     },
     "output_type": "display_data"
    }
   ],
   "source": [
    "ind = 7\n",
    "\n",
    "x_true = x_vec[ind, 0]\n",
    "\n",
    "sns.histplot(x_pos_resampled[ind, :], stat=\"density\", color=\"r\", alpha=0.4, label=f\"final x{ind}\")\n",
    "sns.histplot(x_pos[ind, :], stat=\"density\", alpha=0.4, label=f\"init x{ind}\")\n",
    "ymax = plt.ylim()[1]\n",
    "plt.vlines(x_true, 0, ymax, color=\"orange\", label=\"true x\")\n",
    "plt.legend()\n",
    "\n",
    "print(\n",
    "    f\"true x{ind}:\", x_true,\n",
    "    \"estimate:\", tf.reduce_mean(x_pos_resampled[ind, :]).numpy()\n",
    ")"
   ]
  },
  {
   "cell_type": "markdown",
   "metadata": {},
   "source": [
    "## Update likelihood"
   ]
  },
  {
   "cell_type": "code",
   "execution_count": null,
   "metadata": {},
   "outputs": [],
   "source": []
  },
  {
   "cell_type": "code",
   "execution_count": null,
   "metadata": {},
   "outputs": [],
   "source": []
  },
  {
   "cell_type": "markdown",
   "metadata": {},
   "source": [
    "# Non-linear Gaussian HMM"
   ]
  },
  {
   "cell_type": "code",
   "execution_count": null,
   "metadata": {},
   "outputs": [],
   "source": [
    "# generate data\n",
    "tf.random.set_seed(0)\n",
    "nsample = 50\n",
    "T = 4\n",
    "\n",
    "sigma0 = np.array([[1.]])\n",
    "mu0 = np.zeros((1, 1))\n",
    "sigma_v = np.array([[np.sqrt(10)]])\n",
    "sigma_w = np.ones((1, 1))\n",
    "\n",
    "nonlinear_hmm = NonLinearGaussian(sigma0, mu0, sigma_v, sigma_w)\n",
    "x_vec, y_vec = nonlinear_hmm.sample(nsample, T)"
   ]
  },
  {
   "cell_type": "code",
   "execution_count": null,
   "metadata": {},
   "outputs": [],
   "source": [
    "# SIS\n",
    "nx = 1000\n",
    "\n",
    "x_pos = np.zeros((T+1, nx))\n",
    "log_w = np.zeros_like(x_pos)\n",
    "x_pos_resampled = np.zeros_like(x_pos)\n",
    "\n",
    "# t=0\n",
    "proposal_init = tfd.Normal(loc=np.zeros(1), scale=np.ones(1))\n",
    "x_pos[0, :] = proposal_init.sample(nx)[:, 0]\n",
    "log_w[0, :] = nonlinear_hmm.log_gamma(x_pos[:1, :], None) - proposal_init.log_prob(x_pos[0, :])\n",
    "x_pos_resampled[0, :] = resample(log_w[0, :], x_pos[0, :])\n",
    "\n",
    "# t>=1\n",
    "for t in range(T):\n",
    "    # proposal: N(x_{t-1}, 1)\n",
    "    proposal_t = tfd.Normal(loc=x_pos[t, :], scale=np.ones(1))\n",
    "    x_pos[t+1, :] = proposal_t.sample(1)\n",
    "    \n",
    "    alpha_t = nonlinear_hmm.log_gamma(x_pos[:(t+2), :], y_vec[:(t+1), :]) - \\\n",
    "        nonlinear_hmm.log_gamma(x_pos[:(t+1), :], y_vec[:t, :]) - \\\n",
    "        proposal_t.log_prob(x_pos[t+1, :])\n",
    "    log_w[t+1, :] = log_w[t, :] + alpha_t\n",
    "    \n",
    "    x_pos_resampled[t+1, :] = resample(log_w[t+1, :], x_pos[t+1, :])\n",
    "\n",
    "    print(\"true x{}: {} estimate: {}\".format(\n",
    "        t+1, \n",
    "        x_vec[t+1, 0], \n",
    "        tf.reduce_mean(x_pos_resampled[t+1, :]).numpy()\n",
    "    ))\n",
    "    "
   ]
  },
  {
   "cell_type": "code",
   "execution_count": null,
   "metadata": {},
   "outputs": [],
   "source": [
    "ind = 2\n",
    "\n",
    "x_true = x_vec[ind, 0]\n",
    "\n",
    "sns.histplot(x_pos_resampled[ind, :], stat=\"density\", color=\"r\", alpha=0.4, label=f\"final x{ind}\")\n",
    "sns.histplot(x_pos[ind, :], stat=\"density\", alpha=0.4, label=f\"init x{ind}\")\n",
    "ymax = plt.ylim()[1]\n",
    "plt.vlines(x_true, 0, ymax, color=\"orange\", label=\"true x\")\n",
    "plt.legend()\n",
    "\n",
    "print(\n",
    "    f\"true x{ind}:\", x_true,\n",
    "    \"estimate:\", tf.reduce_mean(x_pos_resampled[ind, :]).numpy()\n",
    ")"
   ]
  },
  {
   "cell_type": "markdown",
   "metadata": {},
   "source": [
    "## Compare with SMC"
   ]
  },
  {
   "cell_type": "code",
   "execution_count": null,
   "metadata": {},
   "outputs": [],
   "source": [
    "# need to change according to model!\n",
    "def logprior(x):\n",
    "    T = x.shape[0] - 1\n",
    "    log_p = tfd.Normal(loc=mu0, scale=sigma0).log_prob(x[0, :])\n",
    "#     print(\"here\", log_p.shape, x[0, :].shape, mu0.shape, sigma0.shape)\n",
    "    for i in range(1, T):\n",
    "        log_p += tfd.Normal(\n",
    "            loc=nonlinear_hmm._latent_mean(x[i-1, :], i), \n",
    "            scale=sigma_v\n",
    "        ).log_prob(x[i, :])\n",
    "        print(i, T)\n",
    "    log_p = tf.reshape(log_p, (-1, 1))\n",
    "    print(\"prior\", log_p.shape)\n",
    "    return log_p\n",
    "\n",
    "def loglik(x):\n",
    "    T = x.shape[0] - 1\n",
    "    log_lik = 0\n",
    "    for t in range(T):\n",
    "        log_lik += tfd.Normal(\n",
    "            loc=1/20 * x[t+1, :]**2, \n",
    "            scale=sigma_w\n",
    "        ).log_prob(y_vec[t, :].reshape(-1, 1))\n",
    "        print(t, T, x.shape)\n",
    "    log_lik = tf.reshape(tf.reduce_sum(log_lik, axis=0), (-1, 1))\n",
    "    print(\"finished\")\n",
    "    print(\"lik\", log_lik.shape)\n",
    "    return log_lik\n",
    "\n",
    "def smc(seed, samples_init):\n",
    "    return tfp.experimental.mcmc.sample_sequential_monte_carlo(\n",
    "        prior_log_prob_fn=logprior,\n",
    "        likelihood_log_prob_fn=loglik,\n",
    "        current_state=samples_init,\n",
    "        seed=seed)[1]"
   ]
  },
  {
   "cell_type": "code",
   "execution_count": null,
   "metadata": {},
   "outputs": [],
   "source": [
    "x_smc_init = tfd.Normal(loc=np.array(0.), scale=np.array(1.)).sample((T+1, nx))\n",
    "x_smc_final = smc(1, x_smc_init)"
   ]
  },
  {
   "cell_type": "markdown",
   "metadata": {},
   "source": [
    "# Hierarchical model"
   ]
  },
  {
   "cell_type": "code",
   "execution_count": null,
   "metadata": {},
   "outputs": [],
   "source": [
    "def sample_y(nsamples, x_vec, eta):\n",
    "    y_vec = tfd.Normal(loc=x_vec[1:, :], scale=eta).sample(nsamples)\n",
    "    return y_vec\n",
    "\n",
    "def hierarchical_targets(y, mu0, sigma0, eta, tau):\n",
    "    \"\"\"\n",
    "        y: n_y x nchildren\n",
    "        x: nsamples x dim x nchildren\n",
    "    \"\"\"\n",
    "    def log_gamma_leaf(x):\n",
    "        log_lik = tfd.Normal(loc=x[:, :, 1:], scale=eta).log_prob(y)\n",
    "        log_lik = tf.reduce_sum(log_lik, axis=1, keepdims=True)\n",
    "        \n",
    "        x0 = x[:, :, 0][:, :, np.newaxis]\n",
    "        log_p = tfd.Normal(loc=mu0, scale=sigma0).log_prob(x0)\n",
    "        log_p += tfd.Normal(loc=x0, scale=tau).log_prob(x[:, :, 1:])\n",
    "        \n",
    "        res = tf.reduce_sum(log_p + log_lik, axis=-1, keepdims=True)\n",
    "        return res\n",
    "    \n",
    "    def log_gamma_root(x):\n",
    "        x0 = x[:, :, 0][:, :, np.newaxis]\n",
    "        log_p = tfd.Normal(loc=mu0, scale=sigma0).log_prob(x0)\n",
    "        return log_p\n",
    "    \n",
    "    return log_gamma_leaf, log_gamma_root\n",
    "    \n",
    "# def sample_x(nsamples, mu0, sigma0, tau):\n",
    "#     x_vec = np.zeros((nsapmles, 5))\n",
    "#     x_vec[:, 0] = tfd.Normal(loc=mu0, scale=sigma0).sample(nsamples)\n",
    "#     x_vec[:, 1:] = tfd.Normal(loc=x_vec[:, 0], scale=tau).sample((nsamples, x_vec.shape[1]-1))\n",
    "#     return x_vec\n"
   ]
  },
  {
   "cell_type": "code",
   "execution_count": null,
   "metadata": {},
   "outputs": [],
   "source": [
    "class Proposal:\n",
    "    def __init__(self):\n",
    "        self.dist = tfd.Normal(np.zeros(1), np.ones(1))\n",
    "    def log_prob(self, mu_new, mu_curr):\n",
    "        log_p = self.dist.log_prob(mu_new) # nsample x dim\n",
    "        return tf.reduce_sum(log_p, axis=-1, keepdims=True)\n",
    "    def sample(self, size, mu_curr):\n",
    "        return self.dist.sample(size)[:, :, :, 0]"
   ]
  },
  {
   "cell_type": "code",
   "execution_count": null,
   "metadata": {},
   "outputs": [],
   "source": [
    "# sample data\n",
    "tf.random.set_seed(0)\n",
    "\n",
    "sigma0 = np.ones((1, 1))\n",
    "eta = np.ones((1, 1))\n",
    "tau = np.ones((1, 1))\n",
    "\n",
    "nchildren = 4\n",
    "nsample = 500 # n_y\n",
    "nx = 1000 \n",
    "\n",
    "x_vec = np.ones((1, 1, nchildren + 1))\n",
    "x_vec[:, :, 1:] = tf.reshape(\n",
    "    tfd.Normal(loc=x_vec[:, :, 0], scale=np.array(1.)).sample(nchildren),\n",
    "    (1, -1)\n",
    ")\n",
    "y_vec = tfd.Normal(loc=x_vec[:, :, 1:], scale=eta).sample(nsample)[:, 0, 0, :]\n",
    "assert y_vec.shape[-1] == nchildren, f\"shape of y_vec is wrong! Got {y_vec.shape}\"\n",
    "\n",
    "proposal = Proposal()\n",
    "log_gamma_leaf, log_gamma_root = hierarchical_targets(y_vec, mu0, sigma0, eta, tau)"
   ]
  },
  {
   "cell_type": "code",
   "execution_count": null,
   "metadata": {},
   "outputs": [],
   "source": [
    "# model = Model(log_gamma_root, proposal, 0)\n",
    "# for i in range(nchildren):\n",
    "#     model.build_child(log_gamma_leaf, proposal, i)"
   ]
  },
  {
   "cell_type": "code",
   "execution_count": null,
   "metadata": {},
   "outputs": [],
   "source": [
    "# draw from proposal\n",
    "x_pos = proposal.sample((nx, 1, nchildren + 1), None)\n",
    "# compute IS weights\n",
    "log_w = log_gamma_leaf(x_pos) - proposal.log_prob(x_pos, None)\n",
    "# resample (for plotting)\n",
    "x_pos_resampled = resample(log_w, x_pos)"
   ]
  },
  {
   "cell_type": "code",
   "execution_count": null,
   "metadata": {
    "scrolled": true
   },
   "outputs": [],
   "source": [
    "sns.histplot(log_w[:, 0, 0])"
   ]
  },
  {
   "cell_type": "code",
   "execution_count": null,
   "metadata": {},
   "outputs": [],
   "source": [
    "ind = 3\n",
    "\n",
    "x_true = x_vec[0, :, ind]\n",
    "\n",
    "sns.histplot(x_pos_resampled[:, 0, ind], stat=\"density\", color=\"r\", alpha=0.4, label=f\"final x{ind}\")\n",
    "sns.histplot(x_pos[:, 0, ind], stat=\"density\", alpha=0.4, label=f\"init x{ind}\")\n",
    "ymax = plt.ylim()[1]\n",
    "plt.vlines(x_true, 0, ymax, color=\"orange\", label=\"true x\")\n",
    "plt.legend()\n",
    "\n",
    "print(\n",
    "    f\"true x{ind}:\", x_true,\n",
    "    \"estimate:\", tf.reduce_mean(x_pos_resampled[ind, :]).numpy()\n",
    ")"
   ]
  },
  {
   "cell_type": "markdown",
   "metadata": {},
   "source": [
    "## Change likelihood"
   ]
  },
  {
   "cell_type": "code",
   "execution_count": null,
   "metadata": {},
   "outputs": [],
   "source": [
    "def hierarchical_targets_new(y, mu0, sigma0, eta, tau):\n",
    "    \"\"\"\n",
    "        y: n_y x nchildren\n",
    "        x: nsamples x dim x nchildren\n",
    "    \"\"\"\n",
    "    def log_gamma_leaf(x):\n",
    "        log_lik = tfd.Normal(loc=x[:, :, 2:], scale=eta).log_prob(y[:, 1:])\n",
    "        log_lik1 = tfd.Normal(loc=x[:, :, 1:2], scale=eta*2).log_prob(y[:, :1])\n",
    "        log_lik = tf.concat([log_lik1, log_lik], axis=-1)\n",
    "        log_lik = tf.reduce_sum(log_lik, axis=1, keepdims=True)\n",
    "        \n",
    "        x0 = x[:, :, 0][:, :, np.newaxis]\n",
    "        log_p = tfd.Normal(loc=mu0, scale=sigma0).log_prob(x0)\n",
    "        log_p += tfd.Normal(loc=x0, scale=tau).log_prob(x[:, :, 1:])\n",
    "        \n",
    "        res = tf.reduce_sum(log_p + log_lik, axis=-1, keepdims=True)\n",
    "        return res\n",
    "    \n",
    "    def log_gamma_root(x):\n",
    "        x0 = x[:, :, 0][:, :, np.newaxis]\n",
    "        log_p = tfd.Normal(loc=mu0, scale=sigma0).log_prob(x0)\n",
    "        return log_p\n",
    "    \n",
    "    return log_gamma_leaf, log_gamma_root"
   ]
  },
  {
   "cell_type": "code",
   "execution_count": null,
   "metadata": {},
   "outputs": [],
   "source": [
    "proposal = Proposal()\n",
    "log_gamma_leaf_new, log_gamma_root_new = hierarchical_targets_new(y_vec, mu0, sigma0, eta, tau)"
   ]
  },
  {
   "cell_type": "code",
   "execution_count": null,
   "metadata": {},
   "outputs": [],
   "source": [
    "# start from previous step\n",
    "x_pos_new = x_pos_resampled\n",
    "# compute IS weights\n",
    "log_w_new = log_gamma_leaf_new(x_pos_new) - log_gamma_leaf(x_pos_new)\n",
    "# resample (for plotting)\n",
    "x_pos_resampled_new = resample(log_w_new, x_pos_new)"
   ]
  },
  {
   "cell_type": "code",
   "execution_count": null,
   "metadata": {},
   "outputs": [],
   "source": [
    "ind = 1\n",
    "\n",
    "x_true = x_vec[0, :, ind]\n",
    "\n",
    "sns.histplot(x_pos_resampled_new[:, 0, ind], stat=\"density\", color=\"r\", alpha=0.4, label=f\"final x{ind}\")\n",
    "sns.histplot(x_pos_new[:, 0, ind], stat=\"density\", alpha=0.4, label=f\"init x{ind}\")\n",
    "ymax = plt.ylim()[1]\n",
    "plt.vlines(x_true, 0, ymax, color=\"orange\", label=\"true x\")\n",
    "plt.legend()\n",
    "\n",
    "print(\n",
    "    f\"true x{ind}:\", x_true,\n",
    "    \"estimate:\", tf.reduce_mean(x_pos_resampled[ind, :]).numpy()\n",
    ")"
   ]
  },
  {
   "cell_type": "markdown",
   "metadata": {},
   "source": [
    "# Tempering"
   ]
  },
  {
   "cell_type": "markdown",
   "metadata": {},
   "source": [
    "1D Normal model: \n",
    "\n",
    "Prior: $x \\sim N(\\mu_0, \\sigma_0^2)$\n",
    "\n",
    "$y | x \\sim N(x, 1)$"
   ]
  },
  {
   "cell_type": "code",
   "execution_count": 296,
   "metadata": {},
   "outputs": [],
   "source": [
    "# define log_prob for the unnormalized posterior\n",
    "def log_prior(x):\n",
    "    p = tfd.Normal(mu0, sigma0)\n",
    "    return p.log_prob(x)\n",
    "\n",
    "def sample_prior(size):\n",
    "    \"\"\"\n",
    "    Output: size x 1\n",
    "    \"\"\"\n",
    "    p = tfd.Normal(mu0, sigma0)\n",
    "    return p.sample(size)[:, :, 0]\n",
    "\n",
    "def log_pos(x, y, sigma, log_prior):\n",
    "    '''\n",
    "    Args:\n",
    "        mu: 1 x nsamples\n",
    "        y: ndata\n",
    "    Output:\n",
    "        log_prob: 1 x nsamples\n",
    "    '''\n",
    "    rv_data = tfd.Normal(x, sigma)\n",
    "    return tf.reduce_sum(rv_data.log_prob(y), axis=0) + log_prior(x)\n",
    "\n",
    "def true_log_pos(x, y, sigma, mu0, sigma0):\n",
    "    '''True posterior density\n",
    "    '''\n",
    "    true_pos_var = (1 / sigma0**2 + y.shape[0] / sigma**2)**(-1)\n",
    "    true_pos_mean = true_pos_var * (mu0 / sigma0**2 + np.sum(y) / sigma**2)\n",
    "    pos = tfd.Normal(loc=true_pos_mean, scale=np.sqrt(true_pos_var))\n",
    "    return pos.log_prob(x)\n",
    "\n",
    "def tempered_den_wrapper(kappa, log_prior, log_pos):\n",
    "    def den(x):\n",
    "#         return (1 - kappa) * log_prior(x) + kappa * log_pos(x)\n",
    "        return kappa * log_pos(x)\n",
    "    return den\n",
    "\n",
    "class Proposal:\n",
    "    def __init__(self):\n",
    "        pass\n",
    "    def log_prob(self, mu_new, mu_curr):\n",
    "        self.dist = tfd.Normal(mu_curr, np.ones(1))\n",
    "        log_p = self.dist.log_prob(mu_new) # nsample x dim\n",
    "        return tf.reduce_sum(log_p, axis=-1, keepdims=True)\n",
    "    def sample(self, mu_curr):\n",
    "        self.dist = tfd.Normal(mu_curr, np.ones(1))\n",
    "        return self.dist.sample(1)[0, :, :] # nsample x dim"
   ]
  },
  {
   "cell_type": "code",
   "execution_count": 297,
   "metadata": {},
   "outputs": [],
   "source": [
    "tf.random.set_seed(0)\n",
    "\n",
    "mu0 = np.array([[0.]])\n",
    "sigma0 = np.array([[1.]])\n",
    "sigma = np.array([[1.]])\n",
    "nobs = 10\n",
    "nsamples = 1000\n",
    "\n",
    "x_true = np.array([[3.]])\n",
    "\n",
    "y_vec = tfd.Normal(x_true, sigma).sample(nobs)"
   ]
  },
  {
   "cell_type": "code",
   "execution_count": 298,
   "metadata": {},
   "outputs": [
    {
     "data": {
      "image/png": "[encoded data removed]",
      "text/plain": [
       "<Figure size 1008x720 with 6 Axes>"
      ]
     },
     "metadata": {
      "needs_background": "light"
     },
     "output_type": "display_data"
    }
   ],
   "source": [
    "## plot annealed densities\n",
    "\n",
    "kappa_list = np.exp([-16, -8, -4, -2, -1, 0])\n",
    "x_plot = np.linspace(-10., 20., 1000).reshape((-1, 1))\n",
    "\n",
    "# use true posterior for plotting\n",
    "log_pos_dummy = lambda x: true_log_pos(x, y_vec, sigma, mu0, sigma0)\n",
    "\n",
    "fig = plt.figure(figsize=(14, 10))\n",
    "for i, kappa in enumerate(kappa_list):\n",
    "    plt.subplot(2, 3, i+1)\n",
    "    tempered_den = tempered_den_wrapper(kappa, log_prior, log_pos_dummy)\n",
    "    plt.plot(x_plot, np.exp(tempered_den(x_plot)), label=f\"kappa={np.round(kappa, 3)}\")\n",
    "    plt.xlim(-10, 20)\n",
    "    plt.legend()"
   ]
  },
  {
   "cell_type": "code",
   "execution_count": 299,
   "metadata": {},
   "outputs": [],
   "source": [
    "# importance sampling\n",
    "def importance_sampling(kappa_list, init_samples, log_prior, log_pos_dummy, proposal):\n",
    "    # set list to store particles\n",
    "    x_proposal_list = [0] * len(kappa_list)\n",
    "    x_resampled_list = [0] * len(kappa_list)\n",
    "    log_w_list = [0] * len(kappa_list)\n",
    "\n",
    "    for i, kappa in enumerate(kappa_list):\n",
    "        # draw from proposal\n",
    "        if i == 0:\n",
    "            x_proposal = init_samples\n",
    "            log_den_before = log_prior\n",
    "        else:\n",
    "#             x_proposal = proposal.sample(x_resampled)\n",
    "#             log_den_before = lambda x: proposal.log_prob(x, x_resampled)\n",
    "            x_proposal = x_resampled\n",
    "            log_den_before = tempered_den\n",
    "        \n",
    "        # initialize tempered density\n",
    "        tempered_den = tempered_den_wrapper(kappa, log_prior, log_pos_dummy)\n",
    "\n",
    "        # compute IS weights\n",
    "        log_w = tempered_den(x_proposal) - log_den_before(x_proposal)\n",
    "\n",
    "        # resample\n",
    "        x_resampled = resample(log_w, x_proposal)\n",
    "\n",
    "        # store particles and weights\n",
    "        x_proposal_list[i] = x_proposal\n",
    "        x_resampled_list[i] = x_resampled\n",
    "        log_w_list[i] = log_w\n",
    "    return x_proposal_list, x_resampled_list, log_w_list\n",
    "\n",
    "\n",
    "def plot_IS_results(kappa_list, x_resampled_list, x_proposal_list, x_true):\n",
    "    fig = plt.figure(figsize=(14, 10))\n",
    "\n",
    "    for i, kappa in enumerate(kappa_list):\n",
    "        x_resampled = x_resampled_list[i]\n",
    "        x_proposal = x_proposal_list[i]\n",
    "\n",
    "        plt.subplot(2, 3, i+1)\n",
    "        sns.histplot(x_resampled[:, 0], stat=\"density\", color=\"r\", alpha=0.4, label=\"final x\")\n",
    "        sns.histplot(x_proposal[:, 0], stat=\"density\", alpha=0.4, label=\"init x\")\n",
    "        ymax = plt.ylim()[1]\n",
    "        plt.vlines(x_true, 0, ymax, color=\"orange\", label=\"true x\")\n",
    "        plt.legend()\n",
    "        plt.title(f\"kappa = {np.round(kappa, 3)}\")\n",
    "        \n",
    "        print(\"kappa: {:.4f}, true: {:.4f}, estimate: {:.4f}, MSE: {:.4f}\".format(\n",
    "            kappa,\n",
    "            x_true[0, 0],\n",
    "            tf.reduce_mean(x_resampled).numpy(),\n",
    "            (tf.reduce_mean(x_resampled).numpy() - x_true[0, 0])**2\n",
    "        ))"
   ]
  },
  {
   "cell_type": "code",
   "execution_count": 300,
   "metadata": {},
   "outputs": [],
   "source": [
    "## do IS for posterior\n",
    "\n",
    "# initialize target density\n",
    "log_pos_dummy = lambda x: log_pos(x, y_vec, sigma, log_prior)\n",
    "\n",
    "# # set proposal\n",
    "# proposal = Proposal()\n",
    "proposal = None\n",
    "\n",
    "# draw initial sample\n",
    "x_init = sample_prior(nsamples)\n",
    "\n",
    "# set annealing temperature\n",
    "kappa_list = np.exp([-8, -4, -2, -1, 0])\n",
    "# kappa_list = np.exp([0] * 1)\n",
    "\n",
    "x_proposal_list, x_resampled_list, log_w_list = importance_sampling(\n",
    "    kappa_list, x_init, log_prior, log_pos_dummy, proposal)"
   ]
  },
  {
   "cell_type": "code",
   "execution_count": 301,
   "metadata": {},
   "outputs": [
    {
     "name": "stdout",
     "output_type": "stream",
     "text": [
      "kappa: 0.0003, true: 3.0000, estimate: 0.4258, MSE: 6.6266\n",
      "kappa: 0.0183, true: 3.0000, estimate: 1.8556, MSE: 1.3097\n",
      "kappa: 0.1353, true: 3.0000, estimate: 2.6285, MSE: 0.1380\n",
      "kappa: 0.3679, true: 3.0000, estimate: 2.6063, MSE: 0.1550\n",
      "kappa: 1.0000, true: 3.0000, estimate: 2.5866, MSE: 0.1709\n"
     ]
    },
    {
     "data": {
      "image/png": "[encoded data removed]",
      "text/plain": [
       "<Figure size 1008x720 with 5 Axes>"
      ]
     },
     "metadata": {
      "needs_background": "light"
     },
     "output_type": "display_data"
    }
   ],
   "source": [
    "plot_IS_results(kappa_list, x_resampled_list, x_proposal_list, x_true)"
   ]
  },
  {
   "cell_type": "code",
   "execution_count": 302,
   "metadata": {},
   "outputs": [
    {
     "data": {
      "text/plain": [
       "Text(0.5, 1.0, 'effective sample size vs. kappa')"
      ]
     },
     "execution_count": 302,
     "metadata": {},
     "output_type": "execute_result"
    },
    {
     "data": {
      "image/png": "[encoded data removed]",
      "text/plain": [
       "<Figure size 432x288 with 1 Axes>"
      ]
     },
     "metadata": {
      "needs_background": "light"
     },
     "output_type": "display_data"
    }
   ],
   "source": [
    "# calculate ESS\n",
    "ess_list = [\n",
    "    effective_sample_size(w) for w in log_w_list\n",
    "]\n",
    "plt.scatter(kappa_list, ess_list)\n",
    "plt.title(\"effective sample size vs. kappa\")"
   ]
  },
  {
   "cell_type": "markdown",
   "metadata": {},
   "source": [
    "## Inclusion of additional data"
   ]
  },
  {
   "cell_type": "code",
   "execution_count": 303,
   "metadata": {},
   "outputs": [],
   "source": [
    "# draw more samples\n",
    "y_vec_new = tf.concat(\n",
    "    [y_vec, tfd.Normal(x_true, sigma).sample(nobs)],\n",
    "    axis=0)\n",
    "\n",
    "# initialize new target density\n",
    "log_pos_dummy_new = lambda x: log_pos(x, y_vec_new, sigma, log_prior)\n",
    "\n",
    "# set proposal \n",
    "proposal = None\n",
    "\n",
    "# tempering scheme for new target\n",
    "kappa_list_new = np.exp([0] * 1)"
   ]
  },
  {
   "cell_type": "code",
   "execution_count": 304,
   "metadata": {},
   "outputs": [
    {
     "name": "stdout",
     "output_type": "stream",
     "text": [
      "kappa: 1.0000, true: 3.0000, estimate: 2.7070, MSE: 0.0858\n",
      "kappa: 1.0000, true: 3.0000, estimate: 2.7088, MSE: 0.0848\n"
     ]
    },
    {
     "data": {
      "image/png": "[encoded data removed]",
      "text/plain": [
       "<Figure size 1008x720 with 1 Axes>"
      ]
     },
     "metadata": {
      "needs_background": "light"
     },
     "output_type": "display_data"
    },
    {
     "data": {
      "image/png": "[encoded data removed]",
      "text/plain": [
       "<Figure size 1008x720 with 1 Axes>"
      ]
     },
     "metadata": {
      "needs_background": "light"
     },
     "output_type": "display_data"
    }
   ],
   "source": [
    "## do IS for tempered density\n",
    "starting_kappas = [len(kappa_list) - 1, 3]\n",
    "    \n",
    "for ind in starting_kappas:\n",
    "    # set new starting density (i.e. target of previous step)\n",
    "    log_p_init_new = tempered_den_wrapper(\n",
    "        kappa_list[ind], log_prior, log_pos_dummy)\n",
    "\n",
    "    # set initial samples as samples from target of previous step\n",
    "    x_init = x_resampled_list[ind]\n",
    "\n",
    "    x_proposal_list_new, x_resampled_list_new, log_w_list_new = importance_sampling(\n",
    "        kappa_list_new, x_init, log_p_init_new, log_pos_dummy_new, proposal)\n",
    "\n",
    "    plot_IS_results(kappa_list_new, x_resampled_list_new, x_proposal_list_new, x_true)\n",
    "    plt.title(\"starting from kappa = {:.2f}\".format(kappa_list[ind]))"
   ]
  },
  {
   "cell_type": "markdown",
   "metadata": {},
   "source": [
    "## Change in x_true"
   ]
  },
  {
   "cell_type": "code",
   "execution_count": 305,
   "metadata": {},
   "outputs": [],
   "source": [
    "# assume there is a change in x_true\n",
    "x_true_new = np.array([[-2.]])\n",
    "\n",
    "y_vec_new = tfd.Normal(x_true_new, sigma).sample(nobs)\n",
    "\n",
    "# initialize new target density\n",
    "log_pos_dummy_new = lambda x: log_pos(x, y_vec_new, sigma, log_prior)\n",
    "\n",
    "# tempering scheme for new target\n",
    "kappa_list_new = np.exp([0] * 1)\n",
    "\n",
    "# set proposal \n",
    "proposal = None"
   ]
  },
  {
   "cell_type": "code",
   "execution_count": 306,
   "metadata": {},
   "outputs": [
    {
     "name": "stdout",
     "output_type": "stream",
     "text": [
      "kappa: 1.0000, true: -2.0000, estimate: 1.6631, MSE: 13.4184\n",
      "kappa: 1.0000, true: -2.0000, estimate: 1.1161, MSE: 9.7102\n"
     ]
    },
    {
     "data": {
      "image/png": "[encoded data removed]",
      "text/plain": [
       "<Figure size 1008x720 with 1 Axes>"
      ]
     },
     "metadata": {
      "needs_background": "light"
     },
     "output_type": "display_data"
    },
    {
     "data": {
      "image/png": "[encoded data removed]",
      "text/plain": [
       "<Figure size 1008x720 with 1 Axes>"
      ]
     },
     "metadata": {
      "needs_background": "light"
     },
     "output_type": "display_data"
    }
   ],
   "source": [
    "## do IS for tempered density\n",
    "\n",
    "starting_kappas = [len(kappa_list) - 1, 3]\n",
    "\n",
    "for ind in starting_kappas:\n",
    "    # set new starting density (i.e. target of previous step)\n",
    "    log_p_init_new = tempered_den_wrapper(\n",
    "        kappa_list[ind], log_prior, log_pos_dummy)\n",
    "\n",
    "    # set initial samples as samples from target of previous step\n",
    "    x_init = x_resampled_list[ind]\n",
    "\n",
    "    x_proposal_list_new, x_resampled_list_new, log_w_list_new = importance_sampling(\n",
    "        kappa_list_new, x_init, log_p_init_new, log_pos_dummy_new, proposal)\n",
    "\n",
    "    plot_IS_results(kappa_list_new, x_resampled_list_new, x_proposal_list_new, x_true_new)\n",
    "    plt.title(\"starting from kappa = {:.2f}\".format(kappa_list[ind]))"
   ]
  },
  {
   "cell_type": "markdown",
   "metadata": {},
   "source": [
    "## Change in prior"
   ]
  },
  {
   "cell_type": "code",
   "execution_count": 307,
   "metadata": {},
   "outputs": [],
   "source": [
    "# sigma0_new = sigma0 * 0.5\n",
    "sigma0_new = sigma0 * 10\n",
    "\n",
    "def log_prior_new(x):\n",
    "    p = tfd.Normal(mu0, sigma0_new)\n",
    "    return p.log_prob(x)\n",
    "\n",
    "# set target density\n",
    "log_pos_dummy = lambda x: log_pos(x, y_vec, sigma, log_prior_new)\n",
    "\n",
    "# set proposal\n",
    "# proposal = Proposal()\n",
    "proposal = None\n",
    "\n",
    "# set annealing temperature\n",
    "# kappa_list = np.exp([-2,  -0.1, -0.01, 0])\n",
    "kappa_list_new = np.exp([0] * 1)"
   ]
  },
  {
   "cell_type": "code",
   "execution_count": 308,
   "metadata": {},
   "outputs": [
    {
     "name": "stdout",
     "output_type": "stream",
     "text": [
      "kappa: 1.0000, true: 3.0000, estimate: 2.5878, MSE: 0.1699\n",
      "kappa: 1.0000, true: 3.0000, estimate: 2.7046, MSE: 0.0873\n"
     ]
    },
    {
     "data": {
      "image/png": "[encoded data removed]",
      "text/plain": [
       "<Figure size 1008x720 with 1 Axes>"
      ]
     },
     "metadata": {
      "needs_background": "light"
     },
     "output_type": "display_data"
    },
    {
     "data": {
      "image/png": "[encoded data removed]",
      "text/plain": [
       "<Figure size 1008x720 with 1 Axes>"
      ]
     },
     "metadata": {
      "needs_background": "light"
     },
     "output_type": "display_data"
    }
   ],
   "source": [
    "## do IS for posterior\n",
    "\n",
    "starting_kappas = [len(kappa_list) - 1, 3]\n",
    "\n",
    "for ind in starting_kappas:\n",
    "    # set new prior (i.e. target of previous step)\n",
    "    log_p_init_new = tempered_den_wrapper(\n",
    "        kappa_list[ind], log_prior, log_pos_dummy)\n",
    "\n",
    "    # set initial samples as samples from target of previous step\n",
    "    x_init = x_resampled_list[ind]\n",
    "\n",
    "    x_proposal_list_new, x_resampled_list_new, log_w_list_new = importance_sampling(\n",
    "        kappa_list_new, x_init, log_p_init_new, log_pos_dummy, proposal)\n",
    "\n",
    "    # plot results\n",
    "    plot_IS_results(kappa_list_new, x_resampled_list_new, x_proposal_list_new, x_true)\n",
    "    plt.title(\"starting from kappa = {:.2f}\".format(kappa_list[ind]))"
   ]
  },
  {
   "cell_type": "markdown",
   "metadata": {},
   "source": [
    "## Change in data generating process"
   ]
  },
  {
   "cell_type": "code",
   "execution_count": 313,
   "metadata": {},
   "outputs": [],
   "source": [
    "# set new likelihood param\n",
    "sigma_new = sigma * 0.5\n",
    "# sigma_new = sigma * 2\n",
    "\n",
    "y_vec_new = tfd.Normal(x_true, sigma_new).sample(nobs)\n",
    "\n",
    "# set target density\n",
    "log_pos_dummy = lambda x: log_pos(x, y_vec_new, sigma_new, log_prior_new)\n",
    "\n",
    "# set proposal\n",
    "# proposal = Proposal()\n",
    "proposal = None\n",
    "\n",
    "# set annealing temperature\n",
    "# kappa_list = np.exp([-2,  -0.1, -0.01, 0])\n",
    "kappa_list_new = np.exp([0] * 1)"
   ]
  },
  {
   "cell_type": "code",
   "execution_count": 314,
   "metadata": {},
   "outputs": [
    {
     "name": "stdout",
     "output_type": "stream",
     "text": [
      "kappa: 1.0000, true: 3.0000, estimate: 2.5828, MSE: 0.1741\n",
      "kappa: 1.0000, true: 3.0000, estimate: 2.5932, MSE: 0.1655\n"
     ]
    },
    {
     "data": {
      "image/png": "[encoded data removed]",
      "text/plain": [
       "<Figure size 1008x720 with 1 Axes>"
      ]
     },
     "metadata": {
      "needs_background": "light"
     },
     "output_type": "display_data"
    },
    {
     "data": {
      "image/png": "[encoded data removed]",
      "text/plain": [
       "<Figure size 1008x720 with 1 Axes>"
      ]
     },
     "metadata": {
      "needs_background": "light"
     },
     "output_type": "display_data"
    }
   ],
   "source": [
    "## do IS for posterior\n",
    "starting_kappas = [len(kappa_list) - 1, 3]\n",
    "\n",
    "for ind in starting_kappas:\n",
    "    # set new prior (i.e. target of previous step)\n",
    "    log_p_init_new = tempered_den_wrapper(\n",
    "        kappa_list[ind], log_prior, log_pos_dummy)\n",
    "\n",
    "    # set initial samples as samples from target of previous step\n",
    "    x_init = x_resampled_list[ind]\n",
    "\n",
    "    x_proposal_list_new, x_resampled_list_new, log_w_list_new = importance_sampling(\n",
    "        kappa_list_new, x_init, log_p_init_new, log_pos_dummy, proposal)\n",
    "\n",
    "    # plot results\n",
    "    plot_IS_results(kappa_list_new, x_resampled_list_new, x_proposal_list_new, x_true)"
   ]
  },
  {
   "cell_type": "code",
   "execution_count": null,
   "metadata": {},
   "outputs": [],
   "source": []
  },
  {
   "cell_type": "code",
   "execution_count": null,
   "metadata": {},
   "outputs": [],
   "source": []
  },
  {
   "cell_type": "code",
   "execution_count": null,
   "metadata": {},
   "outputs": [],
   "source": []
  }
 ],
 "metadata": {
  "kernelspec": {
   "display_name": "fast-mcmc",
   "language": "python",
   "name": "fast-mcmc"
  },
  "language_info": {
   "codemirror_mode": {
    "name": "ipython",
    "version": 3
   },
   "file_extension": ".py",
   "mimetype": "text/x-python",
   "name": "python",
   "nbconvert_exporter": "python",
   "pygments_lexer": "ipython3",
   "version": "3.8.8"
  }
 },
 "nbformat": 4,
 "nbformat_minor": 2
}
