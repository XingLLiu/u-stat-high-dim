{
 "cells": [
  {
   "cell_type": "code",
   "execution_count": 1,
   "metadata": {},
   "outputs": [],
   "source": [
    "%load_ext autoreload\n",
    "%autoreload 2\n",
    "\n",
    "import matplotlib.pyplot as plt\n",
    "import seaborn as sns\n",
    "import pandas as pd\n",
    "import numpy as np\n",
    "from scipy.stats import norm\n",
    "import multiprocessing\n",
    "\n",
    "import tensorflow as tf\n",
    "import tensorflow_probability as tfp\n",
    "tfd = tfp.distributions\n",
    "\n",
    "import sys\n",
    "sys.path.append(\".\")\n",
    "from src.dc_smc import dc_smc \n",
    "from src.model import Model\n",
    "from src.utils import resample"
   ]
  },
  {
   "cell_type": "markdown",
   "metadata": {},
   "source": [
    "# Linear Gaussian HMM"
   ]
  },
  {
   "cell_type": "code",
   "execution_count": 165,
   "metadata": {},
   "outputs": [],
   "source": [
    "#! matrix multiplication is wrong!\n",
    "class LinearGaussian:\n",
    "    def __init__(self, sigma0, A, B, C, D):\n",
    "        self.sigma0 = sigma0\n",
    "        self.mu0 = np.array(0.)\n",
    "        self.A = A\n",
    "        self.B = B\n",
    "        self.C = C\n",
    "        self.D = D\n",
    "    def sample(self, nsamples, T):\n",
    "        \"\"\"sample x_i for i=1:(n+1) and y_i for i=1:n\n",
    "        \"\"\"\n",
    "        x_vec = np.zeros((T+1, 1))\n",
    "        y_vec = np.zeros((T, nsamples))\n",
    "        \n",
    "        # sample x0 from prior\n",
    "        x_vec[0, :] = tfd.Normal(loc=self.mu0, scale=self.sigma0).sample(1)\n",
    "        # sample iteratively\n",
    "        for i in range(T):\n",
    "            x_new, y_new = self.sample_once(x_vec[i, :], nsamples, i)\n",
    "            x_vec[i+1, :] = x_new\n",
    "            y_vec[i, :] = y_new\n",
    "        \n",
    "        return x_vec, y_vec\n",
    "    \n",
    "    def update_sample(self, x_vec, y_vec, T):\n",
    "        \"\"\"sample n more data\n",
    "        \"\"\"\n",
    "        T_old, nsamples = y_vec.shape\n",
    "        x_vec = np.append(x_vec, np.zeros((T, 1)), axis=0)\n",
    "        y_vec = np.append(y_vec, np.zeros((T, nsamples)), axis=0)\n",
    "        for i in range(T):\n",
    "            x_new, y_new = self.sample_once(x_vec[i+T_old, :], nsamples, i)\n",
    "            x_vec[i+1+T_old, :] = x_new\n",
    "            y_vec[i+T_old, :] = y_new\n",
    "        return x_vec, y_vec\n",
    "            \n",
    "    def sample_once(self, xt, nsamples, t):\n",
    "        \"\"\"sample for one time step\n",
    "        \"\"\"\n",
    "        x_new = tf.math.multiply(self.A, xt) + \\\n",
    "            tf.math.multiply(self.B, tfd.Normal(loc=0, scale=1).sample(1)).numpy()\n",
    "        y_new = tf.math.multiply(self.C, x_new) + \\\n",
    "            tf.math.multiply(self.D, tfd.Normal(loc=0, scale=1).sample(nsamples)).numpy()\n",
    "        return x_new, y_new\n",
    "            \n",
    "    def log_gamma(self, x_vec, y_vec):\n",
    "        \"\"\"unnormalized log posterior\n",
    "        \"\"\"\n",
    "        if x_vec.shape[0] == 1:\n",
    "            log_p = tfd.Normal(loc=self.mu0, scale=self.sigma0).log_prob(x_vec[0, :])\n",
    "            return log_p\n",
    "        else:\n",
    "            log_gamma = 0\n",
    "            T, nsamples = y_vec.shape\n",
    "\n",
    "            latent_mean = tf.math.multiply(self.C, x_vec[1:, :])[:, np.newaxis, :]\n",
    "            log_lik = 0\n",
    "            for t in range(T):\n",
    "                log_lik += tfd.Normal(\n",
    "                    loc=latent_mean[t, :], \n",
    "                    scale=self.D\n",
    "                ).log_prob(y_vec[t, :].reshape(-1, 1))\n",
    "\n",
    "            log_p = tfd.Normal(loc=self.mu0, scale=self.sigma0).log_prob(x_vec[0, :])\n",
    "            for i in range(1, T):\n",
    "                log_p += tfd.Normal(\n",
    "                    loc=tf.math.multiply(self.A, x_vec[i-1, :]), \n",
    "                    scale=self.B\n",
    "                ).log_prob(x_vec[i, :])\n",
    "\n",
    "            return log_p + tf.reduce_sum(log_lik, axis=0)"
   ]
  },
  {
   "cell_type": "code",
   "execution_count": 216,
   "metadata": {},
   "outputs": [],
   "source": [
    "# generate data\n",
    "nsamples = 50 # n_y\n",
    "T = 10\n",
    "tf.random.set_seed(0)\n",
    "\n",
    "# sigma0 = np.array([[1.]])\n",
    "sigma0 = np.array(1.)\n",
    "A = np.array([[0.8]])\n",
    "B = np.ones((1, 1))\n",
    "C = np.ones((1, 1))\n",
    "D = np.ones((1, 1))\n",
    "\n",
    "linear_hmm = LinearGaussian(sigma0, A, B, C, D)\n",
    "x_vec, y_vec = linear_hmm.sample(nsamples, T)"
   ]
  },
  {
   "cell_type": "code",
   "execution_count": 217,
   "metadata": {},
   "outputs": [
    {
     "name": "stdout",
     "output_type": "stream",
     "text": [
      "true x1: 2.2232272715607047 estimate: 2.0194198238800296\n",
      "true x2: 3.477558810809355 estimate: 3.394570652959467\n",
      "true x3: 1.6074973498178333 estimate: 1.8315214954282502\n",
      "true x4: 0.7157036784802129 estimate: 0.31924416522331583\n",
      "true x5: 1.921818385403494 estimate: 1.331434560057252\n",
      "true x6: 0.044118388399394526 estimate: 0.5539142400081464\n",
      "true x7: 0.678292810046603 estimate: 0.6610092158361197\n",
      "true x8: -0.6627111441898904 estimate: -0.59694124551972\n",
      "true x9: -2.064314985832259 estimate: -2.722512701259994\n",
      "true x10: -2.7020150856659293 estimate: -3.371547923705364\n"
     ]
    }
   ],
   "source": [
    "# SIS\n",
    "nx = 1000\n",
    "\n",
    "x_pos = np.zeros((T+1, nx))\n",
    "log_w = np.zeros_like(x_pos)\n",
    "x_pos_resampled = np.zeros_like(x_pos)\n",
    "\n",
    "# t=0\n",
    "proposal_init = tfd.Normal(loc=np.zeros(1), scale=np.ones(1))\n",
    "x_pos[0, :] = proposal_init.sample(nx)[:, 0]\n",
    "log_w[0, :] = linear_hmm.log_gamma(x_pos[:1, :], None) - proposal_init.log_prob(x_pos[0, :])\n",
    "x_pos_resampled[0, :] = resample(log_w[0, :], x_pos[0, :])\n",
    "\n",
    "# t>=1\n",
    "for t in range(T):\n",
    "    # proposal: N(x_{t-1}, 1)\n",
    "    proposal_t = tfd.Normal(loc=x_pos[t, :], scale=np.ones(1))\n",
    "    x_pos[t+1, :] = proposal_t.sample(1)\n",
    "    \n",
    "    alpha_t = linear_hmm.log_gamma(x_pos[:(t+2), :], y_vec[:(t+1), :]) - \\\n",
    "        linear_hmm.log_gamma(x_pos[:(t+1), :], y_vec[:t, :]) - \\\n",
    "        proposal_t.log_prob(x_pos[t+1, :])\n",
    "    log_w[t+1, :] = log_w[t, :] + alpha_t\n",
    "    \n",
    "    x_pos_resampled[t+1, :] = resample(log_w[t+1, :], x_pos[t+1, :])\n",
    "\n",
    "    print(\"true x{}: {} estimate: {}\".format(\n",
    "        t+1, \n",
    "        x_vec[t+1, 0], \n",
    "        tf.reduce_mean(x_pos_resampled[t+1, :]).numpy()\n",
    "    ))\n",
    "    "
   ]
  },
  {
   "cell_type": "code",
   "execution_count": 220,
   "metadata": {},
   "outputs": [
    {
     "name": "stdout",
     "output_type": "stream",
     "text": [
      "true x1: 2.2232272715607047 estimate: 2.0194198238800296\n"
     ]
    },
    {
     "data": {
      "image/png": "[encoded data removed]",
      "text/plain": [
       "<Figure size 432x288 with 1 Axes>"
      ]
     },
     "metadata": {
      "needs_background": "light"
     },
     "output_type": "display_data"
    }
   ],
   "source": [
    "ind = 1\n",
    "\n",
    "x_true = x_vec[ind, 0]\n",
    "\n",
    "sns.histplot(x_pos_resampled[ind, :], stat=\"density\", color=\"r\", alpha=0.4, label=f\"final x{ind}\")\n",
    "sns.histplot(x_pos[ind, :], stat=\"density\", alpha=0.4, label=f\"init x{ind}\")\n",
    "ymax = plt.ylim()[1]\n",
    "plt.vlines(x_true, 0, ymax, color=\"orange\", label=\"true x\")\n",
    "plt.legend()\n",
    "\n",
    "print(\n",
    "    f\"true x{ind}:\", x_true,\n",
    "    \"estimate:\", tf.reduce_mean(x_pos_resampled[ind, :]).numpy()\n",
    ")"
   ]
  },
  {
   "cell_type": "markdown",
   "metadata": {},
   "source": [
    "# Non-linear Gaussian HMM"
   ]
  },
  {
   "cell_type": "code",
   "execution_count": 232,
   "metadata": {},
   "outputs": [],
   "source": [
    "#! matrix multiplication is wrong!\n",
    "class NonLinearGaussian(LinearGaussian):\n",
    "    def __init__(self, sigma0, sigma_v, sigma_w):\n",
    "        self.sigma0 = sigma0\n",
    "        self.mu0 = np.zeros((1, 1))\n",
    "        self.sigma_v = sigma_v\n",
    "        self.sigma_w = sigma_w\n",
    "            \n",
    "    def _latent_mean(self, xt, t):\n",
    "        return 0.5 * xt + 25 * xt / (1 + xt**2) + 8 * np.cos(1.2 * t)\n",
    "    \n",
    "    def sample_once(self, xt, nsample, t):\n",
    "        x_new = self._latent_mean(xt, t) + \\\n",
    "            tfd.Normal(loc=0, scale=self.sigma_v).sample(1).numpy()\n",
    "        y_new = 1/20 * x_new**2 + \\\n",
    "            tfd.Normal(loc=0, scale=self.sigma_w).sample(nsample).numpy()\n",
    "        y_new = y_new[:, 0, 0]\n",
    "        return x_new, y_new\n",
    "            \n",
    "    def log_gamma(self, x_vec, y_vec):\n",
    "        \"\"\"unnormalized log posterior\n",
    "        \"\"\"\n",
    "        if x_vec.shape[0] == 1:\n",
    "            log_p = tfd.Normal(loc=self.mu0, scale=self.sigma0).log_prob(x_vec[0, :])\n",
    "            return log_p\n",
    "        else:\n",
    "            log_gamma = 0\n",
    "            T, nsamples = y_vec.shape\n",
    "            \n",
    "        log_lik = 0\n",
    "        print(x_vec[0, :].shape)\n",
    "        for t in range(T):\n",
    "            log_lik += tfd.Normal(\n",
    "                loc=1/20 * x_vec[t, :]**2, \n",
    "                scale=self.sigma_w\n",
    "            ).log_prob(y_vec[t, :].reshape(-1, 1))\n",
    "            \n",
    "        print(log_lik.shape)\n",
    "            \n",
    "        log_p = tfd.Normal(loc=self.mu0, scale=self.sigma0).log_prob(x_vec[0, :])\n",
    "        for i in range(1, T):\n",
    "            log_p += tfd.Normal(\n",
    "                loc=self._latent_mean(x_vec[i-1, :], i), \n",
    "                scale=self.sigma_v\n",
    "            ).log_prob(x_vec[i, :])\n",
    "        return log_p + tf.reduce_sum(log_lik, axis=0)"
   ]
  },
  {
   "cell_type": "code",
   "execution_count": 233,
   "metadata": {},
   "outputs": [
    {
     "data": {
      "text/plain": [
       "(array([[ -1.25461279],\n",
       "        [ -7.63270487],\n",
       "        [ -4.12254132],\n",
       "        [-13.59019874],\n",
       "        [-16.33494576]]),\n",
       " array([[ 3.42280388,  3.61566817,  0.85544873,  2.85422368,  1.73017756],\n",
       "        [ 0.37628916, -0.14458264,  1.21445049, -1.19760897,  0.82867261],\n",
       "        [ 9.86588155,  9.75418413, 10.56175036,  8.84898799,  8.12426321],\n",
       "        [13.82733685, 13.61978129, 14.48376415, 15.09307342, 12.65369417]]))"
      ]
     },
     "execution_count": 233,
     "metadata": {},
     "output_type": "execute_result"
    }
   ],
   "source": [
    "sigma0 = np.array([[1.]])\n",
    "sigma_v = np.array([[np.sqrt(10)]])\n",
    "sigma_w = np.ones((1, 1))\n",
    "\n",
    "T = 4\n",
    "\n",
    "nonlinear_hmm = NonLinearGaussian(sigma0, sigma_v, sigma_w)\n",
    "x_vec2, y_vec2 = nonlinear_hmm.sample(5, T)\n",
    "x_vec2, y_vec2"
   ]
  },
  {
   "cell_type": "code",
   "execution_count": 234,
   "metadata": {},
   "outputs": [
    {
     "data": {
      "text/plain": [
       "(array([[ -1.25461279],\n",
       "        [ -7.63270487],\n",
       "        [ -4.12254132],\n",
       "        [-13.59019874],\n",
       "        [-16.33494576],\n",
       "        [ -3.15132462],\n",
       "        [ -7.84721332]]),\n",
       " array([[ 3.42280388,  3.61566817,  0.85544873,  2.85422368,  1.73017756],\n",
       "        [ 0.37628916, -0.14458264,  1.21445049, -1.19760897,  0.82867261],\n",
       "        [ 9.86588155,  9.75418413, 10.56175036,  8.84898799,  8.12426321],\n",
       "        [13.82733685, 13.61978129, 14.48376415, 15.09307342, 12.65369417],\n",
       "        [ 1.01766873,  0.91671581,  0.71761502,  1.15312831, -0.12688779],\n",
       "        [ 0.2378908 ,  2.85793387,  1.5372123 ,  3.71941945,  3.88948906]]))"
      ]
     },
     "execution_count": 234,
     "metadata": {},
     "output_type": "execute_result"
    }
   ],
   "source": [
    "nonlinear_hmm.update_sample(x_vec2, y_vec2, 2)"
   ]
  },
  {
   "cell_type": "code",
   "execution_count": 235,
   "metadata": {},
   "outputs": [
    {
     "name": "stdout",
     "output_type": "stream",
     "text": [
      "(1,)\n",
      "(5, 1)\n"
     ]
    },
    {
     "data": {
      "text/plain": [
       "<tf.Tensor: shape=(1, 1), dtype=float64, numpy=array([[-310.69712019]])>"
      ]
     },
     "execution_count": 235,
     "metadata": {},
     "output_type": "execute_result"
    }
   ],
   "source": [
    "nonlinear_hmm.log_gamma(x_vec2, y_vec2)"
   ]
  },
  {
   "cell_type": "markdown",
   "metadata": {},
   "source": [
    "# Hierarchical model"
   ]
  },
  {
   "cell_type": "code",
   "execution_count": 94,
   "metadata": {},
   "outputs": [],
   "source": [
    "def hierarchical_targets(y, sigma0, eta, tau):\n",
    "    def log_gamma_leaf(x):\n",
    "        log_lik = tfd.Normal(loc=x, scale=eta).log_prob(y)\n",
    "        log_p = tfd.Normal(loc=mu0, scale=sigma0).log_prob(x[:, 0])\n",
    "        log_p += tfd.Normal(loc=x[:, 0], scale=tau).log_prob(x[:, 1:])\n",
    "        return log_p\n",
    "    \n",
    "    def sample_x(nsamples):\n",
    "        x_vec = np.zeros((nsapmles, 5))\n",
    "        x_vec[:, 0] = tfd.Normal(loc=mu0, scale=sigma0).sample(nsamples)\n",
    "        x_vec[:, 1:] = tfd.Normal(loc=x_vec[:, 0], scale=tau).sample((nsamples, x_vec.shape[1]-1))\n",
    "        return x_vec\n",
    "    \n",
    "    def sample(nsamples, x_vec):\n",
    "        y_vec = tfd.Normal(loc=x_vec[:, 1:], scale=eta).sample(nsamples)\n",
    "        return y_vec\n",
    "    "
   ]
  },
  {
   "cell_type": "code",
   "execution_count": null,
   "metadata": {},
   "outputs": [],
   "source": []
  },
  {
   "cell_type": "code",
   "execution_count": null,
   "metadata": {},
   "outputs": [],
   "source": []
  },
  {
   "cell_type": "code",
   "execution_count": null,
   "metadata": {},
   "outputs": [],
   "source": []
  }
 ],
 "metadata": {
  "kernelspec": {
   "display_name": "fast-mcmc",
   "language": "python",
   "name": "fast-mcmc"
  },
  "language_info": {
   "codemirror_mode": {
    "name": "ipython",
    "version": 3
   },
   "file_extension": ".py",
   "mimetype": "text/x-python",
   "name": "python",
   "nbconvert_exporter": "python",
   "pygments_lexer": "ipython3",
   "version": "3.8.8"
  }
 },
 "nbformat": 4,
 "nbformat_minor": 2
}
