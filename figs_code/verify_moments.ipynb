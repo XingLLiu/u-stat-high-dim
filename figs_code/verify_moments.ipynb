{
 "cells": [
  {
   "cell_type": "code",
   "execution_count": 1,
   "metadata": {},
   "outputs": [],
   "source": [
    "import sys\n",
    "sys.path.append(\"../\")"
   ]
  },
  {
   "cell_type": "code",
   "execution_count": 2,
   "metadata": {},
   "outputs": [],
   "source": [
    "%load_ext autoreload\n",
    "%autoreload 2\n",
    "\n",
    "from src.ksd.kernel import IMQ, RBF, Linear\n",
    "import src.high_dim.experiments as hd\n",
    "import src.high_dim.analytical as hd_ana\n",
    "\n",
    "import numpy as np\n",
    "import pandas as pd\n",
    "import tensorflow as tf\n",
    "import tensorflow_probability as tfp\n",
    "tfd = tfp.distributions\n",
    "import matplotlib.pyplot as plt\n",
    "import seaborn as sns\n",
    "import pickle\n",
    "\n",
    "import matplotlib as mpl\n",
    "mpl.rcParams[\"mathtext.fontset\"] = \"cm\""
   ]
  },
  {
   "cell_type": "code",
   "execution_count": 6,
   "metadata": {},
   "outputs": [],
   "source": [
    "tf.random.set_seed(1)\n",
    "\n",
    "DELTA = 2.\n",
    "\n",
    "BANDWIDTH_POWER = 1.\n",
    "\n",
    "STATISTIC = \"mmd\"\n",
    "\n",
    "KERNEL = RBF\n",
    "\n",
    "DIR = \"../res\"\n",
    "SUFFIX = f\"delta{DELTA}_r{BANDWIDTH_POWER}_{STATISTIC}_{KERNEL.__name__}\"\n",
    "EXTRA = \"\"\n",
    "\n",
    "NREP = 5"
   ]
  },
  {
   "cell_type": "code",
   "execution_count": 7,
   "metadata": {},
   "outputs": [],
   "source": [
    "def compute_analytical(stat_ana_class, dims, delta, bandwidth_power):\n",
    "    res = {\n",
    "        \"dim\": dims,\n",
    "        \"mean\": [],\n",
    "        \"cond_var\": [],\n",
    "        \"full_var\": [],\n",
    "        \"m3_ub\": [],\n",
    "        \"M3_ub\": [],\n",
    "    }\n",
    "\n",
    "    for d in dims:\n",
    "        if stat_ana_class == hd_ana.MMDLinearAnalytical:\n",
    "            mu = np.eye(d)[:, 1] * delta\n",
    "\n",
    "            sigma_mat = np.eye(d, dtype=np.float32) * 0.5\n",
    "            sigma_mat[0, 0] = 0.5 * d\n",
    "            \n",
    "            stat_ana = stat_ana_class(\n",
    "                dim=d,\n",
    "                mu=mu,\n",
    "                Sigma=sigma_mat,\n",
    "            )\n",
    "            \n",
    "        else:\n",
    "            stat_ana = stat_ana_class(\n",
    "                dim=d,\n",
    "                mu_norm=delta,\n",
    "                bandwidth_power=bandwidth_power,\n",
    "            )\n",
    "\n",
    "        res[\"mean\"].append(stat_ana.mean())\n",
    "        res[\"cond_var\"].append(stat_ana.cond_var())\n",
    "        res[\"full_var\"].append(stat_ana.full_var())\n",
    "        res[\"m3_ub\"].append(stat_ana.abs_cond_moment_ub(nu=3))\n",
    "        res[\"M3_ub\"].append(stat_ana.abs_full_moment_ub(nu=3))\n",
    "\n",
    "    res_df = pd.DataFrame(res)\n",
    "    return res_df\n",
    "    "
   ]
  },
  {
   "cell_type": "code",
   "execution_count": 13,
   "metadata": {},
   "outputs": [],
   "source": [
    "def run_repeat(dims, bandwidth_order, kernel_class, npop, statistic, nrep):\n",
    "    res_analytical_list = []\n",
    "    for i in range(nrep):\n",
    "        res_analytical = hd.compute_population_moments(\n",
    "            dims=dims, \n",
    "            bandwidth_order=bandwidth_order, \n",
    "            kernel_class=kernel_class,\n",
    "            npop=npop,\n",
    "            delta=DELTA,\n",
    "            statistic=statistic,\n",
    "        )\n",
    "\n",
    "        res_analytical = res_analytical\n",
    "        res_analytical = pd.DataFrame(res_analytical)\n",
    "        res_analytical[\"dim\"] = dims\n",
    "        res_analytical.set_index(\"dim\", drop=False, inplace=True)\n",
    "        res_analytical_list.append(res_analytical)    \n",
    "    return res_analytical_list\n",
    "     "
   ]
  },
  {
   "cell_type": "markdown",
   "metadata": {},
   "source": [
    "# Load results"
   ]
  },
  {
   "cell_type": "code",
   "execution_count": 14,
   "metadata": {},
   "outputs": [],
   "source": [
    "# # load analytical res\n",
    "# res_analytical_save = pd.read_csv(\n",
    "#     f\"{DIR}/res_analytical_{SUFFIX}.csv\",\n",
    "# )\n",
    "# res_analytical = res_analytical_save.set_index(\"dim\", drop=False)\n",
    "# dims = res_analytical.dim.unique().tolist()"
   ]
  },
  {
   "cell_type": "code",
   "execution_count": 16,
   "metadata": {},
   "outputs": [],
   "source": [
    "# dims = [1, 2, 4, 25, 50, 75, 100] #, 250, 500, 1000, 2000]\n",
    "dims = [1, 2, 4, 25, 50, 75, 100, 250, 500, 1000, 2000]"
   ]
  },
  {
   "cell_type": "code",
   "execution_count": 17,
   "metadata": {},
   "outputs": [
    {
     "name": "stderr",
     "output_type": "stream",
     "text": [
      "  0%|                                                                                                                                                                                    | 0/11 [00:00<?, ?it/s]2023-02-13 17:20:52.224567: E tensorflow/stream_executor/cuda/cuda_driver.cc:271] failed call to cuInit: CUDA_ERROR_NO_DEVICE: no CUDA-capable device is detected\n",
      "2023-02-13 17:20:52.224626: I tensorflow/stream_executor/cuda/cuda_diagnostics.cc:169] retrieving CUDA diagnostic information for host: nvidia4\n",
      "2023-02-13 17:20:52.224633: I tensorflow/stream_executor/cuda/cuda_diagnostics.cc:176] hostname: nvidia4\n",
      "2023-02-13 17:20:52.224755: I tensorflow/stream_executor/cuda/cuda_diagnostics.cc:200] libcuda reported version is: 460.27.4\n",
      "2023-02-13 17:20:52.224777: I tensorflow/stream_executor/cuda/cuda_diagnostics.cc:204] kernel reported version is: 460.27.4\n",
      "2023-02-13 17:20:52.224781: I tensorflow/stream_executor/cuda/cuda_diagnostics.cc:310] kernel version seems to match DSO: 460.27.4\n",
      "2023-02-13 17:20:52.225306: I tensorflow/core/platform/cpu_feature_guard.cc:142] This TensorFlow binary is optimized with oneAPI Deep Neural Network Library (oneDNN) to use the following CPU instructions in performance-critical operations:  AVX2 AVX512F FMA\n",
      "To enable them in other operations, rebuild TensorFlow with the appropriate compiler flags.\n",
      "100%|███████████████████████████████████████████████████████████████████████████████████████████████████████████████████████████████████████████████████████████████████████████| 11/11 [00:53<00:00,  4.85s/it]\n",
      "100%|███████████████████████████████████████████████████████████████████████████████████████████████████████████████████████████████████████████████████████████████████████████| 11/11 [00:55<00:00,  5.01s/it]\n",
      "100%|███████████████████████████████████████████████████████████████████████████████████████████████████████████████████████████████████████████████████████████████████████████| 11/11 [00:55<00:00,  5.05s/it]\n",
      "100%|███████████████████████████████████████████████████████████████████████████████████████████████████████████████████████████████████████████████████████████████████████████| 11/11 [00:53<00:00,  4.89s/it]\n",
      "100%|███████████████████████████████████████████████████████████████████████████████████████████████████████████████████████████████████████████████████████████████████████████| 11/11 [00:53<00:00,  4.85s/it]\n"
     ]
    }
   ],
   "source": [
    "# compute analytical res\n",
    "NPOP = 6000 # 10000 # 4000\n",
    "\n",
    "# res_analytical = hd.compute_population_quantities(\n",
    "#     dims=dims, \n",
    "#     bandwidth_order=BANDWIDTH_POWER, \n",
    "#     kernel_class=KERNEL,\n",
    "#     npop=NPOP,\n",
    "#     delta=DELTA,\n",
    "#     statistic=STATISTIC,\n",
    "# )\n",
    "\n",
    "# res_analytical_dict = res_analytical\n",
    "# res_analytical = pd.DataFrame(res_analytical)\n",
    "# res_analytical[\"dim\"] = dims\n",
    "# res_analytical.set_index(\"dim\", drop=False, inplace=True)\n",
    "\n",
    "\n",
    "res_analytical_list = run_repeat(\n",
    "    dims=dims, \n",
    "    bandwidth_order=BANDWIDTH_POWER, \n",
    "    kernel_class=KERNEL, \n",
    "    npop=NPOP, \n",
    "    statistic=STATISTIC,\n",
    "    nrep=NREP,\n",
    ")"
   ]
  },
  {
   "cell_type": "code",
   "execution_count": 18,
   "metadata": {},
   "outputs": [],
   "source": [
    "res_analytical_df = pd.concat(res_analytical_list, ignore_index=True)\n",
    "res_analytical_df = res_analytical_df.groupby(\"dim\").mean()"
   ]
  },
  {
   "cell_type": "markdown",
   "metadata": {},
   "source": [
    "# Compute analytical forms/bounds"
   ]
  },
  {
   "cell_type": "code",
   "execution_count": 19,
   "metadata": {},
   "outputs": [],
   "source": [
    "mmd_ana = compute_analytical(\n",
    "    stat_ana_class=hd_ana.MMDAnalytical, \n",
    "    dims=dims, \n",
    "    delta=DELTA, \n",
    "    bandwidth_power=BANDWIDTH_POWER,\n",
    ")"
   ]
  },
  {
   "cell_type": "markdown",
   "metadata": {},
   "source": [
    "# Moments vs. dim"
   ]
  },
  {
   "cell_type": "code",
   "execution_count": 21,
   "metadata": {},
   "outputs": [],
   "source": [
    "def plot(res_sim, res_expression):\n",
    "    dims = res_expression[\"dim\"].to_numpy()\n",
    "    \n",
    "    figs, axes = plt.subplots(nrows=1, ncols=3, figsize=(12, 3))\n",
    "\n",
    "    axes[0].plot(dims, res_sim.loc[dims, \"expectation\"], marker=\"o\", label=\"Truth\")\n",
    "    axes[0].plot(dims, res_expression[\"mean\"], marker=\"x\", label=\"Derived\")\n",
    "    axes[0].set_xlabel(\"Dim\", fontsize=15)\n",
    "    axes[0].set_ylabel(\"Mean\", fontsize=15)\n",
    "    axes[0].tick_params(labelsize=15)\n",
    "    axes[0].legend(fontsize=11)\n",
    "    axes[0].set_xscale(\"log\")\n",
    "    \n",
    "    axes[1].plot(dims, res_sim.loc[dims, \"cond_var\"], marker=\"o\", label=\"Truth\")\n",
    "    axes[1].plot(dims, res_expression[\"cond_var\"], marker=\"x\", label=\"Derived\")\n",
    "    axes[1].set_xlabel(\"Dim\", fontsize=15)\n",
    "    axes[1].set_ylabel(r\"$\\sigma_{\\mathrm{cond}}^2$\", fontsize=22)\n",
    "    axes[1].tick_params(labelsize=15)\n",
    "    axes[1].legend(fontsize=11)\n",
    "    axes[1].set_xscale(\"log\")\n",
    "\n",
    "    axes[2].plot(dims, res_sim.loc[dims, \"full_var\"], marker=\"o\", label=\"Truth\")\n",
    "    axes[2].plot(dims, res_expression[\"full_var\"], marker=\"x\", label=\"Derived\")\n",
    "    axes[2].set_xlabel(\"Dim\", fontsize=15)\n",
    "    axes[2].set_ylabel(r\"$\\sigma_{\\mathrm{full}}^2$\", fontsize=22)\n",
    "    axes[2].tick_params(labelsize=15)\n",
    "    axes[2].legend(fontsize=11)\n",
    "    axes[2].set_xscale(\"log\")\n",
    "\n",
    "    plt.tight_layout()\n",
    "    "
   ]
  },
  {
   "cell_type": "code",
   "execution_count": 22,
   "metadata": {},
   "outputs": [
    {
     "data": {
      "image/png": "[encoded data removed]",
      "text/plain": [
       "<Figure size 864x216 with 3 Axes>"
      ]
     },
     "metadata": {
      "needs_background": "light"
     },
     "output_type": "display_data"
    }
   ],
   "source": [
    "plot(res_analytical_df, mmd_ana)"
   ]
  },
  {
   "cell_type": "markdown",
   "metadata": {},
   "source": [
    "# RBF-KSD"
   ]
  },
  {
   "cell_type": "code",
   "execution_count": 23,
   "metadata": {},
   "outputs": [],
   "source": [
    "# # load analytical res\n",
    "# res_analytical_save = pd.read_csv(\n",
    "#     f\"{DIR}/res_analytical_verify_ksd_RBF.csv\",\n",
    "# )\n",
    "# res_analytical = res_analytical_save.set_index(\"dim\", drop=False)\n",
    "# dims = res_analytical.dim.unique().tolist()"
   ]
  },
  {
   "cell_type": "markdown",
   "metadata": {},
   "source": [
    "## Analytical"
   ]
  },
  {
   "cell_type": "code",
   "execution_count": 24,
   "metadata": {},
   "outputs": [],
   "source": [
    "dims_ksd = [1, 2, 4, 25, 50, 75, 100, 250, 500, 1000, 2000]\n",
    "NPOP_ksd = 4000"
   ]
  },
  {
   "cell_type": "code",
   "execution_count": 25,
   "metadata": {},
   "outputs": [],
   "source": [
    "# res_analytical_ksd = hd.compute_population_quantities(\n",
    "#     dims=dims_ksd, \n",
    "#     bandwidth_order=BANDWIDTH_POWER, \n",
    "#     kernel_class=KERNEL,\n",
    "#     npop=NPOP_ksd,\n",
    "#     delta=DELTA,\n",
    "#     statistic=\"ksd\",\n",
    "# )\n",
    "\n",
    "# res_analytical_dict_ksd = res_analytical_ksd\n",
    "# res_analytical_ksd = pd.DataFrame(res_analytical_ksd)\n",
    "# res_analytical_ksd[\"dim\"] = dims\n",
    "# res_analytical_ksd.set_index(\"dim\", drop=False, inplace=True)"
   ]
  },
  {
   "cell_type": "code",
   "execution_count": 26,
   "metadata": {},
   "outputs": [
    {
     "name": "stderr",
     "output_type": "stream",
     "text": [
      "100%|███████████████████████████████████████████████████████████████████████████████████████████████████████████████████████████████████████████████████████████████████████████| 11/11 [08:44<00:00, 47.70s/it]\n",
      "100%|███████████████████████████████████████████████████████████████████████████████████████████████████████████████████████████████████████████████████████████████████████████| 11/11 [08:36<00:00, 46.97s/it]\n",
      "100%|███████████████████████████████████████████████████████████████████████████████████████████████████████████████████████████████████████████████████████████████████████████| 11/11 [08:41<00:00, 47.38s/it]\n",
      "100%|███████████████████████████████████████████████████████████████████████████████████████████████████████████████████████████████████████████████████████████████████████████| 11/11 [08:41<00:00, 47.43s/it]\n",
      "100%|███████████████████████████████████████████████████████████████████████████████████████████████████████████████████████████████████████████████████████████████████████████| 11/11 [08:43<00:00, 47.63s/it]\n"
     ]
    }
   ],
   "source": [
    "res_analytical_list_ksd = run_repeat(\n",
    "    dims=dims_ksd, \n",
    "    bandwidth_order=BANDWIDTH_POWER, \n",
    "    kernel_class=RBF, \n",
    "    npop=NPOP_ksd, \n",
    "    statistic=\"ksd\",\n",
    "    nrep=NREP,\n",
    ")"
   ]
  },
  {
   "cell_type": "code",
   "execution_count": 27,
   "metadata": {},
   "outputs": [],
   "source": [
    "res_analytical_df_ksd = pd.concat(res_analytical_list_ksd, ignore_index=True)\n",
    "res_analytical_df_ksd = res_analytical_df_ksd.groupby(\"dim\").mean()"
   ]
  },
  {
   "cell_type": "markdown",
   "metadata": {},
   "source": [
    "## Derived"
   ]
  },
  {
   "cell_type": "code",
   "execution_count": 28,
   "metadata": {},
   "outputs": [],
   "source": [
    "ksd_ana = compute_analytical(\n",
    "    stat_ana_class=hd_ana.KSDAnalytical, \n",
    "    dims=dims,\n",
    "    delta=DELTA, \n",
    "    bandwidth_power=BANDWIDTH_POWER,\n",
    ")"
   ]
  },
  {
   "cell_type": "code",
   "execution_count": 29,
   "metadata": {},
   "outputs": [
    {
     "data": {
      "image/png": "[encoded data removed]",
      "text/plain": [
       "<Figure size 864x216 with 3 Axes>"
      ]
     },
     "metadata": {
      "needs_background": "light"
     },
     "output_type": "display_data"
    }
   ],
   "source": [
    "plot(res_analytical_df_ksd, ksd_ana)"
   ]
  },
  {
   "cell_type": "markdown",
   "metadata": {},
   "source": [
    "# RBF-KSD and RBF-MMD"
   ]
  },
  {
   "cell_type": "code",
   "execution_count": 32,
   "metadata": {},
   "outputs": [],
   "source": [
    "def plot_ksd_mmd(res_sim_ksd, res_ana_ksd, res_sim_mmd, res_ana_mmd):\n",
    "    res_sim_list = [res_sim_ksd, res_sim_mmd]\n",
    "    res_ana_list = [res_ana_ksd, res_ana_mmd]\n",
    "\n",
    "    figs, axes = plt.subplots(nrows=2, ncols=3, figsize=(15, 5))\n",
    "    lw = 2.5\n",
    "    ms = 8\n",
    "\n",
    "    for i, (res_sim, res_ana) in enumerate(zip(res_sim_list, res_ana_list)):\n",
    "        dims = res_ana[\"dim\"].to_numpy()\n",
    "\n",
    "        ax0 = axes[i][0]\n",
    "        ax0.plot(dims, res_sim.loc[dims, \"expectation\"], marker=\"o\", label=\"Truth\", linewidth=lw, markersize=ms)\n",
    "        ax0.plot(dims, res_ana[\"mean\"], marker=\"x\", label=\"Derived\", linestyle=\"--\", linewidth=lw, markersize=ms)\n",
    "        ax0.set_xlabel(\"Dimension\", fontsize=18)\n",
    "        ax0.set_ylabel(r\"Mean $D$\", fontsize=18)\n",
    "        ax0.tick_params(labelsize=15)\n",
    "        ax0.legend(fontsize=15)\n",
    "        ax0.set_xscale(\"log\")\n",
    "        \n",
    "        ax1 = axes[i][1]\n",
    "        ax1.plot(dims, res_sim.loc[dims, \"cond_var\"], marker=\"o\", label=\"Truth\", linewidth=lw, markersize=ms)\n",
    "        ax1.plot(dims, res_ana[\"cond_var\"], marker=\"x\", label=\"Derived\", linestyle=\"--\", linewidth=lw, markersize=ms)\n",
    "        ax1.set_xlabel(\"Dimension\", fontsize=18)\n",
    "        ax1.set_ylabel(r\"$\\sigma_{\\mathrm{cond}}^2$\", fontsize=25)\n",
    "        ax1.tick_params(labelsize=15)\n",
    "        ax1.legend([],[], frameon=False)\n",
    "        ax1.set_xscale(\"log\")\n",
    "\n",
    "        ax2 = axes[i][2]\n",
    "        ax2.plot(dims, res_sim.loc[dims, \"full_var\"], marker=\"o\", label=\"Truth\", linewidth=lw, markersize=ms)\n",
    "        ax2.plot(dims, res_ana[\"full_var\"], marker=\"x\", label=\"Derived\", linestyle=\"--\", linewidth=lw, markersize=ms)\n",
    "        ax2.set_xlabel(\"Dimension\", fontsize=15)\n",
    "        ax2.set_ylabel(r\"$\\sigma_{\\mathrm{full}}^2$\", fontsize=25)\n",
    "        ax2.tick_params(labelsize=18)\n",
    "        ax2.legend([],[], frameon=False)\n",
    "        ax2.set_xscale(\"log\")\n",
    "        \n",
    "        if i == 0:\n",
    "            ax0.get_xaxis().set_visible(False)\n",
    "            ax1.get_xaxis().set_visible(False)\n",
    "            ax2.get_xaxis().set_visible(False)\n",
    "        \n",
    "        else:\n",
    "            ax0.legend([],[], frameon=False)\n",
    "        \n",
    "\n",
    "    plt.subplots_adjust(\n",
    "        wspace=0.38,\n",
    "        hspace=0.1,\n",
    "    )\n",
    "\n",
    "#     plt.savefig(f\"../figs/moments.pdf\", bbox_inches=\"tight\")"
   ]
  },
  {
   "cell_type": "code",
   "execution_count": null,
   "metadata": {},
   "outputs": [],
   "source": [
    "plot_ksd_mmd(\n",
    "    res_sim_ksd=res_analytical_df_ksd, \n",
    "    res_ana_ksd=ksd_ana, \n",
    "    res_sim_mmd=res_analytical_df, \n",
    "    res_ana_mmd=mmd_ana,\n",
    ")"
   ]
  },
  {
   "cell_type": "markdown",
   "metadata": {},
   "source": [
    "# Linear-MMD"
   ]
  },
  {
   "cell_type": "markdown",
   "metadata": {},
   "source": [
    "## Analytical"
   ]
  },
  {
   "cell_type": "code",
   "execution_count": null,
   "metadata": {},
   "outputs": [],
   "source": [
    "dims_lin = dims[1:]"
   ]
  },
  {
   "cell_type": "code",
   "execution_count": 110,
   "metadata": {},
   "outputs": [
    {
     "name": "stderr",
     "output_type": "stream",
     "text": [
      "100%|██████████████████████████████████████████████████████████████████████████████████████████████████████████████████████████████████████████████████████████████████████████| 10/10 [36:48<00:00, 220.86s/it]\n"
     ]
    }
   ],
   "source": [
    "NPOP_LIN = int(1e5)\n",
    "\n",
    "res_analytical_lin = hd.compute_population_quantities(\n",
    "    dims=dims_lin, \n",
    "    bandwidth_order=BANDWIDTH_POWER, \n",
    "    kernel_class=Linear,\n",
    "    npop=NPOP_LIN,\n",
    "    delta=DELTA,\n",
    "    statistic=\"mmd\",\n",
    ")"
   ]
  },
  {
   "cell_type": "code",
   "execution_count": 111,
   "metadata": {},
   "outputs": [],
   "source": [
    "res_analytical_dict_lin = res_analytical_lin\n",
    "res_analytical_lin = pd.DataFrame(res_analytical_lin)\n",
    "res_analytical_lin[\"dim\"] = dims_lin\n",
    "res_analytical_lin.set_index(\"dim\", drop=False, inplace=True)"
   ]
  },
  {
   "cell_type": "code",
   "execution_count": 122,
   "metadata": {},
   "outputs": [],
   "source": [
    "res_analytical_lin_backup = res_analytical_lin.copy()"
   ]
  },
  {
   "cell_type": "code",
   "execution_count": 123,
   "metadata": {},
   "outputs": [
    {
     "name": "stderr",
     "output_type": "stream",
     "text": [
      "100%|███████████████████████████████████████████████████████████████████████████████████████████████████████████████████████████████████████████████████████████████████████████| 10/10 [00:25<00:00,  2.59s/it]\n",
      "100%|███████████████████████████████████████████████████████████████████████████████████████████████████████████████████████████████████████████████████████████████████████████| 10/10 [00:25<00:00,  2.52s/it]\n",
      "100%|███████████████████████████████████████████████████████████████████████████████████████████████████████████████████████████████████████████████████████████████████████████| 10/10 [00:25<00:00,  2.51s/it]\n",
      "100%|███████████████████████████████████████████████████████████████████████████████████████████████████████████████████████████████████████████████████████████████████████████| 10/10 [00:25<00:00,  2.51s/it]\n",
      "100%|███████████████████████████████████████████████████████████████████████████████████████████████████████████████████████████████████████████████████████████████████████████| 10/10 [00:25<00:00,  2.51s/it]\n",
      "100%|███████████████████████████████████████████████████████████████████████████████████████████████████████████████████████████████████████████████████████████████████████████| 10/10 [00:25<00:00,  2.55s/it]\n",
      "100%|███████████████████████████████████████████████████████████████████████████████████████████████████████████████████████████████████████████████████████████████████████████| 10/10 [00:25<00:00,  2.53s/it]\n",
      "100%|███████████████████████████████████████████████████████████████████████████████████████████████████████████████████████████████████████████████████████████████████████████| 10/10 [00:25<00:00,  2.55s/it]\n",
      "100%|███████████████████████████████████████████████████████████████████████████████████████████████████████████████████████████████████████████████████████████████████████████| 10/10 [00:26<00:00,  2.68s/it]\n",
      "100%|███████████████████████████████████████████████████████████████████████████████████████████████████████████████████████████████████████████████████████████████████████████| 10/10 [00:26<00:00,  2.65s/it]\n",
      "100%|███████████████████████████████████████████████████████████████████████████████████████████████████████████████████████████████████████████████████████████████████████████| 10/10 [00:26<00:00,  2.64s/it]\n",
      "100%|███████████████████████████████████████████████████████████████████████████████████████████████████████████████████████████████████████████████████████████████████████████| 10/10 [00:26<00:00,  2.67s/it]\n",
      "100%|███████████████████████████████████████████████████████████████████████████████████████████████████████████████████████████████████████████████████████████████████████████| 10/10 [00:27<00:00,  2.72s/it]\n",
      "100%|███████████████████████████████████████████████████████████████████████████████████████████████████████████████████████████████████████████████████████████████████████████| 10/10 [00:25<00:00,  2.54s/it]\n",
      "100%|███████████████████████████████████████████████████████████████████████████████████████████████████████████████████████████████████████████████████████████████████████████| 10/10 [00:26<00:00,  2.60s/it]\n",
      "100%|███████████████████████████████████████████████████████████████████████████████████████████████████████████████████████████████████████████████████████████████████████████| 10/10 [00:25<00:00,  2.58s/it]\n",
      "100%|███████████████████████████████████████████████████████████████████████████████████████████████████████████████████████████████████████████████████████████████████████████| 10/10 [00:25<00:00,  2.57s/it]\n",
      "100%|███████████████████████████████████████████████████████████████████████████████████████████████████████████████████████████████████████████████████████████████████████████| 10/10 [00:26<00:00,  2.64s/it]\n",
      "100%|███████████████████████████████████████████████████████████████████████████████████████████████████████████████████████████████████████████████████████████████████████████| 10/10 [00:26<00:00,  2.61s/it]\n",
      "100%|███████████████████████████████████████████████████████████████████████████████████████████████████████████████████████████████████████████████████████████████████████████| 10/10 [00:25<00:00,  2.60s/it]\n"
     ]
    }
   ],
   "source": [
    "# repeat   \n",
    "res_analytical_lin_list = []\n",
    "for i in range(20):\n",
    "    res_analytical_lin = hd.compute_population_quantities(\n",
    "        dims=dims_lin, \n",
    "        bandwidth_order=BANDWIDTH_POWER, \n",
    "        kernel_class=Linear,\n",
    "        npop=10000,\n",
    "        delta=DELTA,\n",
    "        statistic=\"mmd\",\n",
    "    )\n",
    "    \n",
    "    res_analytical_dict_lin = res_analytical_lin\n",
    "    res_analytical_lin = pd.DataFrame(res_analytical_lin)\n",
    "    res_analytical_lin[\"dim\"] = dims_lin\n",
    "    res_analytical_lin.set_index(\"dim\", drop=False, inplace=True)\n",
    "    res_analytical_lin_list.append(res_analytical_lin)"
   ]
  },
  {
   "cell_type": "code",
   "execution_count": 125,
   "metadata": {},
   "outputs": [],
   "source": [
    "res_analytical_lin_df = pd.concat(res_analytical_lin_list, ignore_index=True)"
   ]
  },
  {
   "cell_type": "markdown",
   "metadata": {},
   "source": [
    "## Derived"
   ]
  },
  {
   "cell_type": "code",
   "execution_count": 127,
   "metadata": {},
   "outputs": [],
   "source": [
    "lin_ana = compute_analytical(\n",
    "    stat_ana_class=hd_ana.MMDLinearAnalytical, \n",
    "    dims=dims_lin,\n",
    "    delta=DELTA, \n",
    "    bandwidth_power=BANDWIDTH_POWER,\n",
    ")"
   ]
  },
  {
   "cell_type": "code",
   "execution_count": 146,
   "metadata": {},
   "outputs": [],
   "source": [
    "def plot_rep(res_sim, res_expression):\n",
    "    dims = res_expression[\"dim\"].to_numpy()\n",
    "    \n",
    "    figs, axes = plt.subplots(nrows=1, ncols=3, figsize=(12, 3))\n",
    "\n",
    "    sns.lineplot(ax=axes[0], data=res_sim, x=\"dim\", y=\"expectation\", label=\"Simulated\")\n",
    "    axes[0].plot(dims, res_expression[\"mean\"], marker=\"x\", label=\"Derived\")\n",
    "    axes[0].set_xlabel(\"Dim\", fontsize=15)\n",
    "    axes[0].set_ylabel(\"Mean\", fontsize=15)\n",
    "    axes[0].tick_params(labelsize=15)\n",
    "    axes[0].legend(fontsize=11)\n",
    "    axes[0].set_xscale(\"log\")\n",
    "    \n",
    "    sns.lineplot(ax=axes[1], data=res_sim, x=\"dim\", y=\"cond_var\", label=\"Simulated\")\n",
    "#     axes[1].plot(dims, res_sim.loc[dims, \"cond_var\"], marker=\"o\", label=\"Truth\")\n",
    "    axes[1].plot(dims, res_expression[\"cond_var\"], marker=\"x\", label=\"Derived\")\n",
    "    axes[1].set_xlabel(\"Dim\", fontsize=15)\n",
    "    axes[1].set_ylabel(r\"$\\sigma_{\\mathrm{cond}}^2$\", fontsize=22)\n",
    "    axes[1].tick_params(labelsize=15)\n",
    "    axes[1].legend(fontsize=11)\n",
    "    axes[1].set_xscale(\"log\")\n",
    "\n",
    "    sns.lineplot(ax=axes[2], data=res_sim, x=\"dim\", y=\"full_var\", label=\"Simulated\")\n",
    "#     axes[2].plot(dims, res_sim.loc[dims, \"full_var\"], marker=\"o\", label=\"Truth\")\n",
    "    axes[2].plot(dims, res_expression[\"full_var\"], marker=\"x\", label=\"Derived\")\n",
    "    axes[2].set_xlabel(\"Dim\", fontsize=15)\n",
    "    axes[2].set_ylabel(r\"$\\sigma_{\\mathrm{full}}^2$\", fontsize=22)\n",
    "    axes[2].tick_params(labelsize=15)\n",
    "    axes[2].legend(fontsize=11)\n",
    "    axes[2].set_xscale(\"log\")\n"
   ]
  },
  {
   "cell_type": "code",
   "execution_count": null,
   "metadata": {},
   "outputs": [],
   "source": [
    "plot_rep(res_analytical_lin_df, lin_ana)"
   ]
  },
  {
   "cell_type": "code",
   "execution_count": null,
   "metadata": {},
   "outputs": [],
   "source": []
  },
  {
   "cell_type": "code",
   "execution_count": null,
   "metadata": {},
   "outputs": [],
   "source": []
  },
  {
   "cell_type": "code",
   "execution_count": null,
   "metadata": {},
   "outputs": [],
   "source": []
  }
 ],
 "metadata": {
  "kernelspec": {
   "display_name": "pksd",
   "language": "python",
   "name": "pksd"
  },
  "language_info": {
   "codemirror_mode": {
    "name": "ipython",
    "version": 3
   },
   "file_extension": ".py",
   "mimetype": "text/x-python",
   "name": "python",
   "nbconvert_exporter": "python",
   "pygments_lexer": "ipython3",
   "version": "3.8.10"
  }
 },
 "nbformat": 4,
 "nbformat_minor": 4
}
