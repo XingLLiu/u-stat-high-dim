{
 "cells": [
  {
   "cell_type": "code",
   "execution_count": 1,
   "metadata": {},
   "outputs": [],
   "source": [
    "import sys\n",
    "sys.path.append(\"../\")"
   ]
  },
  {
   "cell_type": "code",
   "execution_count": 2,
   "metadata": {},
   "outputs": [],
   "source": [
    "%load_ext autoreload\n",
    "%autoreload 2\n",
    "\n",
    "from src.ksd.kernel import IMQ, RBF, Linear\n",
    "import src.high_dim.experiments as hd\n",
    "\n",
    "import numpy as np\n",
    "import pandas as pd\n",
    "import tensorflow as tf\n",
    "import tensorflow_probability as tfp\n",
    "tfd = tfp.distributions\n",
    "import matplotlib.pyplot as plt\n",
    "import seaborn as sns\n",
    "import pickle\n",
    "\n",
    "import matplotlib as mpl\n",
    "import matplotlib.pyplot as pyplot\n",
    "mpl.rcParams[\"mathtext.fontset\"] = \"cm\""
   ]
  },
  {
   "cell_type": "markdown",
   "metadata": {},
   "source": [
    "# KSD"
   ]
  },
  {
   "cell_type": "code",
   "execution_count": 16,
   "metadata": {},
   "outputs": [],
   "source": [
    "tf.random.set_seed(1)\n",
    "\n",
    "DELTA = 2.\n",
    "\n",
    "BANDWIDTH_POWER = 1.\n",
    "\n",
    "STATISTIC = \"ksd\"\n",
    "\n",
    "KERNEL = RBF\n",
    "\n",
    "DIR = \"../res/check\" # \"../res/dist\"\n",
    "SUFFIX = f\"delta{DELTA}_r{BANDWIDTH_POWER}_{STATISTIC}_{KERNEL.__name__}\""
   ]
  },
  {
   "cell_type": "markdown",
   "metadata": {},
   "source": [
    "# Load results"
   ]
  },
  {
   "cell_type": "code",
   "execution_count": 17,
   "metadata": {},
   "outputs": [],
   "source": [
    "# load analytical res\n",
    "res_analytical_save = pd.read_csv(\n",
    "    f\"{DIR}/res_analytical_{SUFFIX}.csv\",\n",
    ")\n",
    "# res_analytical = {c: res_analytical_save[c].to_list() for c in res_analytical_save.columns}\n",
    "# dims = list(res_analytical[\"dim\"])\n",
    "res_analytical = res_analytical_save.set_index(\"dim\", drop=False)"
   ]
  },
  {
   "cell_type": "code",
   "execution_count": 18,
   "metadata": {},
   "outputs": [],
   "source": [
    "# load empirical results\n",
    "# fixed n\n",
    "stats_res_list = pickle.load(\n",
    "    open(f\"{DIR}/stats_res_rep_{SUFFIX}.p\", \"rb\"),\n",
    ")\n",
    "dims = list(stats_res_list[0].keys())\n",
    "\n",
    "# quadratic increasing n\n",
    "quad_dir = \"quad\"\n",
    "\n",
    "stats_res_list_quad = pickle.load(\n",
    "    open(f\"{DIR}/stats_res_rep_{SUFFIX}_{quad_dir}.p\", \"rb\"),\n",
    ")\n",
    "dims_quad = list(stats_res_list_quad[0].keys())\n",
    "\n",
    "# sqrt increasing n\n",
    "stats_res_list_sqrt = pickle.load(\n",
    "    open(f\"{DIR}/stats_res_rep_{SUFFIX}_sqrt.p\", \"rb\"),\n",
    ")\n",
    "dims_sqrt = list(stats_res_list_sqrt[0].keys())"
   ]
  },
  {
   "cell_type": "code",
   "execution_count": 19,
   "metadata": {},
   "outputs": [],
   "source": [
    "ns = [50] * len(dims)\n",
    "\n",
    "# ns_quad = [max(2, int(d**1.2)) for d in dims]\n",
    "ns_quad = [max(2, int(d**2)) for d in dims]\n",
    "\n",
    "# ns_sqrt = [max(2, int(d**0.5)) for d in dims]\n",
    "ns_sqrt = [max(2, int(d**0.5)) for d in dims]"
   ]
  },
  {
   "cell_type": "markdown",
   "metadata": {},
   "source": [
    "# Initialise result classes"
   ]
  },
  {
   "cell_type": "code",
   "execution_count": 20,
   "metadata": {},
   "outputs": [
    {
     "name": "stdout",
     "output_type": "stream",
     "text": [
      "dim: 2000\n"
     ]
    }
   ],
   "source": [
    "# fixed n\n",
    "d = dims[-1]\n",
    "print(\"dim:\", d)\n",
    "ts = res_analytical.loc[d, \"expectation\"] * np.linspace(.25, 1.75, 101)\n",
    "\n",
    "hd_limits_rep_dims = hd.LimitDistExperimentRepeatedMultiDims(\n",
    "    empirical_vals_dims_list=stats_res_list,\n",
    "    res_analytical=res_analytical,\n",
    "    dims=dims,\n",
    "    ns=ns,\n",
    "    ts=ts,\n",
    ")"
   ]
  },
  {
   "cell_type": "code",
   "execution_count": 21,
   "metadata": {
    "scrolled": true
   },
   "outputs": [
    {
     "name": "stdout",
     "output_type": "stream",
     "text": [
      "dim: 100\n"
     ]
    }
   ],
   "source": [
    "# quadratic n\n",
    "d = 100\n",
    "print(\"dim:\", d)\n",
    "ts_quad = res_analytical.loc[d, \"expectation\"] * np.linspace(.96, 1.04, 101)\n",
    "\n",
    "hd_limits_rep_dims_quad = hd.LimitDistExperimentRepeatedMultiDims(\n",
    "    empirical_vals_dims_list=stats_res_list_quad,\n",
    "    res_analytical=res_analytical,\n",
    "    dims=dims_quad,\n",
    "    ns=ns_quad,\n",
    "    ts=ts_quad,\n",
    ")"
   ]
  },
  {
   "cell_type": "code",
   "execution_count": 22,
   "metadata": {},
   "outputs": [
    {
     "name": "stdout",
     "output_type": "stream",
     "text": [
      "dim: 2000\n"
     ]
    }
   ],
   "source": [
    "# sqrt n\n",
    "d = dims[-1]\n",
    "print(\"dim:\", d)\n",
    "ts_sqrt = res_analytical.loc[d, \"expectation\"] * np.linspace(.25, 1.75, 101)\n",
    "\n",
    "hd_limits_rep_dims_sqrt = hd.LimitDistExperimentRepeatedMultiDims(\n",
    "    empirical_vals_dims_list=stats_res_list_sqrt,\n",
    "    res_analytical=res_analytical,\n",
    "    dims=dims,\n",
    "    ns=ns_sqrt,\n",
    "    ts=ts_sqrt,\n",
    ")"
   ]
  },
  {
   "cell_type": "markdown",
   "metadata": {},
   "source": [
    "## distance"
   ]
  },
  {
   "cell_type": "code",
   "execution_count": 23,
   "metadata": {},
   "outputs": [
    {
     "name": "stderr",
     "output_type": "stream",
     "text": [
      "100%|███████████████████████████████████████████████████████████████████████████████████████████████████████████████████████████████████████████████████████████████████████████| 10/10 [00:19<00:00,  1.99s/it]\n",
      "100%|█████████████████████████████████████████████████████████████████████████████████████████████████████████████████████████████████████████████████████████████████████████████| 6/6 [00:12<00:00,  2.01s/it]\n",
      "100%|███████████████████████████████████████████████████████████████████████████████████████████████████████████████████████████████████████████████████████████████████████████| 10/10 [00:20<00:00,  2.08s/it]\n"
     ]
    }
   ],
   "source": [
    "# compute distances\n",
    "dist_rep = hd_limits_rep_dims.compute_distance(size=100000)\n",
    "\n",
    "# quadratic n\n",
    "dist_rep_quad = hd_limits_rep_dims_quad.compute_distance(size=100000)\n",
    "\n",
    "# sqrt n\n",
    "dist_rep_sqrt = hd_limits_rep_dims_sqrt.compute_distance(size=100000)\n"
   ]
  },
  {
   "cell_type": "code",
   "execution_count": 24,
   "metadata": {},
   "outputs": [],
   "source": [
    "labels = {\n",
    "    \"cond\": \"Non-degen.\", \n",
    "    \"mm_full\": \"Degen. Gamma\",\n",
    "#     \"mm_chi\": \"Degen. Chi-square\",\n",
    "}\n",
    "\n",
    "dist_rep.replace(labels, inplace=True)\n",
    "dist_rep_quad.replace(labels, inplace=True)\n",
    "dist_rep_sqrt.replace(labels, inplace=True)"
   ]
  },
  {
   "cell_type": "code",
   "execution_count": 25,
   "metadata": {},
   "outputs": [],
   "source": [
    "seeds = dist_rep_quad.loc[dist_rep_quad.name.isin([\"Degen. Gamma\"]), \"seed\"].unique()\n",
    "# dist_rep_quad.loc[dist_rep_quad.name.isin([\"Non-degen.\"]), \"seed\"].unique()"
   ]
  },
  {
   "cell_type": "code",
   "execution_count": 26,
   "metadata": {},
   "outputs": [
    {
     "data": {
      "image/png": "[encoded data removed]",
      "text/plain": [
       "<Figure size 720x201.6 with 3 Axes>"
      ]
     },
     "metadata": {
      "needs_background": "light"
     },
     "output_type": "display_data"
    }
   ],
   "source": [
    "figs, axes = plt.subplots(nrows=1, ncols=3, figsize=(10, 2.8))\n",
    "\n",
    "colors = [\"C1\", \"C2\"]\n",
    "\n",
    "# fixed n\n",
    "sns.lineplot(\n",
    "    ax=axes[0],\n",
    "    data=dist_rep.loc[(dist_rep.name.isin(labels.values())) & (dist_rep.seed.isin(seeds))], \n",
    "    x=\"dim\", \n",
    "    y=\"dist\", \n",
    "    hue=\"name\",\n",
    "    style=\"name\",\n",
    "    linewidth=2,\n",
    "    markers=True,\n",
    "    palette=colors,\n",
    ")\n",
    "\n",
    "axes[0].set_xlabel(\"Dimension\", fontsize=15)\n",
    "axes[0].set_ylabel(\"Distance\", fontsize=20)\n",
    "axes[0].set_ylim(bottom=0.)\n",
    "axes[0].set_xscale(\"log\")\n",
    "axes[0].set_xticks([1, 10, 100, 1000])\n",
    "axes[0].tick_params(labelsize=15)\n",
    "axes[0].legend([],[], frameon=False)\n",
    "\n",
    "# sqrt n\n",
    "sns.lineplot(\n",
    "    ax=axes[1],\n",
    "    data=dist_rep_sqrt.loc[dist_rep_sqrt.name.isin(labels.values())], \n",
    "    x=\"dim\", \n",
    "    y=\"dist\", \n",
    "    hue=\"name\",\n",
    "    style=\"name\",\n",
    "    linewidth=2,\n",
    "    markers=True,\n",
    "    palette=colors,\n",
    ")\n",
    "\n",
    "axes[1].set_xlabel(\"Dimension\", fontsize=15)\n",
    "axes[1].set_ylabel(\"\")\n",
    "axes[1].set_ylim(bottom=0.)\n",
    "axes[1].set_xscale(\"log\")\n",
    "axes[1].set_xticks([1, 10, 100, 1000])\n",
    "axes[1].tick_params(labelsize=15)\n",
    "axes[1].legend([],[], frameon=False)\n",
    "\n",
    "# quad n\n",
    "sns.lineplot(\n",
    "    ax=axes[2],\n",
    "    data=dist_rep_quad.loc[dist_rep_quad.name.isin(labels.values())], \n",
    "    x=\"dim\", \n",
    "    y=\"dist\", \n",
    "    hue=\"name\",\n",
    "    style=\"name\",\n",
    "    linewidth=2,\n",
    "    markers=True,\n",
    "    palette=colors,\n",
    ")\n",
    "\n",
    "axes[2].set_xlabel(\"Dimension\", fontsize=15)\n",
    "axes[2].set_ylabel(\"\")\n",
    "axes[2].set_ylim(bottom=0.)\n",
    "axes[2].set_xscale(\"log\")\n",
    "axes[2].tick_params(labelsize=15)\n",
    "axes[2].legend([],[], frameon=False)\n",
    "axes[2].set_xticks([1, 10, 100])\n",
    "\n",
    "axes[0].legend(\n",
    "    fontsize=15, bbox_to_anchor=(2.8, 1.25), ncol=4, #columnspacing=0.7, handletextpad=0.01\n",
    ")\n",
    "\n",
    "plt.subplots_adjust(\n",
    "    wspace=0.3,\n",
    ")\n",
    "# plt.savefig(f\"../figs/high_dim/dist_{STATISTIC}_{KERNEL.__name__}_ns_dims.pdf\", bbox_inches=\"tight\")"
   ]
  },
  {
   "cell_type": "markdown",
   "metadata": {},
   "source": [
    "# MMD"
   ]
  },
  {
   "cell_type": "code",
   "execution_count": 33,
   "metadata": {},
   "outputs": [],
   "source": [
    "tf.random.set_seed(1)\n",
    "\n",
    "DELTA = 2.\n",
    "\n",
    "BANDWIDTH_POWER = 1.\n",
    "\n",
    "STATISTIC = \"mmd\"\n",
    "\n",
    "KERNEL = RBF \n",
    "\n",
    "DIR = \"../res/high_dim\"\n",
    "SUFFIX = f\"delta{DELTA}_r{BANDWIDTH_POWER}_{STATISTIC}_{KERNEL.__name__}\""
   ]
  },
  {
   "cell_type": "code",
   "execution_count": 34,
   "metadata": {},
   "outputs": [],
   "source": [
    "dims = [2, 4, 25, 50, 100]\n",
    "\n",
    "ns_sqrt = [2 * int(d**0.5) for d in dims]\n",
    "\n",
    "ns_linear = [2 * int(d) for d in dims]\n",
    "\n",
    "ns_quad = [2 * int(d**1.2) for d in dims]\n",
    "\n",
    "ns_cube = [2 * int(d**2.2) for d in dims]"
   ]
  },
  {
   "cell_type": "code",
   "execution_count": 35,
   "metadata": {},
   "outputs": [],
   "source": [
    "# load analytical res\n",
    "res_analytical_save = pd.read_csv(\n",
    "    f\"{DIR}/res_analytical_{SUFFIX}.csv\",\n",
    ")\n",
    "# res_analytical = {c: res_analytical_save[c].to_list() for c in res_analytical_save.columns}\n",
    "# dims = list(res_analytical[\"dim\"])\n",
    "res_analytical = res_analytical_save.set_index(\"dim\", drop=False)"
   ]
  },
  {
   "cell_type": "code",
   "execution_count": 36,
   "metadata": {},
   "outputs": [],
   "source": [
    "# load empirical results\n",
    "# fixed n\n",
    "\n",
    "# sqrt increasing n\n",
    "stats_res_list_sqrt = pickle.load(\n",
    "    open(f\"{DIR}/stats_res_rep_{SUFFIX}_sqrt_ld.p\", \"rb\"),\n",
    ")\n",
    "\n",
    "# linear increasing n\n",
    "stats_res_list_linear = pickle.load(\n",
    "    open(f\"{DIR}/stats_res_rep_{SUFFIX}_linear_ld.p\", \"rb\"),\n",
    ")\n",
    "\n",
    "# quadratic increasing n\n",
    "stats_res_list_quad = pickle.load(\n",
    "    open(f\"{DIR}/stats_res_rep_{SUFFIX}_quad_ld.p\", \"rb\"),\n",
    ")\n",
    "\n",
    "# cubic increasing n\n",
    "stats_res_list_cube = pickle.load(\n",
    "    open(f\"{DIR}/stats_res_rep_{SUFFIX}_cub_ld.p\", \"rb\"),\n",
    ")\n"
   ]
  },
  {
   "cell_type": "markdown",
   "metadata": {},
   "source": [
    "## Initialise result classes"
   ]
  },
  {
   "cell_type": "code",
   "execution_count": 37,
   "metadata": {},
   "outputs": [
    {
     "name": "stdout",
     "output_type": "stream",
     "text": [
      "dim: 100\n"
     ]
    }
   ],
   "source": [
    "# sqrt\n",
    "d = dims[-1]\n",
    "print(\"dim:\", d)\n",
    "ts_sqrt = res_analytical.loc[d, \"expectation\"] * np.linspace(.25, 1.75, 101)\n",
    "\n",
    "hd_limits_sqrt = hd.LimitDistExperimentRepeatedMultiDims(\n",
    "    empirical_vals_dims_list=stats_res_list_sqrt,\n",
    "    res_analytical=res_analytical,\n",
    "    dims=dims,\n",
    "    ns=ns_sqrt,\n",
    "    ts=ts_sqrt,\n",
    ")"
   ]
  },
  {
   "cell_type": "code",
   "execution_count": 38,
   "metadata": {},
   "outputs": [
    {
     "name": "stdout",
     "output_type": "stream",
     "text": [
      "dim: 100\n"
     ]
    }
   ],
   "source": [
    "# linear\n",
    "d = dims[-1]\n",
    "print(\"dim:\", d)\n",
    "ts_linear = res_analytical.loc[d, \"expectation\"] * np.linspace(.25, 1.75, 101)\n",
    "\n",
    "hd_limits_linear = hd.LimitDistExperimentRepeatedMultiDims(\n",
    "    empirical_vals_dims_list=stats_res_list_linear,\n",
    "    res_analytical=res_analytical,\n",
    "    dims=dims,\n",
    "    ns=ns_linear,\n",
    "    ts=ts_linear,\n",
    ")"
   ]
  },
  {
   "cell_type": "code",
   "execution_count": 39,
   "metadata": {},
   "outputs": [
    {
     "name": "stdout",
     "output_type": "stream",
     "text": [
      "dim: 100\n"
     ]
    }
   ],
   "source": [
    "# quad\n",
    "d = dims[-1]\n",
    "print(\"dim:\", d)\n",
    "ts_quad = res_analytical.loc[d, \"expectation\"] * np.linspace(.25, 1.75, 101)\n",
    "\n",
    "hd_limits_quad = hd.LimitDistExperimentRepeatedMultiDims(\n",
    "    empirical_vals_dims_list=stats_res_list_quad,\n",
    "    res_analytical=res_analytical,\n",
    "    dims=dims,\n",
    "    ns=ns_quad,\n",
    "    ts=ts_quad,\n",
    ")"
   ]
  },
  {
   "cell_type": "code",
   "execution_count": 40,
   "metadata": {},
   "outputs": [
    {
     "name": "stdout",
     "output_type": "stream",
     "text": [
      "dim: 100\n"
     ]
    }
   ],
   "source": [
    "# cubic\n",
    "d = dims[-1]\n",
    "print(\"dim:\", d)\n",
    "ts_cube = res_analytical.loc[d, \"expectation\"] * np.linspace(.25, 1.75, 101)\n",
    "\n",
    "hd_limits_cube = hd.LimitDistExperimentRepeatedMultiDims(\n",
    "    empirical_vals_dims_list=stats_res_list_cube,\n",
    "    res_analytical=res_analytical,\n",
    "    dims=dims,\n",
    "    ns=ns_cube,\n",
    "    ts=ts_cube,\n",
    ")"
   ]
  },
  {
   "cell_type": "markdown",
   "metadata": {},
   "source": [
    "## Distance"
   ]
  },
  {
   "cell_type": "code",
   "execution_count": 41,
   "metadata": {},
   "outputs": [],
   "source": [
    "legend_dict = {\n",
    "    \"probs\": \"Exceeding prob\", \n",
    "    \"cond\": \"Classic\", \n",
    "    \"full\": \"High dim Gaussian\",\n",
    "    \"mm_full\": \"High dim Gamma\",\n",
    "}"
   ]
  },
  {
   "cell_type": "code",
   "execution_count": 42,
   "metadata": {},
   "outputs": [
    {
     "name": "stderr",
     "output_type": "stream",
     "text": [
      "100%|████████████████████████████████████████████████████████████████████████████████████████████████████████████████████████████████████████████████████████████████████████████| 5/5 [00:11<00:00,  2.26s/it]\n",
      "100%|████████████████████████████████████████████████████████████████████████████████████████████████████████████████████████████████████████████████████████████████████████████| 5/5 [00:10<00:00,  2.11s/it]\n",
      "100%|████████████████████████████████████████████████████████████████████████████████████████████████████████████████████████████████████████████████████████████████████████████| 5/5 [00:10<00:00,  2.15s/it]\n",
      "100%|████████████████████████████████████████████████████████████████████████████████████████████████████████████████████████████████████████████████████████████████████████████| 5/5 [00:10<00:00,  2.09s/it]\n"
     ]
    }
   ],
   "source": [
    "# compute distances\n",
    "# sqrt n\n",
    "dist_rep_sqrt = hd_limits_sqrt.compute_distance(size=100000)\n",
    "dist_rep_sqrt.replace(legend_dict, inplace=True)\n",
    "\n",
    "# linear n\n",
    "dist_rep_linear = hd_limits_linear.compute_distance(size=100000)\n",
    "dist_rep_linear.replace(legend_dict, inplace=True)\n",
    "\n",
    "# quadratic n\n",
    "dist_rep_quad = hd_limits_quad.compute_distance(size=100000)\n",
    "dist_rep_quad.replace(legend_dict, inplace=True)\n",
    "\n",
    "# cubic n\n",
    "dist_rep_cube = hd_limits_cube.compute_distance(size=100000)\n",
    "dist_rep_cube.replace(legend_dict, inplace=True)"
   ]
  },
  {
   "cell_type": "code",
   "execution_count": 44,
   "metadata": {},
   "outputs": [
    {
     "data": {
      "image/png": "[encoded data removed]",
      "text/plain": [
       "<Figure size 864x216 with 4 Axes>"
      ]
     },
     "metadata": {
      "needs_background": "light"
     },
     "output_type": "display_data"
    }
   ],
   "source": [
    "figs, axes = plt.subplots(nrows=1, ncols=4, figsize=(12, 3))\n",
    "\n",
    "name_list = [\"Classic\", \"High dim Gamma\", \"High dim Gaussian\"]\n",
    "\n",
    "# sqrt n\n",
    "sns.lineplot(\n",
    "    ax=axes[0],\n",
    "    data=dist_rep_sqrt.loc[(dist_rep_sqrt.name.isin(name_list))], \n",
    "    x=\"dim\", \n",
    "    y=\"dist\", \n",
    "    hue=\"name\",\n",
    "    style=\"name\",\n",
    "    linewidth=2,\n",
    "    markers=True,\n",
    ")\n",
    "\n",
    "axes[0].set_xlabel(\"Dimension\", fontsize=15)\n",
    "axes[0].set_ylabel(\"Distance\", fontsize=15)\n",
    "axes[0].set_ylim(bottom=0.)\n",
    "axes[0].set_xscale(\"log\")\n",
    "axes[0].tick_params(labelsize=15)\n",
    "axes[0].legend([],[], frameon=False)\n",
    "axes[0].legend(\n",
    "    fontsize=14, bbox_to_anchor=(3.75, 1.25), ncol=4, #columnspacing=0.7, handletextpad=0.01\n",
    ")\n",
    "\n",
    "# linear n\n",
    "sns.lineplot(\n",
    "    ax=axes[1],\n",
    "    data=dist_rep_linear.loc[dist_rep_linear.name.isin(name_list)], \n",
    "    x=\"dim\", \n",
    "    y=\"dist\", \n",
    "    hue=\"name\",\n",
    "    style=\"name\",\n",
    "    linewidth=2,\n",
    "    markers=True,\n",
    ")\n",
    "\n",
    "axes[1].set_xlabel(\"Dimension\", fontsize=15)\n",
    "axes[1].set_ylabel(\"\")\n",
    "axes[1].set_ylim(bottom=0.)\n",
    "axes[1].set_xscale(\"log\")\n",
    "axes[1].tick_params(labelsize=15)\n",
    "axes[1].legend([],[], frameon=False)\n",
    "\n",
    "# quad n\n",
    "sns.lineplot(\n",
    "    ax=axes[2],\n",
    "    data=dist_rep_quad.loc[dist_rep_quad.name.isin(name_list)], \n",
    "    x=\"dim\", \n",
    "    y=\"dist\", \n",
    "    hue=\"name\",\n",
    "    style=\"name\",\n",
    "    linewidth=2,\n",
    "    markers=True,\n",
    ")\n",
    "\n",
    "axes[2].set_xlabel(\"Dimension\", fontsize=15)\n",
    "axes[2].set_ylabel(\"\")\n",
    "axes[2].set_ylim(bottom=0.)\n",
    "axes[2].set_xscale(\"log\")\n",
    "axes[2].tick_params(labelsize=15)\n",
    "axes[2].legend([],[], frameon=False)\n",
    "\n",
    "# cubic n\n",
    "sns.lineplot(\n",
    "    ax=axes[3],\n",
    "    data=dist_rep_cube.loc[dist_rep_cube.name.isin(name_list)], \n",
    "    x=\"dim\", \n",
    "    y=\"dist\", \n",
    "    hue=\"name\",\n",
    "    style=\"name\",\n",
    "    linewidth=2,\n",
    "    markers=True,\n",
    ")\n",
    "\n",
    "axes[3].set_xlabel(\"Dimension\", fontsize=15)\n",
    "axes[3].set_ylabel(\"\")\n",
    "axes[3].set_ylim(bottom=0.)\n",
    "axes[3].set_xscale(\"log\")\n",
    "axes[3].tick_params(labelsize=15)\n",
    "axes[3].legend([],[], frameon=False)\n",
    "\n",
    "plt.subplots_adjust(\n",
    "    top=.8,\n",
    "    wspace=0.4,\n",
    ")\n",
    "# plt.savefig(f\"../figs/high_dim/dist_{STATISTIC}_{KERNEL.__name__}_ns_dims.pdf\", bbox_inches=\"tight\")"
   ]
  },
  {
   "cell_type": "code",
   "execution_count": null,
   "metadata": {},
   "outputs": [],
   "source": []
  },
  {
   "cell_type": "code",
   "execution_count": null,
   "metadata": {},
   "outputs": [],
   "source": []
  }
 ],
 "metadata": {
  "kernelspec": {
   "display_name": "pksd",
   "language": "python",
   "name": "pksd"
  },
  "language_info": {
   "codemirror_mode": {
    "name": "ipython",
    "version": 3
   },
   "file_extension": ".py",
   "mimetype": "text/x-python",
   "name": "python",
   "nbconvert_exporter": "python",
   "pygments_lexer": "ipython3",
   "version": "3.8.10"
  }
 },
 "nbformat": 4,
 "nbformat_minor": 4
}
