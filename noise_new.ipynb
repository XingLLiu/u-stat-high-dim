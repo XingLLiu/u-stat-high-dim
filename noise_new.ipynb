{
 "cells": [
  {
   "cell_type": "code",
   "execution_count": 1,
   "id": "8d4336c8",
   "metadata": {},
   "outputs": [],
   "source": [
    "%load_ext autoreload\n",
    "%autoreload 2\n",
    "\n",
    "import src.ksd.models as models\n",
    "from src.ksd.find_modes import find_modes, pairwise_directions, run_bfgs\n",
    "from src.ksd.langevin import RandomWalkMH, RandomWalkBarker\n",
    "import src.ksd.langevin as mcmc\n",
    "from src.ksd.ksd import KSD\n",
    "from src.ksd.kernel import IMQ\n",
    "from src.ksd.bootstrap import Bootstrap\n",
    "from src.ksd.find_modes import find_modes, pairwise_directions\n",
    "from tqdm.notebook import tqdm, trange\n",
    "\n",
    "import numpy as np\n",
    "import pandas as pd\n",
    "import tensorflow as tf\n",
    "import tensorflow_probability as tfp\n",
    "tfd = tfp.distributions\n",
    "import matplotlib.pyplot as plt\n",
    "import seaborn as sns\n",
    "\n",
    "import kgof.density as density\n",
    "import kgof.data as data\n",
    "\n",
    "MCMCKernel = RandomWalkMH # RandomWalkBarker "
   ]
  },
  {
   "cell_type": "code",
   "execution_count": 2,
   "id": "f17d5c98",
   "metadata": {},
   "outputs": [
    {
     "name": "stderr",
     "output_type": "stream",
     "text": [
      "2022-04-03 11:29:34.521469: I tensorflow/core/platform/cpu_feature_guard.cc:142] This TensorFlow binary is optimized with oneAPI Deep Neural Network Library (oneDNN) to use the following CPU instructions in performance-critical operations:  AVX2 AVX512F FMA\n",
      "To enable them in other operations, rebuild TensorFlow with the appropriate compiler flags.\n",
      "2022-04-03 11:29:35.180748: I tensorflow/core/common_runtime/gpu/gpu_device.cc:1510] Created device /job:localhost/replica:0/task:0/device:GPU:0 with 9503 MB memory:  -> device: 0, name: GeForce RTX 2080 Ti, pci bus id: 0000:da:00.0, compute capability: 7.5\n"
     ]
    }
   ],
   "source": [
    "n = 1000\n",
    "dim = 1\n",
    "\n",
    "mean1 = tf.constant([[0.]])\n",
    "mean2 = tf.constant([[8.]])\n",
    "noise_mean = tf.constant([[6.]])"
   ]
  },
  {
   "cell_type": "code",
   "execution_count": 3,
   "id": "79487ac9",
   "metadata": {},
   "outputs": [],
   "source": [
    "tf.random.set_seed(1)"
   ]
  },
  {
   "cell_type": "code",
   "execution_count": 4,
   "id": "40199589",
   "metadata": {},
   "outputs": [],
   "source": [
    "sample_q = tf.random.normal((n, dim))\n",
    "sample_p = tf.concat([\n",
    "    tf.random.normal((n//2, dim)) + mean1,\n",
    "    tf.random.normal((n//2, dim)) + mean2\n",
    "], axis=0)\n",
    "\n",
    "noise = tf.random.normal((n, dim)) + noise_mean\n",
    "conv_sample_q = sample_q + noise\n",
    "conv_sample_p = sample_p + noise"
   ]
  },
  {
   "cell_type": "code",
   "execution_count": 5,
   "id": "826a34ad",
   "metadata": {},
   "outputs": [],
   "source": [
    "res = pd.DataFrame({\n",
    "    \"x\": tf.concat([sample_q, conv_sample_q, sample_p, conv_sample_p], axis=0).numpy()[:, 0],\n",
    "    \"type\": np.repeat([\"q\", \"conv q\", \"p\", \"conv p\"], n) \n",
    "})"
   ]
  },
  {
   "cell_type": "code",
   "execution_count": 6,
   "id": "2423d7b5",
   "metadata": {
    "scrolled": true
   },
   "outputs": [
    {
     "data": {
      "text/plain": [
       "<AxesSubplot:xlabel='x', ylabel='Count'>"
      ]
     },
     "execution_count": 6,
     "metadata": {},
     "output_type": "execute_result"
    },
    {
     "data": {
      "image/png": "[encoded data removed]",
      "text/plain": [
       "<Figure size 432x288 with 1 Axes>"
      ]
     },
     "metadata": {
      "needs_background": "light"
     },
     "output_type": "display_data"
    }
   ],
   "source": [
    "sns.histplot(data=res.loc[res.type.isin([\"conv q\", \"conv p\"])], x=\"x\", hue=\"type\")"
   ]
  },
  {
   "cell_type": "markdown",
   "id": "43817117",
   "metadata": {},
   "source": [
    "# All modes"
   ]
  },
  {
   "cell_type": "code",
   "execution_count": 212,
   "id": "a8986d1b",
   "metadata": {},
   "outputs": [],
   "source": [
    "tf.random.set_seed(0)"
   ]
  },
  {
   "cell_type": "code",
   "execution_count": 213,
   "id": "60a17832",
   "metadata": {},
   "outputs": [
    {
     "name": "stdout",
     "output_type": "stream",
     "text": [
      "ratio sample: [0.26847887 0.09043504 0.03893972 0.02102416 0.01719953 0.09482022\n",
      " 0.05842447 0.19452642 0.10822832 0.1079233 ]\n",
      "means tf.Tensor(\n",
      "[[ 30.850624    21.793678    -2.8520584   -2.2961273  -47.464836\n",
      "  -37.048294    23.749985   -16.390038   -20.778418     8.855511  ]\n",
      " [-33.257523    36.754395    10.536575    23.39692    -37.837555\n",
      "    1.9452591   18.663872    28.164268   -13.216137    -6.1206207 ]\n",
      " [ -4.0771484  -33.40682     -3.681408     8.160164     2.4738426\n",
      "   49.923935    -6.6683884  -48.540306   -26.45271    -19.12632   ]\n",
      " [ 15.233673    32.454147     3.040409   -44.062378    46.3275\n",
      "  -13.349567    35.74356     -1.6536827   35.894333   -35.04809   ]\n",
      " [-26.225864   -10.352993    42.282043   -21.997118    40.168343\n",
      "  -22.477806   -27.264477     1.1324654   49.665962    26.9096    ]\n",
      " [ -5.1683197  -20.337093   -19.150888     4.9318314  -17.107628\n",
      "   41.55744     -0.20542145  15.611099    -3.103794    45.249786  ]\n",
      " [  9.788586    15.399231   -22.528421   -15.656185   -19.396137\n",
      "   37.475334    22.322632    48.896156    27.279243    18.528519  ]\n",
      " [ 39.35652     -0.67061234  46.538284    16.036987    49.132027\n",
      "   -9.274792   -24.861156    38.54438     30.501022    26.59626   ]\n",
      " [ 34.077904    41.6286     -19.432331    20.878136   -39.77535\n",
      "  -32.050632   -10.458469    13.262238   -36.80577     47.97399   ]\n",
      " [ 22.76506     17.420639    12.641682    -8.123707    33.86593\n",
      "    4.813431     5.4067      20.371262    43.850998    38.73584   ]], shape=(10, 10), dtype=float32)\n"
     ]
    }
   ],
   "source": [
    "dim = 2\n",
    "\n",
    "# k = 2\n",
    "# delta = 8.\n",
    "# ratio_sample = 0.3\n",
    "# ratio_target = 0.5\n",
    "\n",
    "# target, log_prob_fn = models.create_mixture_gaussian_kdim(\n",
    "#     dim=dim, k=k, delta=delta, return_logprob=True, ratio=ratio_target)\n",
    "# proposal_off, log_prob_off_fn = models.create_mixture_gaussian_kdim(\n",
    "#     dim=dim, k=k, delta=delta, return_logprob=True, ratio=ratio_sample)\n",
    "\n",
    "## RBM\n",
    "# dh = 2\n",
    "# c_off = tf.concat([tf.ones(2) * 1., tf.zeros(dh-2)], axis=0)\n",
    "# target, log_prob_fn = models.create_rbm(c=0., dx=dim, dh=dh, burnin_number=2000, return_logprob=True)\n",
    "# proposal_off, log_prob_off_fn = models.create_rbm(c=c_off, dx=dim, dh=dh, burnin_number=2000, return_logprob=True)\n",
    "\n",
    "\n",
    "## t-banana\n",
    "nmodes = 10\n",
    "nbanana = 5\n",
    "ratio_s_var = 1.\n",
    "\n",
    "ratio_target = [1/nmodes] * nmodes\n",
    "\n",
    "random_weights = tf.exp(tf.random.normal((nmodes,)) * ratio_s_var)\n",
    "ratio_sample = random_weights / tf.reduce_sum(random_weights)\n",
    "print(\"ratio sample:\", ratio_sample.numpy())\n",
    "\n",
    "loc = tfp.distributions.Uniform(low=-tf.ones((dim,))*50, high=tf.ones((dim,))*50).sample(nmodes) # uniform in [-20, 20]^d\n",
    "print(\"means\", loc)\n",
    "\n",
    "b = 0.003 # 0.03\n",
    "target, log_prob_fn = models.create_mixture_t_banana(dim=dim, ratio=ratio_target, loc=loc, b=b,\n",
    "    nbanana=nbanana, return_logprob=True)\n",
    "proposal_off, log_prob_off_fn = models.create_mixture_t_banana(dim=dim, ratio=ratio_sample, loc=loc, b=b,\n",
    "    nbanana=nbanana, return_logprob=True)\n",
    "\n",
    "\n",
    "## scaled Gaussian \n",
    "# ratio_t = 0.5\n",
    "# ratio_s = 0.3\n",
    "# target, log_prob_fn = models.create_mixture_gaussian_scaled(ratio=ratio_t, return_logprob=True)\n",
    "# proposal_off, log_prob_off_fn = models.create_mixture_gaussian_scaled(ratio=ratio_s, return_logprob=True)"
   ]
  },
  {
   "cell_type": "code",
   "execution_count": 214,
   "id": "8eceb397",
   "metadata": {},
   "outputs": [],
   "source": [
    "n = 1000\n",
    "samples_on = target.sample(n)\n",
    "samples_on_df = pd.DataFrame({f\"x{i}\": samples_on[:, i] for i in range(dim)})\n",
    "samples_on_df[\"type\"] = \"on\"\n",
    "\n",
    "samples_off = proposal_off.sample(n)\n",
    "samples_off_df = pd.DataFrame({f\"x{i}\": samples_off[:, i] for i in range(dim)})\n",
    "samples_off_df[\"type\"] = \"off\"\n",
    "\n",
    "samples_df = pd.concat([samples_on_df, samples_off_df], ignore_index=True)"
   ]
  },
  {
   "cell_type": "code",
   "execution_count": 215,
   "id": "8d52071a",
   "metadata": {
    "scrolled": true
   },
   "outputs": [
    {
     "data": {
      "image/png": "[encoded data removed]",
      "text/plain": [
       "<Figure size 432x288 with 1 Axes>"
      ]
     },
     "metadata": {
      "needs_background": "light"
     },
     "output_type": "display_data"
    }
   ],
   "source": [
    "_ = sns.scatterplot(data=samples_df, x=\"x0\", y=\"x1\", hue=\"type\")"
   ]
  },
  {
   "cell_type": "code",
   "execution_count": 216,
   "id": "556583c1",
   "metadata": {},
   "outputs": [],
   "source": [
    "ntrain = n // 2\n",
    "threshold = 1.\n",
    "\n",
    "samples_init = samples_off\n",
    "# samples_init = samples_on\n",
    "\n",
    "sample_off_train, sample_off_test = samples_init[:ntrain, ], samples_init[ntrain:, ]\n",
    "\n",
    "start_pts = sample_off_train\n",
    "mode_list, inv_hess_list = find_modes(start_pts, log_prob_fn, grad_log=None, threshold=threshold)"
   ]
  },
  {
   "cell_type": "code",
   "execution_count": 217,
   "id": "b018b5e9",
   "metadata": {},
   "outputs": [],
   "source": [
    "proposal_dict = mcmc.prepare_proposal_input_all(mode_list=mode_list, inv_hess_list=inv_hess_list)"
   ]
  },
  {
   "cell_type": "code",
   "execution_count": 218,
   "id": "8cc42362",
   "metadata": {},
   "outputs": [],
   "source": [
    "_, ind_pair_list = pairwise_directions(mode_list, return_index=True)"
   ]
  },
  {
   "cell_type": "code",
   "execution_count": 219,
   "id": "bac299f3",
   "metadata": {},
   "outputs": [],
   "source": [
    "std = 0.9"
   ]
  },
  {
   "cell_type": "code",
   "execution_count": 220,
   "id": "54891400",
   "metadata": {
    "scrolled": false
   },
   "outputs": [],
   "source": [
    "T = 500\n",
    "\n",
    "mh = MCMCKernel(log_prob=log_prob_fn)\n",
    "mh.run(steps=T, std=std, x_init=sample_off_train, ind_pair_list=ind_pair_list, **proposal_dict)"
   ]
  },
  {
   "cell_type": "code",
   "execution_count": 221,
   "id": "5ea22343",
   "metadata": {},
   "outputs": [
    {
     "data": {
      "image/png": "[encoded data removed]",
      "text/plain": [
       "<Figure size 432x288 with 1 Axes>"
      ]
     },
     "metadata": {
      "needs_background": "light"
     },
     "output_type": "display_data"
    }
   ],
   "source": [
    "xx = (np.sum(mh.if_accept.numpy(), axis=0) > 0.).astype(np.float32)\n",
    "_ = plt.hist(xx)"
   ]
  },
  {
   "cell_type": "code",
   "execution_count": 222,
   "id": "148ab23b",
   "metadata": {
    "scrolled": false
   },
   "outputs": [
    {
     "data": {
      "image/png": "[encoded data removed]",
      "text/plain": [
       "<Figure size 432x432 with 3 Axes>"
      ]
     },
     "metadata": {
      "needs_background": "light"
     },
     "output_type": "display_data"
    }
   ],
   "source": [
    "x_0 = mh.x[0, :, :].numpy()\n",
    "x_t = mh.x[-1, :, :].numpy()\n",
    "\n",
    "x0_df = pd.DataFrame({f\"x{i}\": x_0[:, i] for i in range(dim)})\n",
    "x0_df[\"type\"] = \"init\"\n",
    "\n",
    "xt_df = pd.DataFrame({f\"x{i}\": x_t[:, i] for i in range(dim)})\n",
    "xt_df[\"type\"] = \"final\"\n",
    "\n",
    "perturbed_df = pd.concat([x0_df, xt_df], ignore_index=True)\n",
    "\n",
    "_ = sns.jointplot(data=perturbed_df, x=\"x0\", y=\"x1\", hue=\"type\")"
   ]
  },
  {
   "cell_type": "code",
   "execution_count": 223,
   "id": "00e4b18a",
   "metadata": {},
   "outputs": [],
   "source": [
    "num_boot = 800\n",
    "alpha = 0.05\n",
    "nrep = 1\n",
    "\n",
    "kernel = IMQ(med_heuristic=True)\n",
    "ksd = KSD(target=target, kernel=kernel)\n",
    "bootstrap = Bootstrap(ksd, n//2)"
   ]
  },
  {
   "cell_type": "code",
   "execution_count": 123,
   "id": "259806da",
   "metadata": {},
   "outputs": [],
   "source": [
    "multinom_samples = bootstrap.multinom.sample((nrep, num_boot))\n",
    "multinom_one_sample = multinom_samples[0, :]"
   ]
  },
  {
   "cell_type": "code",
   "execution_count": 225,
   "id": "aa4d826b",
   "metadata": {},
   "outputs": [
    {
     "name": "stdout",
     "output_type": "stream",
     "text": [
      "before:  0.03245942571785269 \n",
      "after: 0.03245942571785269\n"
     ]
    }
   ],
   "source": [
    "_, p_val_no_pert = bootstrap.test_once(alpha=alpha, num_boot=num_boot, X=x_0, multinom_samples=multinom_one_sample)\n",
    "\n",
    "_, p_val = bootstrap.test_once(alpha=alpha, num_boot=num_boot, X=x_t, multinom_samples=multinom_one_sample)\n",
    "print(\"before: \", p_val_no_pert, \"\\nafter:\", p_val)"
   ]
  },
  {
   "cell_type": "code",
   "execution_count": null,
   "id": "d2088227",
   "metadata": {},
   "outputs": [],
   "source": []
  },
  {
   "cell_type": "code",
   "execution_count": null,
   "id": "e98c95e9",
   "metadata": {},
   "outputs": [],
   "source": [
    "def repeat_experiment(nrep, B_scale):    \n",
    "    num_boot = 800\n",
    "    alpha = 0.05\n",
    "\n",
    "    kernel = IMQ(med_heuristic=True)\n",
    "    ksd = KSD(target=off_target2, kernel=kernel)\n",
    "    bootstrap = Bootstrap(ksd, n)\n",
    "    \n",
    "    multinom_samples = bootstrap.multinom.sample((nrep, num_boot))\n",
    "    multinom_one_sample = multinom_samples[0, :]\n",
    "    \n",
    "    p_val_list = []\n",
    "    for i in trange(nrep):\n",
    "        off_sample = off_target.sample(n)\n",
    "    \n",
    "        kernel = IMQ(med_heuristic=True)\n",
    "        ksd = KSD(target=off_target, kernel=kernel)\n",
    "        bootstrap = Bootstrap(ksd, n)\n",
    "        \n",
    "        multinom_one_sample = multinom_samples[i, :]\n",
    "        \n",
    "        _, p_val = bootstrap.test_once(alpha=alpha, num_boot=num_boot, X=off_sample, multinom_samples=multinom_one_sample)\n",
    "\n",
    "        p_val_list.append(p_val)\n",
    "        \n",
    "    res = pd.DataFrame(p_val_list, columns=[\"pval\"])\n",
    "    return res"
   ]
  },
  {
   "cell_type": "code",
   "execution_count": null,
   "id": "c354d9be",
   "metadata": {},
   "outputs": [],
   "source": [
    "def repeat_experiment_rbm(nrep, B_scale):    \n",
    "    off_target2, log_prob_off_fn2 = models.create_rbm(\n",
    "        B_scale=B_scale, c=c_loc_off, dx=dim, dh=dh, return_logprob=True, burnin_number=2000)\n",
    "\n",
    "    num_boot = 800\n",
    "    alpha = 0.05\n",
    "\n",
    "    kernel = IMQ(med_heuristic=True)\n",
    "    ksd = KSD(target=off_target2, kernel=kernel)\n",
    "    bootstrap = Bootstrap(ksd, n)\n",
    "    \n",
    "    multinom_samples = bootstrap.multinom.sample((nrep, num_boot))\n",
    "    multinom_one_sample = multinom_samples[0, :]\n",
    "    \n",
    "    p_val_list = []\n",
    "    for i in trange(nrep):\n",
    "        off_sample2 = off_target2.sample(n)\n",
    "        syn_sample = off_sample2 #!\n",
    "    \n",
    "        kernel = IMQ(med_heuristic=True)\n",
    "        ksd = KSD(target=off_target2, kernel=kernel)\n",
    "        bootstrap = Bootstrap(ksd, n)\n",
    "        \n",
    "        multinom_one_sample = multinom_samples[i, :]\n",
    "        \n",
    "        _, p_val2 = bootstrap.test_once(alpha=alpha, num_boot=num_boot, X=off_sample2, multinom_samples=multinom_one_sample)\n",
    "        _, p_val_sync = bootstrap.test_once(alpha=alpha, num_boot=num_boot, X=syn_sample, multinom_samples=multinom_one_sample)\n",
    "\n",
    "        p_val_list.append((p_val2, \"builtin\"))\n",
    "        p_val_list.append((p_val_sync, \"synthetic\"))\n",
    "        \n",
    "    res = pd.DataFrame(p_val_list, columns=[\"pval\", \"type\"])\n",
    "    return res"
   ]
  },
  {
   "cell_type": "code",
   "execution_count": null,
   "id": "a87c25db",
   "metadata": {},
   "outputs": [],
   "source": []
  },
  {
   "cell_type": "code",
   "execution_count": null,
   "id": "5a66a3f3",
   "metadata": {},
   "outputs": [],
   "source": []
  }
 ],
 "metadata": {
  "kernelspec": {
   "display_name": "fast-mcmc",
   "language": "python",
   "name": "fast-mcmc"
  },
  "language_info": {
   "codemirror_mode": {
    "name": "ipython",
    "version": 3
   },
   "file_extension": ".py",
   "mimetype": "text/x-python",
   "name": "python",
   "nbconvert_exporter": "python",
   "pygments_lexer": "ipython3",
   "version": "3.8.10"
  }
 },
 "nbformat": 4,
 "nbformat_minor": 5
}
