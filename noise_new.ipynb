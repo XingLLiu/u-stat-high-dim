{
 "cells": [
  {
   "cell_type": "code",
   "execution_count": 1,
   "id": "8d4336c8",
   "metadata": {},
   "outputs": [],
   "source": [
    "%load_ext autoreload\n",
    "%autoreload 2\n",
    "\n",
    "import src.ksd.models as models\n",
    "from src.ksd.find_modes import find_modes, pairwise_directions, run_bfgs\n",
    "from src.ksd.langevin import RandomWalkMH, RandomWalkBarker\n",
    "import src.ksd.langevin as mcmc\n",
    "from src.ksd.ksd import KSD\n",
    "from src.ksd.kernel import IMQ\n",
    "from src.ksd.bootstrap import Bootstrap\n",
    "from src.ksd.find_modes import find_modes, pairwise_directions, pairwise_directions_order\n",
    "from tqdm.notebook import tqdm, trange\n",
    "\n",
    "import numpy as np\n",
    "import pandas as pd\n",
    "import tensorflow as tf\n",
    "import tensorflow_probability as tfp\n",
    "tfd = tfp.distributions\n",
    "import matplotlib.pyplot as plt\n",
    "import seaborn as sns\n",
    "\n",
    "import src.kgof.density as density\n",
    "import src.kgof.data as data\n",
    "\n",
    "MCMCKernel = RandomWalkMH # RandomWalkBarker "
   ]
  },
  {
   "cell_type": "code",
   "execution_count": 2,
   "id": "f17d5c98",
   "metadata": {},
   "outputs": [
    {
     "name": "stderr",
     "output_type": "stream",
     "text": [
      "2022-04-20 17:56:49.552615: E tensorflow/stream_executor/cuda/cuda_driver.cc:271] failed call to cuInit: CUDA_ERROR_NO_DEVICE: no CUDA-capable device is detected\n",
      "2022-04-20 17:56:49.552658: I tensorflow/stream_executor/cuda/cuda_diagnostics.cc:169] retrieving CUDA diagnostic information for host: nvidia4\n",
      "2022-04-20 17:56:49.552664: I tensorflow/stream_executor/cuda/cuda_diagnostics.cc:176] hostname: nvidia4\n",
      "2022-04-20 17:56:49.552798: I tensorflow/stream_executor/cuda/cuda_diagnostics.cc:200] libcuda reported version is: 460.27.4\n",
      "2022-04-20 17:56:49.552817: I tensorflow/stream_executor/cuda/cuda_diagnostics.cc:204] kernel reported version is: 460.27.4\n",
      "2022-04-20 17:56:49.552822: I tensorflow/stream_executor/cuda/cuda_diagnostics.cc:310] kernel version seems to match DSO: 460.27.4\n",
      "2022-04-20 17:56:49.553476: I tensorflow/core/platform/cpu_feature_guard.cc:142] This TensorFlow binary is optimized with oneAPI Deep Neural Network Library (oneDNN) to use the following CPU instructions in performance-critical operations:  AVX2 AVX512F FMA\n",
      "To enable them in other operations, rebuild TensorFlow with the appropriate compiler flags.\n"
     ]
    }
   ],
   "source": [
    "n = 1000\n",
    "dim = 1\n",
    "\n",
    "mean1 = tf.constant([[0.]])\n",
    "mean2 = tf.constant([[8.]])\n",
    "noise_mean = tf.constant([[6.]])"
   ]
  },
  {
   "cell_type": "code",
   "execution_count": 3,
   "id": "79487ac9",
   "metadata": {},
   "outputs": [],
   "source": [
    "tf.random.set_seed(1)"
   ]
  },
  {
   "cell_type": "code",
   "execution_count": 4,
   "id": "40199589",
   "metadata": {},
   "outputs": [],
   "source": [
    "sample_q = tf.random.normal((n, dim))\n",
    "sample_p = tf.concat([\n",
    "    tf.random.normal((n//2, dim)) + mean1,\n",
    "    tf.random.normal((n//2, dim)) + mean2\n",
    "], axis=0)\n",
    "\n",
    "noise = tf.random.normal((n, dim)) + noise_mean\n",
    "conv_sample_q = sample_q + noise\n",
    "conv_sample_p = sample_p + noise"
   ]
  },
  {
   "cell_type": "code",
   "execution_count": 5,
   "id": "826a34ad",
   "metadata": {},
   "outputs": [],
   "source": [
    "res = pd.DataFrame({\n",
    "    \"x\": tf.concat([sample_q, conv_sample_q, sample_p, conv_sample_p], axis=0).numpy()[:, 0],\n",
    "    \"type\": np.repeat([\"q\", \"conv q\", \"p\", \"conv p\"], n) \n",
    "})"
   ]
  },
  {
   "cell_type": "code",
   "execution_count": 6,
   "id": "2423d7b5",
   "metadata": {
    "scrolled": true
   },
   "outputs": [
    {
     "data": {
      "text/plain": [
       "<AxesSubplot:xlabel='x', ylabel='Count'>"
      ]
     },
     "execution_count": 6,
     "metadata": {},
     "output_type": "execute_result"
    },
    {
     "data": {
      "image/png": "[encoded data removed]",
      "text/plain": [
       "<Figure size 432x288 with 1 Axes>"
      ]
     },
     "metadata": {
      "needs_background": "light"
     },
     "output_type": "display_data"
    }
   ],
   "source": [
    "sns.histplot(data=res.loc[res.type.isin([\"conv q\", \"conv p\"])], x=\"x\", hue=\"type\")"
   ]
  },
  {
   "cell_type": "markdown",
   "id": "43817117",
   "metadata": {},
   "source": [
    "# All modes"
   ]
  },
  {
   "cell_type": "code",
   "execution_count": 3,
   "id": "514ee8cc",
   "metadata": {},
   "outputs": [],
   "source": [
    "def t_log_prob(x, loc, nv):\n",
    "    dim = x.shape[1]\n",
    "    scale = tf.math.sqrt(0.01 * tf.math.sqrt(float(dim)) * tf.eye(dim))\n",
    "    sigma = scale @ tf.transpose(scale)\n",
    "    sigma_inv = tf.linalg.inv(sigma)\n",
    "    \n",
    "    x_c = tf.matmul(x - loc, sigma_inv, transpose_b=True) # n x dim\n",
    "    x_c_norm_sq = tf.einsum(\n",
    "      \"ij,ij->i\",\n",
    "      x_c,\n",
    "      x - loc) # n\n",
    "    pp = -0.5 * (nv + dim) * tf.math.log(1 + x_c_norm_sq / nv)\n",
    "    return pp\n",
    "\n",
    "def t_score(x, loc, nv):\n",
    "    dim = x.shape[1]\n",
    "    scale = tf.math.sqrt(0.01 * tf.math.sqrt(float(dim)) * tf.eye(dim))\n",
    "    sigma = scale @ tf.transpose(scale)\n",
    "    sigma_inv = tf.linalg.inv(sigma)\n",
    "    \n",
    "    x_c = x - loc\n",
    "    y = tf.matmul(x_c, sigma_inv, transpose_b=True) # n x dim\n",
    "    y_norm_sq = tf.einsum(\n",
    "      \"ij,ij->i\",\n",
    "      y,\n",
    "      x_c) # n\n",
    "    factor = -0.5 * (nv + dim) / (1 + y_norm_sq / nv)\n",
    "    grad = tf.expand_dims(factor, 1) * 2/nv * y\n",
    "    return grad\n",
    "\n",
    "def t_hess(x, loc, nv=7):\n",
    "    dim = x.shape[1]\n",
    "    scale = tf.math.sqrt(0.01 * tf.math.sqrt(float(dim)) * tf.eye(dim))\n",
    "    sigma = scale @ tf.transpose(scale)\n",
    "    sigma_inv = tf.linalg.inv(sigma)\n",
    "    \n",
    "    x_c = x - loc # n x dim\n",
    "    y = tf.matmul(x_c, sigma_inv, transpose_b=True) # n x dim\n",
    "    y_norm_sq = tf.einsum(\"ij,ij->i\", y, x_c) # n\n",
    "    factor1 = tf.expand_dims(-0.5 * (nv + dim) / (1 + y_norm_sq / nv), axis=1) # n x 1\n",
    "    term1 = 2/nv * tf.expand_dims(factor1, axis=-1) * tf.expand_dims(sigma_inv, axis=0) # n x dim x dim\n",
    "    \n",
    "    factor2 = tf.expand_dims(\n",
    "        tf.expand_dims(0.5 * (nv + dim) / (1 + y_norm_sq / nv)**2, axis=1),\n",
    "        axis=1\n",
    "    ) # n x 1 x 1\n",
    "    outer = tf.expand_dims(x_c, axis=-1) @ tf.expand_dims(x_c, axis=1) # n x dim x dim\n",
    "\n",
    "    term2 = 4/nv**2 * factor2 * tf.expand_dims(sigma_inv @ sigma_inv, axis=0) @ outer # n x dim x dim\n",
    "    \n",
    "    hess = term1 + term2\n",
    "    return hess\n",
    "\n",
    "\n",
    "def t_hess_auto(xx, loc):\n",
    "    xx = tf.stack(mode_list, axis=0)\n",
    "\n",
    "    with tf.GradientTape() as g2:\n",
    "        g2.watch(xx)\n",
    "        with tf.GradientTape() as g1:\n",
    "            g1.watch(xx)\n",
    "            pp = t_log_prob(xx, loc[0])\n",
    "        gg = g1.gradient(pp, xx)\n",
    "    gg2 = tf.reduce_sum(g2.jacobian(gg, xx), axis=2)\n",
    "    \n",
    "    return gg2"
   ]
  },
  {
   "cell_type": "code",
   "execution_count": 2,
   "id": "a8986d1b",
   "metadata": {},
   "outputs": [],
   "source": [
    "tf.random.set_seed(1)"
   ]
  },
  {
   "cell_type": "code",
   "execution_count": 3,
   "id": "60a17832",
   "metadata": {},
   "outputs": [
    {
     "name": "stderr",
     "output_type": "stream",
     "text": [
      "2022-04-20 18:22:44.256288: E tensorflow/stream_executor/cuda/cuda_driver.cc:271] failed call to cuInit: CUDA_ERROR_NO_DEVICE: no CUDA-capable device is detected\n",
      "2022-04-20 18:22:44.256329: I tensorflow/stream_executor/cuda/cuda_diagnostics.cc:169] retrieving CUDA diagnostic information for host: nvidia4\n",
      "2022-04-20 18:22:44.256333: I tensorflow/stream_executor/cuda/cuda_diagnostics.cc:176] hostname: nvidia4\n",
      "2022-04-20 18:22:44.256474: I tensorflow/stream_executor/cuda/cuda_diagnostics.cc:200] libcuda reported version is: 460.27.4\n",
      "2022-04-20 18:22:44.256493: I tensorflow/stream_executor/cuda/cuda_diagnostics.cc:204] kernel reported version is: 460.27.4\n",
      "2022-04-20 18:22:44.256497: I tensorflow/stream_executor/cuda/cuda_diagnostics.cc:310] kernel version seems to match DSO: 460.27.4\n",
      "2022-04-20 18:22:44.257437: I tensorflow/core/platform/cpu_feature_guard.cc:142] This TensorFlow binary is optimized with oneAPI Deep Neural Network Library (oneDNN) to use the following CPU instructions in performance-critical operations:  AVX2 AVX512F FMA\n",
      "To enable them in other operations, rebuild TensorFlow with the appropriate compiler flags.\n"
     ]
    }
   ],
   "source": [
    "dim = 2\n",
    "\n",
    "## mixure of gaussians\n",
    "k = 2\n",
    "delta = 8.\n",
    "ratio_sample = 0.3\n",
    "ratio_target = 0.5\n",
    "\n",
    "target, log_prob_fn = models.create_mixture_gaussian_kdim(\n",
    "    dim=dim, k=k, delta=delta, return_logprob=True, ratio=ratio_target)\n",
    "proposal_off, log_prob_off_fn = models.create_mixture_gaussian_kdim(\n",
    "    dim=dim, k=k, delta=delta, return_logprob=True, ratio=ratio_sample)\n",
    "\n",
    "## RBM\n",
    "# dh = 2\n",
    "# c_off = tf.concat([tf.ones(2) * 1., tf.zeros(dh-2)], axis=0)\n",
    "# target, log_prob_fn = models.create_rbm(c=0., dx=dim, dh=dh, burnin_number=2000, return_logprob=True)\n",
    "# proposal_off, log_prob_off_fn = models.create_rbm(c=c_off, dx=dim, dh=dh, burnin_number=2000, return_logprob=True)\n",
    "\n",
    "\n",
    "## t-banana\n",
    "# nmodes = 2\n",
    "# nbanana = 0\n",
    "# ratio_s_var = 1.\n",
    "\n",
    "# ratio_target = [1/nmodes] * nmodes\n",
    "\n",
    "# random_weights = tf.exp(tf.random.normal((nmodes,)) * ratio_s_var)\n",
    "# ratio_sample = random_weights / tf.reduce_sum(random_weights)\n",
    "# print(\"ratio sample:\", ratio_sample.numpy())\n",
    "\n",
    "# loc = tfp.distributions.Uniform(low=-tf.ones((dim,))*10, high=tf.ones((dim,))*10).sample(nmodes) # uniform in [-20, 20]^d\n",
    "# # loc = tf.constant([[1.] * dim, [-1.] * dim])\n",
    "# print(\"means\", loc)\n",
    "\n",
    "# b = 0.003 # 0.03\n",
    "# target, log_prob_fn = models.create_mixture_t_banana(dim=dim, ratio=ratio_target, loc=loc, b=b,\n",
    "#     nbanana=nbanana, return_logprob=True)\n",
    "# proposal_off, log_prob_off_fn = models.create_mixture_t_banana(dim=dim, ratio=ratio_sample, loc=loc, b=b,\n",
    "#     nbanana=nbanana, return_logprob=True)\n",
    "\n",
    "\n",
    "## t-mixture\n",
    "# nmodes = 2\n",
    "# t_std = .1\n",
    "# ratio_s_var = 1.\n",
    "\n",
    "# ratio_target = [1/nmodes] * nmodes\n",
    "\n",
    "# random_weights = tf.exp(tf.random.normal((nmodes,)) * ratio_s_var)\n",
    "# ratio_sample = random_weights / tf.reduce_sum(random_weights)\n",
    "# print(\"ratio sample:\", ratio_sample.numpy())\n",
    "\n",
    "# loc = tf.constant([[5.] * dim, [-5.] * dim])\n",
    "# print(\"means\", loc)\n",
    "\n",
    "# target, log_prob_fn = models.create_mixture_t(dim=dim, ratio=ratio_target, loc=loc, std=t_std,\n",
    "#     return_logprob=True)\n",
    "# proposal_off, log_prob_off_fn = models.create_mixture_t(dim=dim, ratio=ratio_sample, loc=loc, std=t_std,\n",
    "#     return_logprob=True)\n",
    "\n",
    "\n",
    "## scaled Gaussian \n",
    "# ratio_t = 0.5\n",
    "# ratio_s = 0.3\n",
    "# target, log_prob_fn = models.create_mixture_gaussian_scaled(ratio=ratio_t, return_logprob=True)\n",
    "# proposal_off, log_prob_off_fn = models.create_mixture_gaussian_scaled(ratio=ratio_s, return_logprob=True)"
   ]
  },
  {
   "cell_type": "code",
   "execution_count": 4,
   "id": "8eceb397",
   "metadata": {},
   "outputs": [],
   "source": [
    "n = 1000\n",
    "samples_on = target.sample(n)\n",
    "samples_on_df = pd.DataFrame({f\"x{i}\": samples_on[:, i] for i in range(dim)})\n",
    "samples_on_df[\"type\"] = \"on\"\n",
    "\n",
    "samples_off = proposal_off.sample(n)\n",
    "samples_off_df = pd.DataFrame({f\"x{i}\": samples_off[:, i] for i in range(dim)})\n",
    "samples_off_df[\"type\"] = \"off\"\n",
    "\n",
    "samples_df = pd.concat([samples_on_df, samples_off_df], ignore_index=True)"
   ]
  },
  {
   "cell_type": "code",
   "execution_count": 9,
   "id": "8d52071a",
   "metadata": {
    "scrolled": true
   },
   "outputs": [
    {
     "data": {
      "image/png": "[encoded data removed]",
      "text/plain": [
       "<Figure size 432x288 with 1 Axes>"
      ]
     },
     "metadata": {
      "needs_background": "light"
     },
     "output_type": "display_data"
    }
   ],
   "source": [
    "_ = sns.scatterplot(data=samples_df, x=\"x0\", y=\"x1\", hue=\"type\")\n",
    "# _ = plt.axis(xmax=10., xmin=-10., ymax=10., ymin=-10.)"
   ]
  },
  {
   "cell_type": "code",
   "execution_count": 26,
   "id": "556583c1",
   "metadata": {},
   "outputs": [],
   "source": [
    "ntrain = n // 2\n",
    "threshold = 1.\n",
    "\n",
    "# samples_init = samples_off\n",
    "samples_init = samples_on\n",
    "\n",
    "sample_off_train, sample_off_test = samples_init[:ntrain, ], samples_init[ntrain:, ]\n",
    "\n",
    "start_pts = sample_off_train\n",
    "mode_list, inv_hess_list = find_modes(start_pts, log_prob_fn, grad_log=None, threshold=threshold)"
   ]
  },
  {
   "cell_type": "code",
   "execution_count": 27,
   "id": "647d09f9",
   "metadata": {
    "scrolled": true
   },
   "outputs": [
    {
     "data": {
      "text/plain": [
       "([<tf.Tensor: shape=(2,), dtype=float32, numpy=array([0., 0.], dtype=float32)>,\n",
       "  <tf.Tensor: shape=(2,), dtype=float32, numpy=array([5.656854, 5.656854], dtype=float32)>],\n",
       " [<tf.Tensor: shape=(2, 2), dtype=float32, numpy=\n",
       "  array([[1., 0.],\n",
       "         [0., 1.]], dtype=float32)>,\n",
       "  <tf.Tensor: shape=(2, 2), dtype=float32, numpy=\n",
       "  array([[1., 0.],\n",
       "         [0., 1.]], dtype=float32)>])"
      ]
     },
     "execution_count": 27,
     "metadata": {},
     "output_type": "execute_result"
    }
   ],
   "source": [
    "mode_list, inv_hess_list"
   ]
  },
  {
   "cell_type": "code",
   "execution_count": 28,
   "id": "61e25d94",
   "metadata": {
    "scrolled": true
   },
   "outputs": [],
   "source": [
    "## \"true\" hess if optimised correctly\n",
    "\n",
    "# inv_hess_list_true = [\n",
    "#     -tf.linalg.inv(t_hess(tf.reshape(x, (1, -1)), tf.reshape(x, (1, -1))))[0, :] for x in mode_list\n",
    "# ]\n",
    "\n",
    "# proposal_dict_true = mcmc.prepare_proposal_input_all(mode_list=mode_list, inv_hess_list=inv_hess_list_true)"
   ]
  },
  {
   "cell_type": "code",
   "execution_count": null,
   "id": "2c9d980f",
   "metadata": {},
   "outputs": [],
   "source": [
    " "
   ]
  },
  {
   "cell_type": "code",
   "execution_count": 29,
   "id": "b018b5e9",
   "metadata": {},
   "outputs": [],
   "source": [
    "proposal_dict = mcmc.prepare_proposal_input_all(mode_list=mode_list, inv_hess_list=inv_hess_list)"
   ]
  },
  {
   "cell_type": "code",
   "execution_count": 30,
   "id": "8cc42362",
   "metadata": {},
   "outputs": [],
   "source": [
    "_, ind_pair_list = pairwise_directions(mode_list, return_index=True)"
   ]
  },
  {
   "cell_type": "code",
   "execution_count": 31,
   "id": "af9feb7c",
   "metadata": {},
   "outputs": [
    {
     "data": {
      "text/plain": [
       "[(0, 1), (1, 0)]"
      ]
     },
     "execution_count": 31,
     "metadata": {},
     "output_type": "execute_result"
    }
   ],
   "source": [
    "## DELETE\n",
    "_, ordered_ind_pair_list = pairwise_directions_order(mode_list, return_index=True)\n",
    "ordered_ind_pair_list"
   ]
  },
  {
   "cell_type": "code",
   "execution_count": 5,
   "id": "bac299f3",
   "metadata": {},
   "outputs": [],
   "source": [
    "std = 0.9"
   ]
  },
  {
   "cell_type": "code",
   "execution_count": 33,
   "id": "54891400",
   "metadata": {
    "scrolled": false
   },
   "outputs": [],
   "source": [
    "T = 10\n",
    "\n",
    "mh = MCMCKernel(log_prob=log_prob_fn)\n",
    "# mh.run(steps=T, std=std, x_init=sample_off_train, ind_pair_list=ind_pair_list, **proposal_dict)\n",
    "\n",
    "## DELETE\n",
    "mh.run(steps=T, std=std, x_init=sample_off_train, ordered_ind_pair_list=ordered_ind_pair_list, **proposal_dict)"
   ]
  },
  {
   "cell_type": "code",
   "execution_count": 34,
   "id": "5ea22343",
   "metadata": {},
   "outputs": [
    {
     "data": {
      "image/png": "[encoded data removed]",
      "text/plain": [
       "<Figure size 432x288 with 1 Axes>"
      ]
     },
     "metadata": {
      "needs_background": "light"
     },
     "output_type": "display_data"
    }
   ],
   "source": [
    "xx = (np.sum(mh.if_accept.numpy(), axis=0) > 0.).astype(np.float32)\n",
    "_ = plt.hist(xx)"
   ]
  },
  {
   "cell_type": "code",
   "execution_count": 35,
   "id": "148ab23b",
   "metadata": {
    "scrolled": false
   },
   "outputs": [
    {
     "data": {
      "image/png": "[encoded data removed]",
      "text/plain": [
       "<Figure size 432x432 with 3 Axes>"
      ]
     },
     "metadata": {
      "needs_background": "light"
     },
     "output_type": "display_data"
    }
   ],
   "source": [
    "x_0 = mh.x[0, :, :].numpy()\n",
    "x_t = mh.x[-1, :, :].numpy()\n",
    "\n",
    "x0_df = pd.DataFrame({f\"x{i}\": x_0[:, i] for i in range(dim)})\n",
    "x0_df[\"type\"] = \"init\"\n",
    "\n",
    "xt_df = pd.DataFrame({f\"x{i}\": x_t[:, i] for i in range(dim)})\n",
    "xt_df[\"type\"] = \"final\"\n",
    "\n",
    "perturbed_df = pd.concat([x0_df, xt_df], ignore_index=True)\n",
    "\n",
    "_ = sns.jointplot(data=perturbed_df, x=\"x0\", y=\"x1\", hue=\"type\",\n",
    "                  xlim=(-10., 10.), ylim=(-10., 10.))"
   ]
  },
  {
   "cell_type": "code",
   "execution_count": 6,
   "id": "00e4b18a",
   "metadata": {},
   "outputs": [],
   "source": [
    "num_boot = 800\n",
    "alpha = 0.05\n",
    "nrep = 1\n",
    "\n",
    "kernel = IMQ(med_heuristic=True)\n",
    "ksd = KSD(target=target, kernel=kernel)\n",
    "bootstrap = Bootstrap(ksd, n//2)"
   ]
  },
  {
   "cell_type": "code",
   "execution_count": 37,
   "id": "259806da",
   "metadata": {},
   "outputs": [
    {
     "name": "stderr",
     "output_type": "stream",
     "text": [
      "2022-04-20 18:14:05.817581: I tensorflow/compiler/mlir/mlir_graph_optimization_pass.cc:185] None of the MLIR Optimization Passes are enabled (registered 2)\n"
     ]
    }
   ],
   "source": [
    "multinom_samples = bootstrap.multinom.sample((nrep, num_boot))\n",
    "multinom_one_sample = multinom_samples[0, :]"
   ]
  },
  {
   "cell_type": "code",
   "execution_count": 38,
   "id": "aa4d826b",
   "metadata": {},
   "outputs": [
    {
     "name": "stdout",
     "output_type": "stream",
     "text": [
      "before:  0.48564294631710364 \n",
      "after: 0.2634207240948814\n"
     ]
    }
   ],
   "source": [
    "_, p_val_no_pert = bootstrap.test_once(alpha=alpha, num_boot=num_boot, X=x_0, multinom_samples=multinom_one_sample)\n",
    "\n",
    "_, p_val = bootstrap.test_once(alpha=alpha, num_boot=num_boot, X=x_t, multinom_samples=multinom_one_sample)\n",
    "print(\"before: \", p_val_no_pert, \"\\nafter:\", p_val)"
   ]
  },
  {
   "cell_type": "code",
   "execution_count": null,
   "id": "d2088227",
   "metadata": {},
   "outputs": [],
   "source": []
  },
  {
   "cell_type": "markdown",
   "id": "08ac5300",
   "metadata": {},
   "source": [
    "# Repeat experiment"
   ]
  },
  {
   "cell_type": "code",
   "execution_count": 23,
   "id": "e98c95e9",
   "metadata": {},
   "outputs": [],
   "source": [
    "def repeat_experiment(n, nrep, target_dist, sample_dist):\n",
    "    ntrain = n // 2\n",
    "    threshold = 1.\n",
    "\n",
    "    num_boot = 800\n",
    "    alpha = 0.05\n",
    "    T = 10\n",
    "    \n",
    "    kernel = IMQ(med_heuristic=True)\n",
    "    ksd = KSD(target=target_dist, kernel=kernel)\n",
    "    bootstrap = Bootstrap(ksd, n-ntrain)\n",
    "    \n",
    "    multinom_samples = bootstrap.multinom.sample((nrep, num_boot))\n",
    "    \n",
    "    # generate samples\n",
    "    off_sample_all = sample_dist.sample((nrep, n))\n",
    "\n",
    "    p_val_list = []\n",
    "    for i in trange(nrep):\n",
    "        # sample data\n",
    "        samples_init = off_sample_all[i, :]\n",
    "        \n",
    "        sample_off_train, sample_off_test = samples_init[:ntrain, ], samples_init[ntrain:, ]\n",
    "        start_pts = sample_off_train\n",
    "        \n",
    "        # find modes\n",
    "        mode_list, inv_hess_list = find_modes(start_pts, log_prob_fn, grad_log=None, threshold=threshold)\n",
    "        off_sample = off_sample_all[i, :]\n",
    "        \n",
    "        proposal_dict = mcmc.prepare_proposal_input_all(mode_list=mode_list, inv_hess_list=inv_hess_list)\n",
    "#         _, ind_pair_list = pairwise_directions(mode_list, return_index=True)\n",
    "        _, ordered_ind_pair_list = pairwise_directions_order(mode_list, return_index=True)\n",
    "        \n",
    "        # mh perturbation\n",
    "        mh = MCMCKernel(log_prob=log_prob_fn)\n",
    "#         mh.run(steps=T, std=std, x_init=sample_off_test, \n",
    "#                ind_pair_list=ind_pair_list, **proposal_dict)\n",
    "        mh.run(steps=T, std=std, x_init=sample_off_test, \n",
    "               ordered_ind_pair_list=ordered_ind_pair_list, **proposal_dict)\n",
    "        x_t = mh.x[-1, :, :]\n",
    "\n",
    "        # compute p-value\n",
    "        kernel = IMQ(med_heuristic=True)\n",
    "        ksd = KSD(target=target_dist, kernel=kernel)\n",
    "        bootstrap = Bootstrap(ksd, n)\n",
    "\n",
    "        multinom_one_sample = multinom_samples[i, :]\n",
    "\n",
    "        _, p_val = bootstrap.test_once(alpha=alpha, num_boot=num_boot, X=x_t, multinom_samples=multinom_one_sample)\n",
    "\n",
    "        p_val_list.append(p_val)\n",
    "        \n",
    "    res = pd.DataFrame(p_val_list, columns=[\"pval\"])\n",
    "    return res"
   ]
  },
  {
   "cell_type": "code",
   "execution_count": 24,
   "id": "1c91c801",
   "metadata": {},
   "outputs": [
    {
     "data": {
      "application/vnd.jupyter.widget-view+json": {
       "model_id": "c177290a12eb439f977415d6b02b1dcd",
       "version_major": 2,
       "version_minor": 0
      },
      "text/plain": [
       "  0%|          | 0/100 [00:00<?, ?it/s]"
      ]
     },
     "metadata": {},
     "output_type": "display_data"
    }
   ],
   "source": [
    "# res_df = repeat_experiment(n=n//2, nrep=100, target_dist=target, sample_dist=proposal_off)\n",
    "# res_df = repeat_experiment(n=n//2, nrep=100, target_dist=target, sample_dist=target)"
   ]
  },
  {
   "cell_type": "code",
   "execution_count": 22,
   "id": "c6568232",
   "metadata": {},
   "outputs": [
    {
     "data": {
      "image/png": "[encoded data removed]",
      "text/plain": [
       "<Figure size 432x288 with 1 Axes>"
      ]
     },
     "metadata": {
      "needs_background": "light"
     },
     "output_type": "display_data"
    }
   ],
   "source": [
    "sns.ecdfplot(data=res_df, x=\"pval\")\n",
    "_ = plt.axis(xmin=-0.1, xmax=1.)"
   ]
  },
  {
   "cell_type": "code",
   "execution_count": null,
   "id": "60d32476",
   "metadata": {},
   "outputs": [],
   "source": [
    "res_df_ordered = repeat_experiment(n=n//2, nrep=100, target_dist=target, sample_dist=target)"
   ]
  },
  {
   "cell_type": "code",
   "execution_count": 25,
   "id": "850d2a8e",
   "metadata": {},
   "outputs": [
    {
     "data": {
      "image/png": "[encoded data removed]",
      "text/plain": [
       "<Figure size 432x288 with 1 Axes>"
      ]
     },
     "metadata": {
      "needs_background": "light"
     },
     "output_type": "display_data"
    }
   ],
   "source": [
    "sns.ecdfplot(data=res_df_ordered, x=\"pval\")\n",
    "_ = plt.axis(xmin=-0.1, xmax=1.)"
   ]
  },
  {
   "cell_type": "markdown",
   "id": "4d640a83",
   "metadata": {},
   "source": [
    "# Repeat RBM experiment"
   ]
  },
  {
   "cell_type": "code",
   "execution_count": null,
   "id": "c354d9be",
   "metadata": {},
   "outputs": [],
   "source": [
    "def repeat_experiment_rbm(nrep, B_scale):    \n",
    "    off_target2, log_prob_off_fn2 = models.create_rbm(\n",
    "        B_scale=B_scale, c=c_loc_off, dx=dim, dh=dh, return_logprob=True, burnin_number=2000)\n",
    "\n",
    "    num_boot = 800\n",
    "    alpha = 0.05\n",
    "\n",
    "    kernel = IMQ(med_heuristic=True)\n",
    "    ksd = KSD(target=off_target2, kernel=kernel)\n",
    "    bootstrap = Bootstrap(ksd, n)\n",
    "    \n",
    "    multinom_samples = bootstrap.multinom.sample((nrep, num_boot))\n",
    "    multinom_one_sample = multinom_samples[0, :]\n",
    "    \n",
    "    p_val_list = []\n",
    "    for i in trange(nrep):\n",
    "        off_sample2 = off_target2.sample(n)\n",
    "        syn_sample = off_sample2 #!\n",
    "    \n",
    "        kernel = IMQ(med_heuristic=True)\n",
    "        ksd = KSD(target=off_target2, kernel=kernel)\n",
    "        bootstrap = Bootstrap(ksd, n)\n",
    "        \n",
    "        multinom_one_sample = multinom_samples[i, :]\n",
    "        \n",
    "        _, p_val2 = bootstrap.test_once(alpha=alpha, num_boot=num_boot, X=off_sample2, multinom_samples=multinom_one_sample)\n",
    "        _, p_val_sync = bootstrap.test_once(alpha=alpha, num_boot=num_boot, X=syn_sample, multinom_samples=multinom_one_sample)\n",
    "\n",
    "        p_val_list.append((p_val2, \"builtin\"))\n",
    "        p_val_list.append((p_val_sync, \"synthetic\"))\n",
    "        \n",
    "    res = pd.DataFrame(p_val_list, columns=[\"pval\", \"type\"])\n",
    "    return res"
   ]
  },
  {
   "cell_type": "code",
   "execution_count": null,
   "id": "a87c25db",
   "metadata": {},
   "outputs": [],
   "source": []
  },
  {
   "cell_type": "code",
   "execution_count": null,
   "id": "5a66a3f3",
   "metadata": {},
   "outputs": [],
   "source": []
  }
 ],
 "metadata": {
  "kernelspec": {
   "display_name": "fast-mcmc",
   "language": "python",
   "name": "fast-mcmc"
  },
  "language_info": {
   "codemirror_mode": {
    "name": "ipython",
    "version": 3
   },
   "file_extension": ".py",
   "mimetype": "text/x-python",
   "name": "python",
   "nbconvert_exporter": "python",
   "pygments_lexer": "ipython3",
   "version": "3.8.10"
  }
 },
 "nbformat": 4,
 "nbformat_minor": 5
}
