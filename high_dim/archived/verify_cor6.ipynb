{
 "cells": [
  {
   "cell_type": "code",
   "execution_count": 1,
   "metadata": {},
   "outputs": [],
   "source": [
    "import sys\n",
    "sys.path.append(\"../\")"
   ]
  },
  {
   "cell_type": "code",
   "execution_count": 2,
   "metadata": {},
   "outputs": [],
   "source": [
    "%load_ext autoreload\n",
    "%autoreload 2\n",
    "\n",
    "from src.ksd.ksd import KSD\n",
    "from src.ksd.kernel import IMQ, RBF, Linear\n",
    "\n",
    "import numpy as np\n",
    "import pandas as pd\n",
    "import tensorflow as tf\n",
    "import tensorflow_probability as tfp\n",
    "tfd = tfp.distributions\n",
    "import matplotlib.pyplot as plt\n",
    "import seaborn as sns\n",
    "from tqdm.notebook import tqdm, trange\n",
    "import pickle\n",
    "\n",
    "import high_dim_power as hd\n",
    "\n",
    "import matplotlib as mpl\n",
    "mpl.rcParams[\"mathtext.fontset\"] = \"cm\""
   ]
  },
  {
   "cell_type": "code",
   "execution_count": 4,
   "metadata": {},
   "outputs": [],
   "source": [
    "tf.random.set_seed(1)\n",
    "\n",
    "DELTA = 0.1\n",
    "\n",
    "BANDWIDTH_POWER = 1.\n",
    "\n",
    "STATISTIC = \"ksd\" #\"mmd\" #   \n",
    "\n",
    "KERNEL = RBF # Linear # \n",
    "\n",
    "DIR = \"../res/high_dim\"\n",
    "SUFFIX = f\"delta{DELTA}_r{BANDWIDTH_POWER}_{STATISTIC}_{KERNEL.__name__}\""
   ]
  },
  {
   "cell_type": "code",
   "execution_count": 5,
   "metadata": {},
   "outputs": [],
   "source": [
    "dims = [1, 2, 4, 25, 50, 100, 250, 500, 1000, 2000]\n",
    "dims_quad = [1, 2, 4, 25, 50, 100, 250, 500, 1000]\n",
    "\n",
    "ns = [50] * len(dims)\n",
    "\n",
    "ns_quad = [max(2, int(d**1.2)) for d in dims]\n",
    "\n",
    "ns_sqrt = [max(2, int(d**0.5)) for d in dims]"
   ]
  },
  {
   "cell_type": "markdown",
   "metadata": {},
   "source": [
    "# Load results"
   ]
  },
  {
   "cell_type": "code",
   "execution_count": 6,
   "metadata": {},
   "outputs": [],
   "source": [
    "# load analytical res\n",
    "res_analytical_save = pd.read_csv(\n",
    "    f\"{DIR}/res_analytical_{SUFFIX}.csv\",\n",
    ")\n",
    "# res_analytical = {c: res_analytical_save[c].to_list() for c in res_analytical_save.columns}\n",
    "# dims = list(res_analytical[\"dim\"])\n",
    "res_analytical = res_analytical_save.set_index(\"dim\", drop=False)"
   ]
  },
  {
   "cell_type": "code",
   "execution_count": 7,
   "metadata": {},
   "outputs": [],
   "source": [
    "# load empirical results\n",
    "# fixed n\n",
    "stats_res_list = pickle.load(\n",
    "    open(f\"{DIR}/stats_res_rep_{SUFFIX}.p\", \"rb\"),\n",
    ")\n",
    "\n",
    "# quadratic increasing n\n",
    "stats_res_list_quad = pickle.load(\n",
    "    open(f\"{DIR}/stats_res_rep_{SUFFIX}_quad.p\", \"rb\"),\n",
    ")\n",
    "\n",
    "# sqrt increasing n\n",
    "stats_res_list_sqrt = pickle.load(\n",
    "    open(f\"{DIR}/stats_res_rep_{SUFFIX}_sqrt.p\", \"rb\"),\n",
    ")\n"
   ]
  },
  {
   "cell_type": "markdown",
   "metadata": {},
   "source": [
    "# Initialise result classes"
   ]
  },
  {
   "cell_type": "code",
   "execution_count": 9,
   "metadata": {},
   "outputs": [
    {
     "name": "stdout",
     "output_type": "stream",
     "text": [
      "dim: 2000\n"
     ]
    }
   ],
   "source": [
    "# fixed n\n",
    "d = dims[-1]\n",
    "print(\"dim:\", d)\n",
    "ts = res_analytical.loc[d, \"expectation\"] * np.linspace(.25, 1.75, 101)\n",
    "\n",
    "hd_limits_rep_dims = hd.LimitDistExperimentRepeatedMultiDims(\n",
    "    empirical_vals_dims_list=stats_res_list,\n",
    "    res_analytical=res_analytical,\n",
    "    dims=dims,\n",
    "    ns=ns,\n",
    "    ts=ts,\n",
    ")"
   ]
  },
  {
   "cell_type": "code",
   "execution_count": 13,
   "metadata": {},
   "outputs": [
    {
     "name": "stdout",
     "output_type": "stream",
     "text": [
      "dim: 1000\n"
     ]
    }
   ],
   "source": [
    "# quadratic n\n",
    "d = 1000\n",
    "print(\"dim:\", d)\n",
    "ts_quad = res_analytical.loc[d, \"expectation\"] * np.linspace(.25, 1.75, 101)\n",
    "\n",
    "hd_limits_rep_dims_quad = hd.LimitDistExperimentRepeatedMultiDims(\n",
    "    empirical_vals_dims_list=stats_res_list_quad,\n",
    "    res_analytical=res_analytical,\n",
    "    dims=dims_quad,\n",
    "    ns=ns_quad,\n",
    "    ts=ts_quad,\n",
    ")"
   ]
  },
  {
   "cell_type": "code",
   "execution_count": 14,
   "metadata": {},
   "outputs": [
    {
     "name": "stdout",
     "output_type": "stream",
     "text": [
      "dim: 2000\n"
     ]
    }
   ],
   "source": [
    "# sqrt n\n",
    "d = dims[-1]\n",
    "print(\"dim:\", d)\n",
    "ts_sqrt = res_analytical.loc[d, \"expectation\"] * np.linspace(.25, 1.75, 101)\n",
    "\n",
    "hd_limits_rep_dims_sqrt = hd.LimitDistExperimentRepeatedMultiDims(\n",
    "    empirical_vals_dims_list=stats_res_list_sqrt,\n",
    "    res_analytical=res_analytical,\n",
    "    dims=dims,\n",
    "    ns=ns_sqrt,\n",
    "    ts=ts_sqrt,\n",
    ")"
   ]
  },
  {
   "cell_type": "markdown",
   "metadata": {},
   "source": [
    "## distance"
   ]
  },
  {
   "cell_type": "code",
   "execution_count": 15,
   "metadata": {},
   "outputs": [
    {
     "name": "stderr",
     "output_type": "stream",
     "text": [
      "100%|████████████████████████████████████████████████████████████████████████████████████████████████████████████████████████████████████████████████████████████████████████████| 9/9 [00:04<00:00,  1.87it/s]\n",
      "100%|██████████████████████████████████████████████████████████████████████████████████████████████████████████████████████████████████████████████████████████████████████████| 10/10 [00:05<00:00,  1.78it/s]\n"
     ]
    }
   ],
   "source": [
    "# compute distances\n",
    "dist_rep = hd_limits_rep_dims.compute_distance(size=100000)\n",
    "\n",
    "dist_rep.replace({\n",
    "    \"probs\": \"Exceeding prob\", \n",
    "    \"cond\": \"Classic\", \n",
    "    \"full\": \"High dim Gaussian\",\n",
    "    \"mm_full\": \"High dim Gamma\",\n",
    "}, inplace=True)\n",
    "\n",
    "# quadratic n\n",
    "dist_rep_quad = hd_limits_rep_dims_quad.compute_distance(size=100000)\n",
    "\n",
    "dist_rep_quad.replace({\n",
    "    \"probs\": \"Exceeding prob\", \n",
    "    \"cond\": \"Classic\", \n",
    "    \"full\": \"High dim Gaussian\",\n",
    "    \"mm_full\": \"High dim Gamma\",\n",
    "}, inplace=True)\n",
    "\n",
    "# sqrt n\n",
    "dist_rep_sqrt = hd_limits_rep_dims_sqrt.compute_distance(size=100000)\n",
    "\n",
    "dist_rep_sqrt.replace({\n",
    "    \"probs\": \"Exceeding prob\", \n",
    "    \"cond\": \"Classic\", \n",
    "    \"full\": \"High dim Gaussian\",\n",
    "    \"mm_full\": \"High dim Gamma\",\n",
    "}, inplace=True)"
   ]
  },
  {
   "cell_type": "code",
   "execution_count": 39,
   "metadata": {},
   "outputs": [
    {
     "data": {
      "image/png": "[encoded data removed]",
      "text/plain": [
       "<Figure size 648x216 with 3 Axes>"
      ]
     },
     "metadata": {
      "needs_background": "light"
     },
     "output_type": "display_data"
    }
   ],
   "source": [
    "figs, axes = plt.subplots(nrows=1, ncols=3, figsize=(9, 3))\n",
    "\n",
    "name_list = [\"Classic\", \"High dim Gamma\", \"High dim Gaussian\"]\n",
    "\n",
    "# fixed n\n",
    "sns.lineplot(\n",
    "    ax=axes[0],\n",
    "    data=dist_rep.loc[(dist_rep.name.isin(name_list)) & (dist_rep.seed < 10)], \n",
    "    x=\"dim\", \n",
    "    y=\"dist\", \n",
    "    hue=\"name\",\n",
    "    style=\"name\",\n",
    "    linewidth=2,\n",
    "    markers=True,\n",
    ")\n",
    "\n",
    "axes[0].set_xlabel(\"Dimension\", fontsize=15)\n",
    "axes[0].set_ylabel(\"Distance\", fontsize=15)\n",
    "axes[0].set_ylim(bottom=0.)\n",
    "axes[0].set_xscale(\"log\")\n",
    "axes[0].tick_params(labelsize=15)\n",
    "axes[0].legend([],[], frameon=False)\n",
    "axes[0].legend(\n",
    "    fontsize=14, bbox_to_anchor=(3.75, 1.25), ncol=4, #columnspacing=0.7, handletextpad=0.01\n",
    ")\n",
    "\n",
    "# quad n\n",
    "sns.lineplot(\n",
    "    ax=axes[1],\n",
    "    data=dist_rep_quad.loc[dist_rep_quad.name.isin(name_list)], \n",
    "    x=\"dim\", \n",
    "    y=\"dist\", \n",
    "    hue=\"name\",\n",
    "    style=\"name\",\n",
    "    linewidth=2,\n",
    "    markers=True,\n",
    ")\n",
    "\n",
    "axes[1].set_xlabel(\"Dimension\", fontsize=15)\n",
    "axes[1].set_ylabel(\"\")\n",
    "axes[1].set_ylim(bottom=0.)\n",
    "axes[1].set_xscale(\"log\")\n",
    "axes[1].tick_params(labelsize=15)\n",
    "axes[1].legend([],[], frameon=False)\n",
    "\n",
    "# sqrt n\n",
    "sns.lineplot(\n",
    "    ax=axes[2],\n",
    "    data=dist_rep_sqrt.loc[dist_rep_sqrt.name.isin(name_list)], \n",
    "    x=\"dim\", \n",
    "    y=\"dist\", \n",
    "    hue=\"name\",\n",
    "    style=\"name\",\n",
    "    linewidth=2,\n",
    "    markers=True,\n",
    ")\n",
    "\n",
    "axes[2].set_xlabel(\"Dimension\", fontsize=15)\n",
    "axes[2].set_ylabel(\"\")\n",
    "axes[2].set_ylim(bottom=0.)\n",
    "axes[2].set_xscale(\"log\")\n",
    "axes[2].tick_params(labelsize=15)\n",
    "axes[2].legend([],[], frameon=False)\n",
    "\n",
    "plt.subplots_adjust(\n",
    "    top=.8,\n",
    "    wspace=0.4,\n",
    ")\n",
    "plt.savefig(f\"../figs/high_dim/dist_{STATISTIC}_{KERNEL.__name__}_ns_dims.pdf\", bbox_inches=\"tight\")"
   ]
  },
  {
   "cell_type": "code",
   "execution_count": null,
   "metadata": {},
   "outputs": [],
   "source": []
  }
 ],
 "metadata": {
  "kernelspec": {
   "display_name": "pksd",
   "language": "python",
   "name": "pksd"
  },
  "language_info": {
   "codemirror_mode": {
    "name": "ipython",
    "version": 3
   },
   "file_extension": ".py",
   "mimetype": "text/x-python",
   "name": "python",
   "nbconvert_exporter": "python",
   "pygments_lexer": "ipython3",
   "version": "3.8.10"
  }
 },
 "nbformat": 4,
 "nbformat_minor": 4
}
