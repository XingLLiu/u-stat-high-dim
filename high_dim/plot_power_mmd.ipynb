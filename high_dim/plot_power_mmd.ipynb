{
 "cells": [
  {
   "cell_type": "code",
   "execution_count": 1,
   "metadata": {},
   "outputs": [],
   "source": [
    "import sys\n",
    "sys.path.append(\"../\")"
   ]
  },
  {
   "cell_type": "code",
   "execution_count": 2,
   "metadata": {},
   "outputs": [],
   "source": [
    "%load_ext autoreload\n",
    "%autoreload 2\n",
    "\n",
    "from src.ksd.ksd import KSD\n",
    "from src.ksd.kernel import IMQ, RBF, Linear\n",
    "\n",
    "import numpy as np\n",
    "import pandas as pd\n",
    "import tensorflow as tf\n",
    "import tensorflow_probability as tfp\n",
    "tfd = tfp.distributions\n",
    "import matplotlib.pyplot as plt\n",
    "import seaborn as sns\n",
    "from tqdm.notebook import tqdm, trange\n",
    "import pickle\n",
    "\n",
    "import high_dim_power as hd\n",
    "\n",
    "import matplotlib as mpl\n",
    "import matplotlib.pyplot as pyplot\n",
    "mpl.rcParams[\"mathtext.fontset\"] = \"cm\""
   ]
  },
  {
   "cell_type": "code",
   "execution_count": 3,
   "metadata": {},
   "outputs": [],
   "source": [
    "tf.random.set_seed(1)\n",
    "\n",
    "DELTA = 2. # 0.1\n",
    "\n",
    "BANDWIDTH_POWER = 1.\n",
    "\n",
    "STATISTIC = \"mmd\" # \"ksd\" # \n",
    "\n",
    "KERNEL = RBF \n",
    "\n",
    "DIR = \"../res/high_dim\"\n",
    "SUFFIX = f\"delta{DELTA}_r{BANDWIDTH_POWER}_{STATISTIC}_{KERNEL.__name__}\"\n",
    "\n",
    "EXTRA = \"\" # \"_sqrt\" # \"_quad\" #  "
   ]
  },
  {
   "cell_type": "code",
   "execution_count": 4,
   "metadata": {},
   "outputs": [],
   "source": [
    "# MMD high dim\n",
    "dims = [2, 4, 25, 50, 100, 250, 500, 1000, 2000]\n",
    "ns = [50] * len(dims)\n",
    "\n",
    "# MMD low dim\n",
    "dims_ld = [2]\n",
    "# dims_ld = [2, 4, 25, 50, 100, 250, 500, 1000, 2000]\n",
    "ns_ld = [1000] * len(dims_ld)"
   ]
  },
  {
   "cell_type": "markdown",
   "metadata": {},
   "source": [
    "# Load results"
   ]
  },
  {
   "cell_type": "code",
   "execution_count": 5,
   "metadata": {},
   "outputs": [],
   "source": [
    "# load analytical res\n",
    "res_analytical_save = pd.read_csv(\n",
    "    f\"{DIR}/res_analytical_{SUFFIX}.csv\",\n",
    ")\n",
    "res_analytical = res_analytical_save.set_index(\"dim\", drop=False)"
   ]
  },
  {
   "cell_type": "code",
   "execution_count": 6,
   "metadata": {},
   "outputs": [],
   "source": [
    "# load empirical results\n",
    "stats_res_list = pickle.load(\n",
    "    open(f\"{DIR}/stats_res_rep_{SUFFIX}.p\", \"rb\"),\n",
    ")\n",
    "\n",
    "dims = list(stats_res_list[0].keys())"
   ]
  },
  {
   "cell_type": "code",
   "execution_count": 7,
   "metadata": {},
   "outputs": [],
   "source": [
    "# load empirical results\n",
    "# low dim\n",
    "stats_res_list_ld = pickle.load(\n",
    "    open(f\"{DIR}/stats_res_rep_{SUFFIX}_ld.p\", \"rb\"),\n",
    ")\n",
    "\n",
    "dims_ld = list(stats_res_list_ld[0].keys())"
   ]
  },
  {
   "cell_type": "markdown",
   "metadata": {},
   "source": [
    "# Initialise result classes"
   ]
  },
  {
   "cell_type": "code",
   "execution_count": 8,
   "metadata": {},
   "outputs": [
    {
     "name": "stdout",
     "output_type": "stream",
     "text": [
      "dim: 1000\n"
     ]
    }
   ],
   "source": [
    "# high dim\n",
    "d = dims[-2]\n",
    "print(\"dim:\", d)\n",
    "ts = res_analytical.loc[d, \"expectation\"] * np.linspace(0., 2., 101)\n",
    "\n",
    "hd_limits_rep_dims = hd.LimitDistExperimentRepeatedMultiDims(\n",
    "    empirical_vals_dims_list=stats_res_list,\n",
    "    res_analytical=res_analytical,\n",
    "    dims=dims,\n",
    "    ns=ns,\n",
    "    ts=ts,\n",
    ")"
   ]
  },
  {
   "cell_type": "code",
   "execution_count": 9,
   "metadata": {},
   "outputs": [
    {
     "name": "stdout",
     "output_type": "stream",
     "text": [
      "dim: 2\n"
     ]
    }
   ],
   "source": [
    "# low dim\n",
    "d_ld = 2\n",
    "print(\"dim:\", d_ld)\n",
    "ts_ld = res_analytical.loc[d_ld, \"expectation\"] * np.linspace(0.9, 1.1, 101)\n",
    "\n",
    "hd_limits_rep_dims_ld = hd.LimitDistExperimentRepeatedMultiDims(\n",
    "    empirical_vals_dims_list=stats_res_list_ld,\n",
    "    res_analytical=res_analytical,\n",
    "    dims=dims_ld,\n",
    "    ns=ns_ld,\n",
    "    ts=ts_ld,\n",
    ")"
   ]
  },
  {
   "cell_type": "markdown",
   "metadata": {},
   "source": [
    "## CDF"
   ]
  },
  {
   "cell_type": "code",
   "execution_count": 10,
   "metadata": {},
   "outputs": [],
   "source": [
    "cdf_legend = {\n",
    "    \"probs\": \"Exceeding prob\", \n",
    "    \"cond\": \"Classic\", \n",
    "    \"full\": \"High dim Gaussian\",\n",
    "    \"mm_full\": \"High dim Gamma\",\n",
    "}"
   ]
  },
  {
   "cell_type": "code",
   "execution_count": 11,
   "metadata": {},
   "outputs": [],
   "source": [
    "# compute CDFs\n",
    "cdf_rep = hd_limits_rep_dims.run(dim=d)\n",
    "\n",
    "# cdf_rep.replace(cdf_legend, inplace=True)"
   ]
  },
  {
   "cell_type": "code",
   "execution_count": 12,
   "metadata": {},
   "outputs": [],
   "source": [
    "# low dim\n",
    "# compute CDFs\n",
    "cdf_rep_ld = hd_limits_rep_dims_ld.run(dim=d_ld)\n",
    "\n",
    "# cdf_rep_ld.replace(cdf_legend, inplace=True)"
   ]
  },
  {
   "cell_type": "markdown",
   "metadata": {},
   "source": [
    "## PDF"
   ]
  },
  {
   "cell_type": "code",
   "execution_count": 13,
   "metadata": {},
   "outputs": [],
   "source": [
    "pdf_legend = {\n",
    "    \"probs\": \"Dn\", \n",
    "    \"cond\": \"Classic\", \n",
    "    \"full\": \"High dim Gaussian\",\n",
    "    \"mm_full\": \"High dim Gamma\",\n",
    "#     \"mm_chi\": \"High dim Chi-sq\",\n",
    "}"
   ]
  },
  {
   "cell_type": "code",
   "execution_count": 14,
   "metadata": {},
   "outputs": [],
   "source": [
    "samples_res = hd_limits_rep_dims.get_exp(d).sample_all_limits(size=1000)\n",
    "# samples_res.replace(pdf_legend, inplace=True)"
   ]
  },
  {
   "cell_type": "code",
   "execution_count": 15,
   "metadata": {},
   "outputs": [],
   "source": [
    "samples_res_ld = hd_limits_rep_dims_ld.get_exp(d_ld).sample_all_limits(size=1000)\n",
    "# samples_res_ld.replace(pdf_legend, inplace=True)"
   ]
  },
  {
   "cell_type": "markdown",
   "metadata": {},
   "source": [
    "## CDF and density plots"
   ]
  },
  {
   "cell_type": "markdown",
   "metadata": {},
   "source": [
    "1. Check if the eCDF for low-dim is wrong, as it deiates a lot from the normal limit. "
   ]
  },
  {
   "cell_type": "code",
   "execution_count": 16,
   "metadata": {},
   "outputs": [],
   "source": [
    "# figs, axes = plt.subplots(nrows=2, ncols=2, figsize=(10, 6))\n",
    "\n",
    "# linestyles = [\"solid\", \"dashed\", \"dashdot\", \"dotted\"]\n",
    "# lw = 3\n",
    "\n",
    "# # 1.ecdf plots\n",
    "# cdf_legends = [\"Exceeding prob\", \"Classic\", \"High dim Gaussian\", \"High dim Gamma\"]\n",
    "# cdf_legends_show = [r\"U-statistic $D_n$\", \"Classic\", \"High-D Gaussian\", \"High-D Gamma\"]\n",
    "\n",
    "# # i. ksd ld\n",
    "# # sns.lineplot(\n",
    "# #     ax=axes[0][0],\n",
    "# #     data=cdf_rep_ld.loc[\n",
    "# #         cdf_rep_ld.name.isin(cdf_legends)\n",
    "# #     ], \n",
    "# #     x=\"ts\", \n",
    "# #     y=\"value\", \n",
    "# #     hue=\"name\",\n",
    "# #     hue_order=cdf_legends,\n",
    "# #     style=\"name\",\n",
    "# #     style_order=cdf_legends,\n",
    "# #     linewidth=2.5,\n",
    "# # )\n",
    "# for i, n in enumerate(cdf_legends):\n",
    "#     sns.lineplot(\n",
    "#         ax=axes[0][0],\n",
    "#         data=cdf_rep_ld.loc[cdf_rep_ld.name == n], \n",
    "#         x=\"ts\", \n",
    "#         y=\"value\", \n",
    "#         label=cdf_legends_show[i],\n",
    "#         linestyle=linestyles[i],\n",
    "#         linewidth=lw,\n",
    "#     )\n",
    "\n",
    "# # statistic expectation\n",
    "# axes[0][0].axvline(\n",
    "#     res_analytical.loc[d_ld, \"expectation\"], color=\"k\", linestyle=\"--\", label=r\"Mean $D$\", linewidth=2,\n",
    "# )\n",
    "\n",
    "# axes[0][0].set_xlabel(\"$t$\", fontsize=25)\n",
    "# axes[0][0].set_ylabel(\"Probability\", fontsize=15)\n",
    "# axes[0][0].set_ylim(0., 1.01)\n",
    "# axes[0][0].tick_params(labelsize=15)\n",
    "# axes[0][0].legend([],[], frameon=False)\n",
    "\n",
    "# # ii. ksd\n",
    "# # sns.lineplot(\n",
    "# #     ax=axes[0][1],\n",
    "# #     data=cdf_rep.loc[\n",
    "# #         cdf_rep.name.isin(cdf_legends)\n",
    "# #     ], \n",
    "# #     x=\"ts\", \n",
    "# #     y=\"value\", \n",
    "# #     hue=\"name\",\n",
    "# #     style=\"name\",\n",
    "# #     style_order=cdf_legends,\n",
    "# #     linewidth=2.5,\n",
    "# # )\n",
    "# for i, n in enumerate(cdf_legends):\n",
    "#     sns.lineplot(\n",
    "#         ax=axes[0][1],\n",
    "#         data=cdf_rep.loc[cdf_rep.name == n], \n",
    "#         x=\"ts\", \n",
    "#         y=\"value\", \n",
    "#         label=cdf_legends_show[i],\n",
    "#         linestyle=linestyles[i],\n",
    "#         linewidth=lw,\n",
    "#     )\n",
    "# # statistic expectation\n",
    "# axes[0][1].axvline(\n",
    "#     res_analytical.loc[d, \"expectation\"], color=\"k\", linestyle=\"--\", label=r\"Mean $D$\", linewidth=2,\n",
    "# )\n",
    "\n",
    "# axes[0][1].set_xlabel(\"$t$\", fontsize=25)\n",
    "# axes[0][1].set_ylim(0., 1.01)\n",
    "# axes[0][1].tick_params(labelsize=15)\n",
    "# axes[0][1].ticklabel_format(style=\"sci\", axis=\"x\", scilimits=(0, 0), useMathText=True)\n",
    "# axes[0][1].xaxis.get_offset_text().set_fontsize(15)\n",
    "# axes[0][1].get_yaxis().set_visible(False)\n",
    "# axes[0][1].legend([],[], frameon=False)\n",
    "\n",
    "# # 2. density plots\n",
    "# legend_labels = {\n",
    "#     \"Dn\": \"$D_n$\", \"Classic\": \"Classic\", \"High dim Gaussian\": \"High dim Gaussian\", \n",
    "#     \"High dim Gamma\": \"High dim Gamma\",\n",
    "# }\n",
    "\n",
    "# # i. ksd ld\n",
    "# for i, (n, l) in enumerate(legend_labels.items()):\n",
    "#     sns.kdeplot(\n",
    "#         ax=axes[1][0],\n",
    "#         data=samples_res_ld.loc[samples_res_ld.name == n],\n",
    "#         x=\"x\",\n",
    "#         linewidth=lw,\n",
    "#         common_norm=False,\n",
    "#         label=l,\n",
    "#         linestyle=linestyles[i],\n",
    "#         legend=False,\n",
    "#     )\n",
    "# # statistic expectation\n",
    "# axes[1][0].axvline(\n",
    "#     res_analytical.loc[d_ld, \"expectation\"], color=\"k\", linestyle=\"--\", label=r\"Mean $D$\", linewidth=2,\n",
    "# )\n",
    "# axes[1][0].set_xlabel(\"$x$\", fontsize=25)\n",
    "# axes[1][0].set_ylabel(\"Density\", fontsize=15)\n",
    "# axes[1][0].set_ylim(bottom=0.)\n",
    "# axes[1][0].tick_params(labelsize=15)\n",
    "# axes[1][0].set_xlim([0.35, 0.45])\n",
    "# # axes[1][0].legend(\n",
    "# #     fontsize=14, bbox_to_anchor=(2.15, 1.25), ncol=4, #columnspacing=0.7, handletextpad=0.01\n",
    "# # )\n",
    "\n",
    "# # ii. ksd\n",
    "# for i, (n, l) in enumerate(legend_labels.items()):\n",
    "#     sns.kdeplot(\n",
    "#         ax=axes[1][1],\n",
    "#         data=samples_res.loc[samples_res.name == n],\n",
    "#         x=\"x\",\n",
    "#         linewidth=lw,\n",
    "#         linestyle=linestyles[i],\n",
    "#         common_norm=False,\n",
    "#         legend=False,\n",
    "#     )\n",
    "\n",
    "# # statistic expectation\n",
    "# axes[1][1].axvline(\n",
    "#     res_analytical.loc[d, \"expectation\"], color=\"k\", linestyle=\"--\", label=r\"Mean $D$\", linewidth=2,\n",
    "# )\n",
    "# axes[1][1].set_xlabel(\"$x$\", fontsize=25)\n",
    "# axes[1][1].get_yaxis().set_visible(False)\n",
    "# axes[1][1].tick_params(labelsize=15)\n",
    "\n",
    "# axes[0][0].legend(\n",
    "# #     cdf_legends_show,\n",
    "#     fontsize=15, bbox_to_anchor=(2.5, 1.42), ncol=len(cdf_legends)+1, #columnspacing=0.7, handletextpad=0.01\n",
    "# )\n",
    "\n",
    "# # axes[0][2].legend(\n",
    "# # #     cdf_legends_show,\n",
    "# #     fontsize=15, bbox_to_anchor=(1., 1.1), \n",
    "# # )\n",
    "\n",
    "# plt.subplots_adjust(\n",
    "#     top=0.8,\n",
    "#     wspace=0.1,\n",
    "#     hspace=0.6,\n",
    "# )\n",
    "\n",
    "# plt.savefig(f\"../figs/high_dim/power_{STATISTIC}_{KERNEL.__name__}.pdf\", bbox_inches=\"tight\")"
   ]
  },
  {
   "cell_type": "code",
   "execution_count": 17,
   "metadata": {},
   "outputs": [
    {
     "data": {
      "image/png": "[encoded data removed]",
      "text/plain": [
       "<Figure size 720x201.6 with 2 Axes>"
      ]
     },
     "metadata": {
      "needs_background": "light"
     },
     "output_type": "display_data"
    }
   ],
   "source": [
    "figs, axes = plt.subplots(nrows=1, ncols=2, figsize=(10, 2.8))\n",
    "\n",
    "linestyles = [\"solid\", \"dashed\", \"dashdot\", \"dotted\"]\n",
    "lw = 4\n",
    "\n",
    "# 1.ecdf plots\n",
    "cdf_legends_labels = {\n",
    "    \"probs\": r\"U-statistic $D_n$\",\n",
    "    \"cond\": \"Non-degen.\", \n",
    "    \"mm_full\": \"Degen. Gamma\",\n",
    "#     \"mm_chi\": \"Degen. Chi-square\",\n",
    "}\n",
    "    \n",
    "# i. ksd ld\n",
    "for i, (n, l) in enumerate(cdf_legends_labels.items()):\n",
    "    sns.lineplot(\n",
    "        ax=axes[0],\n",
    "        data=cdf_rep_ld.loc[cdf_rep_ld.name == n], \n",
    "        x=\"ts\", \n",
    "        y=\"value\", \n",
    "        label=l,\n",
    "        linestyle=linestyles[i],\n",
    "        linewidth=lw,\n",
    "    )\n",
    "\n",
    "# statistic expectation\n",
    "axes[0].axvline(\n",
    "    res_analytical.loc[d_ld, \"expectation\"], color=\"k\", linestyle=\"--\", label=r\"Mean $D$\", linewidth=2,\n",
    ")\n",
    "\n",
    "axes[0].set_xlabel(\"$t$\", fontsize=25)\n",
    "axes[0].set_ylabel(\"Probability\", fontsize=20)\n",
    "axes[0].set_ylim(0., 1.01)\n",
    "axes[0].tick_params(labelsize=15)\n",
    "axes[0].legend([],[], frameon=False)\n",
    "\n",
    "# ii. ksd\n",
    "for i, (n, l) in enumerate(cdf_legends_labels.items()):\n",
    "    sns.lineplot(\n",
    "        ax=axes[1],\n",
    "        data=cdf_rep.loc[cdf_rep.name == n], \n",
    "        x=\"ts\", \n",
    "        y=\"value\", \n",
    "        label=l,\n",
    "        linestyle=linestyles[i],\n",
    "        linewidth=lw,\n",
    "    )\n",
    "# statistic expectation\n",
    "axes[1].axvline(\n",
    "    res_analytical.loc[d, \"expectation\"], color=\"k\", linestyle=\"--\", label=r\"Mean $D$\", linewidth=2,\n",
    ")\n",
    "\n",
    "axes[1].set_xlabel(\"$t$\", fontsize=25)\n",
    "axes[1].set_ylabel(\"\")\n",
    "axes[1].set_ylim(0., 1.01)\n",
    "axes[1].get_yaxis().set_visible(False)\n",
    "axes[1].tick_params(labelsize=15)\n",
    "# axes[1].ticklabel_format(style=\"sci\", axis=\"x\", scilimits=(0, 0), useMathText=True)\n",
    "# axes[1].xaxis.get_offset_text().set_fontsize(15)\n",
    "axes[1].legend([],[], frameon=False)\n",
    "pyplot.locator_params(axis=\"x\", nbins=4) # set no. of xticks \n",
    "\n",
    "axes[0].legend(\n",
    "#     cdf_legends_show,\n",
    "    fontsize=15, bbox_to_anchor=(2.2, 1.3), ncol=4, #columnspacing=0.7, handletextpad=0.01\n",
    ")\n",
    "# axes[1].legend(\n",
    "# #     cdf_legends_show,\n",
    "#     fontsize=15, bbox_to_anchor=(1., 1.06), \n",
    "# )\n",
    "\n",
    "plt.subplots_adjust(\n",
    "    wspace=0.02,\n",
    "#     hspace=0.15,\n",
    ")\n",
    "\n",
    "# plt.savefig(f\"../figs/high_dim/power_{STATISTIC}_{KERNEL.__name__}.pdf\", bbox_inches=\"tight\")"
   ]
  },
  {
   "cell_type": "code",
   "execution_count": null,
   "metadata": {},
   "outputs": [],
   "source": []
  }
 ],
 "metadata": {
  "kernelspec": {
   "display_name": "pksd",
   "language": "python",
   "name": "pksd"
  },
  "language_info": {
   "codemirror_mode": {
    "name": "ipython",
    "version": 3
   },
   "file_extension": ".py",
   "mimetype": "text/x-python",
   "name": "python",
   "nbconvert_exporter": "python",
   "pygments_lexer": "ipython3",
   "version": "3.8.10"
  }
 },
 "nbformat": 4,
 "nbformat_minor": 4
}
