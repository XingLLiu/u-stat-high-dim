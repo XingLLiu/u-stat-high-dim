{
 "cells": [
  {
   "cell_type": "code",
   "execution_count": 1,
   "metadata": {},
   "outputs": [],
   "source": [
    "import sys\n",
    "sys.path.append(\"../\")"
   ]
  },
  {
   "cell_type": "code",
   "execution_count": 2,
   "metadata": {},
   "outputs": [],
   "source": [
    "%load_ext autoreload\n",
    "%autoreload 2\n",
    "\n",
    "from src.ksd.ksd import KSD\n",
    "from src.ksd.kernel import IMQ, RBF, Linear\n",
    "\n",
    "import numpy as np\n",
    "import pandas as pd\n",
    "import tensorflow as tf\n",
    "import tensorflow_probability as tfp\n",
    "tfd = tfp.distributions\n",
    "import matplotlib.pyplot as plt\n",
    "import seaborn as sns\n",
    "from tqdm.notebook import tqdm, trange\n",
    "import pickle\n",
    "\n",
    "import high_dim_power as hd\n",
    "import analytical as hd_ana\n",
    "\n",
    "import matplotlib as mpl\n",
    "mpl.rcParams[\"mathtext.fontset\"] = \"cm\""
   ]
  },
  {
   "cell_type": "code",
   "execution_count": 3,
   "metadata": {},
   "outputs": [],
   "source": [
    "tf.random.set_seed(1)\n",
    "\n",
    "DELTA = 2.\n",
    "\n",
    "BANDWIDTH_POWER = 1.\n",
    "\n",
    "STATISTIC = \"mmd\" # \"ksd\" # \n",
    "\n",
    "KERNEL = RBF # Linear\n",
    "\n",
    "DIR = \"../res/high_dim\"\n",
    "SUFFIX = f\"delta{DELTA}_r{BANDWIDTH_POWER}_{STATISTIC}_{KERNEL.__name__}\"\n",
    "EXTRA = \"\""
   ]
  },
  {
   "cell_type": "markdown",
   "metadata": {},
   "source": [
    "# Load results"
   ]
  },
  {
   "cell_type": "code",
   "execution_count": 4,
   "metadata": {},
   "outputs": [],
   "source": [
    "# # load analytical res\n",
    "# res_analytical_save = pd.read_csv(\n",
    "#     f\"{DIR}/res_analytical_{SUFFIX}.csv\",\n",
    "# )\n",
    "# res_analytical = res_analytical_save.set_index(\"dim\", drop=False)\n",
    "# dims = res_analytical.dim.unique().tolist()"
   ]
  },
  {
   "cell_type": "code",
   "execution_count": 101,
   "metadata": {},
   "outputs": [],
   "source": [
    "# dims = [1, 2, 4, 25, 50, 75, 100] #, 250, 500, 1000, 2000]\n",
    "dims = [1, 2, 4, 25, 50, 75, 100, 250, 500, 1000, 2000]"
   ]
  },
  {
   "cell_type": "code",
   "execution_count": 103,
   "metadata": {},
   "outputs": [
    {
     "name": "stderr",
     "output_type": "stream",
     "text": [
      "100%|███████████████████████████████████████████████████████████████████████████████████████████████████████████████████████████████████████████████████████████████████████████| 11/11 [00:47<00:00,  4.30s/it]\n"
     ]
    }
   ],
   "source": [
    "# compute analytical res\n",
    "NPOP = 6000 # 10000 # 4000\n",
    "\n",
    "res_analytical = hd.compute_population_quantities(\n",
    "    dims=dims, \n",
    "    bandwidth_order=BANDWIDTH_POWER, \n",
    "    kernel_class=KERNEL,\n",
    "    npop=NPOP,\n",
    "    delta=DELTA,\n",
    "    statistic=STATISTIC,\n",
    ")"
   ]
  },
  {
   "cell_type": "code",
   "execution_count": 104,
   "metadata": {},
   "outputs": [],
   "source": [
    "res_analytical_dict = res_analytical\n",
    "res_analytical = pd.DataFrame(res_analytical)\n",
    "res_analytical[\"dim\"] = dims\n",
    "res_analytical.set_index(\"dim\", drop=False, inplace=True)"
   ]
  },
  {
   "cell_type": "markdown",
   "metadata": {},
   "source": [
    "# Compute analytical forms/bounds"
   ]
  },
  {
   "cell_type": "code",
   "execution_count": 105,
   "metadata": {},
   "outputs": [],
   "source": [
    "def compute_analytical(stat_ana_class, dims, delta, bandwidth_power):\n",
    "    res = {\n",
    "        \"dim\": dims,\n",
    "        \"mean\": [],\n",
    "#         \"m2\": [],\n",
    "#         \"M2\": [],\n",
    "        \"cond_var\": [],\n",
    "        \"full_var\": [],\n",
    "        \"m3_ub\": [],\n",
    "        \"M3_ub\": [],\n",
    "    }\n",
    "\n",
    "    for d in dims:\n",
    "        if stat_ana_class == hd_ana.MMDLinearAnalytical:\n",
    "            mu = np.eye(d)[:, 1] * delta\n",
    "\n",
    "            sigma_mat = np.eye(d, dtype=np.float32) * 0.5\n",
    "            sigma_mat[0, 0] = 0.5 * d\n",
    "            \n",
    "            stat_ana = stat_ana_class(\n",
    "                dim=d,\n",
    "                mu=mu,\n",
    "                Sigma=sigma_mat,\n",
    "                bandwidth_power=bandwidth_power,\n",
    "            )\n",
    "            \n",
    "        else:\n",
    "            stat_ana = stat_ana_class(\n",
    "                dim=d,\n",
    "                mu_norm=delta,\n",
    "                bandwidth_power=bandwidth_power,\n",
    "            )\n",
    "\n",
    "        res[\"mean\"].append(stat_ana.mean())\n",
    "#         res[\"m2\"].append(stat_ana.m2())\n",
    "#         res[\"M2\"].append(stat_ana.M2())\n",
    "        res[\"cond_var\"].append(stat_ana.cond_var())\n",
    "        res[\"full_var\"].append(stat_ana.full_var())\n",
    "        res[\"m3_ub\"].append(stat_ana.abs_cond_moment_ub(nu=3))\n",
    "        res[\"M3_ub\"].append(stat_ana.abs_full_moment_ub(nu=3))\n",
    "\n",
    "    res_df = pd.DataFrame(res)\n",
    "    return res_df\n",
    "    "
   ]
  },
  {
   "cell_type": "code",
   "execution_count": 106,
   "metadata": {},
   "outputs": [],
   "source": [
    "mmd_ana = compute_analytical(\n",
    "    stat_ana_class=hd_ana.MMDAnalytical, \n",
    "    dims=dims, \n",
    "    delta=DELTA, \n",
    "    bandwidth_power=BANDWIDTH_POWER,\n",
    ")"
   ]
  },
  {
   "cell_type": "markdown",
   "metadata": {},
   "source": [
    "# Moments vs. dim"
   ]
  },
  {
   "cell_type": "code",
   "execution_count": 107,
   "metadata": {},
   "outputs": [],
   "source": [
    "def plot(res_sim, res_expression):\n",
    "    dims = res_expression[\"dim\"].to_numpy()\n",
    "    \n",
    "    figs, axes = plt.subplots(nrows=1, ncols=3, figsize=(12, 3))\n",
    "\n",
    "    axes[0].plot(dims, res_sim.loc[dims, \"expectation\"], marker=\"o\", label=\"Truth\")\n",
    "    axes[0].plot(dims, res_expression[\"mean\"], marker=\"x\", label=\"Derived\")\n",
    "    axes[0].set_xlabel(\"Dim\", fontsize=15)\n",
    "    axes[0].set_ylabel(\"Mean\", fontsize=15)\n",
    "    axes[0].tick_params(labelsize=15)\n",
    "    axes[0].legend(fontsize=11)\n",
    "    axes[0].set_xscale(\"log\")\n",
    "    \n",
    "    axes[1].plot(dims, res_sim.loc[dims, \"cond_var\"], marker=\"o\", label=\"Truth\")\n",
    "    axes[1].plot(dims, res_expression[\"cond_var\"], marker=\"x\", label=\"Derived\")\n",
    "    axes[1].set_xlabel(\"Dim\", fontsize=15)\n",
    "    axes[1].set_ylabel(r\"$\\sigma_{\\mathrm{cond}}^2$\", fontsize=22)\n",
    "    axes[1].tick_params(labelsize=15)\n",
    "    axes[1].legend(fontsize=11)\n",
    "    axes[1].set_xscale(\"log\")\n",
    "\n",
    "    axes[2].plot(dims, res_sim.loc[dims, \"full_var\"], marker=\"o\", label=\"Truth\")\n",
    "    axes[2].plot(dims, res_expression[\"full_var\"], marker=\"x\", label=\"Derived\")\n",
    "    axes[2].set_xlabel(\"Dim\", fontsize=15)\n",
    "    axes[2].set_ylabel(r\"$\\sigma_{\\mathrm{full}}^2$\", fontsize=22)\n",
    "    axes[2].tick_params(labelsize=15)\n",
    "    axes[2].legend(fontsize=11)\n",
    "    axes[2].set_xscale(\"log\")\n",
    "\n",
    "#     axes[3].plot(dims, res_sim.loc[dims, \"m3\"], marker=\"o\", label=\"Truth\")\n",
    "#     axes[3].plot(dims, res_expression[\"m3_ub\"], marker=\"x\", label=\"Derived UB\")\n",
    "#     axes[3].set_xlabel(\"Dim\", fontsize=15)\n",
    "#     axes[3].set_ylabel(r\"$M_{\\mathrm{cond};3}^3$\", fontsize=22)\n",
    "#     axes[3].tick_params(labelsize=15)\n",
    "#     axes[3].legend(fontsize=11)\n",
    "    \n",
    "    plt.tight_layout()\n",
    "    \n",
    "#     plt.savefig(f\"../figs/high_dim/moments_{STATISTIC}_{KERNEL.__name__}.pdf\", bbox_inches=\"tight\")"
   ]
  },
  {
   "cell_type": "code",
   "execution_count": 108,
   "metadata": {},
   "outputs": [
    {
     "data": {
      "image/png": "[encoded data removed]",
      "text/plain": [
       "<Figure size 864x216 with 3 Axes>"
      ]
     },
     "metadata": {
      "needs_background": "light"
     },
     "output_type": "display_data"
    }
   ],
   "source": [
    "plot(res_analytical, mmd_ana)"
   ]
  },
  {
   "cell_type": "markdown",
   "metadata": {},
   "source": [
    "# RBF-KSD"
   ]
  },
  {
   "cell_type": "code",
   "execution_count": null,
   "metadata": {},
   "outputs": [],
   "source": [
    "# # load analytical res\n",
    "# res_analytical_save = pd.read_csv(\n",
    "#     f\"{DIR}/res_analytical_verify_ksd_RBF.csv\",\n",
    "# )\n",
    "# res_analytical = res_analytical_save.set_index(\"dim\", drop=False)\n",
    "# dims = res_analytical.dim.unique().tolist()"
   ]
  },
  {
   "cell_type": "markdown",
   "metadata": {},
   "source": [
    "## Analytical"
   ]
  },
  {
   "cell_type": "code",
   "execution_count": 90,
   "metadata": {},
   "outputs": [],
   "source": [
    "dims_ksd = [1, 2, 4, 25, 50, 75, 100, 250, 500, 1000, 2000]\n",
    "NPOP_ksd = 4000"
   ]
  },
  {
   "cell_type": "code",
   "execution_count": 92,
   "metadata": {},
   "outputs": [
    {
     "name": "stderr",
     "output_type": "stream",
     "text": [
      "100%|███████████████████████████████████████████████████████████████████████████████████████████████████████████████████████████████████████████████████████████████████████████| 11/11 [08:03<00:00, 43.97s/it]\n"
     ]
    }
   ],
   "source": [
    "res_analytical_ksd = hd.compute_population_quantities(\n",
    "    dims=dims_ksd, \n",
    "    bandwidth_order=BANDWIDTH_POWER, \n",
    "    kernel_class=KERNEL,\n",
    "    npop=NPOP_ksd,\n",
    "    delta=DELTA,\n",
    "    statistic=\"ksd\",\n",
    ")"
   ]
  },
  {
   "cell_type": "code",
   "execution_count": 93,
   "metadata": {},
   "outputs": [],
   "source": [
    "res_analytical_dict_ksd = res_analytical_ksd\n",
    "res_analytical_ksd = pd.DataFrame(res_analytical_ksd)\n",
    "res_analytical_ksd[\"dim\"] = dims\n",
    "res_analytical_ksd.set_index(\"dim\", drop=False, inplace=True)"
   ]
  },
  {
   "cell_type": "markdown",
   "metadata": {},
   "source": [
    "## Derived"
   ]
  },
  {
   "cell_type": "code",
   "execution_count": 94,
   "metadata": {},
   "outputs": [],
   "source": [
    "ksd_ana = compute_analytical(\n",
    "    stat_ana_class=hd_ana.KSDAnalytical, \n",
    "    dims=dims,\n",
    "    delta=DELTA, \n",
    "    bandwidth_power=BANDWIDTH_POWER,\n",
    ")"
   ]
  },
  {
   "cell_type": "code",
   "execution_count": 100,
   "metadata": {},
   "outputs": [
    {
     "data": {
      "image/png": "[encoded data removed]",
      "text/plain": [
       "<Figure size 864x216 with 3 Axes>"
      ]
     },
     "metadata": {
      "needs_background": "light"
     },
     "output_type": "display_data"
    }
   ],
   "source": [
    "plot(res_analytical_ksd, ksd_ana)"
   ]
  },
  {
   "cell_type": "markdown",
   "metadata": {},
   "source": [
    "# Linear-MMD"
   ]
  },
  {
   "cell_type": "markdown",
   "metadata": {},
   "source": [
    "## Analytical"
   ]
  },
  {
   "cell_type": "code",
   "execution_count": 109,
   "metadata": {},
   "outputs": [],
   "source": [
    "dims_lin = dims[1:]"
   ]
  },
  {
   "cell_type": "code",
   "execution_count": 110,
   "metadata": {},
   "outputs": [
    {
     "name": "stderr",
     "output_type": "stream",
     "text": [
      "100%|██████████████████████████████████████████████████████████████████████████████████████████████████████████████████████████████████████████████████████████████████████████| 10/10 [36:48<00:00, 220.86s/it]\n"
     ]
    }
   ],
   "source": [
    "res_analytical_lin = hd.compute_population_quantities(\n",
    "    dims=dims_lin, \n",
    "    bandwidth_order=BANDWIDTH_POWER, \n",
    "    kernel_class=Linear,\n",
    "    npop=int(1e5),\n",
    "    delta=DELTA,\n",
    "    statistic=\"mmd\",\n",
    ")"
   ]
  },
  {
   "cell_type": "code",
   "execution_count": 111,
   "metadata": {},
   "outputs": [],
   "source": [
    "res_analytical_dict_lin = res_analytical_lin\n",
    "res_analytical_lin = pd.DataFrame(res_analytical_lin)\n",
    "res_analytical_lin[\"dim\"] = dims_lin\n",
    "res_analytical_lin.set_index(\"dim\", drop=False, inplace=True)"
   ]
  },
  {
   "cell_type": "markdown",
   "metadata": {},
   "source": [
    "## Derived"
   ]
  },
  {
   "cell_type": "code",
   "execution_count": 112,
   "metadata": {},
   "outputs": [
    {
     "ename": "TypeError",
     "evalue": "__init__() got an unexpected keyword argument 'bandwidth_power'",
     "output_type": "error",
     "traceback": [
      "\u001b[0;31m---------------------------------------------------------------------------\u001b[0m",
      "\u001b[0;31mTypeError\u001b[0m                                 Traceback (most recent call last)",
      "\u001b[0;32m/tmp/ipykernel_2268012/3524434776.py\u001b[0m in \u001b[0;36m<module>\u001b[0;34m\u001b[0m\n\u001b[0;32m----> 1\u001b[0;31m lin_ana = compute_analytical(\n\u001b[0m\u001b[1;32m      2\u001b[0m     \u001b[0mstat_ana_class\u001b[0m\u001b[0;34m=\u001b[0m\u001b[0mhd_ana\u001b[0m\u001b[0;34m.\u001b[0m\u001b[0mMMDLinearAnalytical\u001b[0m\u001b[0;34m,\u001b[0m\u001b[0;34m\u001b[0m\u001b[0;34m\u001b[0m\u001b[0m\n\u001b[1;32m      3\u001b[0m     \u001b[0mdims\u001b[0m\u001b[0;34m=\u001b[0m\u001b[0mdims_lin\u001b[0m\u001b[0;34m,\u001b[0m\u001b[0;34m\u001b[0m\u001b[0;34m\u001b[0m\u001b[0m\n\u001b[1;32m      4\u001b[0m     \u001b[0mdelta\u001b[0m\u001b[0;34m=\u001b[0m\u001b[0mDELTA\u001b[0m\u001b[0;34m,\u001b[0m\u001b[0;34m\u001b[0m\u001b[0;34m\u001b[0m\u001b[0m\n\u001b[1;32m      5\u001b[0m     \u001b[0mbandwidth_power\u001b[0m\u001b[0;34m=\u001b[0m\u001b[0mBANDWIDTH_POWER\u001b[0m\u001b[0;34m,\u001b[0m\u001b[0;34m\u001b[0m\u001b[0;34m\u001b[0m\u001b[0m\n",
      "\u001b[0;32m/tmp/ipykernel_2268012/917877295.py\u001b[0m in \u001b[0;36mcompute_analytical\u001b[0;34m(stat_ana_class, dims, delta, bandwidth_power)\u001b[0m\n\u001b[1;32m     18\u001b[0m             \u001b[0msigma_mat\u001b[0m\u001b[0;34m[\u001b[0m\u001b[0;36m0\u001b[0m\u001b[0;34m,\u001b[0m \u001b[0;36m0\u001b[0m\u001b[0;34m]\u001b[0m \u001b[0;34m=\u001b[0m \u001b[0;36m0.5\u001b[0m \u001b[0;34m*\u001b[0m \u001b[0md\u001b[0m\u001b[0;34m\u001b[0m\u001b[0;34m\u001b[0m\u001b[0m\n\u001b[1;32m     19\u001b[0m \u001b[0;34m\u001b[0m\u001b[0m\n\u001b[0;32m---> 20\u001b[0;31m             stat_ana = stat_ana_class(\n\u001b[0m\u001b[1;32m     21\u001b[0m                 \u001b[0mdim\u001b[0m\u001b[0;34m=\u001b[0m\u001b[0md\u001b[0m\u001b[0;34m,\u001b[0m\u001b[0;34m\u001b[0m\u001b[0;34m\u001b[0m\u001b[0m\n\u001b[1;32m     22\u001b[0m                 \u001b[0mmu\u001b[0m\u001b[0;34m=\u001b[0m\u001b[0mmu\u001b[0m\u001b[0;34m,\u001b[0m\u001b[0;34m\u001b[0m\u001b[0;34m\u001b[0m\u001b[0m\n",
      "\u001b[0;31mTypeError\u001b[0m: __init__() got an unexpected keyword argument 'bandwidth_power'"
     ]
    }
   ],
   "source": [
    "lin_ana = compute_analytical(\n",
    "    stat_ana_class=hd_ana.MMDLinearAnalytical, \n",
    "    dims=dims_lin,\n",
    "    delta=DELTA, \n",
    "    bandwidth_power=BANDWIDTH_POWER,\n",
    ")"
   ]
  },
  {
   "cell_type": "code",
   "execution_count": null,
   "metadata": {},
   "outputs": [],
   "source": [
    "plot(res_analytical_lin, lin_ana)"
   ]
  },
  {
   "cell_type": "code",
   "execution_count": null,
   "metadata": {},
   "outputs": [],
   "source": []
  },
  {
   "cell_type": "code",
   "execution_count": null,
   "metadata": {},
   "outputs": [],
   "source": []
  },
  {
   "cell_type": "code",
   "execution_count": null,
   "metadata": {},
   "outputs": [],
   "source": []
  }
 ],
 "metadata": {
  "kernelspec": {
   "display_name": "pksd",
   "language": "python",
   "name": "pksd"
  },
  "language_info": {
   "codemirror_mode": {
    "name": "ipython",
    "version": 3
   },
   "file_extension": ".py",
   "mimetype": "text/x-python",
   "name": "python",
   "nbconvert_exporter": "python",
   "pygments_lexer": "ipython3",
   "version": "3.8.10"
  }
 },
 "nbformat": 4,
 "nbformat_minor": 4
}
