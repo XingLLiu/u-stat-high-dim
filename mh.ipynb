{
 "cells": [
  {
   "cell_type": "code",
   "execution_count": 1,
   "id": "c760ca15",
   "metadata": {},
   "outputs": [],
   "source": [
    "%load_ext autoreload\n",
    "%autoreload 2\n",
    "\n",
    "import numpy as np\n",
    "import pandas as pd\n",
    "import tensorflow as tf\n",
    "import tensorflow_probability as tfp\n",
    "tfd = tfp.distributions\n",
    "import matplotlib.pyplot as plt\n",
    "import seaborn as sns\n",
    "from tqdm.notebook import tqdm, trange\n",
    "\n",
    "from src.ksd.models import create_mixture_gaussian\n",
    "from src.ksd.langevin import RandomWalkMH\n",
    "\n",
    "from src.ksd.ksd import KSD\n",
    "from src.ksd.kernel import RBF, IMQ"
   ]
  },
  {
   "cell_type": "markdown",
   "id": "d02b173b",
   "metadata": {},
   "source": [
    "# Metropolis-Adjusted Langevin dynamics"
   ]
  },
  {
   "cell_type": "code",
   "execution_count": 2,
   "id": "23947b1b",
   "metadata": {},
   "outputs": [],
   "source": [
    "tf.random.set_seed(0)"
   ]
  },
  {
   "cell_type": "code",
   "execution_count": 3,
   "id": "a4b8a5d9",
   "metadata": {},
   "outputs": [
    {
     "name": "stderr",
     "output_type": "stream",
     "text": [
      "2022-02-09 18:00:34.734676: I tensorflow/core/platform/cpu_feature_guard.cc:142] This TensorFlow binary is optimized with oneAPI Deep Neural Network Library (oneDNN) to use the following CPU instructions in performance-critical operations:  AVX2 AVX512F FMA\n",
      "To enable them in other operations, rebuild TensorFlow with the appropriate compiler flags.\n",
      "2022-02-09 18:00:35.306230: I tensorflow/core/common_runtime/gpu/gpu_device.cc:1510] Created device /job:localhost/replica:0/task:0/device:GPU:0 with 9658 MB memory:  -> device: 0, name: GeForce RTX 2080 Ti, pci bus id: 0000:db:00.0, compute capability: 7.5\n"
     ]
    }
   ],
   "source": [
    "delta = 4.\n",
    "n = 500\n",
    "dim = 5\n",
    "\n",
    "target = create_mixture_gaussian(dim=dim, delta=delta)\n",
    "one_component_mean = - delta * tf.eye(dim)[:, 0]\n",
    "\n",
    "proposal_off = tfd.MultivariateNormalDiag(one_component_mean)\n",
    "# proposal_off = tfd.MultivariateNormalDiag(0.*one_component_mean, 6*tf.ones(dim))\n",
    "proposal_on = create_mixture_gaussian(dim=dim, delta=delta)"
   ]
  },
  {
   "cell_type": "code",
   "execution_count": 4,
   "id": "0f52392e",
   "metadata": {},
   "outputs": [],
   "source": [
    "off_samples = proposal_off.sample(n)\n",
    "on_samples = proposal_on.sample(n)"
   ]
  },
  {
   "cell_type": "code",
   "execution_count": 5,
   "id": "7e409b00",
   "metadata": {
    "scrolled": false
   },
   "outputs": [
    {
     "data": {
      "image/png": "[encoded data removed]",
      "text/plain": [
       "<Figure size 432x288 with 1 Axes>"
      ]
     },
     "metadata": {
      "needs_background": "light"
     },
     "output_type": "display_data"
    }
   ],
   "source": [
    "_ = plt.hist(off_samples.numpy()[:, 0], bins=20, label=\"off-target\", alpha=0.4)\n",
    "_ = plt.hist(on_samples.numpy()[:, 0], bins=20, label=\"target\", alpha=0.4)"
   ]
  },
  {
   "cell_type": "code",
   "execution_count": 6,
   "id": "4c5cccd1",
   "metadata": {},
   "outputs": [],
   "source": [
    "def log_prob_fn(x):\n",
    "    exp1 = tf.reduce_sum((x - one_component_mean)**2, axis=-1) # n\n",
    "    exp2 = tf.reduce_sum((x + one_component_mean)**2, axis=-1) # n\n",
    "    return tf.math.log(\n",
    "        tf.math.exp(- 0.5 * exp1) + tf.math.exp(- 0.5 * exp2)\n",
    "    )\n",
    "\n",
    "mh_off = RandomWalkMH(log_prob=log_prob_fn)"
   ]
  },
  {
   "cell_type": "code",
   "execution_count": 7,
   "id": "db17d590",
   "metadata": {},
   "outputs": [
    {
     "name": "stderr",
     "output_type": "stream",
     "text": [
      "100%|█████████████████████████████████████████████████████████████████████████████████████████████████████████████████████████████████████████████████████████████████████████████████████| 1/1 [00:00<00:00, 92.31it/s]\n"
     ]
    }
   ],
   "source": [
    "steps = 2\n",
    "std = 5.\n",
    "x_init_off = tf.identity(off_samples)\n",
    "dir_vec = tf.eye(dim)[:, 0]\n",
    "\n",
    "mh_off.run(steps=steps, std=std, x_init=x_init_off, verbose=True, dir_vec=dir_vec)"
   ]
  },
  {
   "cell_type": "code",
   "execution_count": 8,
   "id": "a11bb9e3",
   "metadata": {},
   "outputs": [
    {
     "data": {
      "text/plain": [
       "<tf.Tensor: shape=(), dtype=bool, numpy=True>"
      ]
     },
     "execution_count": 8,
     "metadata": {},
     "output_type": "execute_result"
    }
   ],
   "source": [
    "# check if the hard-coded log_prob equals to the built-in fn\n",
    "diff = log_prob_fn(x_init_off) - proposal_on.log_prob(x_init_off)\n",
    "tf.experimental.numpy.allclose(diff, diff[0])"
   ]
  },
  {
   "cell_type": "code",
   "execution_count": 9,
   "id": "e7520bce",
   "metadata": {},
   "outputs": [],
   "source": [
    "def plot_steps(plot_t_step, result):\n",
    "    nplots = steps // plot_t_step\n",
    "    nrows = max(2, int(np.sqrt(nplots)))\n",
    "    ncols = max(2, int(np.ceil(nplots / nrows)))\n",
    "\n",
    "    fig, ax = plt.subplots(nrows=nrows, ncols=ncols, figsize=(3*nrows, 3*ncols))\n",
    "\n",
    "    ind = 0\n",
    "    t = 0\n",
    "    for row in ax:\n",
    "        for col in row:\n",
    "            if ind >= nplots: break\n",
    "\n",
    "            col.hist(result.x.numpy()[t, :, 0], bins=40, label=\"updated off-target\", alpha=0.4)\n",
    "            col.hist(on_samples.numpy()[:, 0], bins=20, label=\"target\", alpha=0.4)\n",
    "            \n",
    "    #         res_df = pd.DataFrame({\"x\": result.x.numpy()[t, :, 0], \"type\": \"updated off-target\"})\n",
    "    #         res_df2 = pd.DataFrame({\"x\": on_samples.numpy()[:, 0], \"type\": \"target\"})\n",
    "    #         res_df = pd.concat([res_df, res_df2], ignore_index=True)\n",
    "    #         sns.ecdfplot(ax=col, data=res_df, hue=\"type\", x=\"x\", alpha=0.4)\n",
    "    #         col.legend()\n",
    "            col.set_title(f\"t = {t}\")\n",
    "\n",
    "            if t == 0:\n",
    "                col.legend()\n",
    "\n",
    "            ind += 1\n",
    "            t += plot_t_step"
   ]
  },
  {
   "cell_type": "code",
   "execution_count": 10,
   "id": "37be6d27",
   "metadata": {},
   "outputs": [
    {
     "data": {
      "image/png": "[encoded data removed]",
      "text/plain": [
       "<Figure size 432x432 with 4 Axes>"
      ]
     },
     "metadata": {
      "needs_background": "light"
     },
     "output_type": "display_data"
    }
   ],
   "source": [
    "plot_t_step = 1 # plot every xxx steps\n",
    "plot_steps(plot_t_step=plot_t_step, result=mh_off)"
   ]
  },
  {
   "cell_type": "code",
   "execution_count": 11,
   "id": "98e0b053",
   "metadata": {},
   "outputs": [],
   "source": [
    "mh_on = RandomWalkMH(log_prob=proposal_on.log_prob)\n",
    "\n",
    "x_init_on = tf.identity(on_samples)\n",
    "mh_on.run(steps=steps, std=std, x_init=x_init_on, dir_vec=dir_vec)"
   ]
  },
  {
   "cell_type": "code",
   "execution_count": 12,
   "id": "afe4691d",
   "metadata": {},
   "outputs": [
    {
     "data": {
      "image/png": "[encoded data removed]",
      "text/plain": [
       "<Figure size 432x432 with 4 Axes>"
      ]
     },
     "metadata": {
      "needs_background": "light"
     },
     "output_type": "display_data"
    }
   ],
   "source": [
    "plot_steps(plot_t_step=plot_t_step, result=mh_on)"
   ]
  },
  {
   "cell_type": "markdown",
   "id": "b1504287",
   "metadata": {},
   "source": [
    "# KSD as a function of number of steps"
   ]
  },
  {
   "cell_type": "code",
   "execution_count": 24,
   "id": "64f8e84f",
   "metadata": {},
   "outputs": [],
   "source": [
    "tf.random.set_seed(0)"
   ]
  },
  {
   "cell_type": "code",
   "execution_count": 25,
   "id": "eddff2db",
   "metadata": {},
   "outputs": [],
   "source": [
    "kernel = IMQ(med_heuristic=True)\n",
    "\n",
    "ksd = KSD(target=target, kernel=kernel)\n",
    "\n",
    "nrep = 5"
   ]
  },
  {
   "cell_type": "code",
   "execution_count": 26,
   "id": "8a93dd46",
   "metadata": {},
   "outputs": [],
   "source": [
    "def run_mh_experiment(nrep, proposal_off, proposal_on, steps, std):\n",
    "    ksd_df = pd.DataFrame(columns=[\"t\", \"ksd\", \"seed\", \"type\"])\n",
    "\n",
    "    iterator = trange(nrep)\n",
    "    for seed in iterator:\n",
    "        off_samples = proposal_off.sample(n)\n",
    "        on_samples = proposal_on.sample(n)\n",
    "        \n",
    "        x_init_off = off_samples\n",
    "        x_init_on = on_samples\n",
    "\n",
    "        mh_off = RandomWalkMH(log_prob=log_prob_fn)\n",
    "        mh_off.run(steps=steps, std=std, x_init=x_init_off)\n",
    "\n",
    "        mh_on = RandomWalkMH(log_prob=log_prob_fn)\n",
    "        mh_on.run(steps=steps, std=std, x_init=x_init_on)\n",
    "\n",
    "        for t in range(steps):\n",
    "            iterator.set_description(f\"Time step {t+1} of {steps}\")\n",
    "\n",
    "            x_t = mh_off.x[t, :, :].numpy()\n",
    "            ksd_val = ksd(x_t, tf.identity(x_t)).numpy()\n",
    "            ksd_df.loc[len(ksd_df)] = [t, ksd_val, seed, \"off-target\"]\n",
    "            \n",
    "            x_t = mh_on.x[t, :, :].numpy()\n",
    "            ksd_val = ksd(x_t, tf.identity(x_t)).numpy()\n",
    "            ksd_df.loc[len(ksd_df)] = [t, ksd_val, seed, \"target\"]\n",
    "            \n",
    "    return ksd_df"
   ]
  },
  {
   "cell_type": "code",
   "execution_count": 27,
   "id": "e3025c63",
   "metadata": {},
   "outputs": [
    {
     "data": {
      "application/vnd.jupyter.widget-view+json": {
       "model_id": "ce5e66ba043c4da6bf2549b517945163",
       "version_major": 2,
       "version_minor": 0
      },
      "text/plain": [
       "  0%|          | 0/5 [00:00<?, ?it/s]"
      ]
     },
     "metadata": {},
     "output_type": "display_data"
    }
   ],
   "source": [
    "nsteps = 20\n",
    "std = 5.\n",
    "\n",
    "ksd_df = run_mh_experiment(\n",
    "    nrep=nrep, \n",
    "    proposal_off=proposal_off, \n",
    "    proposal_on=proposal_on, \n",
    "    steps=nsteps, \n",
    "    std=std)"
   ]
  },
  {
   "cell_type": "code",
   "execution_count": 21,
   "id": "f85ef9c7",
   "metadata": {},
   "outputs": [],
   "source": [
    "# # ksd_df = pd.read_csv(\"res/mh.csv\")\n",
    "# ksd_df.to_csv(f\"res/mh_{std}.csv\", index=False)"
   ]
  },
  {
   "cell_type": "code",
   "execution_count": 22,
   "id": "30e6b33d",
   "metadata": {},
   "outputs": [
    {
     "data": {
      "text/plain": [
       "<AxesSubplot:xlabel='t', ylabel='ksd'>"
      ]
     },
     "execution_count": 22,
     "metadata": {},
     "output_type": "execute_result"
    },
    {
     "data": {
      "image/png": "[encoded data removed]",
      "text/plain": [
       "<Figure size 432x288 with 1 Axes>"
      ]
     },
     "metadata": {
      "needs_background": "light"
     },
     "output_type": "display_data"
    }
   ],
   "source": [
    "sns.lineplot(data=ksd_df, x=\"t\", y=\"ksd\", hue=\"type\", alpha=0.5)"
   ]
  },
  {
   "cell_type": "markdown",
   "id": "71257346",
   "metadata": {},
   "source": [
    "# Use BFGS to find the local modes"
   ]
  },
  {
   "cell_type": "code",
   "execution_count": 7,
   "id": "a2abbb47",
   "metadata": {},
   "outputs": [],
   "source": [
    "from src.ksd.find_modes import merge_modes"
   ]
  },
  {
   "cell_type": "code",
   "execution_count": 8,
   "id": "2c651727",
   "metadata": {},
   "outputs": [
    {
     "data": {
      "text/plain": [
       "5"
      ]
     },
     "execution_count": 8,
     "metadata": {},
     "output_type": "execute_result"
    }
   ],
   "source": [
    "proposal_off.event_shape[0]"
   ]
  },
  {
   "cell_type": "code",
   "execution_count": 9,
   "id": "1d1caf62",
   "metadata": {},
   "outputs": [],
   "source": [
    "# The objective function and the gradient.\n",
    "def nll_and_grad(x):\n",
    "    return tfp.math.value_and_gradient(\n",
    "        lambda x: -log_prob_fn(x), # minus as we want to minimise\n",
    "        x)\n",
    "\n",
    "# generate starting points\n",
    "def generate_start_pts(M):\n",
    "#     e1 = tf.eye(dim)[:, 0]\n",
    "#     pts_list = [x * e1 for x in np.linspace(-8., 8., M)]\n",
    "#     start_pts = tf.concat([pts_list], axis=1)\n",
    "\n",
    "    unif_dist = tfp.distributions.Uniform(low=-tf.ones((dim,)), high=tf.ones((dim,)))\n",
    "    start_pts = delta * unif_dist.sample(M)\n",
    "    return start_pts\n"
   ]
  },
  {
   "cell_type": "code",
   "execution_count": 10,
   "id": "a5e5a0b0",
   "metadata": {
    "scrolled": true
   },
   "outputs": [
    {
     "data": {
      "text/plain": [
       "True"
      ]
     },
     "execution_count": 10,
     "metadata": {},
     "output_type": "execute_result"
    }
   ],
   "source": [
    "M = 10 # num of starting points\n",
    "start_pts = generate_start_pts(M)  # Starting point for the search.\n",
    "\n",
    "optim_results = tfp.optimizer.bfgs_minimize(nll_and_grad, initial_position=start_pts, tolerance=1e-8)\n",
    "\n",
    "tf.experimental.numpy.all(optim_results.converged).numpy() # should return true"
   ]
  },
  {
   "cell_type": "code",
   "execution_count": 12,
   "id": "c634bb0f",
   "metadata": {},
   "outputs": [],
   "source": [
    "end_pts = optim_results.position # M x dim\n",
    "inverse_hessian_estimate = optim_results.inverse_hessian_estimate # M x dim x dim"
   ]
  },
  {
   "cell_type": "code",
   "execution_count": 13,
   "id": "dfe17f76",
   "metadata": {},
   "outputs": [],
   "source": [
    "threshold = 1e-3\n",
    "mode_list, inv_hess_list = merge_modes(inverse_hessian_estimate, end_pts, threshold, log_prob_fn)"
   ]
  },
  {
   "cell_type": "code",
   "execution_count": 14,
   "id": "93edf66e",
   "metadata": {},
   "outputs": [
    {
     "data": {
      "text/plain": [
       "[<tf.Tensor: shape=(5,), dtype=float32, numpy=array([4., 0., 0., 0., 0.], dtype=float32)>,\n",
       " <tf.Tensor: shape=(5,), dtype=float32, numpy=\n",
       " array([-4.000000e+00,  0.000000e+00,  5.684342e-14,  0.000000e+00,\n",
       "         0.000000e+00], dtype=float32)>]"
      ]
     },
     "execution_count": 14,
     "metadata": {},
     "output_type": "execute_result"
    }
   ],
   "source": [
    "mode_list"
   ]
  },
  {
   "cell_type": "code",
   "execution_count": 33,
   "id": "6bfbebb4",
   "metadata": {},
   "outputs": [],
   "source": [
    "# use functions\n",
    "import src.ksd.models as models\n",
    "from src.ksd.find_modes import find_modes\n",
    "tf.random.set_seed(0)\n",
    "\n",
    "dim = 5\n",
    "nstart_pts = 20 * dim\n",
    "k = 1\n",
    "delta = 4\n",
    "threshold = 1.\n",
    "ratio_target = 0.5\n",
    "ratio_sample = 1.0\n",
    "\n",
    "target, log_prob_fn = models.create_mixture_gaussian_kdim(dim=dim, k=k, delta=delta, return_logprob=True, ratio=ratio_target)"
   ]
  },
  {
   "cell_type": "code",
   "execution_count": 34,
   "id": "5bd1db73",
   "metadata": {},
   "outputs": [],
   "source": [
    "def run_experiment(nrep, lim):\n",
    "    unif_dist = tfp.distributions.Uniform(low=-tf.ones((dim,)), high=tf.ones((dim,)))\n",
    "    start_pts_all = lim * unif_dist.sample((nrep, nstart_pts))\n",
    "    for seed in range(nrep):\n",
    "        start_pts = start_pts_all[seed, :, :]\n",
    "        mode_list, _ = find_modes(start_pts, log_prob_fn, threshold=threshold)\n",
    "        print(seed, len(mode_list))\n",
    "    return mode_list"
   ]
  },
  {
   "cell_type": "markdown",
   "id": "9b8fb3e9",
   "metadata": {},
   "source": [
    "# Accept prob as a function of jump distance"
   ]
  },
  {
   "cell_type": "code",
   "execution_count": 56,
   "id": "38212121",
   "metadata": {},
   "outputs": [],
   "source": [
    "tf.random.set_seed(0)"
   ]
  },
  {
   "cell_type": "code",
   "execution_count": 57,
   "id": "2d8762e5",
   "metadata": {},
   "outputs": [],
   "source": [
    "kernel = IMQ(med_heuristic=True)\n",
    "\n",
    "ksd = KSD(target=target, kernel=kernel)"
   ]
  },
  {
   "cell_type": "code",
   "execution_count": 58,
   "id": "5e8cba0a",
   "metadata": {},
   "outputs": [],
   "source": [
    "def jump_distance_experiment(nrep, proposal_off, proposal_on, steps, std_ls, dir_vec):\n",
    "    ksd_df = pd.DataFrame(columns=[\"std\", \"ksd\", \"h1_var\", \"ave_accept_prob\", \"seed\", \"type\"])\n",
    "\n",
    "    iterator = trange(nrep)\n",
    "    for seed in iterator:\n",
    "        off_samples = proposal_off.sample(n)\n",
    "        on_samples = proposal_on.sample(n)\n",
    "\n",
    "        x_init_off = off_samples\n",
    "        x_init_on = on_samples\n",
    "\n",
    "        for i, std in enumerate(std_ls):\n",
    "            iterator.set_description(f\"Jump dist {i+1} of {len(std_ls)}\")\n",
    "            \n",
    "            mh_off = RandomWalkMH(log_prob=log_prob_fn)\n",
    "            mh_off.run(steps=steps, std=std, x_init=x_init_off, dir_vec=dir_vec)\n",
    "\n",
    "            mh_on = RandomWalkMH(log_prob=log_prob_fn)\n",
    "            mh_on.run(steps=steps, std=std, x_init=x_init_on, dir_vec=dir_vec)\n",
    "\n",
    "            x_t = mh_off.x[-1, :, :].numpy()\n",
    "            ksd_val = ksd(x_t, tf.identity(x_t)).numpy()\n",
    "            h1_var = ksd.h1_var(X=x_t, Y=tf.identity(x_t)).numpy()\n",
    "#             ksd_val /= np.sqrt(h1_var) + 1e-8\n",
    "            ave_accept_prob_off = tf.reduce_mean(mh_off.accept_prob[-1, :]).numpy()\n",
    "            ksd_df.loc[len(ksd_df)] = [std, ksd_val, h1_var, ave_accept_prob_off, seed, \"off-target\"]\n",
    "            \n",
    "            x_t = mh_on.x[-1, :, :].numpy()\n",
    "            ksd_val = ksd(x_t, tf.identity(x_t)).numpy()\n",
    "            h1_var = ksd.h1_var(X=x_t, Y=tf.identity(x_t)).numpy()\n",
    "#             ksd_val /= np.sqrt(h1_var) + 1e-8\n",
    "            ave_accept_prob_on = tf.reduce_mean(mh_on.accept_prob[-1, :]).numpy() \n",
    "            ksd_df.loc[len(ksd_df)] = [std, ksd_val, h1_var, ave_accept_prob_on, seed, \"target\"]\n",
    "    \n",
    "    return ksd_df"
   ]
  },
  {
   "cell_type": "code",
   "execution_count": 59,
   "id": "6a6fc659",
   "metadata": {},
   "outputs": [
    {
     "data": {
      "application/vnd.jupyter.widget-view+json": {
       "model_id": "e853ff72b9bb4207ab72d3b00f299389",
       "version_major": 2,
       "version_minor": 0
      },
      "text/plain": [
       "  0%|          | 0/10 [00:00<?, ?it/s]"
      ]
     },
     "metadata": {},
     "output_type": "display_data"
    }
   ],
   "source": [
    "nsteps = 20\n",
    "std_ls = np.linspace(0.02, 1.5, 50).tolist()\n",
    "nrep = 10\n",
    "dir_vec = - tf.eye(dim)[:, 0] * delta * 2\n",
    "\n",
    "ksd_df = jump_distance_experiment(\n",
    "    nrep=nrep, \n",
    "    proposal_off=proposal_off, \n",
    "    proposal_on=proposal_on, \n",
    "    steps=nsteps, \n",
    "    std_ls=std_ls,\n",
    "    dir_vec=dir_vec)"
   ]
  },
  {
   "cell_type": "code",
   "execution_count": 48,
   "id": "46f7831c",
   "metadata": {},
   "outputs": [
    {
     "data": {
      "text/plain": [
       "<AxesSubplot:xlabel='std', ylabel='ave_accept_prob'>"
      ]
     },
     "execution_count": 48,
     "metadata": {},
     "output_type": "execute_result"
    },
    {
     "data": {
      "image/png": "[encoded data removed]",
      "text/plain": [
       "<Figure size 432x288 with 1 Axes>"
      ]
     },
     "metadata": {
      "needs_background": "light"
     },
     "output_type": "display_data"
    }
   ],
   "source": [
    "sns.lineplot(data=ksd_df, x=\"std\", y=\"ave_accept_prob\", hue=\"type\", alpha=0.5)"
   ]
  },
  {
   "cell_type": "code",
   "execution_count": 64,
   "id": "28132f9d",
   "metadata": {},
   "outputs": [
    {
     "data": {
      "text/plain": [
       "<AxesSubplot:xlabel='std', ylabel='ksd'>"
      ]
     },
     "execution_count": 64,
     "metadata": {},
     "output_type": "execute_result"
    },
    {
     "data": {
      "image/png": "[encoded data removed]",
      "text/plain": [
       "<Figure size 432x288 with 1 Axes>"
      ]
     },
     "metadata": {
      "needs_background": "light"
     },
     "output_type": "display_data"
    }
   ],
   "source": [
    "# ksd as a function of jump size\n",
    "sns.lineplot(data=ksd_df, x=\"std\", y=\"ksd\", hue=\"type\", alpha=0.5)"
   ]
  },
  {
   "cell_type": "code",
   "execution_count": 61,
   "id": "484c8f7a",
   "metadata": {},
   "outputs": [],
   "source": [
    "# ksd_df[\"ksd_orig\"] = (np.sqrt(ksd_df.h1_var) + 1e-8) * ksd_df.ksd\n",
    "ksd_df[\"h1_std\"] = np.sqrt(ksd_df.h1_var)\n",
    "ksd_df[\"ksd_scaled\"] = ksd_df.ksd / (ksd_df.h1_std + 1e-8)"
   ]
  },
  {
   "cell_type": "code",
   "execution_count": 76,
   "id": "5e070f8f",
   "metadata": {},
   "outputs": [
    {
     "data": {
      "text/plain": [
       "<matplotlib.legend.Legend at 0x7f671c5c23d0>"
      ]
     },
     "execution_count": 76,
     "metadata": {},
     "output_type": "execute_result"
    },
    {
     "data": {
      "image/png": "[encoded data removed]",
      "text/plain": [
       "<Figure size 432x288 with 1 Axes>"
      ]
     },
     "metadata": {
      "needs_background": "light"
     },
     "output_type": "display_data"
    }
   ],
   "source": [
    "ksd_subdf = ksd_df.loc[(ksd_df.seed == 0) & (ksd_df.type == \"off-target\")]\n",
    "plt.plot(ksd_subdf[\"std\"], ksd_subdf.h1_std, label=\"H1 std\")\n",
    "plt.plot(ksd_subdf[\"std\"], ksd_subdf.ksd_scaled, label=\"scaled KSD\")\n",
    "plt.plot(ksd_subdf[\"std\"], ksd_subdf.ksd, label=\"orig KSD\")\n",
    "plt.legend()"
   ]
  },
  {
   "cell_type": "code",
   "execution_count": 74,
   "id": "da179d9c",
   "metadata": {},
   "outputs": [
    {
     "data": {
      "text/plain": [
       "[<matplotlib.lines.Line2D at 0x7f671c6d8580>]"
      ]
     },
     "execution_count": 74,
     "metadata": {},
     "output_type": "execute_result"
    },
    {
     "data": {
      "image/png": "[encoded data removed]",
      "text/plain": [
       "<Figure size 432x288 with 1 Axes>"
      ]
     },
     "metadata": {
      "needs_background": "light"
     },
     "output_type": "display_data"
    }
   ],
   "source": [
    "plt.plot(ksd_subdf[\"std\"], ksd_subdf.ksd / ksd_subdf.ksd_scaled)"
   ]
  },
  {
   "cell_type": "markdown",
   "id": "8158898c",
   "metadata": {},
   "source": [
    "# Find the best discrete jump dist"
   ]
  },
  {
   "cell_type": "code",
   "execution_count": 58,
   "id": "105b5170",
   "metadata": {},
   "outputs": [],
   "source": [
    "def best_jump_distance_experiment(nrep, proposal_off, proposal_on, steps, std_ls, dir_vec):\n",
    "    ksd_df = pd.DataFrame(columns=[\"std\", \"ksd\", \"ave_accept_prob\", \"seed\", \"type\"])\n",
    "\n",
    "    ntrain = int(n * 0.5)\n",
    "    \n",
    "    iterator = trange(nrep)\n",
    "    for seed in iterator:\n",
    "        for name, proposal in zip([\"off-target\", \"target\"], [proposal_off, proposal_on]):\n",
    "            samples = proposal.sample(n)\n",
    "\n",
    "            x_init = samples\n",
    "            x_init_train, x_init_test = x_init[:ntrain, ], x_init[ntrain:, ]\n",
    "\n",
    "            best_ksd = 0.\n",
    "            for i, std in enumerate(std_ls):\n",
    "                iterator.set_description(f\"Jump dist {i+1} of {len(std_ls)}\")\n",
    "\n",
    "                # run dynamic\n",
    "                mh = RandomWalkMH(log_prob=log_prob_fn)\n",
    "                mh.run(steps=steps, std=std, x_init=x_init_train, dir_vec=dir_vec)\n",
    "                \n",
    "                # compute ksd\n",
    "                x_t = mh.x[-1, :, :].numpy()\n",
    "                ksd_val = ksd(x_t, tf.identity(x_t)).numpy()\n",
    "                \n",
    "                if ksd_val > best_ksd:\n",
    "                    best_std = std\n",
    "                    best_ksd = ksd_val\n",
    "\n",
    "            # run with test set\n",
    "            mh = RandomWalkMH(log_prob=log_prob_fn)\n",
    "            mh.run(steps=steps, std=best_std, x_init=x_init_test, dir_vec=dir_vec)\n",
    "\n",
    "            x_t = mh.x[-1, :, :].numpy()\n",
    "            ksd_val = ksd(x_t, tf.identity(x_t)).numpy()\n",
    "            ave_accept_prob = tf.reduce_mean(mh.accept_prob[-1, :]).numpy()\n",
    "            ksd_df.loc[len(ksd_df)] = [best_std, ksd_val, ave_accept_prob, seed, name]\n",
    "    \n",
    "    return ksd_df"
   ]
  },
  {
   "cell_type": "code",
   "execution_count": 59,
   "id": "e4c6fc63",
   "metadata": {},
   "outputs": [
    {
     "data": {
      "application/vnd.jupyter.widget-view+json": {
       "model_id": "4ff906e8246043debffd0ea1787fa04e",
       "version_major": 2,
       "version_minor": 0
      },
      "text/plain": [
       "  0%|          | 0/10 [00:00<?, ?it/s]"
      ]
     },
     "metadata": {},
     "output_type": "display_data"
    }
   ],
   "source": [
    "nsteps = 20\n",
    "std_ls = np.linspace(0.02, 1., 50).tolist()\n",
    "nrep = 10\n",
    "dir_vec = tf.eye(dim)[:, 0] * delta * 2\n",
    "\n",
    "ksd_df = best_jump_distance_experiment(\n",
    "    nrep=nrep,\n",
    "    proposal_off=proposal_off,\n",
    "    proposal_on=proposal_on,\n",
    "    steps=nsteps,\n",
    "    std_ls=std_ls,\n",
    "    dir_vec=dir_vec)"
   ]
  },
  {
   "cell_type": "code",
   "execution_count": 60,
   "id": "3dfa5c2d",
   "metadata": {
    "scrolled": true
   },
   "outputs": [
    {
     "data": {
      "text/plain": [
       "<AxesSubplot:xlabel='std', ylabel='Count'>"
      ]
     },
     "execution_count": 60,
     "metadata": {},
     "output_type": "execute_result"
    },
    {
     "data": {
      "image/png": "[encoded data removed]",
      "text/plain": [
       "<Figure size 432x288 with 1 Axes>"
      ]
     },
     "metadata": {
      "needs_background": "light"
     },
     "output_type": "display_data"
    }
   ],
   "source": [
    "sns.histplot(data=ksd_df, x=\"std\", hue=\"type\", alpha=0.5)"
   ]
  },
  {
   "cell_type": "markdown",
   "id": "f3b1f555",
   "metadata": {},
   "source": [
    "# Score functions"
   ]
  },
  {
   "cell_type": "code",
   "execution_count": 60,
   "id": "6616fbdc",
   "metadata": {},
   "outputs": [],
   "source": [
    "delta = 20.\n",
    "\n",
    "def score_p(x):\n",
    "    numerator = - (x + delta) * np.exp(-0.5 * (x + delta)**2) - (x - delta) * np.exp(-0.5 * (x - delta)**2)\n",
    "    denom = np.exp(-0.5 * (x + delta)**2) + np.exp(-0.5 * (x - delta)**2)\n",
    "    return numerator / denom\n",
    "\n",
    "def den_p(x):\n",
    "    return np.log(np.exp(-0.5 * (x + delta)**2) + np.exp(-0.5 * (x - delta)**2))\n",
    "\n",
    "def score_q(x):\n",
    "    return - (x + delta)\n",
    "\n",
    "def den_q(x):\n",
    "    return -0.5 * (x + delta)**2"
   ]
  },
  {
   "cell_type": "code",
   "execution_count": 61,
   "id": "2fe096cb",
   "metadata": {},
   "outputs": [],
   "source": [
    "xx = np.linspace(-6, 6, 1000)\n",
    "\n",
    "score_p_vec = score_p(xx)\n",
    "score_q_vec = score_q(xx)\n"
   ]
  },
  {
   "cell_type": "code",
   "execution_count": 62,
   "id": "d4538481",
   "metadata": {
    "scrolled": true
   },
   "outputs": [
    {
     "data": {
      "text/plain": [
       "[<matplotlib.lines.Line2D at 0x7f9d11e853d0>]"
      ]
     },
     "execution_count": 62,
     "metadata": {},
     "output_type": "execute_result"
    },
    {
     "data": {
      "image/png": "[encoded data removed]",
      "text/plain": [
       "<Figure size 432x288 with 1 Axes>"
      ]
     },
     "metadata": {
      "needs_background": "light"
     },
     "output_type": "display_data"
    }
   ],
   "source": [
    "plt.plot(xx, score_p_vec, label=\"p\")\n",
    "plt.plot(xx, score_q_vec, label=\"q\")"
   ]
  },
  {
   "cell_type": "code",
   "execution_count": 76,
   "id": "d65105d6",
   "metadata": {},
   "outputs": [
    {
     "name": "stdout",
     "output_type": "stream",
     "text": [
      "40.0\n"
     ]
    },
    {
     "data": {
      "text/plain": [
       "[<matplotlib.lines.Line2D at 0x7f9d11f9efd0>]"
      ]
     },
     "execution_count": 76,
     "metadata": {},
     "output_type": "execute_result"
    },
    {
     "data": {
      "image/png": "[encoded data removed]",
      "text/plain": [
       "<Figure size 432x288 with 1 Axes>"
      ]
     },
     "metadata": {
      "needs_background": "light"
     },
     "output_type": "display_data"
    }
   ],
   "source": [
    "# plt.plot(xx, 2 * delta / (np.exp(- 2 * xx * delta) + 1), label=\"analytical diff\")\n",
    "# plt.plot(xx, score_p_vec - score_q_vec, label=\"numerical diff\")\n",
    "\n",
    "xx_neg = xx < 100\n",
    "diff = (score_p_vec - score_q_vec)[xx_neg]\n",
    "print(max(diff))\n",
    "plt.plot(xx[xx_neg], diff)"
   ]
  },
  {
   "cell_type": "code",
   "execution_count": 73,
   "id": "8f0bfc09",
   "metadata": {},
   "outputs": [
    {
     "data": {
      "text/plain": [
       "[<matplotlib.lines.Line2D at 0x7f9d10ff6f40>]"
      ]
     },
     "execution_count": 73,
     "metadata": {},
     "output_type": "execute_result"
    },
    {
     "data": {
      "image/png": "[encoded data removed]",
      "text/plain": [
       "<Figure size 432x288 with 1 Axes>"
      ]
     },
     "metadata": {
      "needs_background": "light"
     },
     "output_type": "display_data"
    }
   ],
   "source": [
    "den_p_vec = den_p(xx)\n",
    "den_q_vec = den_q(xx)\n",
    "\n",
    "plt.plot(xx, den_p_vec, label=\"p\")\n",
    "plt.plot(xx, den_q_vec, label=\"q\")"
   ]
  },
  {
   "cell_type": "code",
   "execution_count": 74,
   "id": "5f82f305",
   "metadata": {},
   "outputs": [
    {
     "data": {
      "text/plain": [
       "[<matplotlib.lines.Line2D at 0x7f9d10de77c0>]"
      ]
     },
     "execution_count": 74,
     "metadata": {},
     "output_type": "execute_result"
    },
    {
     "data": {
      "image/png": "[encoded data removed]",
      "text/plain": [
       "<Figure size 432x288 with 1 Axes>"
      ]
     },
     "metadata": {
      "needs_background": "light"
     },
     "output_type": "display_data"
    }
   ],
   "source": [
    "plt.plot(xx, np.exp(den_p_vec), label=\"p\")\n",
    "plt.plot(xx, np.exp(den_q_vec), label=\"q\")"
   ]
  },
  {
   "cell_type": "markdown",
   "id": "31668ffa",
   "metadata": {},
   "source": [
    "# Test numerically if Stein's identity holds on the perturbed $p$"
   ]
  },
  {
   "cell_type": "code",
   "execution_count": 3,
   "id": "275afce1",
   "metadata": {},
   "outputs": [],
   "source": [
    "def log_trans_q(x, log_q_fn, log_p_fn, std, dir_vec):\n",
    "    \"\"\"Density of q after 1 step of Markov transition\"\"\"\n",
    "    term1, term2, term1_del = 0., 0., 0.\n",
    "    p_x = tf.exp(log_p_fn(x)) # n\n",
    "    q_x = tf.exp(log_q_fn(x)) # n\n",
    "\n",
    "    for xp in [x + std*dir_vec, x - std*dir_vec]:\n",
    "        p_xp = tf.exp(log_p_fn(xp))\n",
    "        q_xp = tf.exp(log_q_fn(xp))\n",
    "\n",
    "        term1 += q_xp * tf.math.minimum(1, p_x / p_xp)\n",
    "        term2 += q_x * (1 - tf.math.minimum(1, p_xp / p_x))\n",
    "    \n",
    "    den = tf.math.log(term1 + term2) # n\n",
    "    \n",
    "    return den"
   ]
  },
  {
   "cell_type": "code",
   "execution_count": 10,
   "id": "5d7265b5",
   "metadata": {},
   "outputs": [],
   "source": [
    "from src.ksd.ksd import KSD\n",
    "from src.ksd.kernel import IMQ\n",
    "import src.ksd.models as models\n",
    "from src.ksd.langevin import RandomWalkMH\n",
    "import src.ksd.langevin as MCMC\n",
    "from src.ksd.find_modes import find_modes, pairwise_directions\n",
    "tf.random.set_seed(0)"
   ]
  },
  {
   "cell_type": "code",
   "execution_count": 5,
   "id": "5df828c7",
   "metadata": {},
   "outputs": [
    {
     "name": "stderr",
     "output_type": "stream",
     "text": [
      "2022-03-01 09:22:03.321314: I tensorflow/core/platform/cpu_feature_guard.cc:142] This TensorFlow binary is optimized with oneAPI Deep Neural Network Library (oneDNN) to use the following CPU instructions in performance-critical operations:  AVX2 AVX512F FMA\n",
      "To enable them in other operations, rebuild TensorFlow with the appropriate compiler flags.\n",
      "2022-03-01 09:22:03.864859: I tensorflow/core/common_runtime/gpu/gpu_device.cc:1510] Created device /job:localhost/replica:0/task:0/device:GPU:0 with 9658 MB memory:  -> device: 0, name: GeForce RTX 2080 Ti, pci bus id: 0000:b1:00.0, compute capability: 7.5\n"
     ]
    }
   ],
   "source": [
    "dim = 5\n",
    "ratio_target = 0.5\n",
    "ratio_sample = 1.\n",
    "k = 1\n",
    "delta = 4.\n",
    "n = 500\n",
    "\n",
    "target, log_prob_fn = models.create_mixture_gaussian_kdim(\n",
    "    dim=dim, k=k, delta=delta, return_logprob=True, ratio=ratio_target)\n",
    "proposal_off, log_prob_off_fn = models.create_mixture_gaussian_kdim(\n",
    "    dim=dim, k=k, delta=delta, return_logprob=True, ratio=ratio_sample)"
   ]
  },
  {
   "cell_type": "code",
   "execution_count": 6,
   "id": "4e6435ac",
   "metadata": {},
   "outputs": [
    {
     "data": {
      "image/png": "[encoded data removed]",
      "text/plain": [
       "<Figure size 432x288 with 1 Axes>"
      ]
     },
     "metadata": {
      "needs_background": "light"
     },
     "output_type": "display_data"
    }
   ],
   "source": [
    "off_samples = proposal_off.sample(n)\n",
    "on_samples = target.sample(n)\n",
    "\n",
    "_ = plt.hist(off_samples.numpy()[:, 0], bins=20, label=\"off-target\", alpha=0.4)\n",
    "_ = plt.hist(on_samples.numpy()[:, 0], bins=20, label=\"target\", alpha=0.4)"
   ]
  },
  {
   "cell_type": "code",
   "execution_count": 7,
   "id": "d8b9ffb1",
   "metadata": {},
   "outputs": [],
   "source": [
    "# between-modes vector\n",
    "dir_vec = - tf.eye(dim)[:, 0] * delta * 2\n",
    "best_std_off = 0.8"
   ]
  },
  {
   "cell_type": "code",
   "execution_count": 8,
   "id": "bca53017",
   "metadata": {},
   "outputs": [],
   "source": [
    "# log prob of perturbed q\n",
    "log_trans_q_off = lambda x: log_trans_q(x, log_prob_off_fn, log_prob_fn, best_std_off, dir_vec)\n",
    "class PerturbedQ:\n",
    "    def __init__(self):\n",
    "        pass\n",
    "    def log_prob(self, x):\n",
    "        return log_trans_q_off(x)"
   ]
  },
  {
   "cell_type": "code",
   "execution_count": null,
   "id": "6ba1a0af",
   "metadata": {},
   "outputs": [],
   "source": [
    "mode1 = \n",
    "\n",
    "proposal_dict = mcmc.prepare_proposal_input(\n",
    "    mode1=mode1, mode2=mode2, hess1_inv=hess1_inv, hess2_inv=hess2_inv)"
   ]
  },
  {
   "cell_type": "code",
   "execution_count": 9,
   "id": "db6e445f",
   "metadata": {},
   "outputs": [
    {
     "ename": "UnboundLocalError",
     "evalue": "local variable 'log_det_jacobian' referenced before assignment",
     "output_type": "error",
     "traceback": [
      "\u001b[0;31m---------------------------------------------------------------------------\u001b[0m",
      "\u001b[0;31mUnboundLocalError\u001b[0m                         Traceback (most recent call last)",
      "\u001b[0;32m/tmp/ipykernel_3539640/3070765108.py\u001b[0m in \u001b[0;36m<module>\u001b[0;34m\u001b[0m\n\u001b[1;32m      2\u001b[0m \u001b[0mT\u001b[0m \u001b[0;34m=\u001b[0m \u001b[0;36m2\u001b[0m\u001b[0;34m\u001b[0m\u001b[0;34m\u001b[0m\u001b[0m\n\u001b[1;32m      3\u001b[0m \u001b[0mmh_off\u001b[0m \u001b[0;34m=\u001b[0m \u001b[0mRandomWalkMH\u001b[0m\u001b[0;34m(\u001b[0m\u001b[0mlog_prob\u001b[0m\u001b[0;34m=\u001b[0m\u001b[0mlog_prob_fn\u001b[0m\u001b[0;34m)\u001b[0m\u001b[0;34m\u001b[0m\u001b[0;34m\u001b[0m\u001b[0m\n\u001b[0;32m----> 4\u001b[0;31m \u001b[0mmh_off\u001b[0m\u001b[0;34m.\u001b[0m\u001b[0mrun\u001b[0m\u001b[0;34m(\u001b[0m\u001b[0msteps\u001b[0m\u001b[0;34m=\u001b[0m\u001b[0mT\u001b[0m\u001b[0;34m,\u001b[0m \u001b[0mstd\u001b[0m\u001b[0;34m=\u001b[0m\u001b[0mbest_std_off\u001b[0m\u001b[0;34m,\u001b[0m \u001b[0mx_init\u001b[0m\u001b[0;34m=\u001b[0m\u001b[0moff_samples\u001b[0m\u001b[0;34m,\u001b[0m \u001b[0mdir_vec\u001b[0m\u001b[0;34m=\u001b[0m\u001b[0mdir_vec\u001b[0m\u001b[0;34m)\u001b[0m\u001b[0;34m\u001b[0m\u001b[0;34m\u001b[0m\u001b[0m\n\u001b[0m\u001b[1;32m      5\u001b[0m \u001b[0moff_samples_pert\u001b[0m \u001b[0;34m=\u001b[0m \u001b[0mmh_off\u001b[0m\u001b[0;34m.\u001b[0m\u001b[0mx\u001b[0m\u001b[0;34m[\u001b[0m\u001b[0;34m-\u001b[0m\u001b[0;36m1\u001b[0m\u001b[0;34m,\u001b[0m \u001b[0;34m:\u001b[0m\u001b[0;34m,\u001b[0m \u001b[0;34m:\u001b[0m\u001b[0;34m]\u001b[0m\u001b[0;34m\u001b[0m\u001b[0;34m\u001b[0m\u001b[0m\n",
      "\u001b[0;32m/data/xl6116/github/fast-mcmc/src/ksd/langevin.py\u001b[0m in \u001b[0;36mrun\u001b[0;34m(self, steps, x_init, verbose, **kwargs)\u001b[0m\n\u001b[1;32m    182\u001b[0m       \u001b[0;31m# propose MH update\u001b[0m\u001b[0;34m\u001b[0m\u001b[0;34m\u001b[0m\u001b[0;34m\u001b[0m\u001b[0m\n\u001b[1;32m    183\u001b[0m       \u001b[0mx_current\u001b[0m \u001b[0;34m=\u001b[0m \u001b[0mself\u001b[0m\u001b[0;34m.\u001b[0m\u001b[0mx\u001b[0m\u001b[0;34m[\u001b[0m\u001b[0mt\u001b[0m\u001b[0;34m,\u001b[0m \u001b[0;34m:\u001b[0m\u001b[0;34m,\u001b[0m \u001b[0;34m:\u001b[0m\u001b[0;34m]\u001b[0m\u001b[0;34m\u001b[0m\u001b[0;34m\u001b[0m\u001b[0m\n\u001b[0;32m--> 184\u001b[0;31m       \u001b[0mxp_next\u001b[0m\u001b[0;34m,\u001b[0m \u001b[0mlog_det_jacobian\u001b[0m \u001b[0;34m=\u001b[0m \u001b[0mself\u001b[0m\u001b[0;34m.\u001b[0m\u001b[0mproposal\u001b[0m\u001b[0;34m(\u001b[0m\u001b[0mx_current\u001b[0m\u001b[0;34m=\u001b[0m\u001b[0mx_current\u001b[0m\u001b[0;34m,\u001b[0m \u001b[0mnoise\u001b[0m\u001b[0;34m=\u001b[0m\u001b[0mself\u001b[0m\u001b[0;34m.\u001b[0m\u001b[0mdirections\u001b[0m\u001b[0;34m[\u001b[0m\u001b[0mt\u001b[0m\u001b[0;34m,\u001b[0m \u001b[0;34m:\u001b[0m\u001b[0;34m]\u001b[0m\u001b[0;34m,\u001b[0m \u001b[0;34m**\u001b[0m\u001b[0mkwargs\u001b[0m\u001b[0;34m)\u001b[0m \u001b[0;31m# n x dim #! delete\u001b[0m\u001b[0;34m\u001b[0m\u001b[0;34m\u001b[0m\u001b[0m\n\u001b[0m\u001b[1;32m    185\u001b[0m \u001b[0;34m\u001b[0m\u001b[0m\n\u001b[1;32m    186\u001b[0m       \u001b[0;31m# compute acceptance prob\u001b[0m\u001b[0;34m\u001b[0m\u001b[0;34m\u001b[0m\u001b[0;34m\u001b[0m\u001b[0m\n",
      "\u001b[0;32m/data/xl6116/github/fast-mcmc/src/ksd/langevin.py\u001b[0m in \u001b[0;36mproposal\u001b[0;34m(self, x_current, **kwargs)\u001b[0m\n\u001b[1;32m    248\u001b[0m       \u001b[0mlog_det_jacobian\u001b[0m \u001b[0;34m=\u001b[0m \u001b[0mtf\u001b[0m\u001b[0;34m.\u001b[0m\u001b[0mmath\u001b[0m\u001b[0;34m.\u001b[0m\u001b[0mlog\u001b[0m\u001b[0;34m(\u001b[0m\u001b[0mdet_jacobian\u001b[0m\u001b[0;34m)\u001b[0m \u001b[0;31m# n\u001b[0m\u001b[0;34m\u001b[0m\u001b[0;34m\u001b[0m\u001b[0m\n\u001b[1;32m    249\u001b[0m \u001b[0;34m\u001b[0m\u001b[0m\n\u001b[0;32m--> 250\u001b[0;31m     \u001b[0;32mreturn\u001b[0m \u001b[0mxp_next\u001b[0m\u001b[0;34m,\u001b[0m \u001b[0mlog_det_jacobian\u001b[0m\u001b[0;34m\u001b[0m\u001b[0;34m\u001b[0m\u001b[0m\n\u001b[0m\u001b[1;32m    251\u001b[0m \u001b[0;34m\u001b[0m\u001b[0m\n\u001b[1;32m    252\u001b[0m \u001b[0;32mclass\u001b[0m \u001b[0mRandomWalkBarker\u001b[0m\u001b[0;34m(\u001b[0m\u001b[0mRandomWalkMH\u001b[0m\u001b[0;34m)\u001b[0m\u001b[0;34m:\u001b[0m\u001b[0;34m\u001b[0m\u001b[0;34m\u001b[0m\u001b[0m\n",
      "\u001b[0;31mUnboundLocalError\u001b[0m: local variable 'log_det_jacobian' referenced before assignment"
     ]
    }
   ],
   "source": [
    "# sample from perturbed q\n",
    "T = 2\n",
    "mh_off = RandomWalkMH(log_prob=log_prob_fn)\n",
    "mh_off.run(steps=T, std=best_std_off, x_init=off_samples, dir_vec=dir_vec)\n",
    "off_samples_pert = mh_off.x[-1, :, :]"
   ]
  },
  {
   "cell_type": "code",
   "execution_count": 292,
   "id": "4a5505a4",
   "metadata": {},
   "outputs": [
    {
     "data": {
      "text/plain": [
       "<matplotlib.legend.Legend at 0x7f56a07c8280>"
      ]
     },
     "execution_count": 292,
     "metadata": {},
     "output_type": "execute_result"
    },
    {
     "data": {
      "image/png": "[encoded data removed]",
      "text/plain": [
       "<Figure size 432x288 with 1 Axes>"
      ]
     },
     "metadata": {
      "needs_background": "light"
     },
     "output_type": "display_data"
    }
   ],
   "source": [
    "_ = plt.hist(mh_off.x[-1, :, 0].numpy(), bins=20, label=\"off-target pert\", alpha=0.4)\n",
    "_ = plt.hist(off_samples.numpy()[:, 0], bins=20, label=\"off-target\", alpha=0.4)\n",
    "plt.legend()"
   ]
  },
  {
   "cell_type": "code",
   "execution_count": 293,
   "id": "6993fc55",
   "metadata": {},
   "outputs": [
    {
     "data": {
      "text/plain": [
       "0.013808735"
      ]
     },
     "execution_count": 293,
     "metadata": {},
     "output_type": "execute_result"
    }
   ],
   "source": [
    "# compute ksd\n",
    "imq = IMQ(med_heuristic=True)\n",
    "ksd = KSD(target=PerturbedQ(), kernel=imq)\n",
    "ksd(off_samples_pert, tf.identity(off_samples_pert)).numpy()"
   ]
  },
  {
   "cell_type": "code",
   "execution_count": 294,
   "id": "4b6c39cf",
   "metadata": {},
   "outputs": [],
   "source": [
    "# PerturbedQ().log_prob(off_samples_pert)"
   ]
  },
  {
   "cell_type": "code",
   "execution_count": 295,
   "id": "80e037ca",
   "metadata": {
    "scrolled": true
   },
   "outputs": [
    {
     "data": {
      "text/plain": [
       "<AxesSubplot:xlabel='x0', ylabel='prob'>"
      ]
     },
     "execution_count": 295,
     "metadata": {},
     "output_type": "execute_result"
    },
    {
     "data": {
      "image/png": "[encoded data removed]",
      "text/plain": [
       "<Figure size 432x288 with 2 Axes>"
      ]
     },
     "metadata": {
      "needs_background": "light"
     },
     "output_type": "display_data"
    }
   ],
   "source": [
    "# log prob of 1-step mh-perturbed densities        \n",
    "xx = tf.concat(\n",
    "    [tf.reshape(tf.linspace(-2*delta, 2*delta, 5000), (-1, 1)), tf.zeros((5000, dim-1))],\n",
    "    axis=1) # 200 x dim\n",
    "\n",
    "log_prob_trans_off = log_trans_q_off(xx).numpy()\n",
    "prob_trans_off = np.exp(log_prob_trans_off)\n",
    "log_prob_trans_off_df = pd.DataFrame(\n",
    "    {\"logprob\": log_prob_trans_off, \"x0\": xx[:, 0].numpy(), \"prob\": prob_trans_off})\n",
    "\n",
    "plt.subplot(2, 1, 1)\n",
    "sns.lineplot(data=log_prob_trans_off_df, x=\"x0\", y=\"logprob\")\n",
    "plt.subplot(2, 1, 2)\n",
    "sns.lineplot(data=log_prob_trans_off_df, x=\"x0\", y=\"prob\")"
   ]
  },
  {
   "cell_type": "code",
   "execution_count": 297,
   "id": "48058409",
   "metadata": {},
   "outputs": [],
   "source": [
    "def run_experiment(nlist):\n",
    "    \n",
    "    T = 1\n",
    "    mh_off = RandomWalkMH(log_prob=log_prob_fn) # perturb according to p\n",
    "    imq = IMQ(med_heuristic=True)\n",
    "    ksd = KSD(target=PerturbedQ(), kernel=imq)\n",
    "\n",
    "    ksd_res = []\n",
    "    for n in tqdm(nlist):\n",
    "        off_samples = proposal_off.sample(n)\n",
    "        mh_off.run(steps=T, std=best_std_off, x_init=off_samples, dir_vec=dir_vec)\n",
    "        off_samples_pert = mh_off.x[-1, :, :]\n",
    "        \n",
    "        # compute ksd\n",
    "        ksd_val = ksd(off_samples_pert, tf.identity(off_samples_pert)).numpy()\n",
    "        ksd_res.append(ksd_val)\n",
    "        \n",
    "    res = pd.DataFrame({\"n\": nlist, \"ksd\": ksd_res})\n",
    "    return res"
   ]
  },
  {
   "cell_type": "code",
   "execution_count": 298,
   "id": "ea7f03e2",
   "metadata": {},
   "outputs": [
    {
     "data": {
      "application/vnd.jupyter.widget-view+json": {
       "model_id": "6e08137409cc4d9cb74d8c2a7dec508d",
       "version_major": 2,
       "version_minor": 0
      },
      "text/plain": [
       "  0%|          | 0/7 [00:00<?, ?it/s]"
      ]
     },
     "metadata": {},
     "output_type": "display_data"
    }
   ],
   "source": [
    "nlist = [100, 250, 500, 750, 1000, 2000, 3000]\n",
    "res = run_experiment(nlist)"
   ]
  },
  {
   "cell_type": "code",
   "execution_count": 299,
   "id": "18b1d7a1",
   "metadata": {
    "scrolled": true
   },
   "outputs": [
    {
     "data": {
      "text/plain": [
       "<AxesSubplot:xlabel='n', ylabel='ksd'>"
      ]
     },
     "execution_count": 299,
     "metadata": {},
     "output_type": "execute_result"
    },
    {
     "data": {
      "image/png": "[encoded data removed]",
      "text/plain": [
       "<Figure size 432x288 with 1 Axes>"
      ]
     },
     "metadata": {
      "needs_background": "light"
     },
     "output_type": "display_data"
    }
   ],
   "source": [
    "sns.lineplot(data=res, x=\"n\", y=\"ksd\")"
   ]
  },
  {
   "cell_type": "code",
   "execution_count": null,
   "id": "edcae595",
   "metadata": {},
   "outputs": [],
   "source": []
  }
 ],
 "metadata": {
  "kernelspec": {
   "display_name": "fast-mcmc",
   "language": "python",
   "name": "fast-mcmc"
  },
  "language_info": {
   "codemirror_mode": {
    "name": "ipython",
    "version": 3
   },
   "file_extension": ".py",
   "mimetype": "text/x-python",
   "name": "python",
   "nbconvert_exporter": "python",
   "pygments_lexer": "ipython3",
   "version": "3.8.10"
  }
 },
 "nbformat": 4,
 "nbformat_minor": 5
}
