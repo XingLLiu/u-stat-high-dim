{
 "cells": [
  {
   "cell_type": "code",
   "execution_count": 70,
   "metadata": {},
   "outputs": [
    {
     "name": "stdout",
     "output_type": "stream",
     "text": [
      "The autoreload extension is already loaded. To reload it, use:\n",
      "  %reload_ext autoreload\n"
     ]
    }
   ],
   "source": [
    "%load_ext autoreload\n",
    "%autoreload 2\n",
    "\n",
    "import numpy as np\n",
    "import matplotlib.pyplot as plt\n",
    "from src.hmm import LinearHMM\n",
    "from src.kalman_filter import KalmanFilter"
   ]
  },
  {
   "cell_type": "code",
   "execution_count": 84,
   "metadata": {},
   "outputs": [],
   "source": [
    "np.random.seed(1)"
   ]
  },
  {
   "cell_type": "code",
   "execution_count": 85,
   "metadata": {},
   "outputs": [],
   "source": [
    "N_y = 1\n",
    "dx = 1\n",
    "dv = dx\n",
    "dw = dx\n",
    "dy = 1\n",
    "\n",
    "A = 0.5 * np.random.normal(size=(dx, dx))\n",
    "B = 0.1 * np.random.normal(size=(dx, dv))\n",
    "C = np.random.normal(size=(dy, dx)) * np.ones([N_y, 1]) \n",
    "D = np.random.normal(size=(dy, dw)) * np.ones([N_y, 1])\n",
    "Q = np.eye(dv)\n",
    "R = np.eye(dw)\n",
    "P = np.eye(dx)\n",
    "\n",
    "linear_hmm = LinearHMM(A, B, C, D, Q, R, P, N_y=1)"
   ]
  },
  {
   "cell_type": "code",
   "execution_count": 86,
   "metadata": {},
   "outputs": [],
   "source": [
    "n_steps = 0\n",
    "linear_hmm.simulate(n_steps)"
   ]
  },
  {
   "cell_type": "code",
   "execution_count": 87,
   "metadata": {},
   "outputs": [],
   "source": [
    "latent = linear_hmm.latent\n",
    "obs = linear_hmm.obs"
   ]
  },
  {
   "cell_type": "code",
   "execution_count": 88,
   "metadata": {},
   "outputs": [
    {
     "data": {
      "text/plain": [
       "((1, 1), (1, 1))"
      ]
     },
     "execution_count": 88,
     "metadata": {},
     "output_type": "execute_result"
    }
   ],
   "source": [
    "latent.shape, obs.shape"
   ]
  },
  {
   "cell_type": "code",
   "execution_count": 89,
   "metadata": {},
   "outputs": [
    {
     "data": {
      "text/plain": [
       "2.469478804430745"
      ]
     },
     "execution_count": 89,
     "metadata": {},
     "output_type": "execute_result"
    }
   ],
   "source": [
    "np.mean(obs[-1, :] - linear_hmm.C * latent[-1, :])"
   ]
  },
  {
   "cell_type": "code",
   "execution_count": 90,
   "metadata": {},
   "outputs": [
    {
     "data": {
      "image/png": "[encoded data removed]",
      "text/plain": [
       "<Figure size 432x288 with 1 Axes>"
      ]
     },
     "metadata": {
      "needs_background": "light"
     },
     "output_type": "display_data"
    },
    {
     "data": {
      "image/png": "[encoded data removed]",
      "text/plain": [
       "<Figure size 432x288 with 1 Axes>"
      ]
     },
     "metadata": {
      "needs_background": "light"
     },
     "output_type": "display_data"
    }
   ],
   "source": [
    "plt.scatter(range(n_steps + 1), latent[:, 0])\n",
    "plt.show()\n",
    "plt.scatter(np.repeat(range(n_steps + 1), N_y), obs[:, :])\n",
    "plt.show()"
   ]
  },
  {
   "cell_type": "code",
   "execution_count": 91,
   "metadata": {},
   "outputs": [],
   "source": [
    "# exact inference via kalman filter\n",
    "kalman_filter = KalmanFilter(\n",
    "    obs=obs,\n",
    "    prior_latent_mean=np.zeros((1, dx)),\n",
    "    prior_latent_var=P,\n",
    "    A=A,\n",
    "    B=B,\n",
    "    C=C,\n",
    "    D=D,\n",
    "    R=R,\n",
    "    Q=Q\n",
    ")"
   ]
  },
  {
   "cell_type": "code",
   "execution_count": 92,
   "metadata": {},
   "outputs": [],
   "source": [
    "posterior_mean, posterior_var = kalman_filter.fit()"
   ]
  },
  {
   "cell_type": "code",
   "execution_count": 93,
   "metadata": {},
   "outputs": [
    {
     "data": {
      "text/plain": [
       "(array([[-0.74316183]]), array([[0.80495027]]), array([0.86540763]))"
      ]
     },
     "execution_count": 93,
     "metadata": {},
     "output_type": "execute_result"
    }
   ],
   "source": [
    "# posterior_mean.shape, posterior_var.shape\n",
    "posterior_mean, posterior_var, latent[-1, :]"
   ]
  },
  {
   "cell_type": "code",
   "execution_count": 94,
   "metadata": {},
   "outputs": [],
   "source": [
    "posterior_samples = np.random.multivariate_normal(\n",
    "    posterior_mean[0, :], posterior_var, 1000)"
   ]
  },
  {
   "cell_type": "code",
   "execution_count": 95,
   "metadata": {},
   "outputs": [
    {
     "data": {
      "image/png": "[encoded data removed]",
      "text/plain": [
       "<Figure size 432x288 with 1 Axes>"
      ]
     },
     "metadata": {
      "needs_background": "light"
     },
     "output_type": "display_data"
    }
   ],
   "source": [
    "# plt.scatter(posterior_samples[:, 0], posterior_samples[:, 1])\n",
    "# plt.scatter(latent[-1, 0], latent[-1, 1], color=\"r\")\n",
    "\n",
    "_ = plt.hist(posterior_samples)"
   ]
  },
  {
   "cell_type": "markdown",
   "metadata": {},
   "source": [
    "# Sequential IS"
   ]
  },
  {
   "cell_type": "code",
   "execution_count": 153,
   "metadata": {},
   "outputs": [],
   "source": [
    "from scipy.stats import multivariate_normal"
   ]
  },
  {
   "cell_type": "code",
   "execution_count": 154,
   "metadata": {},
   "outputs": [],
   "source": [
    "proposal_var = 2.\n",
    "proposal = multivariate_normal(np.zeros(dx), proposal_var * np.eye(dx))"
   ]
  },
  {
   "cell_type": "code",
   "execution_count": 155,
   "metadata": {},
   "outputs": [],
   "source": [
    "sis_samples, sis_log_w = linear_hmm.sis(N=10000, proposal=proposal)"
   ]
  },
  {
   "cell_type": "code",
   "execution_count": 156,
   "metadata": {},
   "outputs": [
    {
     "name": "stdout",
     "output_type": "stream",
     "text": [
      "SIS estimate of E[x_n | y_{1:n}]: [-0.82837566]\n",
      "True E[x_n | y_{1:n}] [-0.74316183]\n"
     ]
    }
   ],
   "source": [
    "sis_w = np.exp(sis_log_w[-1, :]).reshape((-1, 1))\n",
    "print(\"SIS estimate of E[x_n | y_{1:n}]:\", np.sum((sis_samples[-1, :, :] * sis_w), axis=0) / np.sum(sis_w))\n",
    "print(\"True E[x_n | y_{1:n}]\", posterior_mean[0, :])"
   ]
  },
  {
   "cell_type": "code",
   "execution_count": 170,
   "metadata": {},
   "outputs": [],
   "source": [
    "# # sample according to weights\n",
    "# ind = np.random.choice(range(sis_samples.shape[1]), size=sis_samples.shape[1], replace=True, p=(sis_w / sis_w.sum()).reshape((-1,)))\n",
    "# resampled_sis_samples = sis_samples[-1, :]"
   ]
  },
  {
   "cell_type": "code",
   "execution_count": 176,
   "metadata": {},
   "outputs": [
    {
     "data": {
      "text/plain": [
       "Text(0.5, 1.0, 'nstep = 0')"
      ]
     },
     "execution_count": 176,
     "metadata": {},
     "output_type": "execute_result"
    },
    {
     "data": {
      "image/png": "[encoded data removed]",
      "text/plain": [
       "<Figure size 432x288 with 1 Axes>"
      ]
     },
     "metadata": {
      "needs_background": "light"
     },
     "output_type": "display_data"
    }
   ],
   "source": [
    "plt.hist(posterior_samples, alpha=0.2, label=\"ground truth\", density=True)\n",
    "plt.hist(sis_samples[-1, :], weights=sis_w, alpha=0.2, label=\"SIS\", density=True)\n",
    "plt.legend()\n",
    "plt.title(\"nstep = 0\")"
   ]
  },
  {
   "cell_type": "code",
   "execution_count": null,
   "metadata": {},
   "outputs": [],
   "source": []
  }
 ],
 "metadata": {
  "interpreter": {
   "hash": "08be06cc1ec44ebf5b92e03f9de4bde7ea72eded6762b308058fe4e1436d2445"
  },
  "kernelspec": {
   "display_name": "Python 3 (ipykernel)",
   "language": "python",
   "name": "python3"
  },
  "language_info": {
   "codemirror_mode": {
    "name": "ipython",
    "version": 3
   },
   "file_extension": ".py",
   "mimetype": "text/x-python",
   "name": "python",
   "nbconvert_exporter": "python",
   "pygments_lexer": "ipython3",
   "version": "3.8.12"
  }
 },
 "nbformat": 4,
 "nbformat_minor": 2
}
