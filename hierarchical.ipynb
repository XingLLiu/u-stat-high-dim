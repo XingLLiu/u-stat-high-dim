{
 "cells": [
  {
   "cell_type": "code",
   "execution_count": 10,
   "metadata": {},
   "outputs": [
    {
     "name": "stdout",
     "output_type": "stream",
     "text": [
      "The autoreload extension is already loaded. To reload it, use:\n",
      "  %reload_ext autoreload\n"
     ]
    }
   ],
   "source": [
    "%load_ext autoreload\n",
    "%autoreload 2\n",
    "\n",
    "import matplotlib.pyplot as plt\n",
    "import seaborn as sns\n",
    "import pandas as pd\n",
    "import numpy as np\n",
    "from scipy.stats import norm, energy_distance\n",
    "import multiprocessing\n",
    "\n",
    "import tensorflow as tf\n",
    "import tensorflow_probability as tfp\n",
    "tfd = tfp.distributions\n",
    "import tensorflow.experimental.numpy as tnp\n",
    "tnp.experimental_enable_numpy_behavior()\n",
    "\n",
    "import sys\n",
    "sys.path.append(\".\")\n",
    "from src.dc_smc import dc_smc \n",
    "from src.model import Model\n",
    "from src.utils import resample, weighted_sum, effective_sample_size"
   ]
  },
  {
   "cell_type": "code",
   "execution_count": 11,
   "metadata": {},
   "outputs": [],
   "source": [
    "def plot_hist(ind, samples_plot, samples_init=None, label1=None, label2=None):\n",
    "    label1 = f\"final x{ind}\" if label1 is None else label1\n",
    "    label2 = f\"initial x{ind}\" if label2 is None else label2\n",
    "    \n",
    "    sns.histplot(tf.reshape(samples_plot[:, ind], -1), stat=\"density\", color=\"r\", alpha=0.4, label=label1)\n",
    "    if samples_init is not None:\n",
    "        sns.histplot(tf.reshape(samples_init[:, ind], -1), stat=\"density\", alpha=0.4, label=label2)\n",
    "    ymax = plt.ylim()[1]\n",
    "    plt.vlines(x_true[0, ind], 0, ymax, color=\"orange\", label=\"true mu\")\n",
    "    plt.ylim(0, ymax)\n",
    "    x_plot = np.linspace(2, 4, 500)\n",
    "    plt.legend()\n",
    "    plt.show()\n",
    "\n",
    "    print(\n",
    "        f\"true x_{ind+1}:\",\n",
    "        x_true[0, ind],\n",
    "        \"\\nestimate:\",\n",
    "        tf.reduce_mean(samples_plot[:, ind])\n",
    "    )"
   ]
  },
  {
   "cell_type": "markdown",
   "metadata": {},
   "source": [
    "# 5-var model"
   ]
  },
  {
   "cell_type": "markdown",
   "metadata": {},
   "source": [
    "Target:\n",
    "$$\n",
    "y_i | x_i \\sim \\mathcal{N}(x_i, \\sigma^2), i = 1, 2, 3 \\\\\n",
    "x_i | x_4 \\sim \\mathcal{N}(x_4, \\tau^2), i = 1, 2 \\\\\n",
    "x_i | x_5 \\sim \\mathcal{N}(x_t, \\gamma^2), i = 3, 4\n",
    "$$\n",
    "Priors:\n",
    "$$\n",
    "x_i \\sim \\mathcal{N}(\\mu_0, \\sigma_0^2), i = 1, 2, \\ldots, 5\n",
    "$$"
   ]
  },
  {
   "cell_type": "code",
   "execution_count": 12,
   "metadata": {},
   "outputs": [],
   "source": [
    "tf.random.set_seed(1)\n",
    "\n",
    "N = 2000 # num params samples\n",
    "nobs = 1 # 1000 # num observations\n",
    "\n",
    "sigma, tau, gamma = np.array([1.]), np.array([1.]), np.array([1.])\n",
    "mu0, sigma0 = np.array([0.]), np.array([1.])\n",
    "\n",
    "x5 = np.array([-1.])\n",
    "x4, x3 = tfd.Normal(loc=x5, scale=gamma).sample(2)\n",
    "x1, x2 = tfd.Normal(loc=x4, scale=tau).sample(2)\n",
    "x_true = tf.reshape(tf.concat([x1, x2, x3, x4, x5], axis=0), (1, -1))\n"
   ]
  },
  {
   "cell_type": "code",
   "execution_count": 13,
   "metadata": {},
   "outputs": [],
   "source": [
    "# simulate data\n",
    "y1 = tfd.Normal(loc=x_true[:, 0], scale=sigma).sample((nobs, 1))\n",
    "y2 = tfd.Normal(loc=x_true[:, 1], scale=sigma).sample((nobs, 1))\n",
    "y3 = tfd.Normal(loc=x_true[:, 2], scale=sigma).sample((nobs, 1))\n",
    "obs = tf.concat([y1, y2, y3], axis=1)[:, :, 0]\n",
    "# obs = tf.concat([y1, y2, y3], axis=1)\n",
    "# obs = tf.transpose(obs, perm=[0, 2, 1])"
   ]
  },
  {
   "cell_type": "code",
   "execution_count": null,
   "metadata": {},
   "outputs": [],
   "source": [
    "def init_target(obs):\n",
    "    def log_gamma1(x):\n",
    "        loglik = tfd.Normal(loc=x[:, :1], scale=sigma).log_prob(obs[:, :1].T)\n",
    "        loglik = tf.reduce_sum(loglik, axis=1, keepdims=True)\n",
    "        logprior = tfd.Normal(loc=mu0, scale=sigma0).log_prob(x[:, :1])\n",
    "        return loglik + logprior\n",
    "\n",
    "    def log_gamma2(x):\n",
    "        loglik = tfd.Normal(loc=x[:, 1:2], scale=sigma).log_prob(obs[:, 1:2].T)\n",
    "        loglik = tf.reduce_sum(loglik, axis=1, keepdims=True)\n",
    "        logprior = tfd.Normal(loc=mu0, scale=sigma0).log_prob(x[:, 1:2])\n",
    "        return loglik + logprior\n",
    "\n",
    "    def log_gamma3(x):\n",
    "        loglik = tfd.Normal(loc=x[:, 2:3], scale=sigma).log_prob(obs[:, 2:3].T)\n",
    "        loglik = tf.reduce_sum(loglik, axis=1, keepdims=True)\n",
    "        logprior = tfd.Normal(loc=mu0, scale=sigma0).log_prob(x[:, 2:3])\n",
    "        return loglik + logprior\n",
    "\n",
    "    def log_gamma4(x):\n",
    "        loglik1 = tfd.Normal(loc=x[:, 0:1], scale=sigma).log_prob(obs[:, :1].T)\n",
    "        loglik2 = tfd.Normal(loc=x[:, 1:2], scale=sigma).log_prob(obs[:, 1:2].T)\n",
    "        loglik = tf.reduce_sum(loglik1 + loglik2, axis=1, keepdims=True)\n",
    "        logp1 = tfd.Normal(loc=x[:, 3:4], scale=tau).log_prob(x[:, 0:1])\n",
    "        logp2 = tfd.Normal(loc=x[:, 3:4], scale=tau).log_prob(x[:, 1:2])\n",
    "        logp4 = tfd.Normal(loc=mu0, scale=sigma0).log_prob(x[:, 3:4])\n",
    "        return loglik + logp1 + logp2 + logp4\n",
    "\n",
    "    def log_gamma5(x):\n",
    "        loglik1 = tfd.Normal(loc=x[:, 0:1], scale=sigma).log_prob(obs[:, :1].T)\n",
    "        loglik2 = tfd.Normal(loc=x[:, 1:2], scale=sigma).log_prob(obs[:, 1:2].T)\n",
    "        loglik3 = tfd.Normal(loc=x[:, 2:3], scale=sigma).log_prob(obs[:, 2:3].T)\n",
    "        loglik = tf.reduce_sum(loglik1 + loglik2 + loglik3, axis=1, keepdims=True)\n",
    "        \n",
    "        logp1 = tfd.Normal(loc=x[:, 3:4], scale=tau).log_prob(x[:, :1])\n",
    "        logp2 = tfd.Normal(loc=x[:, 3:4], scale=tau).log_prob(x[:, 1:2])   \n",
    "        logp3 = tfd.Normal(loc=x[:, 4:5], scale=gamma).log_prob(x[:, 2:3])\n",
    "        logp4 = tfd.Normal(loc=x[:, 4:5], scale=gamma).log_prob(x[:, 3:4])\n",
    "        logp5 = tfd.Normal(loc=mu0, scale=sigma0).log_prob(x[:, 4:5])\n",
    "        return loglik + logp1 + logp2 + logp3 + logp4 + logp5\n",
    "    return log_gamma1, log_gamma2, log_gamma3, log_gamma4, log_gamma5"
   ]
  },
  {
   "cell_type": "code",
   "execution_count": null,
   "metadata": {},
   "outputs": [],
   "source": [
    "class Proposal:\n",
    "    def __init__(self):\n",
    "        self.dist = tfd.Normal(np.zeros(1), np.ones(1))\n",
    "    def log_prob(self, mu_new, mu_curr):\n",
    "        return self.dist.log_prob(mu_new) # nsample x dim\n",
    "    def sample(self, size, mu_curr):\n",
    "        return self.dist.sample(size)[:, :, 0]"
   ]
  },
  {
   "cell_type": "code",
   "execution_count": null,
   "metadata": {},
   "outputs": [],
   "source": [
    "proposal = Proposal()\n",
    "log_gamma1, log_gamma2, log_gamma3, log_gamma4, log_gamma5 = init_target(obs)\n",
    "\n",
    "model = Model(log_gamma5, proposal, 4)\n",
    "model.build_child(log_gamma4, proposal, 3)\n",
    "model.build_child(log_gamma3, proposal, 2)\n",
    "model.children[0].build_child(log_gamma2, proposal, 1)\n",
    "model.children[0].build_child(log_gamma1, proposal, 0)"
   ]
  },
  {
   "cell_type": "code",
   "execution_count": null,
   "metadata": {},
   "outputs": [],
   "source": [
    "# initialize samples from N(0, 1)\n",
    "samples_plot_init = tfd.Normal(loc=np.zeros(1), scale=np.ones(1)).sample((N, x_true.shape[1]))[:, :, 0]\n",
    "samples_init = tf.Variable(samples_plot_init)\n",
    "\n",
    "# initialize weights\n",
    "log_w_init = np.ones_like(samples_init)\n",
    "log_w_init = tf.Variable(log_w_init)"
   ]
  },
  {
   "cell_type": "code",
   "execution_count": null,
   "metadata": {},
   "outputs": [],
   "source": [
    "samples_res, log_w = dc_smc(samples_init, log_w_init, model)"
   ]
  },
  {
   "cell_type": "code",
   "execution_count": null,
   "metadata": {},
   "outputs": [],
   "source": [
    "samples_plot = tf.Variable(tf.identity(samples_res))\n",
    "samples_plot = samples_plot[:, -1].assign(resample(log_w, samples_res[:, -1]))\n",
    "# samples_plot[:, -1] = resample(log_w, samples_res[:, -1])\n",
    "# samples_plot = tf.convert_to_tensor(samples_plot)"
   ]
  },
  {
   "cell_type": "code",
   "execution_count": null,
   "metadata": {},
   "outputs": [],
   "source": [
    "plot_hist(4, samples_plot, samples_plot_init)"
   ]
  },
  {
   "cell_type": "markdown",
   "metadata": {},
   "source": [
    "### Compare with results from SMC"
   ]
  },
  {
   "cell_type": "code",
   "execution_count": 14,
   "metadata": {},
   "outputs": [],
   "source": [
    "def loglik(x):\n",
    "    loglik1 = tfd.Normal(loc=x[:, 0:1], scale=sigma).log_prob(obs[:, 0:1].T)\n",
    "    loglik2 = tfd.Normal(loc=x[:, 1:2], scale=sigma).log_prob(obs[:, 1:2].T)\n",
    "    loglik3 = tfd.Normal(loc=x[:, 2:3], scale=sigma).log_prob(obs[:, 2:3].T)\n",
    "    loglik = tf.reduce_sum(loglik1 + loglik2 + loglik3, axis=1, keepdims=True)\n",
    "    return loglik\n",
    "\n",
    "def logprior(x):\n",
    "    logp1 = tfd.Normal(loc=x[:, 3:4], scale=tau).log_prob(x[:, 0:1])\n",
    "    logp2 = tfd.Normal(loc=x[:, 3:4], scale=tau).log_prob(x[:, 1:2])   \n",
    "    logp3 = tfd.Normal(loc=x[:, 4:5], scale=gamma).log_prob(x[:, 2:3])\n",
    "    logp4 = tfd.Normal(loc=x[:, 4:5], scale=gamma).log_prob(x[:, 3:4])\n",
    "    logprior5 = tfd.Normal(loc=mu0, scale=sigma0).log_prob(x[:, 4:5])\n",
    "    return logp1 + logp2 + logp3 + logp4 + logprior5\n",
    "    \n",
    "def log_target(x):\n",
    "#     return (logprior(x) + loglik(x)).reshape()\n",
    "    return logprior(x) + loglik(x)\n",
    "\n",
    "def smc(seed):\n",
    "    return tfp.experimental.mcmc.sample_sequential_monte_carlo(\n",
    "        prior_log_prob_fn=logprior,\n",
    "        likelihood_log_prob_fn=loglik,\n",
    "        current_state=samples_init,\n",
    "        seed=seed)[1]"
   ]
  },
  {
   "cell_type": "code",
   "execution_count": null,
   "metadata": {},
   "outputs": [],
   "source": [
    "smc_res = smc(seed=(12, 34))"
   ]
  },
  {
   "cell_type": "code",
   "execution_count": null,
   "metadata": {},
   "outputs": [],
   "source": [
    "ind = 4\n",
    "plot_hist(ind, smc_res, samples_plot, label1=\"SMC\", label2=\"DC SMC\")\n",
    "\n",
    "print(\n",
    "    f\"true x{ind+1}:\",\n",
    "    x_true[0, ind],\n",
    "    \"\\nHMC estimate:\",\n",
    "    tf.reduce_mean(smc_res[:, ind]),\n",
    "    \"\\nDC SMC estimate:\",\n",
    "    weighted_sum(lambda x: x, samples_res[:, ind].reshape((-1, 1)), log_w)\n",
    ")"
   ]
  },
  {
   "cell_type": "markdown",
   "metadata": {},
   "source": [
    "# Change prior\n",
    "$p_3(x_3) = \\mathcal{N}(x_3; 0, \\gamma^2) \\rightarrow p_3(x_3) = \\mathcal{N}(x_3; 0, 4\\gamma^2)$"
   ]
  },
  {
   "cell_type": "code",
   "execution_count": null,
   "metadata": {},
   "outputs": [],
   "source": [
    "def log_gamma5_new(x):\n",
    "    loglik1 = tfd.Normal(loc=x[:, 0:1], scale=sigma).log_prob(obs[:, :1].T)\n",
    "    loglik2 = tfd.Normal(loc=x[:, 1:2], scale=sigma).log_prob(obs[:, 1:2].T)\n",
    "    loglik3 = tfd.Normal(loc=x[:, 2:3], scale=sigma).log_prob(obs[:, 2:3].T)\n",
    "    loglik = tf.reduce_sum(loglik1 + loglik2 + loglik3, axis=1, keepdims=True)\n",
    "\n",
    "    logp1 = tfd.Normal(loc=x[:, 3:4], scale=tau).log_prob(x[:, :1])\n",
    "    logp2 = tfd.Normal(loc=x[:, 3:4], scale=tau).log_prob(x[:, 1:2])   \n",
    "    logp3 = tfd.Normal(loc=x[:, 4:5], scale=2 * gamma).log_prob(x[:, 2:3])\n",
    "    logp4 = tfd.Normal(loc=x[:, 4:5], scale=gamma).log_prob(x[:, 3:4])\n",
    "    logp5 = tfd.Normal(loc=mu0, scale=sigma0).log_prob(x[:, 4:5])\n",
    "    return loglik + logp1 + logp2 + logp3 + logp4 + logp5"
   ]
  },
  {
   "cell_type": "code",
   "execution_count": null,
   "metadata": {},
   "outputs": [],
   "source": [
    "model_new = Model(log_gamma5_new, proposal, 4)\n",
    "model_new.build_child(log_gamma4, proposal, 3, update=False)\n",
    "model_new.build_child(log_gamma3, proposal, 2, update=False)\n",
    "model_new.children[0].build_child(log_gamma2, proposal, 1, update=False)\n",
    "model_new.children[0].build_child(log_gamma1, proposal, 0, update=False)"
   ]
  },
  {
   "cell_type": "code",
   "execution_count": null,
   "metadata": {},
   "outputs": [],
   "source": [
    "samples_res_new, log_w_new = dc_smc(samples_res, log_w, model_new)"
   ]
  },
  {
   "cell_type": "code",
   "execution_count": null,
   "metadata": {},
   "outputs": [],
   "source": [
    "samples_plot_new = tf.Variable(tf.identity(samples_res_new))\n",
    "samples_plot_new = samples_plot_new[:, -1].assign(resample(log_w, samples_res_new[:, -1]))"
   ]
  },
  {
   "cell_type": "code",
   "execution_count": null,
   "metadata": {},
   "outputs": [],
   "source": [
    "plot_hist(4, samples_plot_new, samples_plot)"
   ]
  },
  {
   "cell_type": "markdown",
   "metadata": {},
   "source": [
    "## Compare new samples with HMC"
   ]
  },
  {
   "cell_type": "code",
   "execution_count": null,
   "metadata": {},
   "outputs": [],
   "source": [
    "def logprior_new(x):\n",
    "    logp1 = tfd.Normal(loc=x[:, 3:4], scale=tau).log_prob(x[:, 0:1])\n",
    "    logp2 = tfd.Normal(loc=x[:, 3:4], scale=tau).log_prob(x[:, 1:2])   \n",
    "    logp3 = tfd.Normal(loc=x[:, 4:5], scale=2 * gamma).log_prob(x[:, 2:3])\n",
    "    logp4 = tfd.Normal(loc=x[:, 4:5], scale=gamma).log_prob(x[:, 3:4])\n",
    "    logprior5 = tfd.Normal(loc=mu0, scale=sigma0).log_prob(x[:, 4:5])\n",
    "    return logp1 + logp2 + logp3 + logp4 + logprior5\n",
    "\n",
    "def log_target_new(x):\n",
    "    return (logprior_new(x) + loglik(x)).reshape()"
   ]
  },
  {
   "cell_type": "code",
   "execution_count": null,
   "metadata": {},
   "outputs": [],
   "source": [
    "smc_res_new = tfp.experimental.mcmc.sample_sequential_monte_carlo(\n",
    "    prior_log_prob_fn=logprior_new,\n",
    "    likelihood_log_prob_fn=loglik,\n",
    "    current_state=samples_init,\n",
    "    seed=(12, 34))[1]"
   ]
  },
  {
   "cell_type": "code",
   "execution_count": null,
   "metadata": {},
   "outputs": [],
   "source": [
    "ind = 4\n",
    "plot_hist(ind, smc_res_new, samples_plot_new, label1=\"SMC\", label2=\"DC SMC\")\n",
    "\n",
    "print(\n",
    "    f\"true x{ind+1}:\",\n",
    "    x_true[0, ind],\n",
    "    \"\\nHMC estimate:\",\n",
    "    weighted_sum(lambda x: x, smc_res_new[:, ind].reshape((-1, 1))),\n",
    "    \"\\nDC SMC estimate:\",\n",
    "    weighted_sum(lambda x: x, samples_res_new[:, ind].reshape((-1, 1)), log_w_new)\n",
    ")"
   ]
  },
  {
   "cell_type": "markdown",
   "metadata": {},
   "source": [
    "# MCMC starting from a point in current samples"
   ]
  },
  {
   "cell_type": "code",
   "execution_count": null,
   "metadata": {},
   "outputs": [],
   "source": [
    "mcmc_init = tf.identity(samples_init[:1, :])\n",
    "\n",
    "mcmc_res = tfp.mcmc.sample_chain(\n",
    "  num_results=1000,\n",
    "  current_state=tf.zeros_like(mcmc_init), # mcmc_init,\n",
    "  kernel=tfp.mcmc.RandomWalkMetropolis(log_target),\n",
    "  num_burnin_steps=500,\n",
    "  trace_fn=None,\n",
    "  seed=42)"
   ]
  },
  {
   "cell_type": "code",
   "execution_count": null,
   "metadata": {},
   "outputs": [],
   "source": [
    "mcmc_res[:, :, 0]"
   ]
  },
  {
   "cell_type": "markdown",
   "metadata": {},
   "source": [
    "# Augmented base and target"
   ]
  },
  {
   "cell_type": "markdown",
   "metadata": {},
   "source": [
    "## 1. x = {x_1, x_2, x_4}, y = {x_5}, z = {x_3}"
   ]
  },
  {
   "cell_type": "markdown",
   "metadata": {},
   "source": [
    "$p(x_3 | x_5) = \\mathcal{N}(x_3; x_5, \\gamma^2) \\rightarrow p(x_3 | x_5) = \\mathcal{N}(x_3; x_5 + 2, \\gamma^2)$"
   ]
  },
  {
   "cell_type": "code",
   "execution_count": 15,
   "metadata": {},
   "outputs": [],
   "source": [
    "def log_target(x):\n",
    "    return logprior(x) + loglik(x)\n",
    "\n",
    "def logprior_new(x):\n",
    "    logp1 = tfd.Normal(loc=x[:, 3:4], scale=tau).log_prob(x[:, 0:1])\n",
    "    logp2 = tfd.Normal(loc=x[:, 3:4], scale=tau).log_prob(x[:, 1:2])   \n",
    "    logp3 = tfd.Normal(loc=x[:, 4:5] + 2, scale=gamma).log_prob(x[:, 2:3])\n",
    "    logp4 = tfd.Normal(loc=x[:, 4:5], scale=gamma).log_prob(x[:, 3:4])\n",
    "    logprior5 = tfd.Normal(loc=mu0, scale=sigma0).log_prob(x[:, 4:5])\n",
    "    return logp1 + logp2 + logp3 + logp4 + logprior5\n",
    "\n",
    "def log_target_new(x):\n",
    "    return logprior_new(x) + loglik(x)"
   ]
  },
  {
   "cell_type": "code",
   "execution_count": 16,
   "metadata": {},
   "outputs": [],
   "source": [
    "# proposal distribution h\n",
    "# class Proposal:\n",
    "#     def __init__(self, mean=None, sd=None, N=None):\n",
    "#         self.mean = np.zeros(N) if mean is None else mean\n",
    "#         self.sd = np.ones(N) if sd is None else sd\n",
    "#         self.dist = tfd.Normal(self.mean, self.sd)\n",
    "#     def log_prob(self, mu_new):\n",
    "#         return self.dist.log_prob(mu_new).reshape((-1, 1)) # nsample x dim\n",
    "#     def sample(self, size):\n",
    "#         return self.dist.sample(size).T\n",
    "\n",
    "class Proposal:\n",
    "    \"\"\"Needs to be a multivariate distribution instead of univariate in order\n",
    "    to ensure the dimensionality of log_prob is 1 x nsample. This is corrected\n",
    "    in log_base_augment(), IS_augmented_experiment(), log_base_augment(),\n",
    "    and log_target_new_augment()\n",
    "    \"\"\"\n",
    "    def __init__(self, mean=None, sd=None, N=None):\n",
    "        self.mean = np.zeros(N) if mean is None else mean\n",
    "        self.sd = np.ones(N) if sd is None else sd\n",
    "        self.dist = tfd.Normal(self.mean, self.sd)\n",
    "    def log_prob(self, mu_new):\n",
    "        return self.dist.log_prob(mu_new) # 1 x nsample\n",
    "    def sample(self, size):\n",
    "        return self.dist.sample(size)"
   ]
  },
  {
   "cell_type": "code",
   "execution_count": 17,
   "metadata": {},
   "outputs": [],
   "source": [
    "N = 2000"
   ]
  },
  {
   "cell_type": "code",
   "execution_count": 18,
   "metadata": {},
   "outputs": [],
   "source": [
    "# given samples from old target\n",
    "samples_plot_init = tfd.Normal(loc=np.zeros(1), scale=np.ones(1)).sample((N, x_true.shape[1]))[:, :, 0]\n",
    "samples_init = tf.Variable(samples_plot_init)\n",
    "\n",
    "smc_res = tfp.experimental.mcmc.sample_sequential_monte_carlo(\n",
    "    prior_log_prob_fn=logprior,\n",
    "    likelihood_log_prob_fn=loglik,\n",
    "    current_state=samples_init,\n",
    "    seed=(12, 34))[1]"
   ]
  },
  {
   "cell_type": "code",
   "execution_count": 19,
   "metadata": {},
   "outputs": [],
   "source": [
    "# get samples from new target (unavailable in practice)\n",
    "samples_plot_init = tfd.Normal(loc=np.zeros(1), scale=np.ones(1)).sample((N, x_true.shape[1]))[:, :, 0]\n",
    "samples_init = tf.Variable(samples_plot_init)\n",
    "\n",
    "smc_res_new = tfp.experimental.mcmc.sample_sequential_monte_carlo(\n",
    "    prior_log_prob_fn=logprior_new,\n",
    "    likelihood_log_prob_fn=loglik,\n",
    "    current_state=samples_init,\n",
    "    seed=(12, 34))[1]"
   ]
  },
  {
   "cell_type": "code",
   "execution_count": 20,
   "metadata": {
    "scrolled": true
   },
   "outputs": [
    {
     "data": {
      "image/png": "[encoded data removed]",
      "text/plain": [
       "<Figure size 432x288 with 1 Axes>"
      ]
     },
     "metadata": {
      "needs_background": "light"
     },
     "output_type": "display_data"
    },
    {
     "name": "stdout",
     "output_type": "stream",
     "text": [
      "true x_1: tf.Tensor(1.6739499345270943, shape=(), dtype=float64) \n",
      "estimate: tf.Tensor(1.2629944052158395, shape=(), dtype=float64)\n"
     ]
    },
    {
     "data": {
      "image/png": "[encoded data removed]",
      "text/plain": [
       "<Figure size 432x288 with 1 Axes>"
      ]
     },
     "metadata": {
      "needs_background": "light"
     },
     "output_type": "display_data"
    },
    {
     "name": "stdout",
     "output_type": "stream",
     "text": [
      "true x_2: tf.Tensor(-0.8109232714986124, shape=(), dtype=float64) \n",
      "estimate: tf.Tensor(-0.24123580045972134, shape=(), dtype=float64)\n"
     ]
    },
    {
     "data": {
      "image/png": "[encoded data removed]",
      "text/plain": [
       "<Figure size 432x288 with 1 Axes>"
      ]
     },
     "metadata": {
      "needs_background": "light"
     },
     "output_type": "display_data"
    },
    {
     "name": "stdout",
     "output_type": "stream",
     "text": [
      "true x_3: tf.Tensor(0.4399671454377567, shape=(), dtype=float64) \n",
      "estimate: tf.Tensor(1.0304783976031795, shape=(), dtype=float64)\n"
     ]
    },
    {
     "data": {
      "image/png": "[encoded data removed]",
      "text/plain": [
       "<Figure size 432x288 with 1 Axes>"
      ]
     },
     "metadata": {
      "needs_background": "light"
     },
     "output_type": "display_data"
    },
    {
     "name": "stdout",
     "output_type": "stream",
     "text": [
      "true x_4: tf.Tensor(-0.5540992987520248, shape=(), dtype=float64) \n",
      "estimate: tf.Tensor(0.2490939145706206, shape=(), dtype=float64)\n"
     ]
    },
    {
     "data": {
      "image/png": "[encoded data removed]",
      "text/plain": [
       "<Figure size 432x288 with 1 Axes>"
      ]
     },
     "metadata": {
      "needs_background": "light"
     },
     "output_type": "display_data"
    },
    {
     "name": "stdout",
     "output_type": "stream",
     "text": [
      "true x_5: tf.Tensor(-1.0, shape=(), dtype=float64) \n",
      "estimate: tf.Tensor(-0.2617529833942293, shape=(), dtype=float64)\n"
     ]
    }
   ],
   "source": [
    "# visualize old and new targets\n",
    "for i in range(5):\n",
    "    plot_hist(i, smc_res_new, smc_res, label1=\"HMC new\", label2=\"HMC old\")"
   ]
  },
  {
   "cell_type": "markdown",
   "metadata": {},
   "source": [
    "## Improtance Sampling"
   ]
  },
  {
   "cell_type": "code",
   "execution_count": 27,
   "metadata": {},
   "outputs": [],
   "source": [
    "def log_base_augment(x, log_target, h_dist):\n",
    "    log_p_target = log_target(x[:, :5])\n",
    "    log_p_h = h_dist.log_prob(x[:, 5]).reshape((-1, 1))\n",
    "    return log_p_target + log_p_h\n",
    "\n",
    "def log_target_new_augment(x, log_target_new, h_tilde_dist):\n",
    "    x_tilde = tf.Variable(tf.identity(x))\n",
    "    x_tilde[:, 2].assign(x[:, 5])\n",
    "    x_tilde[:, 5].assign(x[:, 2])\n",
    "    \n",
    "    log_p_target_new = log_target_new(x_tilde[:, :5])\n",
    "    log_p_htilde = h_tilde_dist.log_prob(x[:, 5]).reshape((-1, 1))\n",
    "    return log_p_target_new + log_p_htilde"
   ]
  },
  {
   "cell_type": "code",
   "execution_count": 28,
   "metadata": {},
   "outputs": [],
   "source": [
    "def IS_augmented_experiment(\n",
    "    h_dist, \n",
    "    h_tilde_dist, \n",
    "    log_target_old,\n",
    "    log_target_new,\n",
    "    init_samples, \n",
    "    true_samples=None, \n",
    "    plot=True, \n",
    "    ind=0\n",
    "):\n",
    "    \"\"\"\n",
    "        log_target_old: log_prob function for old target\n",
    "        log_target_new: log_prob function for new target\n",
    "        init_samples: unaugmented base samples\n",
    "    \"\"\"\n",
    "#     h_samples = h_dist.sample((N, 1))\n",
    "    h_samples = h_dist.sample((1,)).T\n",
    "    base_samples = tf.concat([init_samples, h_samples], axis=1)\n",
    "\n",
    "    log_w = (\n",
    "        log_target_new_augment(base_samples, log_target_new, h_tilde_dist) \n",
    "        - log_base_augment(base_samples, log_target_old, h_dist)\n",
    "    )\n",
    "    \n",
    "    samples_plot = resample(log_w, base_samples)\n",
    "\n",
    "    # compute ESS\n",
    "    ess = effective_sample_size(log_w)\n",
    "    \n",
    "    # plot\n",
    "    if plot:\n",
    "        plot_hist(ind, samples_plot, smc_res_new, label1=\"IS augment\", label2=\"HMC new\")\n",
    "\n",
    "    if true_samples is not None:\n",
    "        energy_dist = energy_distance(\n",
    "            samples_plot.reshape((-1,)), \n",
    "            true_samples.reshape((-1,))\n",
    "        )\n",
    "        return ess, energy_dist\n",
    "    else:\n",
    "        return ess\n",
    "    "
   ]
  },
  {
   "cell_type": "markdown",
   "metadata": {},
   "source": [
    "### Change sd"
   ]
  },
  {
   "cell_type": "code",
   "execution_count": 23,
   "metadata": {},
   "outputs": [
    {
     "name": "stdout",
     "output_type": "stream",
     "text": [
      "Running for sd = 0.1\n",
      "Running for sd = 1\n",
      "Running for sd = 2\n",
      "Running for sd = 5\n",
      "Running for sd = 10\n"
     ]
    }
   ],
   "source": [
    "sd_list = [0.1, 1, 2, 5, 10]\n",
    "nrep = 100\n",
    "\n",
    "ess_list = -1 * np.ones((nrep, len(sd_list)))\n",
    "energy_list = -1 * np.ones_like(ess_list)\n",
    "\n",
    "# for constructing h_tilde\n",
    "x3_mean = tf.math.reduce_mean(smc_res[:, 2])\n",
    "x3_var = tf.math.reduce_variance(smc_res[:, 2])\n",
    "\n",
    "for j, sd in enumerate(sd_list):\n",
    "    print(f\"Running for sd = {sd}\")\n",
    "    \n",
    "    h_dist = Proposal(sd=np.ones(N)*sd)\n",
    "#     h_tilde_dist = Proposal(N=N)\n",
    "    h_tilde_dist = tfd.Laplace(\n",
    "        loc=tf.ones(N) * x3_mean,\n",
    "        scale=tf.ones(N) * x3_var\n",
    "    )\n",
    "    \n",
    "    for i in range(nrep):\n",
    "        ess, energy_dist = IS_augmented_experiment(\n",
    "            h_dist, h_tilde_dist, log_target, log_target_new, smc_res, smc_res_new, plot=False)\n",
    "        ess_list[i, j] = ess\n",
    "        energy_list[i, j] = energy_dist"
   ]
  },
  {
   "cell_type": "code",
   "execution_count": 24,
   "metadata": {
    "scrolled": true
   },
   "outputs": [
    {
     "data": {
      "image/png": "[encoded data removed]",
      "text/plain": [
       "<Figure size 432x288 with 2 Axes>"
      ]
     },
     "metadata": {
      "needs_background": "light"
     },
     "output_type": "display_data"
    }
   ],
   "source": [
    "plt.subplot(1, 2, 1)\n",
    "_ = plt.boxplot(ess_list)\n",
    "_ = plt.xticks(range(1, 1 + len(sd_list)), sd_list)\n",
    "\n",
    "plt.subplot(1, 2, 2)\n",
    "_ = plt.plot(range(len(sd_list)), np.mean(energy_list, axis=0), marker=\"o\")\n",
    "_ = plt.fill_between(range(len(sd_list)),\n",
    "                     np.percentile(energy_list, 2.5, axis=0), \n",
    "                     np.percentile(energy_list, 97.5, axis=0),\n",
    "                     color='b', alpha=.1)\n",
    "_ = plt.xticks(range(len(sd_list)), sd_list)\n"
   ]
  },
  {
   "cell_type": "markdown",
   "metadata": {},
   "source": [
    "### Change mean"
   ]
  },
  {
   "cell_type": "code",
   "execution_count": 25,
   "metadata": {},
   "outputs": [
    {
     "name": "stdout",
     "output_type": "stream",
     "text": [
      "Running for mean = -2\n",
      "Running for mean = -1\n",
      "Running for mean = 0\n",
      "Running for mean = 1\n",
      "Running for mean = 2\n"
     ]
    }
   ],
   "source": [
    "mean_list = [-2, -1, 0, 1, 2]\n",
    "nrep = 100\n",
    "\n",
    "ess_list = -1 * np.ones((nrep, len(sd_list)))\n",
    "energy_list = -1 * np.ones_like(ess_list)\n",
    "\n",
    "# for constructing h_tilde\n",
    "x3_mean = tf.math.reduce_mean(smc_res[:, 2])\n",
    "x3_var = tf.math.reduce_variance(smc_res[:, 2])\n",
    "\n",
    "for j, mean in enumerate(mean_list):\n",
    "    print(f\"Running for mean = {mean}\")\n",
    "\n",
    "#     h_dist = Proposal(mean=np.ones(N) * mean)\n",
    "#     h_tilde_dist = Proposal(N=N)\n",
    "\n",
    "    h_dist = Proposal(mean=smc_res[:, 4] + mean)\n",
    "    h_tilde_dist = tfd.Laplace(\n",
    "        loc=tf.ones(N) * x3_mean,\n",
    "        scale=tf.ones(N) * x3_var\n",
    "    )\n",
    "    \n",
    "    for i in range(nrep):\n",
    "        ess, energy_dist = IS_augmented_experiment(\n",
    "            h_dist, h_tilde_dist, log_target, log_target_new, smc_res, smc_res_new, plot=False)\n",
    "        ess_list[i, j] = ess\n",
    "        energy_list[i, j] = energy_dist\n",
    "    "
   ]
  },
  {
   "cell_type": "code",
   "execution_count": 26,
   "metadata": {
    "scrolled": true
   },
   "outputs": [
    {
     "data": {
      "image/png": "[encoded data removed]",
      "text/plain": [
       "<Figure size 432x288 with 2 Axes>"
      ]
     },
     "metadata": {
      "needs_background": "light"
     },
     "output_type": "display_data"
    }
   ],
   "source": [
    "plt.subplot(1, 2, 1)\n",
    "_ = plt.boxplot(ess_list)\n",
    "_ = plt.xticks(range(1, 1 + len(mean_list)), mean_list)\n",
    "\n",
    "plt.subplot(1, 2, 2)\n",
    "_ = plt.plot(range(len(mean_list)), np.mean(energy_list, axis=0), marker=\"o\")\n",
    "_ = plt.fill_between(range(len(mean_list)),\n",
    "                     np.percentile(energy_list, 2.5, axis=0), \n",
    "                     np.percentile(energy_list, 97.5, axis=0),\n",
    "                     color='b', alpha=.1)\n",
    "_ = plt.xticks(range(len(mean_list)), mean_list)\n"
   ]
  },
  {
   "cell_type": "markdown",
   "metadata": {},
   "source": [
    "## 2. x = {x_1, x_2}, y = {x_3, x_4}, z = {x_5}\n",
    "$p(x_5) = \\mathcal{N}(0, 1) \\to p(x_5) = \\mathcal{N}(- 2, 1)$"
   ]
  },
  {
   "cell_type": "code",
   "execution_count": 29,
   "metadata": {},
   "outputs": [],
   "source": [
    "def logprior_new(x):\n",
    "    logp1 = tfd.Normal(loc=x[:, 3:4], scale=tau).log_prob(x[:, 0:1])\n",
    "    logp2 = tfd.Normal(loc=x[:, 3:4], scale=tau).log_prob(x[:, 1:2])   \n",
    "    logp3 = tfd.Normal(loc=x[:, 4:5], scale=gamma).log_prob(x[:, 2:3])\n",
    "    logp4 = tfd.Normal(loc=x[:, 4:5], scale=gamma).log_prob(x[:, 3:4])\n",
    "    logprior5 = tfd.Normal(loc=mu0 - 2, scale=sigma0).log_prob(x[:, 4:5])\n",
    "    return logp1 + logp2 + logp3 + logp4 + logprior5\n",
    "\n",
    "def log_target_new(x):\n",
    "    return logprior_new(x) + loglik(x)"
   ]
  },
  {
   "cell_type": "code",
   "execution_count": 30,
   "metadata": {},
   "outputs": [],
   "source": [
    "N = 2000\n",
    "\n",
    "# given samples from old target\n",
    "samples_plot_init = tfd.Normal(loc=np.zeros(1), scale=np.ones(1)).sample((N, x_true.shape[1]))[:, :, 0]\n",
    "samples_init = tf.Variable(samples_plot_init)"
   ]
  },
  {
   "cell_type": "code",
   "execution_count": 31,
   "metadata": {},
   "outputs": [],
   "source": [
    "smc_res = tfp.experimental.mcmc.sample_sequential_monte_carlo(\n",
    "    prior_log_prob_fn=logprior,\n",
    "    likelihood_log_prob_fn=loglik,\n",
    "    current_state=samples_init,\n",
    "    seed=(12, 34))[1]"
   ]
  },
  {
   "cell_type": "code",
   "execution_count": 32,
   "metadata": {},
   "outputs": [],
   "source": [
    "# get samples from new target (unavailable in practice)\n",
    "samples_plot_init = tfd.Normal(loc=np.zeros(1), scale=np.ones(1)).sample((N, x_true.shape[1]))[:, :, 0]\n",
    "samples_init = tf.Variable(samples_plot_init)"
   ]
  },
  {
   "cell_type": "code",
   "execution_count": 33,
   "metadata": {},
   "outputs": [],
   "source": [
    "smc_res_new = tfp.experimental.mcmc.sample_sequential_monte_carlo(\n",
    "    prior_log_prob_fn=logprior_new,\n",
    "    likelihood_log_prob_fn=loglik,\n",
    "    current_state=samples_init,\n",
    "    seed=(12, 34))[1]"
   ]
  },
  {
   "cell_type": "code",
   "execution_count": 34,
   "metadata": {
    "scrolled": true
   },
   "outputs": [
    {
     "data": {
      "image/png": "[encoded data removed]",
      "text/plain": [
       "<Figure size 432x288 with 1 Axes>"
      ]
     },
     "metadata": {
      "needs_background": "light"
     },
     "output_type": "display_data"
    },
    {
     "name": "stdout",
     "output_type": "stream",
     "text": [
      "true x_1: tf.Tensor(1.6739499345270943, shape=(), dtype=float64) \n",
      "estimate: tf.Tensor(1.2214455237648774, shape=(), dtype=float64)\n"
     ]
    },
    {
     "data": {
      "image/png": "[encoded data removed]",
      "text/plain": [
       "<Figure size 432x288 with 1 Axes>"
      ]
     },
     "metadata": {
      "needs_background": "light"
     },
     "output_type": "display_data"
    },
    {
     "name": "stdout",
     "output_type": "stream",
     "text": [
      "true x_2: tf.Tensor(-0.8109232714986124, shape=(), dtype=float64) \n",
      "estimate: tf.Tensor(-0.27392445175664737, shape=(), dtype=float64)\n"
     ]
    },
    {
     "data": {
      "image/png": "[encoded data removed]",
      "text/plain": [
       "<Figure size 432x288 with 1 Axes>"
      ]
     },
     "metadata": {
      "needs_background": "light"
     },
     "output_type": "display_data"
    },
    {
     "name": "stdout",
     "output_type": "stream",
     "text": [
      "true x_3: tf.Tensor(0.4399671454377567, shape=(), dtype=float64) \n",
      "estimate: tf.Tensor(-0.07401917451992407, shape=(), dtype=float64)\n"
     ]
    },
    {
     "data": {
      "image/png": "[encoded data removed]",
      "text/plain": [
       "<Figure size 432x288 with 1 Axes>"
      ]
     },
     "metadata": {
      "needs_background": "light"
     },
     "output_type": "display_data"
    },
    {
     "name": "stdout",
     "output_type": "stream",
     "text": [
      "true x_4: tf.Tensor(-0.5540992987520248, shape=(), dtype=float64) \n",
      "estimate: tf.Tensor(0.12443193555957018, shape=(), dtype=float64)\n"
     ]
    },
    {
     "data": {
      "image/png": "[encoded data removed]",
      "text/plain": [
       "<Figure size 432x288 with 1 Axes>"
      ]
     },
     "metadata": {
      "needs_background": "light"
     },
     "output_type": "display_data"
    },
    {
     "name": "stdout",
     "output_type": "stream",
     "text": [
      "true x_5: tf.Tensor(-1.0, shape=(), dtype=float64) \n",
      "estimate: tf.Tensor(-0.6661611722876216, shape=(), dtype=float64)\n"
     ]
    }
   ],
   "source": [
    "# visualize old and new targets\n",
    "for i in range(5):\n",
    "    plot_hist(i, smc_res_new, smc_res, label1=\"HMC new\", label2=\"HMC old\")"
   ]
  },
  {
   "cell_type": "markdown",
   "metadata": {},
   "source": [
    "## Importance sampling"
   ]
  },
  {
   "cell_type": "markdown",
   "metadata": {},
   "source": [
    "### change sd"
   ]
  },
  {
   "cell_type": "code",
   "execution_count": 42,
   "metadata": {},
   "outputs": [
    {
     "name": "stdout",
     "output_type": "stream",
     "text": [
      "Running for sd = 0.1\n",
      "Running for sd = 1\n",
      "Running for sd = 2\n",
      "Running for sd = 5\n",
      "Running for sd = 10\n"
     ]
    }
   ],
   "source": [
    "sd_list = [0.1, 1, 2, 5, 10]\n",
    "nrep = 100\n",
    "\n",
    "ess_list = -1 * np.ones((nrep, len(sd_list)))\n",
    "energy_list = -1 * np.ones_like(ess_list)\n",
    "\n",
    "# for constructing h_tilde\n",
    "x3_mean = tf.math.reduce_mean(smc_res[:, 2])\n",
    "x3_var = tf.math.reduce_variance(smc_res[:, 2])\n",
    "\n",
    "for j, sd in enumerate(sd_list):\n",
    "    print(f\"Running for sd = {sd}\")\n",
    "    \n",
    "    h_dist = Proposal(sd=np.ones(N)*sd)\n",
    "#     h_tilde_dist = Proposal(N=N)\n",
    "    h_tilde_dist = tfd.Laplace(\n",
    "        loc=tf.ones(N) * x3_mean,\n",
    "        scale=tf.ones(N) * x3_var\n",
    "    )\n",
    "    \n",
    "    for i in range(nrep):\n",
    "        ess, energy_dist = IS_augmented_experiment(\n",
    "            h_dist, h_tilde_dist, log_target, log_target_new, smc_res, smc_res_new, plot=False)\n",
    "        ess_list[i, j] = ess\n",
    "        energy_list[i, j] = energy_dist\n",
    "    "
   ]
  },
  {
   "cell_type": "code",
   "execution_count": 38,
   "metadata": {},
   "outputs": [
    {
     "data": {
      "image/png": "[encoded data removed]",
      "text/plain": [
       "<Figure size 432x288 with 2 Axes>"
      ]
     },
     "metadata": {
      "needs_background": "light"
     },
     "output_type": "display_data"
    }
   ],
   "source": [
    "plt.subplot(1, 2, 1)\n",
    "_ = plt.boxplot(ess_list)\n",
    "_ = plt.xticks(range(1, 1 + len(sd_list)), sd_list)\n",
    "\n",
    "plt.subplot(1, 2, 2)\n",
    "_ = plt.plot(range(len(sd_list)), np.mean(energy_list, axis=0), marker=\"o\")\n",
    "_ = plt.fill_between(range(len(sd_list)),\n",
    "                     np.percentile(energy_list, 2.5, axis=0), \n",
    "                     np.percentile(energy_list, 97.5, axis=0),\n",
    "                     color='b', alpha=.1)\n",
    "_ = plt.xticks(range(len(sd_list)), sd_list)\n"
   ]
  },
  {
   "cell_type": "markdown",
   "metadata": {},
   "source": [
    "### change mean"
   ]
  },
  {
   "cell_type": "code",
   "execution_count": 43,
   "metadata": {},
   "outputs": [
    {
     "name": "stdout",
     "output_type": "stream",
     "text": [
      "Running for mean = -2\n",
      "Running for mean = -1\n",
      "Running for mean = 0\n",
      "Running for mean = 1\n",
      "Running for mean = 2\n"
     ]
    }
   ],
   "source": [
    "mean_list = [-2, -1, 0, 1, 2]\n",
    "nrep = 100\n",
    "\n",
    "ess_list = -1 * np.ones((nrep, len(sd_list)))\n",
    "energy_list = -1 * np.ones_like(ess_list)\n",
    "\n",
    "# for constructing h_tilde\n",
    "x3_mean = tf.math.reduce_mean(smc_res[:, 2])\n",
    "x3_var = tf.math.reduce_variance(smc_res[:, 2])\n",
    "\n",
    "for j, mean in enumerate(mean_list):\n",
    "    print(f\"Running for mean = {mean}\")\n",
    "\n",
    "#     h_dist = Proposal(mean=np.ones(1) * mean)\n",
    "#     h_tilde_dist = Proposal()\n",
    "    \n",
    "    h_dist = Proposal(mean=np.ones(N) * (mu0 + mean))\n",
    "    h_tilde_dist = tfd.Laplace(\n",
    "        loc=tf.ones(N) * x3_mean,\n",
    "        scale=tf.ones(N) * x3_var\n",
    "    )\n",
    "    \n",
    "    for i in range(nrep):\n",
    "        ess, energy_dist = IS_augmented_experiment(\n",
    "            h_dist, h_tilde_dist, log_target, log_target_new, smc_res, smc_res_new, plot=False)\n",
    "        ess_list[i, j] = ess\n",
    "        energy_list[i, j] = energy_dist\n",
    "    "
   ]
  },
  {
   "cell_type": "code",
   "execution_count": 44,
   "metadata": {
    "scrolled": true
   },
   "outputs": [
    {
     "data": {
      "image/png": "[encoded data removed]",
      "text/plain": [
       "<Figure size 432x288 with 2 Axes>"
      ]
     },
     "metadata": {
      "needs_background": "light"
     },
     "output_type": "display_data"
    }
   ],
   "source": [
    "plt.subplot(1, 2, 1)\n",
    "_ = plt.boxplot(ess_list)\n",
    "_ = plt.xticks(range(1, 1 + len(mean_list)), mean_list)\n",
    "\n",
    "plt.subplot(1, 2, 2)\n",
    "_ = plt.plot(range(len(mean_list)), np.mean(energy_list, axis=0), marker=\"o\")\n",
    "_ = plt.fill_between(range(len(mean_list)),\n",
    "                     np.percentile(energy_list, 2.5, axis=0), \n",
    "                     np.percentile(energy_list, 97.5, axis=0),\n",
    "                     color='b', alpha=.1)\n",
    "_ = plt.xticks(range(len(mean_list)), mean_list)\n"
   ]
  },
  {
   "cell_type": "code",
   "execution_count": null,
   "metadata": {},
   "outputs": [],
   "source": []
  }
 ],
 "metadata": {
  "kernelspec": {
   "display_name": "fast-mcmc",
   "language": "python",
   "name": "fast-mcmc"
  },
  "language_info": {
   "codemirror_mode": {
    "name": "ipython",
    "version": 3
   },
   "file_extension": ".py",
   "mimetype": "text/x-python",
   "name": "python",
   "nbconvert_exporter": "python",
   "pygments_lexer": "ipython3",
   "version": "3.8.8"
  }
 },
 "nbformat": 4,
 "nbformat_minor": 2
}
