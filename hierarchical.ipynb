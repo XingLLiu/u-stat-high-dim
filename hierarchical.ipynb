{
 "cells": [
  {
   "cell_type": "code",
   "execution_count": 218,
   "metadata": {},
   "outputs": [
    {
     "name": "stdout",
     "output_type": "stream",
     "text": [
      "The autoreload extension is already loaded. To reload it, use:\n",
      "  %reload_ext autoreload\n"
     ]
    }
   ],
   "source": [
    "%load_ext autoreload\n",
    "%autoreload 2\n",
    "\n",
    "import matplotlib.pyplot as plt\n",
    "import seaborn as sns\n",
    "import pandas as pd\n",
    "import numpy as np\n",
    "from scipy.stats import norm\n",
    "import multiprocessing\n",
    "\n",
    "import tensorflow as tf\n",
    "import tensorflow_probability as tfp\n",
    "tfd = tfp.distributions\n",
    "import tensorflow.experimental.numpy as tnp\n",
    "tnp.experimental_enable_numpy_behavior()\n",
    "\n",
    "import sys\n",
    "sys.path.append(\".\")\n",
    "from src.dc_smc import dc_smc \n",
    "from src.model import Model\n",
    "from src.utils import resample, weighted_sum"
   ]
  },
  {
   "cell_type": "markdown",
   "metadata": {},
   "source": [
    "# 5-var model"
   ]
  },
  {
   "cell_type": "markdown",
   "metadata": {},
   "source": [
    "Target:\n",
    "$$\n",
    "y_i | x_i \\sim \\mathcal{N}(x_i, \\sigma^2), i = 1, 2, 3 \\\\\n",
    "x_i | x_4 \\sim \\mathcal{N}(x_4, \\tau^2), i = 1, 2 \\\\\n",
    "x_i | x_5 \\sim \\mathcal{N}(x_t, \\gamma^2), i = 3, 4\n",
    "$$\n",
    "Priors:\n",
    "$$\n",
    "x_i \\sim \\mathcal{N}(\\mu_0, \\sigma_0^2), i = 1, 2, \\ldots, 5\n",
    "$$"
   ]
  },
  {
   "cell_type": "code",
   "execution_count": 231,
   "metadata": {},
   "outputs": [],
   "source": [
    "tf.random.set_seed(1)\n",
    "\n",
    "N = 2000 # num params samples\n",
    "nobs = 1000 # num observations\n",
    "\n",
    "sigma, tau, gamma = np.array([1.]), np.array([1.]), np.array([1.])\n",
    "mu0, sigma0 = np.array([0.]), np.array([1.])\n",
    "\n",
    "x5 = np.array([-1.])\n",
    "x4, x3 = tfd.Normal(loc=x5, scale=gamma).sample(2)\n",
    "x1, x2 = tfd.Normal(loc=x4, scale=tau).sample(2)\n",
    "x_true = tf.reshape(tf.concat([x1, x2, x3, x4, x5], axis=0), (1, -1))\n"
   ]
  },
  {
   "cell_type": "code",
   "execution_count": 232,
   "metadata": {},
   "outputs": [],
   "source": [
    "# simulate data\n",
    "y1 = tfd.Normal(loc=x_true[:, 0], scale=sigma).sample((nobs, 1))\n",
    "y2 = tfd.Normal(loc=x_true[:, 1], scale=sigma).sample((nobs, 1))\n",
    "y3 = tfd.Normal(loc=x_true[:, 2], scale=sigma).sample((nobs, 1))\n",
    "obs = tf.concat([y1, y2, y3], axis=1)[:, :, 0]\n",
    "# obs = tf.concat([y1, y2, y3], axis=1)\n",
    "# obs = tf.transpose(obs, perm=[0, 2, 1])"
   ]
  },
  {
   "cell_type": "code",
   "execution_count": 233,
   "metadata": {},
   "outputs": [],
   "source": [
    "def init_target(obs):\n",
    "    def log_gamma1(x):\n",
    "        loglik = tfd.Normal(loc=x[:, :1], scale=sigma).log_prob(obs[:, :1].T)\n",
    "        loglik = tf.reduce_sum(loglik, axis=1, keepdims=True)\n",
    "        logprior = tfd.Normal(loc=mu0, scale=sigma0).log_prob(x[:, :1])\n",
    "        return loglik + logprior\n",
    "\n",
    "    def log_gamma2(x):\n",
    "        loglik = tfd.Normal(loc=x[:, 1:2], scale=sigma).log_prob(obs[:, 1:2].T)\n",
    "        loglik = tf.reduce_sum(loglik, axis=1, keepdims=True)\n",
    "        logprior = tfd.Normal(loc=mu0, scale=sigma0).log_prob(x[:, 1:2])\n",
    "        return loglik + logprior\n",
    "\n",
    "    def log_gamma3(x):\n",
    "        loglik = tfd.Normal(loc=x[:, 2:3], scale=sigma).log_prob(obs[:, 2:3].T)\n",
    "        loglik = tf.reduce_sum(loglik, axis=1, keepdims=True)\n",
    "        logprior = tfd.Normal(loc=mu0, scale=sigma0).log_prob(x[:, 2:3])\n",
    "        return loglik + logprior\n",
    "\n",
    "    def log_gamma4(x):\n",
    "        loglik1 = tfd.Normal(loc=x[:, 0:1], scale=sigma).log_prob(obs[:, :1].T)\n",
    "        loglik2 = tfd.Normal(loc=x[:, 1:2], scale=sigma).log_prob(obs[:, 1:2].T)\n",
    "        loglik = tf.reduce_sum(loglik1 + loglik2, axis=1, keepdims=True)\n",
    "        logp1 = tfd.Normal(loc=x[:, 3:4], scale=tau).log_prob(x[:, 0:1])\n",
    "        logp2 = tfd.Normal(loc=x[:, 3:4], scale=tau).log_prob(x[:, 1:2])\n",
    "        logp4 = tfd.Normal(loc=mu0, scale=sigma0).log_prob(x[:, 3:4])\n",
    "        return loglik + logp1 + logp2 + logp4\n",
    "\n",
    "    def log_gamma5(x):\n",
    "        loglik1 = tfd.Normal(loc=x[:, 0:1], scale=sigma).log_prob(obs[:, :1].T)\n",
    "        loglik2 = tfd.Normal(loc=x[:, 1:2], scale=sigma).log_prob(obs[:, 1:2].T)\n",
    "        loglik3 = tfd.Normal(loc=x[:, 2:3], scale=sigma).log_prob(obs[:, 2:3].T)\n",
    "        loglik = tf.reduce_sum(loglik1 + loglik2 + loglik3, axis=1, keepdims=True)\n",
    "        \n",
    "        logp1 = tfd.Normal(loc=x[:, 3:4], scale=tau).log_prob(x[:, :1])\n",
    "        logp2 = tfd.Normal(loc=x[:, 3:4], scale=tau).log_prob(x[:, 1:2])   \n",
    "        logp3 = tfd.Normal(loc=x[:, 4:5], scale=gamma).log_prob(x[:, 2:3])\n",
    "        logp4 = tfd.Normal(loc=x[:, 4:5], scale=gamma).log_prob(x[:, 3:4])\n",
    "        logp5 = tfd.Normal(loc=mu0, scale=sigma0).log_prob(x[:, 4:5])\n",
    "        return loglik + logp1 + logp2 + logp3 + logp4 + logp5\n",
    "    return log_gamma1, log_gamma2, log_gamma3, log_gamma4, log_gamma5"
   ]
  },
  {
   "cell_type": "code",
   "execution_count": 234,
   "metadata": {},
   "outputs": [],
   "source": [
    "class Proposal:\n",
    "    def __init__(self):\n",
    "        self.dist = tfd.Normal(np.zeros(1), np.ones(1))\n",
    "    def log_prob(self, mu_new, mu_curr):\n",
    "        return self.dist.log_prob(mu_new) # nsample x dim\n",
    "    def sample(self, size, mu_curr):\n",
    "        return self.dist.sample(size)[:, :, 0]"
   ]
  },
  {
   "cell_type": "code",
   "execution_count": 235,
   "metadata": {},
   "outputs": [],
   "source": [
    "proposal = Proposal()\n",
    "log_gamma1, log_gamma2, log_gamma3, log_gamma4, log_gamma5 = init_target(obs)\n",
    "\n",
    "model = Model(log_gamma5, proposal, 4)\n",
    "model.build_child(log_gamma4, proposal, 3)\n",
    "model.build_child(log_gamma3, proposal, 2)\n",
    "model.children[0].build_child(log_gamma2, proposal, 1)\n",
    "model.children[0].build_child(log_gamma1, proposal, 0)"
   ]
  },
  {
   "cell_type": "code",
   "execution_count": 236,
   "metadata": {},
   "outputs": [],
   "source": [
    "# initialize samples from N(0, 1)\n",
    "samples_plot_init = tfd.Normal(loc=np.zeros(1), scale=np.ones(1)).sample((N, x_true.shape[1]))[:, :, 0]\n",
    "samples_init = tf.Variable(samples_plot_init)\n",
    "\n",
    "# initialize weights\n",
    "log_w_init = np.ones_like(samples_init)\n",
    "log_w_init = tf.Variable(log_w_init)"
   ]
  },
  {
   "cell_type": "code",
   "execution_count": 237,
   "metadata": {},
   "outputs": [],
   "source": [
    "samples_res, log_w = dc_smc(samples_init, log_w_init, model)"
   ]
  },
  {
   "cell_type": "code",
   "execution_count": 238,
   "metadata": {},
   "outputs": [],
   "source": [
    "samples_plot = tf.Variable(tf.identity(samples_res))\n",
    "samples_plot = samples_plot[:, -1].assign(resample(log_w, samples_res[:, -1]))\n",
    "# samples_plot[:, -1] = resample(log_w, samples_res[:, -1])\n",
    "# samples_plot = tf.convert_to_tensor(samples_plot)"
   ]
  },
  {
   "cell_type": "code",
   "execution_count": 239,
   "metadata": {},
   "outputs": [],
   "source": [
    "def plot_hist(ind, samples_plot, samples_init=None, label1=None, label2=None):\n",
    "    label1 = f\"final x{ind}\" if label1 is None else label1\n",
    "    label2 = f\"initial x{ind}\" if label2 is None else label2\n",
    "    \n",
    "    sns.histplot(tf.reshape(samples_plot[:, ind], -1), stat=\"density\", color=\"r\", alpha=0.4, label=label1)\n",
    "    if samples_init is not None:\n",
    "        sns.histplot(tf.reshape(samples_init[:, ind], -1), stat=\"density\", alpha=0.4, label=label2)\n",
    "    ymax = plt.ylim()[1]\n",
    "    plt.vlines(x_true[0, ind], 0, ymax, color=\"orange\", label=\"true mu\")\n",
    "    plt.ylim(0, ymax)\n",
    "    x_plot = np.linspace(2, 4, 500)\n",
    "    plt.legend()\n",
    "    plt.show()\n",
    "\n",
    "    print(\n",
    "        f\"true x_{ind+1}:\",\n",
    "        x_true[0, ind],\n",
    "        \"\\nestimate:\",\n",
    "        tf.reduce_mean(samples_plot[:, ind])\n",
    "    )"
   ]
  },
  {
   "cell_type": "code",
   "execution_count": 240,
   "metadata": {},
   "outputs": [
    {
     "data": {
      "image/png": "[encoded data removed]",
      "text/plain": [
       "<Figure size 432x288 with 1 Axes>"
      ]
     },
     "metadata": {
      "needs_background": "light"
     },
     "output_type": "display_data"
    },
    {
     "name": "stdout",
     "output_type": "stream",
     "text": [
      "true x_5: tf.Tensor(-1.0, shape=(), dtype=float64) \n",
      "estimate: tf.Tensor(0.26025709348368337, shape=(), dtype=float64)\n"
     ]
    }
   ],
   "source": [
    "plot_hist(4, samples_plot, samples_plot_init)"
   ]
  },
  {
   "cell_type": "markdown",
   "metadata": {},
   "source": [
    "### Compare with results from SMC"
   ]
  },
  {
   "cell_type": "code",
   "execution_count": 241,
   "metadata": {},
   "outputs": [],
   "source": [
    "def loglik(x):\n",
    "    loglik1 = tfd.Normal(loc=x[:, 0:1], scale=sigma).log_prob(obs[:, :1].T)\n",
    "    loglik2 = tfd.Normal(loc=x[:, 1:2], scale=sigma).log_prob(obs[:, 1:2].T)\n",
    "    loglik3 = tfd.Normal(loc=x[:, 2:3], scale=sigma).log_prob(obs[:, 2:3].T)\n",
    "    loglik = tf.reduce_sum(loglik1 + loglik2 + loglik3, axis=1, keepdims=True)\n",
    "    return loglik\n",
    "\n",
    "def logprior(x):\n",
    "    logp1 = tfd.Normal(loc=x[:, 3:4], scale=tau).log_prob(x[:, 0:1])\n",
    "    logp2 = tfd.Normal(loc=x[:, 3:4], scale=tau).log_prob(x[:, 1:2])   \n",
    "    logp3 = tfd.Normal(loc=x[:, 4:5], scale=gamma).log_prob(x[:, 2:3])\n",
    "    logp4 = tfd.Normal(loc=x[:, 4:5], scale=gamma).log_prob(x[:, 3:4])\n",
    "    logprior5 = tfd.Normal(loc=mu0, scale=sigma0).log_prob(x[:, 4:5])\n",
    "    return logp1 + logp2 + logp3 + logp4 + logprior5\n",
    "    \n",
    "def smc(seed):\n",
    "    return tfp.experimental.mcmc.sample_sequential_monte_carlo(\n",
    "        prior_log_prob_fn=logprior,\n",
    "        likelihood_log_prob_fn=loglik,\n",
    "        current_state=samples_init,\n",
    "        seed=seed)[1]"
   ]
  },
  {
   "cell_type": "code",
   "execution_count": 242,
   "metadata": {},
   "outputs": [],
   "source": [
    "smc_res = smc(seed=(12, 34))"
   ]
  },
  {
   "cell_type": "code",
   "execution_count": 243,
   "metadata": {},
   "outputs": [
    {
     "data": {
      "image/png": "[encoded data removed]",
      "text/plain": [
       "<Figure size 432x288 with 1 Axes>"
      ]
     },
     "metadata": {
      "needs_background": "light"
     },
     "output_type": "display_data"
    },
    {
     "name": "stdout",
     "output_type": "stream",
     "text": [
      "true x_5: tf.Tensor(-1.0, shape=(), dtype=float64) \n",
      "estimate: tf.Tensor(0.24412364001800466, shape=(), dtype=float64)\n",
      "true x5: tf.Tensor(-1.0, shape=(), dtype=float64) \n",
      "HMC estimate: tf.Tensor(0.24412364001800466, shape=(), dtype=float64) \n",
      "DC SMC estimate: tf.Tensor(0.2543982868096866, shape=(), dtype=float64)\n"
     ]
    }
   ],
   "source": [
    "ind = 4\n",
    "plot_hist(ind, smc_res, samples_plot, label1=\"SMC\", label2=\"DC SMC\")\n",
    "\n",
    "print(\n",
    "    f\"true x{ind+1}:\",\n",
    "    x_true[0, ind],\n",
    "    \"\\nHMC estimate:\",\n",
    "    tf.reduce_mean(smc_res[:, ind]),\n",
    "    \"\\nDC SMC estimate:\",\n",
    "    weighted_sum(lambda x: x, samples_res[:, ind].reshape((-1, 1)), log_w)\n",
    ")"
   ]
  },
  {
   "cell_type": "markdown",
   "metadata": {},
   "source": [
    "# Change prior\n",
    "$p_3(x_3) = \\mathcal{N}(x_3; 0, \\gamma^2) \\rightarrow p_3(x_3) = \\mathcal{N}(x_3; 0, 4\\gamma^2)$"
   ]
  },
  {
   "cell_type": "code",
   "execution_count": 262,
   "metadata": {},
   "outputs": [],
   "source": [
    "def log_gamma5_new(x):\n",
    "    loglik1 = tfd.Normal(loc=x[:, 0:1], scale=sigma).log_prob(obs[:, :1].T)\n",
    "    loglik2 = tfd.Normal(loc=x[:, 1:2], scale=sigma).log_prob(obs[:, 1:2].T)\n",
    "    loglik3 = tfd.Normal(loc=x[:, 2:3], scale=sigma).log_prob(obs[:, 2:3].T)\n",
    "    loglik = tf.reduce_sum(loglik1 + loglik2 + loglik3, axis=1, keepdims=True)\n",
    "\n",
    "    logp1 = tfd.Normal(loc=x[:, 3:4], scale=tau).log_prob(x[:, :1])\n",
    "    logp2 = tfd.Normal(loc=x[:, 3:4], scale=tau).log_prob(x[:, 1:2])   \n",
    "    logp3 = tfd.Normal(loc=x[:, 4:5], scale=2 * gamma).log_prob(x[:, 2:3])\n",
    "    logp4 = tfd.Normal(loc=x[:, 4:5], scale=gamma).log_prob(x[:, 3:4])\n",
    "    logp5 = tfd.Normal(loc=mu0, scale=sigma0).log_prob(x[:, 4:5])\n",
    "    return loglik + logp1 + logp2 + logp3 + logp4 + logp5"
   ]
  },
  {
   "cell_type": "code",
   "execution_count": 263,
   "metadata": {},
   "outputs": [],
   "source": [
    "model_new = Model(log_gamma5_new, proposal, 4)\n",
    "model_new.build_child(log_gamma4, proposal, 3, update=False)\n",
    "model_new.build_child(log_gamma3, proposal, 2, update=False)\n",
    "model_new.children[0].build_child(log_gamma2, proposal, 1, update=False)\n",
    "model_new.children[0].build_child(log_gamma1, proposal, 0, update=False)"
   ]
  },
  {
   "cell_type": "code",
   "execution_count": 264,
   "metadata": {},
   "outputs": [],
   "source": [
    "samples_res_new, log_w_new = dc_smc(samples_res, log_w, model_new)"
   ]
  },
  {
   "cell_type": "code",
   "execution_count": 265,
   "metadata": {},
   "outputs": [],
   "source": [
    "samples_plot_new = tf.Variable(tf.identity(samples_res_new))\n",
    "samples_plot_new = samples_plot_new[:, -1].assign(resample(log_w, samples_res_new[:, -1]))"
   ]
  },
  {
   "cell_type": "code",
   "execution_count": 266,
   "metadata": {},
   "outputs": [
    {
     "data": {
      "image/png": "[encoded data removed]",
      "text/plain": [
       "<Figure size 432x288 with 1 Axes>"
      ]
     },
     "metadata": {
      "needs_background": "light"
     },
     "output_type": "display_data"
    },
    {
     "name": "stdout",
     "output_type": "stream",
     "text": [
      "true x_5: tf.Tensor(-1.0, shape=(), dtype=float64) \n",
      "estimate: tf.Tensor(-0.018561855668159398, shape=(), dtype=float64)\n"
     ]
    }
   ],
   "source": [
    "plot_hist(4, samples_plot_new, samples_plot)"
   ]
  },
  {
   "cell_type": "markdown",
   "metadata": {},
   "source": [
    "## Compare new samples with HMC"
   ]
  },
  {
   "cell_type": "code",
   "execution_count": 267,
   "metadata": {},
   "outputs": [],
   "source": [
    "def logprior_new(x):\n",
    "    logp1 = tfd.Normal(loc=x[:, 3:4], scale=tau).log_prob(x[:, 0:1])\n",
    "    logp2 = tfd.Normal(loc=x[:, 3:4], scale=tau).log_prob(x[:, 1:2])   \n",
    "    logp3 = tfd.Normal(loc=x[:, 4:5], scale=2 * gamma).log_prob(x[:, 2:3])\n",
    "    logp4 = tfd.Normal(loc=x[:, 4:5], scale=gamma).log_prob(x[:, 3:4])\n",
    "    logprior5 = tfd.Normal(loc=mu0, scale=sigma0).log_prob(x[:, 4:5])\n",
    "    return logp1 + logp2 + logp3 + logp4 + logprior5"
   ]
  },
  {
   "cell_type": "code",
   "execution_count": 268,
   "metadata": {},
   "outputs": [],
   "source": [
    "smc_res_new = tfp.experimental.mcmc.sample_sequential_monte_carlo(\n",
    "    prior_log_prob_fn=logprior_new,\n",
    "    likelihood_log_prob_fn=loglik,\n",
    "    current_state=samples_init,\n",
    "    seed=(12, 34))[1]"
   ]
  },
  {
   "cell_type": "code",
   "execution_count": 269,
   "metadata": {},
   "outputs": [
    {
     "data": {
      "image/png": "[encoded data removed]",
      "text/plain": [
       "<Figure size 432x288 with 1 Axes>"
      ]
     },
     "metadata": {
      "needs_background": "light"
     },
     "output_type": "display_data"
    },
    {
     "name": "stdout",
     "output_type": "stream",
     "text": [
      "true x_5: tf.Tensor(-1.0, shape=(), dtype=float64) \n",
      "estimate: tf.Tensor(0.1699071379665767, shape=(), dtype=float64)\n",
      "true x5: tf.Tensor(-1.0, shape=(), dtype=float64) \n",
      "HMC estimate: tf.Tensor(0.1699071379665767, shape=(), dtype=float64) \n",
      "DC SMC estimate: tf.Tensor(0.1788974981605391, shape=(), dtype=float64)\n"
     ]
    }
   ],
   "source": [
    "ind = 4\n",
    "plot_hist(ind, smc_res_new, samples_plot_new, label1=\"SMC\", label2=\"DC SMC\")\n",
    "\n",
    "print(\n",
    "    f\"true x{ind+1}:\",\n",
    "    x_true[0, ind],\n",
    "    \"\\nHMC estimate:\",\n",
    "    weighted_sum(lambda x: x, smc_res_new[:, ind].reshape((-1, 1))),\n",
    "    \"\\nDC SMC estimate:\",\n",
    "    weighted_sum(lambda x: x, samples_res_new[:, ind].reshape((-1, 1)), log_w_new)\n",
    ")"
   ]
  },
  {
   "cell_type": "markdown",
   "metadata": {},
   "source": [
    "# MCMC starting from a point in "
   ]
  },
  {
   "cell_type": "code",
   "execution_count": 272,
   "metadata": {},
   "outputs": [],
   "source": [
    "def log_target(x):\n",
    "    return logprior(x) + loglik(x)\n",
    "\n",
    "rw_kernel = tfp.mcmc.RandomWalkMetropolis(log_target)"
   ]
  },
  {
   "cell_type": "code",
   "execution_count": 320,
   "metadata": {},
   "outputs": [],
   "source": [
    "mcmc_res = tf.identity(samples_init[:1, :])\n",
    "\n",
    "prev_res = rw_kernel.bootstrap_results(mcmc_res)"
   ]
  },
  {
   "cell_type": "code",
   "execution_count": 321,
   "metadata": {},
   "outputs": [
    {
     "data": {
      "text/plain": [
       "MetropolisHastingsKernelResults(\n",
       "  accepted_results=UncalibratedRandomWalkResults(\n",
       "      log_acceptance_correction=<tf.Tensor: shape=(1, 1), dtype=float64, numpy=array([[0.]])>,\n",
       "      target_log_prob=<tf.Tensor: shape=(1, 1), dtype=float64, numpy=array([[-4345.05878504]])>,\n",
       "      seed=[]\n",
       "    ),\n",
       "  is_accepted=<tf.Tensor: shape=(1, 1), dtype=bool, numpy=array([[ True]])>,\n",
       "  log_accept_ratio=<tf.Tensor: shape=(1, 1), dtype=float64, numpy=array([[0.]])>,\n",
       "  proposed_state=<tf.Tensor: shape=(1, 5), dtype=float64, numpy=array([[ 1.67829982, -0.78509377,  0.47839499,  0.23487219, -2.60861646]])>,\n",
       "  proposed_results=UncalibratedRandomWalkResults(\n",
       "      log_acceptance_correction=<tf.Tensor: shape=(1, 1), dtype=float64, numpy=array([[0.]])>,\n",
       "      target_log_prob=<tf.Tensor: shape=(1, 1), dtype=float64, numpy=array([[-4345.05878504]])>,\n",
       "      seed=<tf.Tensor: shape=(2,), dtype=int32, numpy=array([0, 0], dtype=int32)>\n",
       "    ),\n",
       "  extra=[],\n",
       "  seed=<tf.Tensor: shape=(2,), dtype=int32, numpy=array([0, 0], dtype=int32)>\n",
       ")"
      ]
     },
     "execution_count": 321,
     "metadata": {},
     "output_type": "execute_result"
    }
   ],
   "source": [
    "prev_res"
   ]
  },
  {
   "cell_type": "code",
   "execution_count": 322,
   "metadata": {},
   "outputs": [
    {
     "name": "stdout",
     "output_type": "stream",
     "text": [
      "[100/3000]\n",
      "[200/3000]\n",
      "[300/3000]\n",
      "[400/3000]\n",
      "[500/3000]\n",
      "[600/3000]\n",
      "[700/3000]\n",
      "[800/3000]\n",
      "[900/3000]\n",
      "[1000/3000]\n",
      "[1100/3000]\n",
      "[1200/3000]\n",
      "[1300/3000]\n",
      "[1400/3000]\n",
      "[1500/3000]\n",
      "[1600/3000]\n",
      "[1700/3000]\n",
      "[1800/3000]\n",
      "[1900/3000]\n",
      "[2000/3000]\n",
      "[2100/3000]\n",
      "[2200/3000]\n",
      "[2300/3000]\n",
      "[2400/3000]\n",
      "[2500/3000]\n",
      "[2600/3000]\n",
      "[2700/3000]\n",
      "[2800/3000]\n",
      "[2900/3000]\n",
      "[3000/3000]\n"
     ]
    }
   ],
   "source": [
    "nthin = 1\n",
    "nburnin = 1000\n",
    "mcmc_steps = nburnin + N * nthin\n",
    "for t in range(mcmc_steps):\n",
    "    next_sample, prev_res = rw_kernel.one_step(mcmc_res[-1, :].reshape((1, -1)), prev_res)\n",
    "    mcmc_res = tf.concat([mcmc_res, next_sample], axis=0)\n",
    "    \n",
    "    if (t+1) % 100 == 0:\n",
    "        print(f\"[{t+1}/{mcmc_steps}]\")"
   ]
  },
  {
   "cell_type": "code",
   "execution_count": 308,
   "metadata": {},
   "outputs": [
    {
     "data": {
      "text/plain": [
       "(array([[0., 0., 0., ..., 0., 0., 1.],\n",
       "        [0., 0., 0., ..., 0., 0., 1.],\n",
       "        [0., 0., 0., ..., 0., 0., 1.],\n",
       "        ...,\n",
       "        [1., 0., 0., ..., 0., 0., 0.],\n",
       "        [1., 0., 0., ..., 0., 0., 0.],\n",
       "        [1., 0., 0., ..., 0., 0., 0.]]),\n",
       " array([1.68173488, 1.6870428 , 1.69235073, 1.69765865, 1.70296657,\n",
       "        1.70827449, 1.71358241, 1.71889033, 1.72419825, 1.72950618,\n",
       "        1.7348141 ]),\n",
       " <a list of 2001 BarContainer objects>)"
      ]
     },
     "execution_count": 308,
     "metadata": {},
     "output_type": "execute_result"
    },
    {
     "data": {
      "image/png": "[encoded data removed]",
      "text/plain": [
       "<Figure size 432x288 with 1 Axes>"
      ]
     },
     "metadata": {
      "needs_background": "light"
     },
     "output_type": "display_data"
    }
   ],
   "source": [
    "plt.hist(mcmc_res[nburnin:, 0])"
   ]
  },
  {
   "cell_type": "code",
   "execution_count": null,
   "metadata": {},
   "outputs": [],
   "source": []
  },
  {
   "cell_type": "code",
   "execution_count": null,
   "metadata": {},
   "outputs": [],
   "source": []
  }
 ],
 "metadata": {
  "kernelspec": {
   "display_name": "fast-mcmc",
   "language": "python",
   "name": "fast-mcmc"
  },
  "language_info": {
   "codemirror_mode": {
    "name": "ipython",
    "version": 3
   },
   "file_extension": ".py",
   "mimetype": "text/x-python",
   "name": "python",
   "nbconvert_exporter": "python",
   "pygments_lexer": "ipython3",
   "version": "3.8.8"
  }
 },
 "nbformat": 4,
 "nbformat_minor": 2
}
