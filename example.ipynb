{
 "cells": [
  {
   "cell_type": "code",
   "execution_count": 1,
   "metadata": {},
   "outputs": [],
   "source": [
    "import pystan\n",
    "import matplotlib.pyplot as plt\n",
    "# import seaborn as sns\n",
    "import pandas as pd\n",
    "import numpy as np\n",
    "from scipy.stats import norm\n",
    "import multiprocessing\n",
    "multiprocessing.set_start_method(\"fork\")\n"
   ]
  },
  {
   "cell_type": "code",
   "execution_count": 6,
   "metadata": {},
   "outputs": [],
   "source": [
    "np.random.seed(1)\n",
    "\n",
    "N = 10\n",
    "sigma = 1\n",
    "mu = 3\n",
    "mu0 = 0\n",
    "sigma0 = 10\n",
    "y = np.random.normal(loc=mu, scale=sigma, size=N)\n",
    "\n",
    "# put our data in a dictionary\n",
    "data = {'N': N, 'y': y}\n"
   ]
  },
  {
   "cell_type": "code",
   "execution_count": null,
   "metadata": {},
   "outputs": [],
   "source": [
    "#! need to change sigma in two places!\n",
    "model = \"\"\"\n",
    "data {\n",
    "  int<lower=0> N;\n",
    "  vector[N] y;\n",
    "}\n",
    "parameters {\n",
    "  real mu;\n",
    "}\n",
    "model {\n",
    "  real sigma=1;\n",
    "  real mu0=0;\n",
    "  real sigma0=10;\n",
    "  mu ~ normal(mu0, sigma0);\n",
    "  y ~ normal(mu, sigma);\n",
    "}\n",
    "generated quantities {\n",
    "  vector[N] log_lik;\n",
    "  real sigma=1;\n",
    "  for (n in 1:N) \n",
    "    log_lik[n] = normal_lpdf(y[n] | mu, sigma);\n",
    "}\n",
    "\"\"\"\n",
    "\n",
    "# compile the model\n",
    "sm = pystan.StanModel(model_code=model)\n"
   ]
  },
  {
   "cell_type": "code",
   "execution_count": 7,
   "metadata": {},
   "outputs": [
    {
     "name": "stderr",
     "output_type": "stream",
     "text": [
      "WARNING:pystan:n_eff / iter below 0.001 indicates that the effective sample size has likely been overestimated\n",
      "WARNING:pystan:Rhat above 1.1 or below 0.9 indicates that the chains very likely have not mixed\n"
     ]
    }
   ],
   "source": [
    "# train the model and generate samples\n",
    "fit = sm.sampling(n_jobs=1, data=data, iter=1000, chains=4, warmup=500, thin=1, seed=1)"
   ]
  },
  {
   "cell_type": "code",
   "execution_count": 16,
   "metadata": {},
   "outputs": [
    {
     "data": {
      "text/plain": [
       "Inference for Stan model: anon_model_303f2bfd9778749ec8f6a01ad8f59275.\n",
       "4 chains, each with iter=1000; warmup=500; thin=1; \n",
       "post-warmup draws per chain=500, total post-warmup draws=2000.\n",
       "\n",
       "              mean se_mean     sd   2.5%    25%    50%    75%  97.5%  n_eff   Rhat\n",
       "mu            2.88    0.01   0.32   2.26   2.66   2.88    3.1   3.52    774    1.0\n",
       "log_lik[1]   -2.49    0.02   0.56  -3.72  -2.85  -2.44  -2.08  -1.53    773    1.0\n",
       "log_lik[2]   -1.09  6.2e-3   0.18  -1.55  -1.17  -1.04  -0.96  -0.92    834    1.0\n",
       "log_lik[3]   -1.06  5.4e-3   0.16  -1.46  -1.12   -1.0  -0.94  -0.92    839    1.0\n",
       "log_lik[4]   -1.43    0.01   0.32  -2.18  -1.61  -1.37  -1.19  -0.97    827    1.0\n",
       "log_lik[5]   -1.46    0.01   0.32  -2.22  -1.65  -1.41  -1.21  -0.98    774    1.0\n",
       "log_lik[6]   -3.35    0.03   0.72  -4.89   -3.8  -3.29  -2.84  -2.13    779    1.0\n",
       "log_lik[7]   -2.71    0.02    0.6  -4.02   -3.1  -2.66  -2.27  -1.67    773    1.0\n",
       "log_lik[8]   -1.18  7.8e-3   0.23  -1.73  -1.29  -1.12  -1.01  -0.92    831    1.0\n",
       "log_lik[9]   -1.07  5.5e-3   0.15  -1.48  -1.14  -1.02  -0.95  -0.92    797    1.0\n",
       "log_lik[10]  -0.98  2.9e-3   0.09  -1.21   -1.0  -0.95  -0.93  -0.92    902    1.0\n",
       "sigma          1.0     nan    0.0    1.0    1.0    1.0    1.0    1.0    nan    nan\n",
       "lp__         -9.96    0.02   0.72 -11.96 -10.17  -9.68  -9.49  -9.44    986    1.0\n",
       "\n",
       "Samples were drawn using NUTS at Wed Jun  2 08:45:20 2021.\n",
       "For each parameter, n_eff is a crude measure of effective sample size,\n",
       "and Rhat is the potential scale reduction factor on split chains (at \n",
       "convergence, Rhat=1)."
      ]
     },
     "execution_count": 16,
     "metadata": {},
     "output_type": "execute_result"
    }
   ],
   "source": [
    "fit"
   ]
  },
  {
   "cell_type": "code",
   "execution_count": 17,
   "metadata": {},
   "outputs": [],
   "source": [
    "# gather into dataframe\n",
    "summary_dict = fit.summary()\n",
    "df = pd.DataFrame(summary_dict['summary'], \n",
    "                  columns=summary_dict['summary_colnames'], \n",
    "                  index=summary_dict['summary_rownames'])\n",
    "lp = fit[\"lp__\"]\n",
    "mu_pos = fit[\"mu\"]\n",
    "\n",
    "loglik_val = fit[\"log_lik\"].sum(axis=1)"
   ]
  },
  {
   "cell_type": "code",
   "execution_count": 20,
   "metadata": {},
   "outputs": [
    {
     "data": {
      "text/plain": [
       "array(['mu', 'log_lik[1]', 'log_lik[2]', 'log_lik[3]', 'log_lik[4]',\n",
       "       'log_lik[5]', 'log_lik[6]', 'log_lik[7]', 'log_lik[8]',\n",
       "       'log_lik[9]', 'log_lik[10]', 'sigma', 'lp__'], dtype='<U11')"
      ]
     },
     "execution_count": 20,
     "metadata": {},
     "output_type": "execute_result"
    }
   ],
   "source": [
    "summary_dict[\"summary_rownames\"]"
   ]
  },
  {
   "cell_type": "code",
   "execution_count": 9,
   "metadata": {},
   "outputs": [],
   "source": [
    "def log_posterior(mu, sigma, mu0, sigma0, y):\n",
    "    N = len(y)\n",
    "    sd = (1 / sigma0**2 + N / sigma**2)**(-1)\n",
    "    mean = sd * (mu0 / sigma0**2 + np.sum(y) / sigma**2)\n",
    "    log_pos = - 1 / (2*sd**2) * (mu - mean)**2\n",
    "    return log_pos\n",
    "\n",
    "\n",
    "def loglik(mu, sigma, y):\n",
    "    # N = len(y)\n",
    "    term1 = - 0.5 * np.log(2 * np.pi * sigma**2)\n",
    "    term2 = - 1/(2 * sigma**2) * (y - mu)**2\n",
    "    return term1 + term2\n",
    "\n",
    "def posterior_den(mu, y):\n",
    "    true_pos_sd = (1 / sigma0**2 + len(y) / sigma**2)**(-1)\n",
    "    true_pos_mean = true_pos_sd * (mu0 / sigma0**2 + np.sum(y) / sigma**2)\n",
    "    return norm.pdf(mu, loc=true_pos_mean, scale=true_pos_sd)\n"
   ]
  },
  {
   "cell_type": "code",
   "execution_count": 10,
   "metadata": {},
   "outputs": [
    {
     "name": "stdout",
     "output_type": "stream",
     "text": [
      "-16.394012902097984 -16.394012902097984\n"
     ]
    },
    {
     "data": {
      "image/png": "[encoded data removed]",
      "text/plain": [
       "<Figure size 640x480 with 1 Axes>"
      ]
     },
     "metadata": {},
     "output_type": "display_data"
    }
   ],
   "source": [
    "# log_posterior(mu_pos, sigma, mu0=0, sigma0=1, y=y)\n",
    "print(loglik_val[0], loglik(mu_pos[0], sigma, y).sum())\n",
    "\n",
    "\n",
    "# plot posterior samples and mean\n",
    "x_plot = np.linspace(2, 4, 500)\n",
    "plt.hist(mu_pos, 30, density=True)\n",
    "plt.plot(x_plot, posterior_den(x_plot, y), color=\"grey\", label=\"true density\")\n",
    "plt.axvline(np.mean(mu_pos), color='r', lw=2, linestyle='--',label='mean')\n",
    "plt.axvline(mu, color='k', lw=2, linestyle='-',label='true mean')\n",
    "plt.legend()\n",
    "plt.show()"
   ]
  },
  {
   "cell_type": "code",
   "execution_count": 11,
   "metadata": {},
   "outputs": [
    {
     "name": "stdout",
     "output_type": "stream",
     "text": [
      "MSE: 0.011016430753745119\n",
      "MSE: 0.018103337606946115\n",
      "MSE: 0.002712196104636783\n",
      "MSE: 0.009504536150839966\n",
      "MSE: 0.0066592437570996395\n",
      "MSE: 0.010841588634587005\n",
      "MSE: 0.007558379527502618\n",
      "MSE: 0.009473482697629184\n",
      "MSE: 0.02818352919415477\n",
      "MSE: 0.018060642659209633\n"
     ]
    }
   ],
   "source": [
    "# add new data and update posterior samples\n",
    "n_new = 100\n",
    "y_new = np.zeros(n_new)\n",
    "mu_hat = np.zeros(n_new)\n",
    "mu_hat[0] = mu_pos.mean()\n",
    "for i in range(1, n_new):\n",
    "    y_new_val = np.random.normal(loc=mu, scale=sigma, size=1)\n",
    "    weights = np.exp(loglik(mu_pos, sigma, y_new_val))\n",
    "    mu_hat[i] = (mu_pos * weights / weights.sum()).sum()\n",
    "    y_new[i] = y_new_val\n",
    "\n",
    "    if (i+1) % 10 == 0:\n",
    "        print(\"MSE:\", np.mean((mu_hat[i] - mu)**2))\n",
    "\n",
    "\n",
    "# y_full = np.vstack((y.reshape(-1, 1), y_new.reshape(-1, 1)))\n",
    "# true_pos_sd = (1 / sigma0**2 + len(y_full) / sigma**2)**(-1)\n",
    "# true_pos_mean = true_pos_sd * (mu0 / sigma0**2 + np.sum(y_full) / sigma**2)\n",
    "# x_plot = np.linspace(0, 6, 500)\n",
    "# # true_pos_den = norm.pdf(x_plot, loc=true_pos_mean, scale=true_pos_sd)\n",
    "# true_pos_sample = np.random.normal(loc=true_pos_mean, scale=true_pos_sd, size=1000)\n",
    "\n",
    "\n",
    "\n"
   ]
  },
  {
   "cell_type": "code",
   "execution_count": null,
   "metadata": {},
   "outputs": [],
   "source": [
    "plt.scatter(range(n_new), mu_hat)\n",
    "plt.axhline(mu, color=\"k\", lw=2, linestyle=\"-\",label=\"true mean\")\n",
    "plt.legend()\n",
    "plt.show()\n",
    "\n",
    "plt.hist(mu_hat, 30, density=True, label=\"sampled posterior\", alpha=0.5)\n",
    "plt.hist(true_pos_sample, 30, density=True, color=\"grey\", label=\"true density\", alpha=0.5)\n",
    "plt.show()\n",
    "\n",
    "# plt.hist(mu_hat, 30, density=True)\n",
    "# plt.scatter(x_plot, true_pos_den, color=\"grey\", label=\"true density\")\n",
    "# plt.show()"
   ]
  }
 ],
 "metadata": {
  "kernelspec": {
   "display_name": "fast-mcmc",
   "language": "python",
   "name": "fast-mcmc"
  },
  "language_info": {
   "codemirror_mode": {
    "name": "ipython",
    "version": 3
   },
   "file_extension": ".py",
   "mimetype": "text/x-python",
   "name": "python",
   "nbconvert_exporter": "python",
   "pygments_lexer": "ipython3",
   "version": "3.9.5"
  }
 },
 "nbformat": 4,
 "nbformat_minor": 2
}
