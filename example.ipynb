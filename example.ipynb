{
 "cells": [
  {
   "cell_type": "code",
   "execution_count": 1,
   "metadata": {},
   "outputs": [],
   "source": [
    "import pystan\n",
    "import matplotlib.pyplot as plt\n",
    "# import seaborn as sns\n",
    "import pandas as pd\n",
    "import numpy as np\n",
    "from scipy.stats import norm\n",
    "import multiprocessing\n",
    "multiprocessing.set_start_method(\"fork\")\n"
   ]
  },
  {
   "cell_type": "code",
   "execution_count": 3,
   "metadata": {},
   "outputs": [
    {
     "name": "stderr",
     "output_type": "stream",
     "text": [
      "INFO:pystan:COMPILING THE C++ CODE FOR MODEL anon_model_2214e789e3dd09a92dda4ee012dc92d7 NOW.\n"
     ]
    }
   ],
   "source": [
    "#! need to change sigma in two places!\n",
    "model = \"\"\"\n",
    "data {\n",
    "  int<lower=0> N;\n",
    "  vector[N] y;\n",
    "}\n",
    "parameters {\n",
    "  real mu;\n",
    "}\n",
    "model {\n",
    "  real sigma=1;\n",
    "  real mu0=0;\n",
    "  real sigma0=10;\n",
    "  mu ~ normal(mu0, sigma0);\n",
    "  y ~ normal(mu, sigma);\n",
    "}\n",
    "generated quantities {\n",
    "  vector[N] log_lik;\n",
    "  real sigma=1;\n",
    "  for (n in 1:N) \n",
    "    log_lik[n] = normal_lpdf(y[n] | mu, sigma);\n",
    "}\n",
    "\"\"\"\n",
    "\n",
    "# compile the model\n",
    "sm = pystan.StanModel(model_code=model)\n"
   ]
  },
  {
   "cell_type": "code",
   "execution_count": 9,
   "metadata": {},
   "outputs": [],
   "source": [
    "np.random.seed(1)\n",
    "\n",
    "N = 100\n",
    "sigma = 1\n",
    "mu = 3\n",
    "mu0 = 0\n",
    "sigma0 = 10\n",
    "y = np.random.normal(loc=mu, scale=sigma, size=N)\n",
    "\n",
    "# put our data in a dictionary\n",
    "data = {'N': N, 'y': y}"
   ]
  },
  {
   "cell_type": "code",
   "execution_count": 10,
   "metadata": {},
   "outputs": [
    {
     "name": "stderr",
     "output_type": "stream",
     "text": [
      "WARNING:pystan:n_eff / iter below 0.001 indicates that the effective sample size has likely been overestimated\n",
      "WARNING:pystan:Rhat above 1.1 or below 0.9 indicates that the chains very likely have not mixed\n"
     ]
    }
   ],
   "source": [
    "# train the model and generate samples\n",
    "fit = sm.sampling(n_jobs=1, data=data, iter=1000, chains=4, warmup=500, thin=1, seed=1)"
   ]
  },
  {
   "cell_type": "code",
   "execution_count": 11,
   "metadata": {},
   "outputs": [
    {
     "name": "stderr",
     "output_type": "stream",
     "text": [
      "WARNING:pystan:Truncated summary with the 'fit.__repr__' method. For the full summary use 'print(fit)'\n"
     ]
    },
    {
     "data": {
      "text/plain": [
       "\n",
       "Warning: Shown data is truncated to 100 parameters\n",
       "For the full summary use 'print(fit)'\n",
       "\n",
       "Inference for Stan model: anon_model_2214e789e3dd09a92dda4ee012dc92d7.\n",
       "4 chains, each with iter=1000; warmup=500; thin=1; \n",
       "post-warmup draws per chain=500, total post-warmup draws=2000.\n",
       "\n",
       "              mean se_mean     sd   2.5%    25%    50%    75%  97.5%  n_eff   Rhat\n",
       "mu            3.06  3.5e-3    0.1   2.86   2.99   3.06   3.12   3.24    777    1.0\n",
       "log_lik[1]   -2.15  5.5e-3   0.15  -2.48  -2.25  -2.15  -2.05  -1.87    772    1.0\n",
       "log_lik[2]   -1.15  2.4e-3   0.07  -1.28  -1.19  -1.14   -1.1  -1.03    771    1.0\n",
       "log_lik[3]   -1.09  2.1e-3   0.06  -1.22  -1.13  -1.09  -1.05  -0.99    769    1.0\n",
       "log_lik[4]   -1.56  4.0e-3   0.11  -1.78  -1.63  -1.56  -1.49  -1.35    774    1.0\n",
       "log_lik[5]   -1.25  2.9e-3   0.08  -1.43   -1.3  -1.25  -1.19  -1.11    769    1.0\n",
       "log_lik[6]   -3.71  8.3e-3   0.23  -4.15  -3.86   -3.7  -3.55  -3.25    777    1.0\n",
       "log_lik[7]   -2.35  5.9e-3   0.16   -2.7  -2.46  -2.34  -2.23  -2.05    773    1.0\n",
       "log_lik[8]   -1.26  2.9e-3   0.08  -1.42  -1.31  -1.25   -1.2  -1.11    772    1.0\n",
       "log_lik[9]   -0.96  9.6e-4   0.03  -1.03  -0.97  -0.95  -0.94  -0.92    756    1.0\n",
       "log_lik[10]  -0.97  1.1e-3   0.03  -1.04  -0.99  -0.97  -0.95  -0.92    760    1.0\n",
       "log_lik[11]  -1.91  4.9e-3   0.14  -2.21   -2.0   -1.9  -1.82  -1.66    772    1.0\n",
       "log_lik[12]  -3.16  7.4e-3   0.21  -3.57   -3.3  -3.16  -3.02  -2.76    777    1.0\n",
       "log_lik[13]   -1.0  1.4e-3   0.04  -1.08  -1.02  -0.99  -0.97  -0.94    764    1.0\n",
       "log_lik[14]  -1.02  1.6e-3   0.04  -1.11  -1.05  -1.02  -0.99  -0.95    766    1.0\n",
       "log_lik[15]   -1.5  3.8e-3   0.11  -1.73  -1.57   -1.5  -1.43  -1.32    770    1.0\n",
       "log_lik[16]  -1.59  4.1e-3   0.11  -1.82  -1.67  -1.59  -1.51  -1.38    774    1.0\n",
       "log_lik[17]  -0.95  8.6e-4   0.02   -1.0  -0.96  -0.95  -0.93  -0.92    753    1.0\n",
       "log_lik[18]  -1.36  3.3e-3   0.09  -1.55  -1.42  -1.36   -1.3  -1.19    773    1.0\n",
       "log_lik[19]  -0.92  2.7e-4 7.1e-3  -0.94  -0.93  -0.92  -0.92  -0.92    691    1.0\n",
       "log_lik[20]  -1.06  1.9e-3   0.05  -1.18  -1.09  -1.06  -1.02  -0.98    765    1.0\n",
       "log_lik[21]  -1.59  4.1e-3   0.11  -1.82  -1.67  -1.59  -1.52  -1.38    774    1.0\n",
       "log_lik[22]  -1.52  3.8e-3   0.11  -1.75  -1.58  -1.51  -1.44  -1.33    771    1.0\n",
       "log_lik[23]  -1.28  3.0e-3   0.08  -1.46  -1.33  -1.27  -1.22  -1.14    769    1.0\n",
       "log_lik[24]  -1.02  1.6e-3   0.04  -1.13  -1.05  -1.02  -0.99  -0.95    763    1.0\n",
       "log_lik[25]  -1.28  3.0e-3   0.08  -1.46  -1.33  -1.27  -1.22  -1.14    769    1.0\n",
       "log_lik[26]   -1.2  2.6e-3   0.07  -1.35  -1.24  -1.19  -1.15  -1.07    771    1.0\n",
       "log_lik[27]  -0.94  6.9e-4   0.02  -0.99  -0.95  -0.94  -0.93  -0.92    747    1.0\n",
       "log_lik[28]  -1.42  3.5e-3    0.1  -1.61  -1.48  -1.41  -1.35  -1.23    774    1.0\n",
       "log_lik[29]  -0.98  1.2e-3   0.03  -1.05   -1.0  -0.97  -0.95  -0.93    761    1.0\n",
       "log_lik[30]  -1.04  1.7e-3   0.05  -1.15  -1.06  -1.03   -1.0  -0.96    763    1.0\n",
       "log_lik[31]   -1.2  2.6e-3   0.07  -1.35  -1.25   -1.2  -1.15  -1.07    772    1.0\n",
       "log_lik[32]  -1.03  1.6e-3   0.04  -1.12  -1.05  -1.02  -0.99  -0.95    766    1.0\n",
       "log_lik[33]   -1.2  2.6e-3   0.07  -1.35  -1.25   -1.2  -1.15  -1.07    771    1.0\n",
       "log_lik[34]  -1.33  3.2e-3   0.09  -1.51  -1.39  -1.33  -1.27  -1.17    773    1.0\n",
       "log_lik[35]  -1.19  2.6e-3   0.07  -1.34  -1.23  -1.18  -1.14  -1.06    771    1.0\n",
       "log_lik[36]  -0.93  3.7e-4 9.8e-3  -0.95  -0.93  -0.92  -0.92  -0.92    689    1.0\n",
       "log_lik[37]  -1.61  4.1e-3   0.11  -1.84  -1.69  -1.61  -1.53  -1.39    775    1.0\n",
       "log_lik[38]  -0.94  6.8e-4   0.02  -0.99  -0.95  -0.93  -0.93  -0.92    751    1.0\n",
       "log_lik[39]  -2.21  5.6e-3   0.16  -2.54  -2.31   -2.2   -2.1  -1.92    772    1.0\n",
       "log_lik[40]  -1.16  2.4e-3   0.07  -1.31   -1.2  -1.15  -1.11  -1.04    767    1.0\n",
       "log_lik[41]  -0.95  9.2e-4   0.03  -1.01  -0.97  -0.95  -0.94  -0.92    755    1.0\n",
       "log_lik[42]  -1.37  3.3e-3   0.09  -1.56  -1.43  -1.37  -1.31   -1.2    773    1.0\n",
       "log_lik[43]  -1.25  2.8e-3   0.08  -1.41   -1.3  -1.24  -1.19   -1.1    772    1.0\n",
       "log_lik[44]  -2.26  5.7e-3   0.16   -2.6  -2.37  -2.25  -2.15  -1.97    773    1.0\n",
       "log_lik[45]  -0.92  2.6e-4 7.0e-3  -0.94  -0.93  -0.92  -0.92  -0.92    711    1.0\n",
       "log_lik[46]  -1.16  2.5e-3   0.07  -1.31  -1.21  -1.16  -1.12  -1.04    771    1.0\n",
       "log_lik[47]  -0.93  5.4e-4   0.01  -0.97  -0.94  -0.93  -0.92  -0.92    748    1.0\n",
       "log_lik[48]  -3.01  7.2e-3    0.2  -3.43  -3.14   -3.0  -2.87  -2.65    773    1.0\n",
       "log_lik[49]  -0.93  3.4e-4 9.3e-3  -0.95  -0.93  -0.92  -0.92  -0.92    758    1.0\n",
       "log_lik[50]  -1.08  2.0e-3   0.06  -1.21  -1.11  -1.08  -1.04  -0.99    765    1.0\n",
       "log_lik[51]  -0.95  9.0e-4   0.02  -1.02  -0.97  -0.95  -0.93  -0.92    755    1.0\n",
       "log_lik[52]  -1.01  1.5e-3   0.04   -1.1  -1.03   -1.0  -0.98  -0.94    765    1.0\n",
       "log_lik[53]  -1.64  4.2e-3   0.12  -1.88  -1.72  -1.64  -1.56  -1.42    775    1.0\n",
       "log_lik[54]  -1.01  1.5e-3   0.04  -1.09  -1.03   -1.0  -0.98  -0.94    765    1.0\n",
       "log_lik[55]  -0.96  9.8e-4   0.03  -1.02  -0.97  -0.95  -0.94  -0.92    757    1.0\n",
       "log_lik[56]  -1.06  1.9e-3   0.05  -1.18   -1.1  -1.06  -1.03  -0.98    765    1.0\n",
       "log_lik[57]  -1.23  2.8e-3   0.08   -1.4  -1.28  -1.22  -1.18   -1.1    768    1.0\n",
       "log_lik[58]  -1.31  3.1e-3   0.09   -1.5  -1.36   -1.3  -1.25  -1.16    769    1.0\n",
       "log_lik[59]  -0.95  8.5e-4   0.02  -1.01  -0.96  -0.94  -0.93  -0.92    754    1.0\n",
       "log_lik[60]  -1.27  2.9e-3   0.08  -1.45  -1.32  -1.26  -1.21  -1.13    769    1.0\n",
       "log_lik[61]  -1.25  2.9e-3   0.08  -1.42   -1.3  -1.25   -1.2  -1.11    772    1.0\n",
       "log_lik[62]  -1.64  4.2e-3   0.12  -1.89  -1.71  -1.63  -1.56  -1.43    771    1.0\n",
       "log_lik[63]  -1.03  1.6e-3   0.04  -1.13  -1.05  -1.02   -1.0  -0.96    763    1.0\n",
       "log_lik[64]  -0.99  1.3e-3   0.04  -1.06  -1.01  -0.98  -0.96  -0.93    762    1.0\n",
       "log_lik[65]  -1.02  1.5e-3   0.04  -1.12  -1.04  -1.01  -0.99  -0.95    762    1.0\n",
       "log_lik[66]  -0.93  5.4e-4   0.01  -0.97  -0.94  -0.93  -0.92  -0.92    735    1.0\n",
       "log_lik[67]   -1.5  3.8e-3    0.1  -1.73  -1.57   -1.5  -1.43  -1.31    770    1.0\n",
       "log_lik[68]  -1.99  5.1e-3   0.14   -2.3  -2.09  -1.99   -1.9  -1.74    772    1.0\n",
       "log_lik[69]  -3.19  7.5e-3   0.21  -3.63  -3.33  -3.18  -3.05  -2.81    774    1.0\n",
       "log_lik[70]  -1.98  5.1e-3   0.14  -2.26  -2.07  -1.98  -1.88   -1.7    776    1.0\n",
       "log_lik[71]  -2.05  5.3e-3   0.15  -2.34  -2.15  -2.05  -1.95  -1.77    776    1.0\n",
       "log_lik[72]  -1.08  2.0e-3   0.06   -1.2  -1.12  -1.08  -1.04  -0.98    769    1.0\n",
       "log_lik[73]  -0.93  4.5e-4   0.01  -0.97  -0.93  -0.92  -0.92  -0.92    749    1.0\n",
       "log_lik[74]  -1.26  2.9e-3   0.08  -1.44  -1.31  -1.25   -1.2  -1.12    769    1.0\n",
       "log_lik[75]  -0.96  9.5e-4   0.03  -1.02  -0.97  -0.95  -0.94  -0.92    755    1.0\n",
       "log_lik[76]  -3.09  7.3e-3    0.2  -3.48  -3.22  -3.08  -2.95  -2.68    777    1.0\n",
       "log_lik[77]  -0.99  1.3e-3   0.04  -1.07  -1.01  -0.99  -0.96  -0.93    763    1.0\n",
       "log_lik[78]  -1.22  2.7e-3   0.08  -1.39  -1.27  -1.22  -1.17  -1.09    768    1.0\n",
       "log_lik[79]  -0.94  6.6e-4   0.02  -0.99  -0.95  -0.93  -0.92  -0.92    750    1.0\n",
       "log_lik[80]  -1.17  2.5e-3   0.07  -1.33  -1.22  -1.17  -1.12  -1.05    767    1.0\n",
       "log_lik[81]  -0.96  1.0e-3   0.03  -1.03  -0.98  -0.96  -0.94  -0.92    758    1.0\n",
       "log_lik[82]  -0.96  9.5e-4   0.03  -1.02  -0.97  -0.95  -0.94  -0.92    756    1.0\n",
       "log_lik[83]  -0.93  5.3e-4   0.01  -0.97  -0.94  -0.93  -0.92  -0.92    748    1.0\n",
       "log_lik[84]  -0.99  1.3e-3   0.04  -1.07  -1.01  -0.98  -0.96  -0.93    760    1.0\n",
       "log_lik[85]  -0.93  5.6e-4   0.02  -0.98  -0.94  -0.93  -0.92  -0.92    749    1.0\n",
       "log_lik[86]  -0.93  3.3e-4 9.2e-3  -0.95  -0.93  -0.92  -0.92  -0.92    759    1.0\n",
       "log_lik[87]  -1.19  2.6e-3   0.07  -1.34  -1.23  -1.18  -1.14  -1.06    771    1.0\n",
       "log_lik[88]  -0.98  1.2e-3   0.03  -1.05  -0.99  -0.97  -0.95  -0.93    758    1.0\n",
       "log_lik[89]  -0.93  3.4e-4 9.4e-3  -0.95  -0.93  -0.92  -0.92  -0.92    757    1.0\n",
       "log_lik[90]   -1.5  3.8e-3    0.1  -1.73  -1.57  -1.49  -1.43  -1.31    770    1.0\n",
       "log_lik[91]  -1.58  4.0e-3   0.11  -1.82  -1.65  -1.57   -1.5  -1.38    771    1.0\n",
       "log_lik[92]  -0.93  5.2e-4   0.01  -0.97  -0.94  -0.93  -0.92  -0.92    748    1.0\n",
       "log_lik[93]  -1.02  1.5e-3   0.04  -1.11  -1.04  -1.01  -0.99  -0.95    765    1.0\n",
       "log_lik[94]  -1.17  2.5e-3   0.07  -1.31  -1.21  -1.16  -1.12  -1.04    771    1.0\n",
       "log_lik[95]  -0.99  1.3e-3   0.04  -1.08  -1.01  -0.99  -0.96  -0.94    760    1.0\n",
       "log_lik[96]  -0.92  2.6e-4 7.2e-3  -0.94  -0.93  -0.92  -0.92  -0.92    788    1.0\n",
       "log_lik[97]   -1.0  1.4e-3   0.04  -1.09  -1.03   -1.0  -0.98  -0.94    764    1.0\n",
       "log_lik[98]  -0.92  2.7e-4 7.1e-3  -0.94  -0.93  -0.92  -0.92  -0.92    692    1.0\n",
       "lp__         -42.0    0.03    0.7  -43.9 -42.16 -41.74 -41.58 -41.52    745    1.0\n",
       "\n",
       "Samples were drawn using NUTS at Wed Jun  2 17:40:35 2021.\n",
       "For each parameter, n_eff is a crude measure of effective sample size,\n",
       "and Rhat is the potential scale reduction factor on split chains (at \n",
       "convergence, Rhat=1)."
      ]
     },
     "execution_count": 11,
     "metadata": {},
     "output_type": "execute_result"
    }
   ],
   "source": [
    "fit"
   ]
  },
  {
   "cell_type": "code",
   "execution_count": 12,
   "metadata": {},
   "outputs": [],
   "source": [
    "# gather into dataframe\n",
    "summary_dict = fit.summary()\n",
    "df = pd.DataFrame(summary_dict['summary'], \n",
    "                  columns=summary_dict['summary_colnames'], \n",
    "                  index=summary_dict['summary_rownames'])\n",
    "lp = fit[\"lp__\"]\n",
    "mu_pos = fit[\"mu\"]\n",
    "\n",
    "loglik_val = fit[\"log_lik\"].sum(axis=1)"
   ]
  },
  {
   "cell_type": "code",
   "execution_count": 13,
   "metadata": {},
   "outputs": [
    {
     "data": {
      "text/plain": [
       "(3.0570127266836185, 0.09751885023554471)"
      ]
     },
     "execution_count": 13,
     "metadata": {},
     "output_type": "execute_result"
    }
   ],
   "source": [
    "np.mean(mu_pos), np.std(mu_pos)"
   ]
  },
  {
   "cell_type": "code",
   "execution_count": 18,
   "metadata": {},
   "outputs": [],
   "source": [
    "def log_posterior(mu, sigma, mu0, sigma0, y):\n",
    "    N = len(y)\n",
    "    sd = (1 / sigma0**2 + N / sigma**2)**(-1)\n",
    "    mean = sd * (mu0 / sigma0**2 + np.sum(y) / sigma**2)\n",
    "    log_pos = - 1 / (2*sd**2) * (mu - mean)**2\n",
    "    return log_pos\n",
    "\n",
    "\n",
    "def loglik(mu, sigma, y):\n",
    "    # N = len(y)\n",
    "    term1 = - 0.5 * np.log(2 * np.pi * sigma**2)\n",
    "    term2 = - 1/(2 * sigma**2) * (y - mu)**2\n",
    "    return term1 + term2\n",
    "\n",
    "def posterior_den(mu, y):\n",
    "    true_pos_var = (1 / sigma0**2 + len(y) / sigma**2)**(-1)\n",
    "    true_pos_mean = true_pos_var * (mu0 / sigma0**2 + np.sum(y) / sigma**2)\n",
    "    return norm.pdf(mu, loc=true_pos_mean, scale=np.sqrt(true_pos_var))\n"
   ]
  },
  {
   "cell_type": "code",
   "execution_count": 28,
   "metadata": {},
   "outputs": [
    {
     "name": "stdout",
     "output_type": "stream",
     "text": [
      "loglik: -131.3299095142406 -134.60050624877482\n",
      "posterior: -41.78771439510288 -134.60050624877482\n"
     ]
    }
   ],
   "source": [
    "print(\"loglik:\", loglik_val[0], loglik(mu_pos[0], sigma, y).sum() + norm.logpdf(mu_pos[0], loc=mu0, scale=sigma0))\n",
    "print(\"posterior:\", lp[0], loglik(mu_pos[0], sigma, y).sum() + norm.logpdf(mu_pos[0], loc=mu0, scale=sigma0))"
   ]
  },
  {
   "cell_type": "code",
   "execution_count": 30,
   "metadata": {},
   "outputs": [
    {
     "name": "stdout",
     "output_type": "stream",
     "text": [
      "92.81279185367194\n",
      "92.81279185367191\n",
      "92.81279185367192\n",
      "92.81279185367194\n",
      "92.81279185367194\n"
     ]
    }
   ],
   "source": [
    "for i in range(5):\n",
    "    print(lp[i] - (loglik(mu_pos[i], sigma, y).sum() + norm.logpdf(mu_pos[i], loc=mu0, scale=sigma0)))"
   ]
  },
  {
   "cell_type": "code",
   "execution_count": 19,
   "metadata": {},
   "outputs": [
    {
     "name": "stdout",
     "output_type": "stream",
     "text": [
      "-131.3299095142406 -131.32990951424057\n"
     ]
    },
    {
     "data": {
      "image/png": "[encoded data removed]",
      "text/plain": [
       "<Figure size 432x288 with 1 Axes>"
      ]
     },
     "metadata": {
      "needs_background": "light"
     },
     "output_type": "display_data"
    }
   ],
   "source": [
    "# log_posterior(mu_pos, sigma, mu0=0, sigma0=1, y=y)\n",
    "print(loglik_val[0], loglik(mu_pos[0], sigma, y).sum())\n",
    "\n",
    "\n",
    "# plot posterior samples and mean\n",
    "x_plot = np.linspace(2, 4, 500)\n",
    "plt.hist(mu_pos, 30, density=True)\n",
    "plt.plot(x_plot, posterior_den(x_plot, y), color=\"grey\", label=\"true density\")\n",
    "plt.axvline(np.mean(mu_pos), color='r', lw=2, linestyle='--',label='mean')\n",
    "plt.axvline(mu, color='k', lw=2, linestyle='-',label='true mean')\n",
    "plt.legend()\n",
    "plt.show()"
   ]
  },
  {
   "cell_type": "code",
   "execution_count": 11,
   "metadata": {},
   "outputs": [
    {
     "name": "stdout",
     "output_type": "stream",
     "text": [
      "MSE: 0.011016430753745119\n",
      "MSE: 0.018103337606946115\n",
      "MSE: 0.002712196104636783\n",
      "MSE: 0.009504536150839966\n",
      "MSE: 0.0066592437570996395\n",
      "MSE: 0.010841588634587005\n",
      "MSE: 0.007558379527502618\n",
      "MSE: 0.009473482697629184\n",
      "MSE: 0.02818352919415477\n",
      "MSE: 0.018060642659209633\n"
     ]
    }
   ],
   "source": [
    "# add new data and update posterior samples\n",
    "n_new = 100\n",
    "y_new = np.zeros(n_new)\n",
    "mu_hat = np.zeros(n_new)\n",
    "mu_hat[0] = mu_pos.mean()\n",
    "for i in range(1, n_new):\n",
    "    y_new_val = np.random.normal(loc=mu, scale=sigma, size=1)\n",
    "    weights = np.exp(loglik(mu_pos, sigma, y_new_val))\n",
    "    mu_hat[i] = (mu_pos * weights / weights.sum()).sum()\n",
    "    y_new[i] = y_new_val\n",
    "\n",
    "    if (i+1) % 10 == 0:\n",
    "        print(\"MSE:\", np.mean((mu_hat[i] - mu)**2))\n",
    "\n",
    "\n",
    "# y_full = np.vstack((y.reshape(-1, 1), y_new.reshape(-1, 1)))\n",
    "# true_pos_sd = (1 / sigma0**2 + len(y_full) / sigma**2)**(-1)\n",
    "# true_pos_mean = true_pos_sd * (mu0 / sigma0**2 + np.sum(y_full) / sigma**2)\n",
    "# x_plot = np.linspace(0, 6, 500)\n",
    "# # true_pos_den = norm.pdf(x_plot, loc=true_pos_mean, scale=true_pos_sd)\n",
    "# true_pos_sample = np.random.normal(loc=true_pos_mean, scale=true_pos_sd, size=1000)\n",
    "\n",
    "\n",
    "\n"
   ]
  },
  {
   "cell_type": "code",
   "execution_count": null,
   "metadata": {},
   "outputs": [],
   "source": [
    "plt.scatter(range(n_new), mu_hat)\n",
    "plt.axhline(mu, color=\"k\", lw=2, linestyle=\"-\",label=\"true mean\")\n",
    "plt.legend()\n",
    "plt.show()\n",
    "\n",
    "plt.hist(mu_hat, 30, density=True, label=\"sampled posterior\", alpha=0.5)\n",
    "plt.hist(true_pos_sample, 30, density=True, color=\"grey\", label=\"true density\", alpha=0.5)\n",
    "plt.show()\n",
    "\n",
    "# plt.hist(mu_hat, 30, density=True)\n",
    "# plt.scatter(x_plot, true_pos_den, color=\"grey\", label=\"true density\")\n",
    "# plt.show()"
   ]
  }
 ],
 "metadata": {
  "kernelspec": {
   "display_name": "fast-mcmc",
   "language": "python",
   "name": "fast-mcmc"
  },
  "language_info": {
   "codemirror_mode": {
    "name": "ipython",
    "version": 3
   },
   "file_extension": ".py",
   "mimetype": "text/x-python",
   "name": "python",
   "nbconvert_exporter": "python",
   "pygments_lexer": "ipython3",
   "version": "3.8.8"
  }
 },
 "nbformat": 4,
 "nbformat_minor": 2
}
