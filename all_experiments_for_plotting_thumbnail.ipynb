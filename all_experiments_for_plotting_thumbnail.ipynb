{
 "cells": [
  {
   "cell_type": "code",
   "execution_count": 1,
   "metadata": {},
   "outputs": [],
   "source": [
    "%load_ext autoreload\n",
    "%autoreload 2\n",
    "\n",
    "import src.ksd.models as models\n",
    "from src.ksd.find_modes import find_modes, pairwise_directions, run_bfgs\n",
    "from src.ksd.langevin import RandomWalkMH, RandomWalkBarker\n",
    "import src.ksd.langevin as mcmc\n",
    "from src.ksd.ksd import KSD\n",
    "from src.ksd.kernel import IMQ\n",
    "from src.ksd.bootstrap import Bootstrap\n",
    "from src.ksd.find_modes import find_modes, pairwise_directions\n",
    "from tqdm.notebook import tqdm, trange\n",
    "\n",
    "import numpy as np\n",
    "import pandas as pd\n",
    "import tensorflow as tf\n",
    "import tensorflow_probability as tfp\n",
    "tfd = tfp.distributions\n",
    "import matplotlib.pyplot as plt\n",
    "import seaborn as sns\n",
    "import matplotlib as mpl\n",
    "mpl.rcParams[\"mathtext.fontset\"] = \"cm\"\n",
    "\n",
    "import src.kgof.density as density\n",
    "import src.kgof.data as data\n",
    "\n",
    "MCMCKernel = RandomWalkMH # RandomWalkBarker"
   ]
  },
  {
   "cell_type": "code",
   "execution_count": 2,
   "metadata": {},
   "outputs": [
    {
     "name": "stderr",
     "output_type": "stream",
     "text": [
      "2023-01-23 16:34:36.631765: E tensorflow/stream_executor/cuda/cuda_driver.cc:271] failed call to cuInit: CUDA_ERROR_NO_DEVICE: no CUDA-capable device is detected\n",
      "2023-01-23 16:34:36.631801: I tensorflow/stream_executor/cuda/cuda_diagnostics.cc:169] retrieving CUDA diagnostic information for host: nvidia4\n",
      "2023-01-23 16:34:36.631808: I tensorflow/stream_executor/cuda/cuda_diagnostics.cc:176] hostname: nvidia4\n",
      "2023-01-23 16:34:36.631889: I tensorflow/stream_executor/cuda/cuda_diagnostics.cc:200] libcuda reported version is: 460.27.4\n",
      "2023-01-23 16:34:36.631910: I tensorflow/stream_executor/cuda/cuda_diagnostics.cc:204] kernel reported version is: 460.27.4\n",
      "2023-01-23 16:34:36.631915: I tensorflow/stream_executor/cuda/cuda_diagnostics.cc:310] kernel version seems to match DSO: 460.27.4\n",
      "2023-01-23 16:34:36.632576: I tensorflow/core/platform/cpu_feature_guard.cc:142] This TensorFlow binary is optimized with oneAPI Deep Neural Network Library (oneDNN) to use the following CPU instructions in performance-critical operations:  AVX2 AVX512F FMA\n",
      "To enable them in other operations, rebuild TensorFlow with the appropriate compiler flags.\n"
     ]
    }
   ],
   "source": [
    "n = 1000\n",
    "dim = 1\n",
    "\n",
    "mean1 = tf.constant([[0.]])\n",
    "mean2 = tf.constant([[8.]])\n",
    "noise_mean = tf.constant([[6.]])"
   ]
  },
  {
   "cell_type": "markdown",
   "metadata": {},
   "source": [
    "# All modes"
   ]
  },
  {
   "cell_type": "code",
   "execution_count": 3,
   "metadata": {},
   "outputs": [],
   "source": [
    "def t_log_prob(x, loc, nv):\n",
    "    dim = x.shape[1]\n",
    "    scale = tf.math.sqrt(0.01 * tf.math.sqrt(float(dim)) * tf.eye(dim))\n",
    "    sigma = scale @ tf.transpose(scale)\n",
    "    sigma_inv = tf.linalg.inv(sigma)\n",
    "    \n",
    "    x_c = tf.matmul(x - loc, sigma_inv, transpose_b=True) # n x dim\n",
    "    x_c_norm_sq = tf.einsum(\n",
    "      \"ij,ij->i\",\n",
    "      x_c,\n",
    "      x - loc) # n\n",
    "    pp = -0.5 * (nv + dim) * tf.math.log(1 + x_c_norm_sq / nv)\n",
    "    return pp\n",
    "\n",
    "def t_score(x, loc, nv):\n",
    "    dim = x.shape[1]\n",
    "    scale = tf.math.sqrt(0.01 * tf.math.sqrt(float(dim)) * tf.eye(dim))\n",
    "    sigma = scale @ tf.transpose(scale)\n",
    "    sigma_inv = tf.linalg.inv(sigma)\n",
    "    \n",
    "    x_c = x - loc\n",
    "    y = tf.matmul(x_c, sigma_inv, transpose_b=True) # n x dim\n",
    "    y_norm_sq = tf.einsum(\n",
    "      \"ij,ij->i\",\n",
    "      y,\n",
    "      x_c) # n\n",
    "    factor = -0.5 * (nv + dim) / (1 + y_norm_sq / nv)\n",
    "    grad = tf.expand_dims(factor, 1) * 2/nv * y\n",
    "    return grad\n",
    "\n",
    "def t_hess(x, loc, nv=7):\n",
    "    dim = x.shape[1]\n",
    "    scale = tf.math.sqrt(0.01 * tf.math.sqrt(float(dim)) * tf.eye(dim))\n",
    "    sigma = scale @ tf.transpose(scale)\n",
    "    sigma_inv = tf.linalg.inv(sigma)\n",
    "    \n",
    "    x_c = x - loc # n x dim\n",
    "    y = tf.matmul(x_c, sigma_inv, transpose_b=True) # n x dim\n",
    "    y_norm_sq = tf.einsum(\"ij,ij->i\", y, x_c) # n\n",
    "    factor1 = tf.expand_dims(-0.5 * (nv + dim) / (1 + y_norm_sq / nv), axis=1) # n x 1\n",
    "    term1 = 2/nv * tf.expand_dims(factor1, axis=-1) * tf.expand_dims(sigma_inv, axis=0) # n x dim x dim\n",
    "    \n",
    "    factor2 = tf.expand_dims(\n",
    "        tf.expand_dims(0.5 * (nv + dim) / (1 + y_norm_sq / nv)**2, axis=1),\n",
    "        axis=1\n",
    "    ) # n x 1 x 1\n",
    "    outer = tf.expand_dims(x_c, axis=-1) @ tf.expand_dims(x_c, axis=1) # n x dim x dim\n",
    "\n",
    "    term2 = 4/nv**2 * factor2 * tf.expand_dims(sigma_inv @ sigma_inv, axis=0) @ outer # n x dim x dim\n",
    "    \n",
    "    hess = term1 + term2\n",
    "    return hess\n",
    "\n",
    "\n",
    "def t_hess_auto(xx, loc):\n",
    "    xx = tf.stack(mode_list, axis=0)\n",
    "\n",
    "    with tf.GradientTape() as g2:\n",
    "        g2.watch(xx)\n",
    "        with tf.GradientTape() as g1:\n",
    "            g1.watch(xx)\n",
    "            pp = t_log_prob(xx, loc[0])\n",
    "        gg = g1.gradient(pp, xx)\n",
    "    gg2 = tf.reduce_sum(g2.jacobian(gg, xx), axis=2)\n",
    "    \n",
    "    return gg2"
   ]
  },
  {
   "cell_type": "code",
   "execution_count": 4,
   "metadata": {},
   "outputs": [],
   "source": [
    "tf.random.set_seed(1)"
   ]
  },
  {
   "cell_type": "code",
   "execution_count": 5,
   "metadata": {
    "scrolled": false
   },
   "outputs": [],
   "source": [
    "dim = 1\n",
    "\n",
    "## mixure of gaussians\n",
    "k = 1\n",
    "delta = 8.\n",
    "ratio_sample = 1.\n",
    "ratio_target = 0.5\n",
    "\n",
    "target, log_prob_fn = models.create_mixture_gaussian_kdim(\n",
    "    dim=dim, k=k, delta=delta, return_logprob=True, ratio=ratio_target)\n",
    "proposal_off, log_prob_off_fn = models.create_mixture_gaussian_kdim(\n",
    "    dim=dim, k=k, delta=delta, return_logprob=True, ratio=ratio_sample)\n",
    "\n",
    "## RBM\n",
    "# dh = 2\n",
    "# c_off = tf.concat([tf.ones(2) * 1., tf.zeros(dh-2)], axis=0)\n",
    "# target, log_prob_fn = models.create_rbm(c=0., dx=dim, dh=dh, burnin_number=2000, return_logprob=True)\n",
    "# proposal_off, log_prob_off_fn = models.create_rbm(c=c_off, dx=dim, dh=dh, burnin_number=2000, return_logprob=True)\n",
    "\n",
    "\n",
    "## t-banana\n",
    "# nmodes = 20\n",
    "# nbanana = 10\n",
    "# ratio_s_var = 5.\n",
    "\n",
    "# ratio_target = [1/nmodes] * nmodes\n",
    "\n",
    "# random_weights = tf.exp(tf.random.normal((nmodes,)) * ratio_s_var)\n",
    "# ratio_sample = random_weights / tf.reduce_sum(random_weights)\n",
    "# ratio_sample = tf.constant([7.7579454e-05, 4.8678854e-01, 1.9621593e-05, 8.5506955e-04, 6.4088061e-02,\n",
    "#  3.0733529e-05, 8.0045894e-02, 8.6801274e-06, 6.5268621e-02, 1.0864044e-03,\n",
    "#  8.0379490e-05, 1.7575960e-04, 7.1048180e-06, 2.5154607e-04, 7.9203119e-06,\n",
    "#  3.1107475e-04, 6.7057749e-06, 3.7424570e-08, 2.0604947e-01, 9.4840795e-02,])\n",
    "# print(\"ratio sample:\", ratio_sample.numpy())\n",
    "\n",
    "# loc = tfp.distributions.Uniform(low=-tf.ones((dim,))*10, high=tf.ones((dim,))*10).sample(nmodes) # uniform in [-20, 20]^d\n",
    "# # loc = tf.constant([[1.] * dim, [-1.] * dim])\n",
    "# loc = tf.constant([[  4.363884,   15.967144 ],\n",
    "#  [-19.275364,   16.7435   ],\n",
    "#  [ -9.249988,   11.599079 ],\n",
    "#  [  1.3244209, -15.977497 ],\n",
    "#  [ -6.122322,   19.227615 ],\n",
    "#  [  3.3140602, -19.436832 ],\n",
    "#  [ -3.0468788,   2.5974464],\n",
    "#  [ -7.928982,   -3.2911835],\n",
    "#  [  9.438709,    4.6570053],\n",
    "#  [ 15.773956,  -11.664844 ],\n",
    "#  [  8.781576,  -13.424449 ],\n",
    "#  [ -5.3023624,  -2.2030296],\n",
    "#  [ -7.5855064,   1.1301193],\n",
    "#  [ 11.219397,    5.4884872],\n",
    "#  [ 11.858902,   -2.2964   ],\n",
    "#  [  5.84301,    19.939896 ],\n",
    "#  [ 10.34234,     5.44598  ],\n",
    "#  [-19.316349,    5.493574 ],\n",
    "#  [ -3.2042732,  13.097462 ],\n",
    "#  [-16.813465,   12.329731 ]])\n",
    "# print(\"means\", loc)\n",
    "\n",
    "# b = 0.003 # 0.03\n",
    "# target, log_prob_fn = models.create_mixture_t_banana(dim=dim, ratio=ratio_target, loc=loc, b=b,\n",
    "#     nbanana=nbanana, return_logprob=True)\n",
    "# proposal_off, log_prob_off_fn = models.create_mixture_t_banana(dim=dim, ratio=ratio_sample, loc=loc, b=b,\n",
    "#     nbanana=nbanana, return_logprob=True)\n",
    "\n",
    "\n",
    "## t-mixture\n",
    "# nmodes = 3\n",
    "# t_std = .1\n",
    "# ratio_s_var = 1.\n",
    "\n",
    "# ratio_target = [1/nmodes] * nmodes\n",
    "\n",
    "# random_weights = tf.exp(tf.random.normal((nmodes,)) * ratio_s_var)\n",
    "# ratio_sample = random_weights / tf.reduce_sum(random_weights)\n",
    "# print(\"ratio sample:\", ratio_sample.numpy())\n",
    "\n",
    "# loc = tf.constant([[5.] * dim, [-5.] * dim, [5, -5]])\n",
    "# print(\"means\", loc)\n",
    "\n",
    "# target, log_prob_fn = models.create_mixture_t(dim=dim, ratio=ratio_target, loc=loc, std=t_std,\n",
    "#     return_logprob=True)\n",
    "# proposal_off, log_prob_off_fn = models.create_mixture_t(dim=dim, ratio=ratio_sample, loc=loc, std=t_std,\n",
    "#     return_logprob=True)\n",
    "\n",
    "\n",
    "## scaled Gaussian \n",
    "# ratio_t = 0.5\n",
    "# ratio_s = 0.3\n",
    "# target, log_prob_fn = models.create_mixture_gaussian_scaled(ratio=ratio_t, return_logprob=True)\n",
    "# proposal_off, log_prob_off_fn = models.create_mixture_gaussian_scaled(ratio=ratio_s, return_logprob=True)"
   ]
  },
  {
   "cell_type": "code",
   "execution_count": 6,
   "metadata": {},
   "outputs": [],
   "source": [
    "n = 1000\n",
    "samples_on = target.sample(n)\n",
    "samples_on_df = pd.DataFrame({f\"x{i}\": samples_on[:, i] for i in range(dim)})\n",
    "samples_on_df[\"type\"] = \"on\"\n",
    "\n",
    "samples_off = proposal_off.sample(n)\n",
    "samples_off_df = pd.DataFrame({f\"x{i}\": samples_off[:, i] for i in range(dim)})\n",
    "samples_off_df[\"type\"] = \"off\"\n",
    "\n",
    "samples_df = pd.concat([samples_on_df, samples_off_df], ignore_index=True)"
   ]
  },
  {
   "cell_type": "code",
   "execution_count": 7,
   "metadata": {
    "scrolled": true
   },
   "outputs": [
    {
     "data": {
      "image/png": "[encoded data removed]",
      "text/plain": [
       "<Figure size 432x288 with 1 Axes>"
      ]
     },
     "metadata": {
      "needs_background": "light"
     },
     "output_type": "display_data"
    }
   ],
   "source": [
    "# _ = sns.scatterplot(data=samples_df, x=\"x0\", y=\"x1\", hue=\"type\")\n",
    "# # _ = plt.axis(xmax=10., xmin=-10., ymax=10., ymin=-10.)\n",
    "\n",
    "_ = sns.histplot(data=samples_df, x=\"x0\", hue=\"type\")"
   ]
  },
  {
   "cell_type": "code",
   "execution_count": 8,
   "metadata": {},
   "outputs": [],
   "source": [
    "ntrain = n // 2\n",
    "threshold = 1.\n",
    "\n",
    "samples_init = samples_off\n",
    "# samples_init = samples_on\n",
    "\n",
    "sample_off_train, sample_off_test = samples_init[:ntrain, ], samples_init[ntrain:, ]\n",
    "\n",
    "# start_pts = sample_off_train\n",
    "start_pts = tf.concat([\n",
    "    sample_off_train[:(ntrain//2)], \n",
    "    tf.random.uniform(shape=(ntrain//2, dim), minval=-10., maxval=10.)], axis=0)\n",
    "\n",
    "mode_list, inv_hess_list = find_modes(start_pts, log_prob_fn, grad_log=None, threshold=threshold, max_iterations=200)"
   ]
  },
  {
   "cell_type": "code",
   "execution_count": 9,
   "metadata": {
    "scrolled": true
   },
   "outputs": [
    {
     "data": {
      "text/plain": [
       "([<tf.Tensor: shape=(1,), dtype=float32, numpy=array([0.], dtype=float32)>,\n",
       "  <tf.Tensor: shape=(1,), dtype=float32, numpy=array([8.], dtype=float32)>],\n",
       " [<tf.Tensor: shape=(1, 1), dtype=float32, numpy=array([[1.]], dtype=float32)>,\n",
       "  <tf.Tensor: shape=(1, 1), dtype=float32, numpy=array([[1.]], dtype=float32)>])"
      ]
     },
     "execution_count": 9,
     "metadata": {},
     "output_type": "execute_result"
    }
   ],
   "source": [
    "mode_list, inv_hess_list"
   ]
  },
  {
   "cell_type": "code",
   "execution_count": null,
   "metadata": {},
   "outputs": [],
   "source": [
    " "
   ]
  },
  {
   "cell_type": "code",
   "execution_count": 10,
   "metadata": {},
   "outputs": [],
   "source": [
    "proposal_dict = mcmc.prepare_proposal_input_all(mode_list=mode_list, inv_hess_list=inv_hess_list)"
   ]
  },
  {
   "cell_type": "code",
   "execution_count": 11,
   "metadata": {},
   "outputs": [],
   "source": [
    "_, ind_pair_list = pairwise_directions(mode_list, return_index=True)"
   ]
  },
  {
   "cell_type": "code",
   "execution_count": 12,
   "metadata": {},
   "outputs": [],
   "source": [
    "std = [.9, 1.286, 1.29, 1.1520001]"
   ]
  },
  {
   "cell_type": "code",
   "execution_count": 13,
   "metadata": {
    "scrolled": true
   },
   "outputs": [],
   "source": [
    "T = 10\n",
    "\n",
    "mh = MCMCKernel(log_prob=log_prob_fn)\n",
    "mh.run(steps=T, std=std, x_init=sample_off_train, ind_pair_list=ind_pair_list, **proposal_dict)"
   ]
  },
  {
   "cell_type": "code",
   "execution_count": 14,
   "metadata": {},
   "outputs": [
    {
     "data": {
      "image/png": "[encoded data removed]",
      "text/plain": [
       "<Figure size 432x288 with 1 Axes>"
      ]
     },
     "metadata": {
      "needs_background": "light"
     },
     "output_type": "display_data"
    }
   ],
   "source": [
    "if len(mh.if_accept.shape) == 3:\n",
    "    xx = (np.sum(mh.if_accept.numpy()[-1], axis=0) > 0.).astype(np.float32)\n",
    "else:\n",
    "    xx = (np.sum(mh.if_accept.numpy(), axis=0) > 0.).astype(np.float32)\n",
    "_ = plt.hist(xx)"
   ]
  },
  {
   "cell_type": "code",
   "execution_count": 18,
   "metadata": {},
   "outputs": [],
   "source": [
    "if len(mh.x.shape) == 4:\n",
    "    x_all = mh.x[-1] #!\n",
    "else:\n",
    "    x_all = mh.x\n",
    "    \n",
    "x_0 = x_all[0].numpy()\n",
    "x_t = x_all[-1].numpy()\n",
    "\n",
    "# if dim == 1:\n",
    "#     x_0 = np.expand_dims(x_0, -1)\n",
    "#     x_t = np.expand_dims(x_t, -1)\n",
    "\n",
    "x0_df = pd.DataFrame({f\"x{i}\": x_0[:, i] for i in range(dim)})\n",
    "x0_df[\"type\"] = \"Before\"\n",
    "\n",
    "xt_df = pd.DataFrame({f\"x{i}\": x_t[:, i] for i in range(dim)})\n",
    "xt_df[\"type\"] = \"After\"\n",
    "\n",
    "sample_on_df = pd.DataFrame({f\"x{i}\": samples_on.numpy()[:x_0.shape[0], i] for i in range(dim)})\n",
    "sample_on_df[\"type\"] = \"Target\"\n",
    "\n",
    "x0_df = pd.concat([x0_df, sample_on_df], ignore_index=True)\n",
    "xt_df = pd.concat([xt_df, sample_on_df], ignore_index=True)\n"
   ]
  },
  {
   "cell_type": "code",
   "execution_count": 19,
   "metadata": {},
   "outputs": [
    {
     "data": {
      "image/png": "[encoded data removed]",
      "text/plain": [
       "<Figure size 432x288 with 2 Axes>"
      ]
     },
     "metadata": {
      "needs_background": "light"
     },
     "output_type": "display_data"
    }
   ],
   "source": [
    "# # fig = plt.figure(figsize=(14, 5))\n",
    "# _ = sns.jointplot(data=x0_df, x=\"x0\", y=\"x1\", hue=\"type\",\n",
    "# #                   xlim=(-4., 10.), \n",
    "# #                   ylim=(-7, 7),\n",
    "#  )\n",
    "\n",
    "# _ = sns.jointplot(data=xt_df, x=\"x0\", y=\"x1\", hue=\"type\",\n",
    "# #                   xlim=(-4., 10.), \n",
    "# #                   ylim=(-7, 7),\n",
    "#  )\n",
    "\n",
    "plt.subplot(2, 1, 1)\n",
    "_ = sns.histplot(data=x0_df, x=\"x0\", hue=\"type\")\n",
    "plt.subplot(2, 1, 2)\n",
    "_ = sns.histplot(data=xt_df, x=\"x0\", hue=\"type\")"
   ]
  },
  {
   "cell_type": "code",
   "execution_count": 115,
   "metadata": {},
   "outputs": [
    {
     "data": {
      "image/png": "[encoded data removed]",
      "text/plain": [
       "<Figure size 288x216 with 1 Axes>"
      ]
     },
     "metadata": {
      "needs_background": "light"
     },
     "output_type": "display_data"
    }
   ],
   "source": [
    "# only works for dim=1\n",
    "xx = tf.reshape(tf.linspace(-5., 15., 1000), (-1, 1))\n",
    "\n",
    "yy_sample = tf.exp(log_prob_off_fn(xx)) / tf.math.sqrt(2 * np.pi)\n",
    "sample_df = pd.DataFrame({\"x\": xx[:, 0].numpy(), \"prob\": yy_sample.numpy(), \"type\": \"Before\"})\n",
    "\n",
    "yy_sample_on = tf.exp(log_prob_fn(xx)) / tf.math.sqrt(2 * np.pi)\n",
    "sample_on_df = pd.DataFrame({\"x\": xx[:, 0].numpy(), \"prob\": yy_sample_on.numpy(), \"type\": \"Before\"})\n",
    "\n",
    "res_df = pd.concat([x0_df, xt_df, sample_on_df], ignore_index=True)\n",
    "\n",
    "fig = plt.figure(figsize=(4, 3)) # (7, 3)\n",
    "sns.lineplot(data=sample_df, x=\"x\", y=\"prob\",\n",
    "            color=\"tab:orange\",\n",
    "            label=\"Before\",\n",
    "            )\n",
    "sns.kdeplot(data=res_df.loc[res_df.type.isin([\"After\"])], x=\"x0\", \n",
    "            color=\"tab:blue\",\n",
    "            label=\"After\"\n",
    "            )\n",
    "sns.lineplot(data=sample_on_df, x=\"x\", y=\"prob\",\n",
    "             color=\"grey\",\n",
    "             label=\"Target\",\n",
    "            )\n",
    "plt.fill_between(sample_on_df.x, sample_on_df.prob, color=\"silver\")\n",
    "\n",
    "plt.xlabel(\"$x$\", fontsize=30)\n",
    "plt.ylabel(\"Density\", fontsize=25)\n",
    "plt.xticks(fontsize=18)\n",
    "plt.yticks(fontsize=18)\n",
    "# plt.legend(fontsize=18)\n",
    "plt.ylim(top=0.5)\n",
    "plt.legend(\n",
    "    fontsize=14, loc=\"upper center\", bbox_to_anchor=(0.73, 1.03), #columnspacing=0.8, handletextpad=0.8,\n",
    ")\n",
    "plt.tight_layout()\n",
    "fig.savefig(\"figs/paper/bimodal_density_plot.pdf\")"
   ]
  },
  {
   "cell_type": "code",
   "execution_count": 54,
   "metadata": {},
   "outputs": [],
   "source": [
    "num_boot = 800\n",
    "alpha = 0.05\n",
    "nrep = 1\n",
    "\n",
    "kernel = IMQ(med_heuristic=True)\n",
    "ksd = KSD(target=target, kernel=kernel)\n",
    "bootstrap = Bootstrap(ksd, n//2)"
   ]
  },
  {
   "cell_type": "code",
   "execution_count": 55,
   "metadata": {},
   "outputs": [
    {
     "name": "stderr",
     "output_type": "stream",
     "text": [
      "2022-05-10 15:42:13.075796: I tensorflow/compiler/mlir/mlir_graph_optimization_pass.cc:185] None of the MLIR Optimization Passes are enabled (registered 2)\n"
     ]
    }
   ],
   "source": [
    "multinom_samples = bootstrap.multinom.sample((nrep, num_boot))\n",
    "multinom_one_sample = multinom_samples[0, :]"
   ]
  },
  {
   "cell_type": "code",
   "execution_count": 56,
   "metadata": {},
   "outputs": [
    {
     "name": "stdout",
     "output_type": "stream",
     "text": [
      "before:  0.0 \n",
      "after: 0.0\n"
     ]
    }
   ],
   "source": [
    "_, p_val_no_pert = bootstrap.test_once(alpha=alpha, num_boot=num_boot, X=x_0, multinom_samples=multinom_one_sample)\n",
    "\n",
    "_, p_val = bootstrap.test_once(alpha=alpha, num_boot=num_boot, X=x_t, multinom_samples=multinom_one_sample)\n",
    "print(\"before: \", p_val_no_pert, \"\\nafter:\", p_val)"
   ]
  },
  {
   "cell_type": "code",
   "execution_count": null,
   "metadata": {},
   "outputs": [],
   "source": []
  },
  {
   "cell_type": "markdown",
   "metadata": {},
   "source": [
    "# Repeat experiment"
   ]
  },
  {
   "cell_type": "code",
   "execution_count": 11,
   "metadata": {},
   "outputs": [],
   "source": [
    "def repeat_experiment(n, nrep, target_dist, sample_dist):\n",
    "    jump_ls = tf.linspace(0.5, 1.5, 51)\n",
    "    \n",
    "    ntrain = n // 2\n",
    "    threshold = 1.\n",
    "\n",
    "    num_boot = 800\n",
    "    alpha = 0.05\n",
    "    T = 10\n",
    "    \n",
    "    kernel = IMQ(med_heuristic=True)\n",
    "    ksd = KSD(target=target_dist, kernel=kernel)\n",
    "    bootstrap = Bootstrap(ksd, n-ntrain)\n",
    "    \n",
    "    multinom_samples = bootstrap.multinom.sample((nrep, num_boot))\n",
    "    \n",
    "    # generate samples\n",
    "    off_sample_all = sample_dist.sample((nrep, n))\n",
    "\n",
    "    p_val_list = []\n",
    "    jump_ratio_list = []\n",
    "    iterator = trange(nrep)\n",
    "    for i in iterator:\n",
    "        # sample data\n",
    "        samples_init = off_sample_all[i, :]\n",
    "        \n",
    "        sample_init_train, sample_off_test = samples_init[:ntrain, ], samples_init[ntrain:, ]\n",
    "#         start_pts = sample_off_train\n",
    "        start_pts = tf.concat([\n",
    "            sample_init_train[:(ntrain//2)], \n",
    "            tf.random.uniform(shape=(ntrain//2, dim), minval=-10., maxval=10.)], axis=0)\n",
    "        \n",
    "        # find modes\n",
    "        mode_list, inv_hess_list = find_modes(start_pts, log_prob_fn, grad_log=None, threshold=threshold)\n",
    "        off_sample = off_sample_all[i, :]\n",
    "        \n",
    "        proposal_dict = mcmc.prepare_proposal_input_all(mode_list=mode_list, inv_hess_list=inv_hess_list)\n",
    "        _, ind_pair_list = pairwise_directions(mode_list, return_index=True)\n",
    "\n",
    "        # find best jump scale\n",
    "        mh = MCMCKernel(log_prob=log_prob_fn)\n",
    "        mh.run(steps=T, std=jump_ls, x_init=sample_init_train, ind_pair_list=ind_pair_list, **proposal_dict)\n",
    "\n",
    "        # compute ksd\n",
    "        scaled_ksd_vals = []\n",
    "        for i in range(len(jump_ls)):\n",
    "            iterator.set_description(f\"Jump scale [{i+1} / {len(jump_ls)}]]\")\n",
    "\n",
    "            # run dynamic for T steps\n",
    "            x_t = mh.x[i, -1]\n",
    "            if len(x_t.shape) == 1: \n",
    "                x_t = tf.expand_dims(x_t, -1)\n",
    "        \n",
    "            # compute ksd\n",
    "            _, ksd_val = ksd.h1_var(X=x_t, Y=tf.identity(x_t), return_scaled_ksd=True)\n",
    "            ksd_val = ksd_val\n",
    "\n",
    "            scaled_ksd_vals.append(ksd_val)\n",
    "\n",
    "        # get best jump scale\n",
    "        best_jump = jump_ls[tf.math.argmax(scaled_ksd_vals)]\n",
    "        best_proposal_dict = proposal_dict\n",
    "        \n",
    "        # mh perturbation\n",
    "        mh = MCMCKernel(log_prob=log_prob_fn)\n",
    "        mh.run(steps=T, std=best_jump, x_init=sample_off_test, \n",
    "               ind_pair_list=ind_pair_list, **proposal_dict)\n",
    "        x_t = mh.x[-1]\n",
    "        if len(x_t.shape) == 1: \n",
    "            x_t = tf.expand_dims(x_t, -1)\n",
    "        \n",
    "        # compute p-value\n",
    "        kernel = IMQ(med_heuristic=True)\n",
    "        ksd = KSD(target=target_dist, kernel=kernel)\n",
    "        bootstrap = Bootstrap(ksd, n)\n",
    "\n",
    "        multinom_one_sample = multinom_samples[i, :]\n",
    "\n",
    "        _, p_val = bootstrap.test_once(alpha=alpha, num_boot=num_boot, X=x_t, multinom_samples=multinom_one_sample)\n",
    "\n",
    "        p_val_list.append(p_val)\n",
    "        jump_ratio_list.append(best_jump.numpy())\n",
    "        \n",
    "    res = pd.DataFrame({\"pval\": p_val_list, \"jump\": jump_ratio_list})\n",
    "    return res"
   ]
  },
  {
   "cell_type": "code",
   "execution_count": 12,
   "metadata": {},
   "outputs": [
    {
     "data": {
      "application/vnd.jupyter.widget-view+json": {
       "model_id": "daeb33b10bbf4642ad34855e72fa4cfb",
       "version_major": 2,
       "version_minor": 0
      },
      "text/plain": [
       "  0%|          | 0/100 [00:00<?, ?it/s]"
      ]
     },
     "metadata": {},
     "output_type": "display_data"
    }
   ],
   "source": [
    "res_df = repeat_experiment(n=n, nrep=100, target_dist=target, sample_dist=proposal_off)"
   ]
  },
  {
   "cell_type": "code",
   "execution_count": 13,
   "metadata": {
    "scrolled": true
   },
   "outputs": [
    {
     "data": {
      "image/png": "[encoded data removed]",
      "text/plain": [
       "<Figure size 432x288 with 1 Axes>"
      ]
     },
     "metadata": {
      "needs_background": "light"
     },
     "output_type": "display_data"
    }
   ],
   "source": [
    "sns.ecdfplot(data=res_df, x=\"pval\")\n",
    "_ = plt.axis(xmin=-0.1, xmax=1.)"
   ]
  },
  {
   "cell_type": "code",
   "execution_count": 14,
   "metadata": {},
   "outputs": [
    {
     "name": "stdout",
     "output_type": "stream",
     "text": [
      "mean jump scale: 1.1520001\n"
     ]
    },
    {
     "data": {
      "image/png": "[encoded data removed]",
      "text/plain": [
       "<Figure size 432x288 with 1 Axes>"
      ]
     },
     "metadata": {
      "needs_background": "light"
     },
     "output_type": "display_data"
    }
   ],
   "source": [
    "print(\"mean jump scale:\", res_df.jump.mean())\n",
    "sns.ecdfplot(data=res_df, x=\"jump\")\n",
    "_ = plt.axis(xmin=0.5, xmax=1.5, ymin=-0.05, ymax=1.05)"
   ]
  },
  {
   "cell_type": "code",
   "execution_count": 15,
   "metadata": {},
   "outputs": [
    {
     "data": {
      "application/vnd.jupyter.widget-view+json": {
       "model_id": "61b14dc8e9f044ed8712995fa8f2f14e",
       "version_major": 2,
       "version_minor": 0
      },
      "text/plain": [
       "  0%|          | 0/100 [00:00<?, ?it/s]"
      ]
     },
     "metadata": {},
     "output_type": "display_data"
    }
   ],
   "source": [
    "res_df_ordered = repeat_experiment(n=n//2, nrep=100, target_dist=target, sample_dist=target)"
   ]
  },
  {
   "cell_type": "code",
   "execution_count": 16,
   "metadata": {},
   "outputs": [
    {
     "data": {
      "image/png": "[encoded data removed]",
      "text/plain": [
       "<Figure size 432x288 with 1 Axes>"
      ]
     },
     "metadata": {
      "needs_background": "light"
     },
     "output_type": "display_data"
    }
   ],
   "source": [
    "sns.ecdfplot(data=res_df_ordered, x=\"pval\")\n",
    "_ = plt.axis(xmin=-0.1, xmax=1.)"
   ]
  },
  {
   "cell_type": "code",
   "execution_count": null,
   "metadata": {},
   "outputs": [],
   "source": []
  },
  {
   "cell_type": "code",
   "execution_count": null,
   "metadata": {},
   "outputs": [],
   "source": []
  }
 ],
 "metadata": {
  "kernelspec": {
   "display_name": "pksd",
   "language": "python",
   "name": "pksd"
  },
  "language_info": {
   "codemirror_mode": {
    "name": "ipython",
    "version": 3
   },
   "file_extension": ".py",
   "mimetype": "text/x-python",
   "name": "python",
   "nbconvert_exporter": "python",
   "pygments_lexer": "ipython3",
   "version": "3.8.10"
  }
 },
 "nbformat": 4,
 "nbformat_minor": 5
}
