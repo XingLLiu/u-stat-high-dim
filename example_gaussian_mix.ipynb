{
 "cells": [
  {
   "cell_type": "code",
   "execution_count": 6,
   "id": "6eaa868d",
   "metadata": {},
   "outputs": [],
   "source": [
    "import tensorflow as tf\n",
    "import tensorflow_probability as tfp\n",
    "\n",
    "from src.ksd.ksd import KSD, PKSD\n",
    "from src.ksd.kernel import IMQ\n",
    "import src.ksd.langevin as mcmc\n"
   ]
  },
  {
   "cell_type": "code",
   "execution_count": 7,
   "id": "13ac31b7",
   "metadata": {},
   "outputs": [],
   "source": [
    "tf.random.set_seed(2022)"
   ]
  },
  {
   "cell_type": "markdown",
   "id": "19a70991",
   "metadata": {},
   "source": [
    "# Set-ups: Bi-modal mixture of Gaussian\n",
    "We consider the first example in the experiments section of the paper. The target density is\n",
    "$$\n",
    "    p(x) \\propto \\pi_p \\exp\\left( - 0.5 * \\| x \\|_2^2 \\right) + (1 - \\pi_p) \\exp\\left( -0.5 * \\| x - e_1\\|_2^2 \\right),\n",
    "$$\n",
    "where $\\pi_p = 0.5$, and $e_1 = (1, 0, \\ldots, 0)^\\intercal \\in \\mathbb{R}^d$."
   ]
  },
  {
   "cell_type": "code",
   "execution_count": 8,
   "id": "7f70fd35",
   "metadata": {},
   "outputs": [],
   "source": [
    "dim = 2\n",
    "pi_p = 0.5"
   ]
  },
  {
   "cell_type": "code",
   "execution_count": 9,
   "id": "25bd6648",
   "metadata": {},
   "outputs": [
    {
     "name": "stderr",
     "output_type": "stream",
     "text": [
      "2022-05-26 11:53:17.126516: W tensorflow/stream_executor/platform/default/dso_loader.cc:64] Could not load dynamic library 'libcuda.so.1'; dlerror: libcuda.so.1: cannot open shared object file: No such file or directory\n",
      "2022-05-26 11:53:17.126541: W tensorflow/stream_executor/cuda/cuda_driver.cc:269] failed call to cuInit: UNKNOWN ERROR (303)\n",
      "2022-05-26 11:53:17.126561: I tensorflow/stream_executor/cuda/cuda_diagnostics.cc:156] kernel driver does not appear to be running on this host (ma-xl6116): /proc/driver/nvidia/version does not exist\n",
      "2022-05-26 11:53:17.127995: I tensorflow/core/platform/cpu_feature_guard.cc:193] This TensorFlow binary is optimized with oneAPI Deep Neural Network Library (oneDNN) to use the following CPU instructions in performance-critical operations:  AVX2 FMA\n",
      "To enable them in other operations, rebuild TensorFlow with the appropriate compiler flags.\n"
     ]
    }
   ],
   "source": [
    "mean1 = tf.zeros(dim)\n",
    "mean2 = tf.eye(dim)[0, :] * 6.\n",
    "\n",
    "def log_prob(x):\n",
    "    \"\"\"Log prob density of the target up to an additive constant\"\"\"\n",
    "    log_ratio1 = tf.math.log(pi_p)\n",
    "    log_ratio2 = tf.math.log(1-pi_p)\n",
    "    \n",
    "    exp1 = tf.reduce_sum((x - mean1)**2, axis=-1) # n\n",
    "    exp2 = tf.reduce_sum((x - mean2)**2, axis=-1) # n\n",
    "    exps = tf.stack([-0.5 * exp1 + log_ratio1, -0.5 * exp2 + log_ratio2]) # 2 x n\n",
    "    return tf.math.reduce_logsumexp(exps, axis=0) # n"
   ]
  },
  {
   "cell_type": "markdown",
   "id": "85344cba",
   "metadata": {},
   "source": [
    "Samples are drawn from the *left component*, i.e. the same density but with $\\pi_p$ replaced by $\\pi_q = 1$."
   ]
  },
  {
   "cell_type": "code",
   "execution_count": 10,
   "id": "1855e12c",
   "metadata": {},
   "outputs": [],
   "source": [
    "def sample_from_target(n, ratio):\n",
    "    \"\"\"Sample from the candidate distribution\"\"\"\n",
    "    mix1 = tf.random.normal((n, dim)) + mean1\n",
    "    mix2 = tf.random.normal((n, dim)) + mean2\n",
    "    unif = tf.random.uniform((n, 1))\n",
    "    x = tf.where(unif <= ratio, mix1, mix2)\n",
    "    return x"
   ]
  },
  {
   "cell_type": "code",
   "execution_count": 11,
   "id": "e02e0003",
   "metadata": {},
   "outputs": [],
   "source": [
    "# draw sample\n",
    "n = 1000\n",
    "samples = sample_from_target(n, ratio=1.)"
   ]
  },
  {
   "cell_type": "markdown",
   "id": "67217bb5",
   "metadata": {},
   "source": [
    "# KSD test\n",
    "The goal is to test $H_0: Q = P$ against $H_1: Q \\neq P$.\n",
    "\n",
    "To perform KSD test, we need to instantiate\n",
    "1. a positive definite kernel: we use IMQ kernels with the median heuristic (see paper for details)\n",
    "2. a KSD object, which takes in a p.d. kernel and the log prob of the target"
   ]
  },
  {
   "cell_type": "code",
   "execution_count": 12,
   "id": "bcca6b58",
   "metadata": {},
   "outputs": [],
   "source": [
    "kernel = IMQ(med_heuristic=True)\n",
    "ksd = KSD(kernel=kernel, log_prob=log_prob)"
   ]
  },
  {
   "cell_type": "code",
   "execution_count": null,
   "id": "7615b04f",
   "metadata": {},
   "outputs": [
    {
     "name": "stderr",
     "output_type": "stream",
     "text": [
      "2022-05-26 11:53:25.929050: W tensorflow/core/framework/cpu_allocator_impl.cc:82] Allocation of 3996000000 exceeds 10% of free system memory.\n"
     ]
    }
   ],
   "source": [
    "# compute test statistic and p-value using 1000 bootstrap samples \n",
    "ksd_hat, ksd_pval = ksd.test(x=samples, num_boot=1000)\n",
    "\n",
    "print(\"KSD test: \\ntest statistic: {:.3g}, p-value: {:.3g}\".format(ksd_hat, ksd_pval))"
   ]
  },
  {
   "cell_type": "markdown",
   "id": "b887a86d",
   "metadata": {},
   "source": [
    "The large $p$-value suggests no evidence of rejection, even though the sample has completely missed the other mode. \n",
    "\n",
    "This is because the score functions of the target distribution $P$ and the candidate distribution $Q$ are very similar on regions where we have sample."
   ]
  },
  {
   "cell_type": "markdown",
   "id": "5e180986",
   "metadata": {},
   "source": [
    "# pKSD test\n",
    "To perform pKSD test, we need to provide a few more things (see paper for details):\n",
    "1. a perturbation kernel: in this case a MH transition kernel leaving $p$ invariant,\n",
    "2. number of steps to apply the perturbation kernel.\n",
    "3. a list of candidate jump scales for the transition kernel,\n",
    "4. a training set for finding the optimal jump scale, and a test set for computing the p-value\n",
    "5. starting points for the optimiser"
   ]
  },
  {
   "cell_type": "code",
   "execution_count": 9,
   "id": "ac3fc63d",
   "metadata": {},
   "outputs": [],
   "source": [
    "# MH transition kernel\n",
    "mh_kernel = mcmc.RandomWalkMH\n",
    "\n",
    "# number of steps to apply transition kernel\n",
    "T = 10\n",
    "\n",
    "# candidate jump scales\n",
    "jump_ls = tf.linspace(0.5, 1.5, 21)\n",
    "\n",
    "# train/test split\n",
    "ntrain = n//2\n",
    "sample_train, sample_test = samples[:ntrain, ], samples[ntrain:, ]\n",
    "\n",
    "# starting points to initialise optimiser for finding\n",
    "# modes and Hessians\n",
    "init_points = tf.concat([\n",
    "    sample_train[:(ntrain//2)], \n",
    "    tf.random.uniform((ntrain//2, dim), minval=-10, maxval=10) \n",
    "], axis=0) # ntrain x dim"
   ]
  },
  {
   "cell_type": "code",
   "execution_count": 10,
   "id": "71e086a6",
   "metadata": {},
   "outputs": [],
   "source": [
    "pksd = PKSD(kernel=kernel, pert_kernel=mh_kernel, log_prob=log_prob)"
   ]
  },
  {
   "cell_type": "code",
   "execution_count": 11,
   "id": "d00b994f",
   "metadata": {},
   "outputs": [],
   "source": [
    "# find modes and Hessians\n",
    "pksd.find_modes(init_points, threshold=1., max_iteration=500)"
   ]
  },
  {
   "cell_type": "code",
   "execution_count": 12,
   "id": "44766033",
   "metadata": {},
   "outputs": [
    {
     "name": "stdout",
     "output_type": "stream",
     "text": [
      "pKSD test: \n",
      "test statistic: 0.106, p-value: 0\n"
     ]
    }
   ],
   "source": [
    "# compute test statistic and p-value using 1000 bootstrap samples \n",
    "pksd_hat, pksd_pval = pksd.test(\n",
    "    xtrain=sample_train, \n",
    "    xtest=sample_test, \n",
    "    T=T, \n",
    "    jump_ls=jump_ls, \n",
    "    num_boot=1000, \n",
    "  )\n",
    "\n",
    "print(\"pKSD test: \\ntest statistic: {:.3g}, p-value: {:.3g}\".format(pksd_hat, pksd_pval))"
   ]
  },
  {
   "cell_type": "markdown",
   "id": "3deac575",
   "metadata": {},
   "source": [
    "Unlike KSD, the small $p$-value of the pKSD test suggests a clear rejection at a level $\\alpha = 0.05$, demonstrating the capability of pKSD in detecting differences in mixing proportions.\n",
    "\n",
    "The observation would be similar if the sample was drawn from *both* components but with a different mixing proportion, i.e., setting $\\pi_q \\in (0, 1)$ with $\\pi_q \\neq \\pi_p$."
   ]
  },
  {
   "cell_type": "markdown",
   "id": "93de8d87",
   "metadata": {},
   "source": [
    "# Visualise samples before and after perturbations"
   ]
  },
  {
   "cell_type": "code",
   "execution_count": 13,
   "id": "82d55615",
   "metadata": {},
   "outputs": [],
   "source": [
    "import matplotlib.pyplot as plt\n",
    "import seaborn as sns\n",
    "import pandas as pd"
   ]
  },
  {
   "cell_type": "code",
   "execution_count": 16,
   "id": "19623ff1",
   "metadata": {},
   "outputs": [
    {
     "data": {
      "image/png": "[encoded data removed]",
      "text/plain": [
       "<Figure size 432x288 with 1 Axes>"
      ]
     },
     "metadata": {
      "needs_background": "light"
     },
     "output_type": "display_data"
    }
   ],
   "source": [
    "# visualise samples and estimated mode locations\n",
    "modes_list = pksd.proposal_dict[\"modes\"]\n",
    "modes = tf.concat(modes_list, axis=0)\n",
    "\n",
    "_ = plt.scatter(samples[:, 0], samples[:, 1], label=\"sample\")\n",
    "_ = plt.scatter(modes[:, 0], modes[:, 1], marker=\"^\", label=\"estimated modes\")\n",
    "_ = plt.legend()\n",
    "_ = plt.xlim(-5., 10.)\n",
    "_ = plt.ylim(-7.5, 7.5)"
   ]
  },
  {
   "cell_type": "code",
   "execution_count": 3,
   "id": "0e645822",
   "metadata": {},
   "outputs": [
    {
     "ename": "NameError",
     "evalue": "name 'pd' is not defined",
     "output_type": "error",
     "traceback": [
      "\u001b[0;31m---------------------------------------------------------------------------\u001b[0m",
      "\u001b[0;31mNameError\u001b[0m                                 Traceback (most recent call last)",
      "Input \u001b[0;32mIn [3]\u001b[0m, in \u001b[0;36m<cell line: 2>\u001b[0;34m()\u001b[0m\n\u001b[1;32m      1\u001b[0m \u001b[38;5;66;03m# plot test data before and after perturbation\u001b[39;00m\n\u001b[0;32m----> 2\u001b[0m samples_df \u001b[38;5;241m=\u001b[39m \u001b[43mpd\u001b[49m\u001b[38;5;241m.\u001b[39mDataFrame({\n\u001b[1;32m      3\u001b[0m     \u001b[38;5;124m\"\u001b[39m\u001b[38;5;124mx0\u001b[39m\u001b[38;5;124m\"\u001b[39m: tf\u001b[38;5;241m.\u001b[39mconcat([pksd\u001b[38;5;241m.\u001b[39mx[\u001b[38;5;241m0\u001b[39m, :, \u001b[38;5;241m0\u001b[39m], pksd\u001b[38;5;241m.\u001b[39mx[\u001b[38;5;241m-\u001b[39m\u001b[38;5;241m1\u001b[39m, :, \u001b[38;5;241m0\u001b[39m]], axis\u001b[38;5;241m=\u001b[39m\u001b[38;5;241m0\u001b[39m),\n\u001b[1;32m      4\u001b[0m     \u001b[38;5;124m\"\u001b[39m\u001b[38;5;124mx1\u001b[39m\u001b[38;5;124m\"\u001b[39m: tf\u001b[38;5;241m.\u001b[39mconcat([pksd\u001b[38;5;241m.\u001b[39mx[\u001b[38;5;241m0\u001b[39m, :, \u001b[38;5;241m1\u001b[39m], pksd\u001b[38;5;241m.\u001b[39mx[\u001b[38;5;241m-\u001b[39m\u001b[38;5;241m1\u001b[39m, :, \u001b[38;5;241m1\u001b[39m]], axis\u001b[38;5;241m=\u001b[39m\u001b[38;5;241m0\u001b[39m),\n\u001b[1;32m      5\u001b[0m     \u001b[38;5;124m\"\u001b[39m\u001b[38;5;124mtype\u001b[39m\u001b[38;5;124m\"\u001b[39m: [\u001b[38;5;124m\"\u001b[39m\u001b[38;5;124mbefore\u001b[39m\u001b[38;5;124m\"\u001b[39m]\u001b[38;5;241m*\u001b[39m(n\u001b[38;5;241m-\u001b[39mntrain) \u001b[38;5;241m+\u001b[39m [\u001b[38;5;124m\"\u001b[39m\u001b[38;5;124mafter\u001b[39m\u001b[38;5;124m\"\u001b[39m]\u001b[38;5;241m*\u001b[39m(n\u001b[38;5;241m-\u001b[39mntrain)\n\u001b[1;32m      6\u001b[0m })\n\u001b[1;32m      8\u001b[0m _ \u001b[38;5;241m=\u001b[39m sns\u001b[38;5;241m.\u001b[39mjointplot(\n\u001b[1;32m      9\u001b[0m     data\u001b[38;5;241m=\u001b[39msamples_df,\n\u001b[1;32m     10\u001b[0m     x\u001b[38;5;241m=\u001b[39m\u001b[38;5;124m\"\u001b[39m\u001b[38;5;124mx0\u001b[39m\u001b[38;5;124m\"\u001b[39m,\n\u001b[0;32m   (...)\u001b[0m\n\u001b[1;32m     15\u001b[0m     alpha\u001b[38;5;241m=\u001b[39m\u001b[38;5;241m0.5\u001b[39m\n\u001b[1;32m     16\u001b[0m )\n",
      "\u001b[0;31mNameError\u001b[0m: name 'pd' is not defined"
     ]
    }
   ],
   "source": [
    "# plot test data before and after perturbation\n",
    "samples_df = pd.DataFrame({\n",
    "    \"x0\": tf.concat([pksd.x[0, :, 0], pksd.x[-1, :, 0]], axis=0),\n",
    "    \"x1\": tf.concat([pksd.x[0, :, 1], pksd.x[-1, :, 1]], axis=0),\n",
    "    \"type\": [\"before\"]*(n-ntrain) + [\"after\"]*(n-ntrain)\n",
    "})\n",
    "\n",
    "_ = sns.jointplot(\n",
    "    data=samples_df,\n",
    "    x=\"x0\",\n",
    "    y=\"x1\",\n",
    "    hue=\"type\",\n",
    "    xlim=[-5., 10.],\n",
    "    ylim=[-7.5, 7.5],\n",
    "    alpha=0.5\n",
    ")"
   ]
  },
  {
   "cell_type": "code",
   "execution_count": null,
   "id": "cbe40549",
   "metadata": {},
   "outputs": [],
   "source": []
  }
 ],
 "metadata": {
  "kernelspec": {
   "display_name": "pksd",
   "language": "python",
   "name": "pksd"
  },
  "language_info": {
   "codemirror_mode": {
    "name": "ipython",
    "version": 3
   },
   "file_extension": ".py",
   "mimetype": "text/x-python",
   "name": "python",
   "nbconvert_exporter": "python",
   "pygments_lexer": "ipython3",
   "version": "3.10.4"
  }
 },
 "nbformat": 4,
 "nbformat_minor": 5
}
