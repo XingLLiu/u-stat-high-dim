{
 "cells": [
  {
   "cell_type": "code",
   "execution_count": 1,
   "metadata": {},
   "outputs": [],
   "source": [
    "%load_ext autoreload\n",
    "%autoreload 2\n",
    "\n",
    "import tensorflow as tf\n",
    "import tensorflow_probability as tfp\n",
    "\n",
    "from src.ksd.ksd import KSD, PKSD, MPKSD, SPKSD\n",
    "from src.ksd.kernel import IMQ\n",
    "import src.ksd.langevin as mcmc\n"
   ]
  },
  {
   "cell_type": "code",
   "execution_count": 2,
   "metadata": {},
   "outputs": [],
   "source": [
    "tf.random.set_seed(2022)"
   ]
  },
  {
   "cell_type": "markdown",
   "metadata": {},
   "source": [
    "# Set-ups: Bi-modal mixture of Gaussian\n",
    "We consider the first example in the experiments section of the paper. The target density is\n",
    "$$\n",
    "    p(x) \\propto \\pi_p \\exp\\left( - 0.5 * \\| x \\|_2^2 \\right) + (1 - \\pi_p) \\exp\\left( -0.5 * \\| x - e_1\\|_2^2 \\right),\n",
    "$$\n",
    "where $\\pi_p = 0.5$, and $e_1 = (1, 0, \\ldots, 0)^\\intercal \\in \\mathbb{R}^d$."
   ]
  },
  {
   "cell_type": "code",
   "execution_count": 3,
   "metadata": {},
   "outputs": [],
   "source": [
    "dim = 2\n",
    "pi_p = 0.5"
   ]
  },
  {
   "cell_type": "code",
   "execution_count": 4,
   "metadata": {},
   "outputs": [
    {
     "name": "stderr",
     "output_type": "stream",
     "text": [
      "2022-11-09 11:41:56.464954: E tensorflow/stream_executor/cuda/cuda_driver.cc:271] failed call to cuInit: CUDA_ERROR_NO_DEVICE: no CUDA-capable device is detected\n",
      "2022-11-09 11:41:56.465009: I tensorflow/stream_executor/cuda/cuda_diagnostics.cc:169] retrieving CUDA diagnostic information for host: nvidia4\n",
      "2022-11-09 11:41:56.465018: I tensorflow/stream_executor/cuda/cuda_diagnostics.cc:176] hostname: nvidia4\n",
      "2022-11-09 11:41:56.465138: I tensorflow/stream_executor/cuda/cuda_diagnostics.cc:200] libcuda reported version is: 460.27.4\n",
      "2022-11-09 11:41:56.465172: I tensorflow/stream_executor/cuda/cuda_diagnostics.cc:204] kernel reported version is: 460.27.4\n",
      "2022-11-09 11:41:56.465179: I tensorflow/stream_executor/cuda/cuda_diagnostics.cc:310] kernel version seems to match DSO: 460.27.4\n",
      "2022-11-09 11:41:56.466112: I tensorflow/core/platform/cpu_feature_guard.cc:142] This TensorFlow binary is optimized with oneAPI Deep Neural Network Library (oneDNN) to use the following CPU instructions in performance-critical operations:  AVX2 AVX512F FMA\n",
      "To enable them in other operations, rebuild TensorFlow with the appropriate compiler flags.\n"
     ]
    }
   ],
   "source": [
    "mean1 = tf.zeros(dim)\n",
    "mean2 = tf.eye(dim)[0, :] * 6.\n",
    "\n",
    "def log_prob(x):\n",
    "    \"\"\"Log prob density of the target up to an additive constant\"\"\"\n",
    "    log_ratio1 = tf.math.log(pi_p)\n",
    "    log_ratio2 = tf.math.log(1-pi_p)\n",
    "    \n",
    "    exp1 = tf.reduce_sum((x - mean1)**2, axis=-1) # n\n",
    "    exp2 = tf.reduce_sum((x - mean2)**2, axis=-1) # n\n",
    "    exps = tf.stack([-0.5 * exp1 + log_ratio1, -0.5 * exp2 + log_ratio2]) # 2 x n\n",
    "    return tf.math.reduce_logsumexp(exps, axis=0) # n"
   ]
  },
  {
   "cell_type": "markdown",
   "metadata": {},
   "source": [
    "Samples are drawn from the *left component*, i.e. the same density but with $\\pi_p$ replaced by $\\pi_q = 1$."
   ]
  },
  {
   "cell_type": "code",
   "execution_count": 5,
   "metadata": {},
   "outputs": [],
   "source": [
    "def sample_from_target(n, ratio):\n",
    "    \"\"\"Sample from the candidate distribution\"\"\"\n",
    "    mix1 = tf.random.normal((n, dim)) + mean1\n",
    "    mix2 = tf.random.normal((n, dim)) + mean2\n",
    "    unif = tf.random.uniform((n, 1))\n",
    "    x = tf.where(unif <= ratio, mix1, mix2)\n",
    "    return x"
   ]
  },
  {
   "cell_type": "code",
   "execution_count": 6,
   "metadata": {},
   "outputs": [],
   "source": [
    "# draw sample\n",
    "n = 1000\n",
    "samples = sample_from_target(n, ratio=1.)"
   ]
  },
  {
   "cell_type": "markdown",
   "metadata": {},
   "source": [
    "# KSD test\n",
    "The goal is to test $H_0: Q = P$ against $H_1: Q \\neq P$.\n",
    "\n",
    "To perform KSD test, we need to instantiate\n",
    "1. a positive definite kernel: we use IMQ kernels with the median heuristic (see paper for details)\n",
    "2. a KSD object, which takes in a p.d. kernel and the log prob of the target"
   ]
  },
  {
   "cell_type": "code",
   "execution_count": 7,
   "metadata": {},
   "outputs": [],
   "source": [
    "kernel = IMQ(med_heuristic=True)\n",
    "ksd = KSD(kernel=kernel, log_prob=log_prob)"
   ]
  },
  {
   "cell_type": "code",
   "execution_count": 8,
   "metadata": {},
   "outputs": [
    {
     "name": "stderr",
     "output_type": "stream",
     "text": [
      "2022-11-09 11:41:58.293566: I tensorflow/compiler/mlir/mlir_graph_optimization_pass.cc:185] None of the MLIR Optimization Passes are enabled (registered 2)\n"
     ]
    },
    {
     "name": "stdout",
     "output_type": "stream",
     "text": [
      "KSD test: \n",
      "test statistic: -0.00159, p-value: 0.901\n"
     ]
    }
   ],
   "source": [
    "# compute test statistic and p-value using 1000 bootstrap samples \n",
    "ksd_hat, ksd_pval = ksd.test(x=samples, num_boot=1000)\n",
    "\n",
    "print(\"KSD test: \\ntest statistic: {:.3g}, p-value: {:.3g}\".format(ksd_hat, ksd_pval))"
   ]
  },
  {
   "cell_type": "markdown",
   "metadata": {},
   "source": [
    "The large $p$-value suggests no evidence of rejection, even though the sample has completely missed the other mode. \n",
    "\n",
    "This is because the score functions of the target distribution $P$ and the candidate distribution $Q$ are very similar on regions where we have sample.\n",
    "\n",
    "(Even though the population KSD is always non-negative, the test statistic can be negative because a U-statistic does not ensure positivity.)"
   ]
  },
  {
   "cell_type": "markdown",
   "metadata": {},
   "source": [
    "# pKSD test\n",
    "To perform pKSD test, we need to provide a few more things (see paper for details):\n",
    "1. a perturbation kernel: in this case a MH transition kernel leaving $p$ invariant,\n",
    "2. number of steps to apply the perturbation kernel.\n",
    "3. a list of candidate jump scales for the transition kernel,\n",
    "4. a training set for finding the optimal jump scale, and a test set for computing the p-value\n",
    "5. starting points for the optimiser"
   ]
  },
  {
   "cell_type": "code",
   "execution_count": 9,
   "metadata": {},
   "outputs": [],
   "source": [
    "tf.random.set_seed(2022)"
   ]
  },
  {
   "cell_type": "code",
   "execution_count": 10,
   "metadata": {},
   "outputs": [],
   "source": [
    "# MH transition kernel\n",
    "mh_kernel = mcmc.RandomWalkMH\n",
    "\n",
    "# number of steps to apply transition kernel\n",
    "T = 10\n",
    "\n",
    "# candidate jump scales\n",
    "jump_ls = tf.linspace(0.5, 1.5, 21)\n",
    "# jump_ls = tf.constant([1.0])\n",
    "\n",
    "# train/test split\n",
    "ntrain = n//2\n",
    "sample_train, sample_test = samples[:ntrain, ], samples[ntrain:, ]\n",
    "\n",
    "# starting points to initialise optimiser for finding\n",
    "# modes and Hessians\n",
    "init_points = tf.concat([\n",
    "    sample_train[:(ntrain//2)], \n",
    "    tf.random.uniform((ntrain//2, dim), minval=-10, maxval=10) \n",
    "], axis=0) # ntrain x dim"
   ]
  },
  {
   "cell_type": "code",
   "execution_count": 11,
   "metadata": {},
   "outputs": [],
   "source": [
    "# instantiate PKSD class\n",
    "pksd = MPKSD(kernel=kernel, pert_kernel=mh_kernel, log_prob=log_prob)"
   ]
  },
  {
   "cell_type": "code",
   "execution_count": 14,
   "metadata": {},
   "outputs": [],
   "source": [
    "# find modes and Hessians\n",
    "pksd.find_modes(init_points, threshold=1., max_iteration=500)"
   ]
  },
  {
   "cell_type": "code",
   "execution_count": 15,
   "metadata": {},
   "outputs": [
    {
     "name": "stdout",
     "output_type": "stream",
     "text": [
      "pKSD test: \n",
      "test statistic: 0.136, p-value: 0.001\n"
     ]
    }
   ],
   "source": [
    "# compute test statistic and p-value using 1000 bootstrap samples \n",
    "pksd_hat, pksd_pval = pksd.test(\n",
    "    xtrain=sample_train, \n",
    "    xtest=sample_test, \n",
    "    T=T, \n",
    "    jump_ls=jump_ls, \n",
    "    num_boot=1000, \n",
    "  )\n",
    "\n",
    "print(\"pKSD test: \\ntest statistic: {:.3g}, p-value: {:.3g}\".format(pksd_hat, pksd_pval))"
   ]
  },
  {
   "cell_type": "code",
   "execution_count": 16,
   "metadata": {
    "scrolled": false
   },
   "outputs": [
    {
     "name": "stdout",
     "output_type": "stream",
     "text": [
      "pKSD test: \n",
      "test statistic: 0.114, p-value: 0.001\n"
     ]
    }
   ],
   "source": [
    "# compute test statistic and p-value using 1000 bootstrap samples \n",
    "pksd_hat, pksd_pval = pksd.test(\n",
    "    xtrain=sample_train, \n",
    "    xtest=sample_test, \n",
    "    T=T, \n",
    "    jump_ls=jump_ls, \n",
    "    num_boot=1000, \n",
    "  )\n",
    "\n",
    "print(\"pKSD test: \\ntest statistic: {:.3g}, p-value: {:.3g}\".format(pksd_hat, pksd_pval))"
   ]
  },
  {
   "cell_type": "markdown",
   "metadata": {},
   "source": [
    "Unlike KSD, the small $p$-value of the pKSD test suggests a clear rejection at a level $\\alpha = 0.05$, demonstrating the capability of pKSD in detecting differences in mixing proportions.\n",
    "\n",
    "A similar observation could be drawn if the sample was drawn from *both* components but with a different mixing proportion, i.e., setting $\\pi_q \\in (0, 1)$ with $\\pi_q \\neq \\pi_p$."
   ]
  },
  {
   "cell_type": "markdown",
   "metadata": {},
   "source": [
    "# new pKSD test"
   ]
  },
  {
   "cell_type": "code",
   "execution_count": 17,
   "metadata": {},
   "outputs": [],
   "source": [
    "# MH transition kernel\n",
    "mh_kernel = mcmc.RandomWalkMH\n",
    "\n",
    "# number of steps to apply transition kernel\n",
    "T = 10\n",
    "\n",
    "# candidate jump scales\n",
    "# jump_ls = tf.linspace(0.5, 1.5, 21)\n",
    "jump_ls = tf.constant([1.0])\n",
    "\n",
    "# train/test split\n",
    "ntrain = n//2\n",
    "sample_train, sample_test = samples[:ntrain, ], samples[ntrain:, ]\n",
    "\n",
    "# starting points to initialise optimiser for finding\n",
    "# modes and Hessians\n",
    "init_points = tf.concat([\n",
    "    sample_train[:(ntrain//2)], \n",
    "    tf.random.uniform((ntrain//2, dim), minval=-10, maxval=10) \n",
    "], axis=0) # ntrain x dim"
   ]
  },
  {
   "cell_type": "code",
   "execution_count": 21,
   "metadata": {},
   "outputs": [],
   "source": [
    "# instantiate PKSD class\n",
    "pksd = MPKSD(kernel=kernel, pert_kernel=mh_kernel, log_prob=log_prob)"
   ]
  },
  {
   "cell_type": "code",
   "execution_count": 22,
   "metadata": {},
   "outputs": [],
   "source": [
    "# find modes and Hessians\n",
    "pksd.find_modes(init_points, threshold=1., max_iteration=500)"
   ]
  },
  {
   "cell_type": "code",
   "execution_count": 23,
   "metadata": {},
   "outputs": [
    {
     "name": "stdout",
     "output_type": "stream",
     "text": [
      "pKSD test: \n",
      "test statistic: -0.00539, p-value: 0.884\n"
     ]
    }
   ],
   "source": [
    "= N(0, 1) and # compute test statistic and p-value using 1000 bootstrap samples \n",
    "pksd_hat, pksd_pval = pksd.test(\n",
    "    xtrain=sample_train, \n",
    "    xtest=sample_test, \n",
    "    T=T, \n",
    "    jump_ls=jump_ls, \n",
    "    num_boot=1000, \n",
    "  )\n",
    "\n",
    "print(\"pKSD test: \\ntest statistic: {:.3g}, p-value: {:.3g}\".format(pksd_hat, pksd_pval))"
   ]
  },
  {
   "cell_type": "markdown",
   "metadata": {},
   "source": [
    "# New test with multiple summands"
   ]
  },
  {
   "cell_type": "code",
   "execution_count": 19,
   "metadata": {},
   "outputs": [],
   "source": [
    "tf.random.set_seed(2022)"
   ]
  },
  {
   "cell_type": "code",
   "execution_count": 20,
   "metadata": {},
   "outputs": [],
   "source": [
    "# MH transition kernel\n",
    "mh_kernel = mcmc.RandomWalkMH\n",
    "\n",
    "# number of steps to apply transition kernel\n",
    "T = 10\n",
    "\n",
    "# candidate jump scales\n",
    "jump_ls = tf.linspace(0.5, 1.5, 21)\n",
    "# jump_ls = tf.constant([1.0])\n",
    "\n",
    "# train/test split\n",
    "ntrain = n//2\n",
    "sample_train, sample_test = samples[:ntrain, ], samples[ntrain:, ]\n",
    "\n",
    "# starting points to initialise optimiser for finding\n",
    "# modes and Hessians\n",
    "init_points = tf.concat([\n",
    "    sample_train[:(ntrain//2)], \n",
    "    tf.random.uniform((ntrain//2, dim), minval=-10, maxval=10) \n",
    "], axis=0) # ntrain x dim"
   ]
  },
  {
   "cell_type": "code",
   "execution_count": 21,
   "metadata": {},
   "outputs": [],
   "source": [
    "# instantiate PKSD class\n",
    "pksd = SPKSD(kernel=kernel, pert_kernel=mh_kernel, log_prob=log_prob)"
   ]
  },
  {
   "cell_type": "code",
   "execution_count": 22,
   "metadata": {},
   "outputs": [],
   "source": [
    "# find modes and Hessians\n",
    "pksd.find_modes(init_points, threshold=1., max_iteration=500)"
   ]
  },
  {
   "cell_type": "code",
   "execution_count": 23,
   "metadata": {},
   "outputs": [
    {
     "name": "stdout",
     "output_type": "stream",
     "text": [
      "pKSD test: \n",
      "test statistic: 1.24, p-value: 0.001\n"
     ]
    }
   ],
   "source": [
    "# compute test statistic and p-value using 1000 bootstrap samples \n",
    "pksd_hat, pksd_pval = pksd.test(\n",
    "    x=samples, \n",
    "    T=T,\n",
    "    jump_ls=jump_ls, \n",
    "    num_boot=1000, \n",
    "  )\n",
    "\n",
    "print(\"pKSD test: \\ntest statistic: {:.3g}, p-value: {:.3g}\".format(pksd_hat, pksd_pval))"
   ]
  },
  {
   "cell_type": "code",
   "execution_count": 55,
   "metadata": {},
   "outputs": [
    {
     "data": {
      "text/plain": [
       "<AxesSubplot:xlabel='theta', ylabel='pksd_val'>"
      ]
     },
     "execution_count": 55,
     "metadata": {},
     "output_type": "execute_result"
    },
    {
     "data": {
      "image/png": "[encoded data removed]",
      "text/plain": [
       "<Figure size 432x288 with 1 Axes>"
      ]
     },
     "metadata": {
      "needs_background": "light"
     },
     "output_type": "display_data"
    }
   ],
   "source": [
    "# plot contributions of each pKSD in spKSD\n",
    "\n",
    "import pandas as pd\n",
    "import seaborn as sns\n",
    "\n",
    "spksd_val = tf.reduce_sum(pksd.pksd_vals)\n",
    "contrib_df = pd.DataFrame({\n",
    "    \"pksd_val\": [(tf.reduce_sum(x) / spksd_val).numpy() for x in pksd.pksd_vals],\n",
    "    \"theta\": [0] + jump_ls.numpy().tolist(),\n",
    "    \"method\": \"pksd\"\n",
    "})\n",
    "sns.lineplot(data=contrib_df, x=\"theta\", y=\"pksd_val\", markers=True, style=\"method\")"
   ]
  },
  {
   "cell_type": "markdown",
   "metadata": {},
   "source": [
    "# Visualise samples before and after perturbations"
   ]
  },
  {
   "cell_type": "code",
   "execution_count": null,
   "metadata": {},
   "outputs": [],
   "source": [
    "import matplotlib.pyplot as plt\n",
    "import seaborn as sns\n",
    "import pandas as pd"
   ]
  },
  {
   "cell_type": "code",
   "execution_count": 51,
   "metadata": {},
   "outputs": [
    {
     "data": {
      "image/png": "[encoded data removed]",
      "text/plain": [
       "<Figure size 432x288 with 1 Axes>"
      ]
     },
     "metadata": {
      "needs_background": "light"
     },
     "output_type": "display_data"
    }
   ],
   "source": [
    "# visualise samples and estimated mode locations\n",
    "modes_list = pksd.proposal_dict[\"modes\"]\n",
    "modes = tf.concat(modes_list, axis=0)\n",
    "\n",
    "_ = plt.scatter(samples[:, 0], samples[:, 1], label=\"sample\")\n",
    "_ = plt.scatter(modes[:, 0], modes[:, 1], marker=\"^\", label=\"estimated modes\")\n",
    "_ = plt.legend()\n",
    "_ = plt.xlim(-5., 10.)\n",
    "_ = plt.ylim(-7.5, 7.5)"
   ]
  },
  {
   "cell_type": "code",
   "execution_count": 52,
   "metadata": {},
   "outputs": [
    {
     "data": {
      "image/png": "[encoded data removed]",
      "text/plain": [
       "<Figure size 432x432 with 3 Axes>"
      ]
     },
     "metadata": {
      "needs_background": "light"
     },
     "output_type": "display_data"
    }
   ],
   "source": [
    "# plot test data before and after perturbation\n",
    "samples_df = pd.DataFrame({\n",
    "    \"x0\": tf.concat([pksd.x[0, :, 0], pksd.x[-1, :, 0]], axis=0),\n",
    "    \"x1\": tf.concat([pksd.x[0, :, 1], pksd.x[-1, :, 1]], axis=0),\n",
    "    \"type\": [\"before\"]*(n-ntrain) + [\"after\"]*(n-ntrain)\n",
    "})\n",
    "\n",
    "_ = sns.jointplot(\n",
    "    data=samples_df,\n",
    "    x=\"x0\",\n",
    "    y=\"x1\",\n",
    "    hue=\"type\",\n",
    "    xlim=[-5., 10.],\n",
    "    ylim=[-7.5, 7.5],\n",
    "    alpha=0.5\n",
    ")"
   ]
  },
  {
   "cell_type": "code",
   "execution_count": null,
   "metadata": {},
   "outputs": [],
   "source": []
  }
 ],
 "metadata": {
  "kernelspec": {
   "display_name": "pksd",
   "language": "python",
   "name": "pksd"
  },
  "language_info": {
   "codemirror_mode": {
    "name": "ipython",
    "version": 3
   },
   "file_extension": ".py",
   "mimetype": "text/x-python",
   "name": "python",
   "nbconvert_exporter": "python",
   "pygments_lexer": "ipython3",
   "version": "3.8.10"
  }
 },
 "nbformat": 4,
 "nbformat_minor": 5
}
