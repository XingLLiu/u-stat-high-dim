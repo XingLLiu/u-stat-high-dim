{
 "cells": [
  {
   "cell_type": "code",
   "execution_count": 2,
   "id": "3ddb46ed",
   "metadata": {},
   "outputs": [
    {
     "name": "stdout",
     "output_type": "stream",
     "text": [
      "The autoreload extension is already loaded. To reload it, use:\n",
      "  %reload_ext autoreload\n"
     ]
    }
   ],
   "source": [
    "%load_ext autoreload\n",
    "%autoreload 2\n",
    "\n",
    "import src.ksd.models as models\n",
    "from src.ksd.find_modes import find_modes, pairwise_directions, run_bfgs\n",
    "from src.ksd.langevin import RandomWalkMH, RandomWalkBarker\n",
    "import src.ksd.langevin as mcmc\n",
    "from src.ksd.ksd import KSD\n",
    "from src.ksd.kernel import IMQ\n",
    "from src.ksd.bootstrap import Bootstrap\n",
    "from src.ksd.find_modes import find_modes, pairwise_directions\n",
    "from tqdm.notebook import tqdm, trange\n",
    "\n",
    "import numpy as np\n",
    "import pandas as pd\n",
    "import tensorflow as tf\n",
    "import tensorflow_probability as tfp\n",
    "tfd = tfp.distributions\n",
    "import matplotlib.pyplot as plt\n",
    "import seaborn as sns\n",
    "\n",
    "import kgof.density as density\n",
    "import kgof.data as data\n",
    "\n",
    "MCMCKernel = RandomWalkMH # RandomWalkBarker \n",
    "\n",
    "from src.kgof.ksdagg import ksdagg_wild_test"
   ]
  },
  {
   "cell_type": "code",
   "execution_count": 3,
   "id": "d6c6b55b",
   "metadata": {},
   "outputs": [],
   "source": [
    "seed = 1\n",
    "tf.random.set_seed(seed)"
   ]
  },
  {
   "cell_type": "code",
   "execution_count": 4,
   "id": "7e843126",
   "metadata": {},
   "outputs": [
    {
     "name": "stderr",
     "output_type": "stream",
     "text": [
      "2022-04-12 16:13:54.014952: E tensorflow/stream_executor/cuda/cuda_driver.cc:271] failed call to cuInit: CUDA_ERROR_NO_DEVICE: no CUDA-capable device is detected\n",
      "2022-04-12 16:13:54.014988: I tensorflow/stream_executor/cuda/cuda_diagnostics.cc:169] retrieving CUDA diagnostic information for host: nvidia4\n",
      "2022-04-12 16:13:54.014994: I tensorflow/stream_executor/cuda/cuda_diagnostics.cc:176] hostname: nvidia4\n",
      "2022-04-12 16:13:54.015107: I tensorflow/stream_executor/cuda/cuda_diagnostics.cc:200] libcuda reported version is: 460.27.4\n",
      "2022-04-12 16:13:54.015126: I tensorflow/stream_executor/cuda/cuda_diagnostics.cc:204] kernel reported version is: 460.27.4\n",
      "2022-04-12 16:13:54.015130: I tensorflow/stream_executor/cuda/cuda_diagnostics.cc:310] kernel version seems to match DSO: 460.27.4\n",
      "2022-04-12 16:13:54.015966: I tensorflow/core/platform/cpu_feature_guard.cc:142] This TensorFlow binary is optimized with oneAPI Deep Neural Network Library (oneDNN) to use the following CPU instructions in performance-critical operations:  AVX2 AVX512F FMA\n",
      "To enable them in other operations, rebuild TensorFlow with the appropriate compiler flags.\n"
     ]
    }
   ],
   "source": [
    "dim = 2\n",
    "\n",
    "k = 2\n",
    "delta = 2.\n",
    "ratio_sample = 0.3\n",
    "ratio_target = 0.5\n",
    "\n",
    "target, log_prob_fn = models.create_mixture_gaussian_kdim(\n",
    "    dim=dim, k=k, delta=delta, return_logprob=True, ratio=ratio_target)\n",
    "proposal_off, log_prob_off_fn = models.create_mixture_gaussian_kdim(\n",
    "    dim=dim, k=k, delta=delta, return_logprob=True, ratio=ratio_sample)"
   ]
  },
  {
   "cell_type": "code",
   "execution_count": 5,
   "id": "3d6b181e",
   "metadata": {},
   "outputs": [],
   "source": [
    "n = 1000\n",
    "samples_on = target.sample(n)\n",
    "samples_on_df = pd.DataFrame({f\"x{i}\": samples_on[:, i] for i in range(dim)})\n",
    "samples_on_df[\"type\"] = \"on\"\n",
    "\n",
    "# samples_off = proposal_off.sample(n)\n",
    "# samples_off_df = pd.DataFrame({f\"x{i}\": samples_off[:, i] for i in range(dim)})\n",
    "# samples_off_df[\"type\"] = \"off\"\n",
    "\n",
    "# samples_df = pd.concat([samples_on_df, samples_off_df], ignore_index=True)"
   ]
  },
  {
   "cell_type": "code",
   "execution_count": 6,
   "id": "f78ef32a",
   "metadata": {},
   "outputs": [],
   "source": [
    "# _ = sns.scatterplot(data=samples_df, x=\"x0\", y=\"x1\", hue=\"type\")"
   ]
  },
  {
   "cell_type": "code",
   "execution_count": 8,
   "id": "c0a0bf4b",
   "metadata": {},
   "outputs": [],
   "source": [
    "num_boot = 800\n",
    "alpha = 0.05\n",
    "\n",
    "B2 = 500\n",
    "B3 = 50\n",
    "l_minus = 0\n",
    "l_plus = 10"
   ]
  },
  {
   "cell_type": "code",
   "execution_count": 10,
   "id": "b310522e",
   "metadata": {},
   "outputs": [
    {
     "data": {
      "text/plain": [
       "0"
      ]
     },
     "execution_count": 10,
     "metadata": {},
     "output_type": "execute_result"
    }
   ],
   "source": [
    "ksdagg_wild_test(\n",
    "    seed,\n",
    "    X=samples_on,\n",
    "    log_prob_fn=log_prob_fn,\n",
    "    alpha=alpha,\n",
    "    beta_imq=0.5,\n",
    "    kernel_type=\"imq\",\n",
    "    weights_type=\"uniform\",\n",
    "    l_minus=0,\n",
    "    l_plus=10,\n",
    "    B1=num_boot,\n",
    "    B2=B2,\n",
    "    B3=B3,\n",
    ")"
   ]
  },
  {
   "cell_type": "code",
   "execution_count": 104,
   "id": "993e510b",
   "metadata": {},
   "outputs": [],
   "source": [
    "def repeat_experiment(nrep, target_log_prob, sample_dist):\n",
    "    rej_list = []\n",
    "    p_val_list = []\n",
    "    for _ in trange(nrep):\n",
    "        samples_on = sample_dist.sample(n)\n",
    "\n",
    "        with tf.GradientTape() as tape:\n",
    "            tape.watch(samples_on)\n",
    "            log_prob = target_log_prob(samples_on)\n",
    "\n",
    "        score_on = tape.gradient(log_prob, samples_on)\n",
    "\n",
    "        # test result\n",
    "        res = ksdagg_wild(\n",
    "            seed,\n",
    "            X=samples_on.numpy(),\n",
    "            score_X=score_on.numpy(),\n",
    "            alpha=alpha,\n",
    "            beta_imq=0.5,\n",
    "            kernel_type=\"imq\",\n",
    "            weights_type=\"uniform\",\n",
    "            l_minus=0,\n",
    "            l_plus=10,\n",
    "            B1=num_boot,\n",
    "            B2=B2,\n",
    "            B3=B3,\n",
    "        )\n",
    "\n",
    "        rej_list.append(res[0])\n",
    "        p_val_list.append(res[1])\n",
    "\n",
    "    return rej_list, p_val_list"
   ]
  },
  {
   "cell_type": "code",
   "execution_count": 105,
   "id": "cd8d7f3a",
   "metadata": {
    "scrolled": true
   },
   "outputs": [
    {
     "data": {
      "application/vnd.jupyter.widget-view+json": {
       "model_id": "fa7d5a612fce4fdc8a49751fbda2c725",
       "version_major": 2,
       "version_minor": 0
      },
      "text/plain": [
       "  0%|          | 0/100 [00:00<?, ?it/s]"
      ]
     },
     "metadata": {},
     "output_type": "display_data"
    }
   ],
   "source": [
    "nrep = 100\n",
    "res_list = repeat_experiment(nrep, log_prob_fn, target)"
   ]
  },
  {
   "cell_type": "code",
   "execution_count": 106,
   "id": "bed4ec7b",
   "metadata": {},
   "outputs": [
    {
     "name": "stdout",
     "output_type": "stream",
     "text": [
      "[ True  True  True  True  True  True  True  True  True  True  True  True\n",
      "  True  True  True  True  True  True  True  True  True  True  True  True\n",
      "  True  True  True  True  True  True  True  True  True  True  True  True\n",
      "  True  True  True  True  True  True  True  True  True  True  True  True\n",
      "  True  True  True  True  True  True  True  True  True  True  True  True\n",
      "  True  True  True  True  True  True  True  True  True  True  True  True\n",
      "  True  True  True  True  True  True  True  True  True  True  True  True\n",
      "  True  True  True  True  True  True  True  True  True  True  True  True\n",
      "  True  True  True  True]\n",
      "num of disagreed restuls: 0\n"
     ]
    },
    {
     "data": {
      "text/plain": [
       "[<matplotlib.lines.Line2D at 0x7f22b006ea90>]"
      ]
     },
     "execution_count": 106,
     "metadata": {},
     "output_type": "execute_result"
    },
    {
     "data": {
      "image/png": "[encoded data removed]",
      "text/plain": [
       "<Figure size 432x288 with 1 Axes>"
      ]
     },
     "metadata": {
      "needs_background": "light"
     },
     "output_type": "display_data"
    }
   ],
   "source": [
    "print((np.array(res_list[0]) == (np.array(res_list[1]) < 0.05)))#[20:25]\n",
    "print(\"num of disagreed restuls:\", np.sum((np.array(res_list[0]) != (np.array(res_list[1]) < 0.05))))\n",
    "\n",
    "sns.ecdfplot(pd.DataFrame(res_list[1]))\n",
    "plt.plot([0, 1], [0, 1], color=\"grey\", linestyle=\"dashed\")"
   ]
  },
  {
   "cell_type": "code",
   "execution_count": 98,
   "id": "d97e2556",
   "metadata": {},
   "outputs": [
    {
     "data": {
      "application/vnd.jupyter.widget-view+json": {
       "model_id": "02f4d334ea5b4e4e9be77687f6016dc4",
       "version_major": 2,
       "version_minor": 0
      },
      "text/plain": [
       "  0%|          | 0/100 [00:00<?, ?it/s]"
      ]
     },
     "metadata": {},
     "output_type": "display_data"
    }
   ],
   "source": [
    "nrep = 100\n",
    "res_list_off = repeat_experiment(nrep, log_prob_fn, proposal_off)"
   ]
  },
  {
   "cell_type": "code",
   "execution_count": 99,
   "id": "5df9fa6d",
   "metadata": {},
   "outputs": [
    {
     "name": "stdout",
     "output_type": "stream",
     "text": [
      "[ True  True  True  True  True  True  True  True  True  True  True  True\n",
      "  True  True  True  True  True  True  True  True  True  True  True  True\n",
      "  True  True  True  True  True  True  True  True  True  True  True  True\n",
      "  True  True  True  True  True  True  True  True  True  True  True  True\n",
      "  True  True  True  True  True  True  True  True  True  True  True  True\n",
      "  True  True  True  True  True  True  True  True  True  True  True  True\n",
      "  True  True  True  True  True  True  True  True  True  True  True  True\n",
      "  True  True  True  True  True  True  True  True  True  True  True  True\n",
      "  True  True  True  True]\n",
      "num of disagreed restuls: 0\n"
     ]
    },
    {
     "data": {
      "text/plain": [
       "[<matplotlib.lines.Line2D at 0x7f22b01829d0>]"
      ]
     },
     "execution_count": 99,
     "metadata": {},
     "output_type": "execute_result"
    },
    {
     "data": {
      "image/png": "[encoded data removed]",
      "text/plain": [
       "<Figure size 432x288 with 1 Axes>"
      ]
     },
     "metadata": {
      "needs_background": "light"
     },
     "output_type": "display_data"
    }
   ],
   "source": [
    "print((np.array(res_list_off[0]) == (np.array(res_list_off[1]) < 0.05)))#[20:25]\n",
    "print(\"num of disagreed restuls:\", np.sum((np.array(res_list_off[0]) != (np.array(res_list_off[1]) < 0.05))))\n",
    "\n",
    "sns.ecdfplot(pd.DataFrame(res_list_off[1]))\n",
    "plt.plot([0, 1], [0, 1], color=\"grey\", linestyle=\"dashed\")"
   ]
  },
  {
   "cell_type": "code",
   "execution_count": null,
   "id": "876dabbd",
   "metadata": {},
   "outputs": [],
   "source": []
  }
 ],
 "metadata": {
  "kernelspec": {
   "display_name": "fast-mcmc",
   "language": "python",
   "name": "fast-mcmc"
  },
  "language_info": {
   "codemirror_mode": {
    "name": "ipython",
    "version": 3
   },
   "file_extension": ".py",
   "mimetype": "text/x-python",
   "name": "python",
   "nbconvert_exporter": "python",
   "pygments_lexer": "ipython3",
   "version": "3.8.10"
  }
 },
 "nbformat": 4,
 "nbformat_minor": 5
}
