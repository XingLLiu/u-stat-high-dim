{
 "cells": [
  {
   "cell_type": "code",
   "execution_count": 16,
   "metadata": {},
   "outputs": [
    {
     "name": "stdout",
     "output_type": "stream",
     "text": [
      "The autoreload extension is already loaded. To reload it, use:\n",
      "  %reload_ext autoreload\n"
     ]
    }
   ],
   "source": [
    "%load_ext autoreload\n",
    "%autoreload 2\n",
    "\n",
    "import src.ksd.models as models\n",
    "from src.ksd.find_modes import find_modes, pairwise_directions, run_bfgs\n",
    "from src.ksd.langevin import RandomWalkMH, RandomWalkBarker\n",
    "import src.ksd.langevin as mcmc\n",
    "from src.ksd.ksd import KSD\n",
    "from src.ksd.kernel import IMQ, l2norm\n",
    "from src.ksd.bootstrap import Bootstrap\n",
    "from src.ksd.find_modes import find_modes, pairwise_directions\n",
    "from tqdm.notebook import tqdm, trange\n",
    "\n",
    "import numpy as np\n",
    "import pandas as pd\n",
    "import tensorflow as tf\n",
    "import tensorflow_probability as tfp\n",
    "tfd = tfp.distributions\n",
    "import matplotlib.pyplot as plt\n",
    "import seaborn as sns\n",
    "import time\n",
    "\n",
    "from src.ksd.kernel import l2norm\n",
    "\n",
    "from src.sensors import Sensor, SensorImproper\n",
    "\n",
    "MCMCKernel = RandomWalkMH # RandomWalkBarker "
   ]
  },
  {
   "cell_type": "code",
   "execution_count": 17,
   "metadata": {},
   "outputs": [],
   "source": [
    "import autograd.numpy as np\n",
    "import kgof\n",
    "import kgof.density as kgof_density\n",
    "import kgof.goftest as kgof_gof\n",
    "import src.ksd.models_np as models_np"
   ]
  },
  {
   "cell_type": "code",
   "execution_count": 18,
   "metadata": {},
   "outputs": [],
   "source": [
    "# Assume two dimensions.\n",
    "d = 2\n",
    "dim = d"
   ]
  },
  {
   "cell_type": "code",
   "execution_count": 19,
   "metadata": {},
   "outputs": [],
   "source": [
    "# def isogauss_log_den(X):\n",
    "#     \"\"\"\n",
    "#     Evaluate the log density at the points (rows) in X \n",
    "#     of the standard isotropic Gaussian.\n",
    "#     Note that the density is NOT normalized. \n",
    "    \n",
    "#     X: n x d nd-array\n",
    "#     return a length-n array\n",
    "#     \"\"\"\n",
    "#     mean = np.zeros(d)\n",
    "#     variance = 1\n",
    "#     unden = -np.sum((X-mean)**2, 1)/(2.0*variance)\n",
    "#     return unden\n",
    "\n",
    "delta = 6.\n",
    "ratio_target = 0.5\n",
    "def isogauss_log_den(X, delta=delta, ratio=ratio_target):\n",
    "    \"\"\"\n",
    "    Bimodal Gaussian\n",
    "    \"\"\"\n",
    "    log_ratio1 = tf.math.log(ratio)\n",
    "    log_ratio2 = tf.math.log(1-ratio)\n",
    "    \n",
    "    mean1 = np.zeros(d)\n",
    "    mean2 = np.eye(d)[:1] * delta\n",
    "    variance = 1\n",
    "    exp1 = -0.5 * np.sum((X-mean1)**2, axis=-1) / variance + log_ratio1\n",
    "    exp2 = -0.5 * np.sum((X-mean2)**2, axis=-1) / variance + log_ratio2\n",
    "    unden = np.logaddexp(exp1, exp2) # n\n",
    "\n",
    "    return unden\n"
   ]
  },
  {
   "cell_type": "markdown",
   "metadata": {},
   "source": [
    "## t-banana"
   ]
  },
  {
   "cell_type": "code",
   "execution_count": 173,
   "metadata": {},
   "outputs": [],
   "source": [
    "## t-banana\n",
    "rdg = tf.random.Generator.from_seed(1)\n",
    "\n",
    "nbanana = 1\n",
    "nmodes = 1\n",
    "\n",
    "b = 0.003 # 0.03\n",
    "t_std = 0.1\n",
    "ratio_target = [1/nmodes] * nmodes\n",
    "loc = rdg.uniform((nmodes, dim), minval=-tf.ones((dim,))*2, maxval=tf.ones((dim,))*2)\n",
    "\n",
    "target, log_prob_fn = models.create_mixture_t_banana(dim=dim, ratio=ratio_target, loc=loc, b=b,\n",
    "    nbanana=nbanana, std=t_std, return_logprob=True)\n"
   ]
  },
  {
   "cell_type": "code",
   "execution_count": 174,
   "metadata": {},
   "outputs": [],
   "source": [
    "#############################################\n",
    "# check if log_prob is implemented correctly\n",
    "#############################################\n",
    "\n",
    "# log_prob_fn_np = models_np.create_mixture_t_banana(dim=dim, ratio=ratio_target, loc=loc, nbanana=nbanana, \n",
    "#                         std=t_std, b=b)\n",
    "\n",
    "# np.random.seed(1)\n",
    "# X = np.random.randn(5, d)\n",
    "# log_prob_fn(tf.constant(X, dtype=tf.float32))\n",
    "\n",
    "# diff = log_prob_fn(tf.constant(X, dtype=tf.float32)) - log_prob_fn_np(X)\n",
    "# tf.experimental.numpy.allclose(diff, diff[0])"
   ]
  },
  {
   "cell_type": "code",
   "execution_count": 178,
   "metadata": {},
   "outputs": [
    {
     "data": {
      "text/plain": [
       "<tf.Tensor: shape=(), dtype=bool, numpy=True>"
      ]
     },
     "execution_count": 178,
     "metadata": {},
     "output_type": "execute_result"
    }
   ],
   "source": [
    "#############################################\n",
    "# check if log_prob for t-dist is implemented correctly\n",
    "#############################################\n",
    "np.random.seed(1)\n",
    "X = np.random.randn(500, dim)\n",
    "\n",
    "# t_loc = tf.zeros(dim)\n",
    "t_loc = loc[0]\n",
    "\n",
    "# scale = tf.eye(dim)\n",
    "scale = tf.math.sqrt(t_std * tf.math.sqrt(float(dim)) * tf.eye(dim))\n",
    "\n",
    "# pp_tf = log_prob_fn(tf.constant(X, dtype=tf.float32))\n",
    "t_dist = tfd.MultivariateStudentTLinearOperator(\n",
    "    df=7, \n",
    "    loc=t_loc, \n",
    "    scale=tf.linalg.LinearOperatorLowerTriangular(scale),\n",
    ")\n",
    "pp_tf = t_dist.log_prob(X)\n",
    "\n",
    "Sigma = scale @ tf.transpose(scale)\n",
    "Sigma_inv = tf.linalg.inv(Sigma)\n",
    "pp_np = models_np.multivariate_t_logprob(X, loc=t_loc, Sigma_inv=Sigma_inv, df=7, dim=dim)\n",
    "\n",
    "# compare\n",
    "diff = pp_tf - pp_np\n",
    "tf.experimental.numpy.allclose(diff, diff[0], atol=1e-06)"
   ]
  },
  {
   "cell_type": "code",
   "execution_count": 182,
   "metadata": {},
   "outputs": [
    {
     "data": {
      "text/plain": [
       "<tf.Tensor: shape=(), dtype=bool, numpy=True>"
      ]
     },
     "execution_count": 182,
     "metadata": {},
     "output_type": "execute_result"
    }
   ],
   "source": [
    "#############################################\n",
    "# check if log_prob for banana is implemented correctly\n",
    "#############################################\n",
    "np.random.seed(1)\n",
    "X = np.random.randn(500, dim)\n",
    "\n",
    "b_loc = loc[0]\n",
    "\n",
    "pp_tf = target.log_prob(X)\n",
    "\n",
    "pp_np = models_np.banana_logprob(X, loc=b_loc, scale=10, b=b, df=7, dim=dim)\n",
    "\n",
    "# compare\n",
    "diff = pp_tf - pp_np\n",
    "tf.experimental.numpy.allclose(diff, diff[0])"
   ]
  },
  {
   "cell_type": "code",
   "execution_count": 257,
   "metadata": {},
   "outputs": [
    {
     "data": {
      "text/plain": [
       "<tf.Tensor: shape=(), dtype=bool, numpy=False>"
      ]
     },
     "execution_count": 257,
     "metadata": {},
     "output_type": "execute_result"
    }
   ],
   "source": [
    "#############################################\n",
    "# check if log_prob for t-banana mixture is implemented correctly\n",
    "# This currently has a bug!\n",
    "#############################################\n",
    "np.random.seed(1)\n",
    "X = np.random.randn(499, dim)\n",
    "\n",
    "# tf version\n",
    "rdg = tf.random.Generator.from_seed(1)\n",
    "\n",
    "nbanana = 1\n",
    "nmodes = 2\n",
    "\n",
    "b = 0.003\n",
    "t_std = 0.1\n",
    "ratio_target = [1/nmodes] * nmodes\n",
    "loc = rdg.uniform((nmodes, dim), minval=-tf.ones((dim,))*2, maxval=tf.ones((dim,))*2)\n",
    "# loc = rdg.uniform((2, dim), minval=-tf.ones((dim,))*2, maxval=tf.ones((dim,))*2)\n",
    "# loc = loc[:nmodes]\n",
    "# loc = np.concatenate([loc[:nmodes], loc[:nmodes]])\n",
    "\n",
    "target, log_prob_fn = models.create_mixture_t_banana(dim=dim, ratio=ratio_target, loc=loc, b=b,\n",
    "    nbanana=nbanana, std=t_std, return_logprob=True)\n",
    "pp_tf = log_prob_fn(X)\n",
    "\n",
    "# np version\n",
    "log_prob_fn_np = models_np.create_mixture_t_banana_logprob(\n",
    "    dim, ratio=ratio_target, loc=np.array(loc, dtype=np.float64), nbanana=nbanana, std=t_std, b=b)\n",
    "pp_np = log_prob_fn_np(X)\n",
    "\n",
    "# compare\n",
    "diff = pp_tf - pp_np\n",
    "tf.experimental.numpy.allclose(diff, diff[0])"
   ]
  },
  {
   "cell_type": "code",
   "execution_count": null,
   "metadata": {},
   "outputs": [],
   "source": []
  },
  {
   "cell_type": "code",
   "execution_count": null,
   "metadata": {},
   "outputs": [],
   "source": []
  },
  {
   "cell_type": "markdown",
   "metadata": {},
   "source": [
    "## RBM"
   ]
  },
  {
   "cell_type": "code",
   "execution_count": 115,
   "metadata": {},
   "outputs": [
    {
     "data": {
      "text/plain": [
       "<tf.Tensor: shape=(2, 2), dtype=float32, numpy=\n",
       "array([[10.,  0.],\n",
       "       [ 0.,  1.]], dtype=float32)>"
      ]
     },
     "execution_count": 115,
     "metadata": {},
     "output_type": "execute_result"
    }
   ],
   "source": [
    "scale_mat"
   ]
  },
  {
   "cell_type": "code",
   "execution_count": 118,
   "metadata": {},
   "outputs": [],
   "source": [
    "dh = 2\n",
    "c_shift = 1.\n",
    "c_off = tf.concat([tf.ones(2) * c_shift, tf.zeros(dh-2)], axis=0)\n",
    "\n",
    "target, log_prob_fn = models.create_rbm(B_scale=6., c=0., dx=dim, dh=dh, burnin_number=2000, return_logprob=True)"
   ]
  },
  {
   "cell_type": "code",
   "execution_count": 119,
   "metadata": {},
   "outputs": [
    {
     "data": {
      "text/plain": [
       "<tf.Tensor: shape=(2,), dtype=float32, numpy=array([62.83185 , 62.831833], dtype=float32)>"
      ]
     },
     "execution_count": 119,
     "metadata": {},
     "output_type": "execute_result"
    }
   ],
   "source": [
    "banana_prob(xx, loc) / pp1"
   ]
  },
  {
   "cell_type": "code",
   "execution_count": 119,
   "metadata": {},
   "outputs": [],
   "source": [
    "log_prob_fn_np = models_np.create_rbm(B_scale=6., c=0., dx=dim, dh=dh)"
   ]
  },
  {
   "cell_type": "code",
   "execution_count": 103,
   "metadata": {},
   "outputs": [
    {
     "data": {
      "text/plain": [
       "<tf.Tensor: shape=(2, 2), dtype=float32, numpy=\n",
       "array([[1., 0.],\n",
       "       [0., 1.]], dtype=float32)>"
      ]
     },
     "execution_count": 103,
     "metadata": {},
     "output_type": "execute_result"
    }
   ],
   "source": [
    "scale_mat"
   ]
  },
  {
   "cell_type": "markdown",
   "metadata": {},
   "source": [
    "## check np version of log_prob is implemented correctly"
   ]
  },
  {
   "cell_type": "code",
   "execution_count": 137,
   "metadata": {},
   "outputs": [
    {
     "ename": "ModuleNotFoundError",
     "evalue": "No module named 'pytorch'",
     "output_type": "error",
     "traceback": [
      "\u001b[0;31m---------------------------------------------------------------------------\u001b[0m",
      "\u001b[0;31mModuleNotFoundError\u001b[0m                       Traceback (most recent call last)",
      "\u001b[0;32m/tmp/ipykernel_1579077/3890166209.py\u001b[0m in \u001b[0;36m<module>\u001b[0;34m\u001b[0m\n\u001b[0;32m----> 1\u001b[0;31m \u001b[0;32mimport\u001b[0m \u001b[0mpytorch\u001b[0m\u001b[0;34m\u001b[0m\u001b[0;34m\u001b[0m\u001b[0m\n\u001b[0m",
      "\u001b[0;31mModuleNotFoundError\u001b[0m: No module named 'pytorch'"
     ]
    }
   ],
   "source": []
  },
  {
   "cell_type": "code",
   "execution_count": 120,
   "metadata": {},
   "outputs": [],
   "source": [
    "# check whether the density is implemented correctly\n",
    "np.random.seed(1)\n",
    "X = np.random.randn(1000, d)\n",
    "X_tf = tf.constant(X, dtype=tf.float32)\n",
    "\n",
    "assert np.allclose(log_prob_fn(X_tf), log_prob_fn_np(X))"
   ]
  },
  {
   "cell_type": "markdown",
   "metadata": {},
   "source": [
    "## FSSN"
   ]
  },
  {
   "cell_type": "code",
   "execution_count": 107,
   "metadata": {},
   "outputs": [
    {
     "data": {
      "text/plain": [
       "<tf.Tensor: shape=(2,), dtype=float32, numpy=array([0.15915495, 0.15915497], dtype=float32)>"
      ]
     },
     "execution_count": 107,
     "metadata": {},
     "output_type": "execute_result"
    }
   ],
   "source": [
    "pp1 / pp2"
   ]
  },
  {
   "cell_type": "code",
   "execution_count": 111,
   "metadata": {},
   "outputs": [
    {
     "data": {
      "text/plain": [
       "<tf.Tensor: shape=(2,), dtype=float32, numpy=array([0.07957751, 0.07957748], dtype=float32)>"
      ]
     },
     "execution_count": 111,
     "metadata": {},
     "output_type": "execute_result"
    }
   ],
   "source": []
  },
  {
   "cell_type": "code",
   "execution_count": 114,
   "metadata": {},
   "outputs": [],
   "source": [
    "# p is an UnnormalizedDensity object\n",
    "p = kgof_density.from_log_den(d, isogauss_log_den)\n",
    "\n",
    "\n",
    "## tensorflow\n",
    "# dim = 2\n",
    "\n",
    "# ## mixure of gaussians\n",
    "k = 1\n",
    "# ratio_sample = 1.\n",
    "\n",
    "target, log_prob_fn = models.create_mixture_gaussian_kdim(\n",
    "    dim=dim, k=k, delta=delta, return_logprob=True, ratio=ratio_target)\n",
    "# proposal_off, log_prob_off_fn = models.create_mixture_gaussian_kdim(\n",
    "#     dim=dim, k=k, delta=delta, return_logprob=True, ratio=ratio_sample)\n",
    "\n",
    "# p = kgof_density.from_log_den(dim, log_prob_fn)"
   ]
  },
  {
   "cell_type": "code",
   "execution_count": 216,
   "metadata": {},
   "outputs": [],
   "source": [
    "# Let's assume that m = 1.\n",
    "\n",
    "# If m=0, then p=q and H_0 is true.\n",
    "m = 0\n",
    "# m = 1\n",
    "\n",
    "# Draw n points from q\n",
    "seed = 4\n",
    "np.random.seed(seed)\n",
    "n = 400\n",
    "X = np.random.randn(n, 2) + np.array([m, 0])"
   ]
  },
  {
   "cell_type": "code",
   "execution_count": 217,
   "metadata": {},
   "outputs": [
    {
     "data": {
      "text/plain": [
       "<matplotlib.legend.Legend at 0x7f897c5dbc70>"
      ]
     },
     "execution_count": 217,
     "metadata": {},
     "output_type": "execute_result"
    },
    {
     "data": {
      "image/png": "[encoded data removed]",
      "text/plain": [
       "<Figure size 432x288 with 1 Axes>"
      ]
     },
     "metadata": {
      "needs_background": "light"
     },
     "output_type": "display_data"
    }
   ],
   "source": [
    "plt.plot(X[:, 0], X[:, 1], 'ko', label='Data from $q$')\n",
    "plt.legend()"
   ]
  },
  {
   "cell_type": "code",
   "execution_count": 218,
   "metadata": {},
   "outputs": [],
   "source": [
    "# dat will be fed to the test.\n",
    "dat = kgof.data.Data(X)"
   ]
  },
  {
   "cell_type": "code",
   "execution_count": 219,
   "metadata": {},
   "outputs": [],
   "source": [
    "# We will use 20% of the data for parameter tuning, and 80% for testing.\n",
    "tr, te = dat.split_tr_te(tr_proportion=0.2, seed=2)"
   ]
  },
  {
   "cell_type": "code",
   "execution_count": null,
   "metadata": {},
   "outputs": [],
   "source": []
  },
  {
   "cell_type": "code",
   "execution_count": 220,
   "metadata": {
    "scrolled": false
   },
   "outputs": [],
   "source": [
    "# J is the number of test locations (or features). Typically not larger than 10.\n",
    "J = 1\n",
    "\n",
    "# There are many options for the optimization. \n",
    "# Almost all of them have default values. \n",
    "# Here, we will list a few to give you a sense of what you can control.\n",
    "# Full options can be found in gof.GaussFSSD.optimize_locs_widths(..)\n",
    "opts = {\n",
    "    'reg': 1e-2, # regularization parameter in the optimization objective\n",
    "    'max_iter': 50, # maximum number of gradient ascent iterations\n",
    "    'tol_fun':1e-7, # termination tolerance of the objective\n",
    "}\n",
    "\n",
    "# make sure to give tr (NOT te).\n",
    "# do the optimization with the options in opts.\n",
    "V_opt, gw_opt, opt_info = kgof_gof.GaussFSSD.optimize_auto_init(p, tr, J, **opts)"
   ]
  },
  {
   "cell_type": "code",
   "execution_count": 221,
   "metadata": {},
   "outputs": [],
   "source": [
    "# alpha = significance level of the test\n",
    "alpha = 0.05\n",
    "fssd_opt = kgof_gof.GaussFSSD(p, gw_opt, V_opt, alpha)"
   ]
  },
  {
   "cell_type": "code",
   "execution_count": 222,
   "metadata": {},
   "outputs": [
    {
     "data": {
      "text/plain": [
       "{'alpha': 0.05,\n",
       " 'pvalue': 0.22166666666666668,\n",
       " 'test_stat': 3.921161262218326e-13,\n",
       " 'h0_rejected': False,\n",
       " 'n_simulate': 3000,\n",
       " 'time_secs': 0.0024061203002929688}"
      ]
     },
     "execution_count": 222,
     "metadata": {},
     "output_type": "execute_result"
    }
   ],
   "source": [
    "# return a dictionary of testing results\n",
    "test_result = fssd_opt.perform_test(te)\n",
    "test_result"
   ]
  },
  {
   "cell_type": "code",
   "execution_count": 35,
   "metadata": {},
   "outputs": [],
   "source": [
    "dim = 2\n",
    "\n",
    "## mixure of gaussians\n",
    "k = 1\n",
    "delta = 8.\n",
    "ratio_sample = 1.\n",
    "ratio_target = 0.5\n",
    "\n",
    "target, log_prob_fn = models.create_mixture_gaussian_kdim(\n",
    "    dim=dim, k=k, delta=delta, return_logprob=True, ratio=ratio_target)\n",
    "# proposal_off, log_prob_off_fn = models.create_mixture_gaussian_kdim(\n",
    "#     dim=dim, k=k, delta=delta, return_logprob=True, ratio=ratio_sample)"
   ]
  },
  {
   "cell_type": "code",
   "execution_count": 36,
   "metadata": {},
   "outputs": [
    {
     "data": {
      "text/plain": [
       "<function src.ksd.models.create_mixture_gaussian_kdim.<locals>.log_prob_fn(x)>"
      ]
     },
     "execution_count": 36,
     "metadata": {},
     "output_type": "execute_result"
    }
   ],
   "source": [
    "log_prob_fn"
   ]
  },
  {
   "cell_type": "code",
   "execution_count": null,
   "metadata": {},
   "outputs": [],
   "source": []
  }
 ],
 "metadata": {
  "kernelspec": {
   "display_name": "pksd",
   "language": "python",
   "name": "pksd"
  },
  "language_info": {
   "codemirror_mode": {
    "name": "ipython",
    "version": 3
   },
   "file_extension": ".py",
   "mimetype": "text/x-python",
   "name": "python",
   "nbconvert_exporter": "python",
   "pygments_lexer": "ipython3",
   "version": "3.8.10"
  }
 },
 "nbformat": 4,
 "nbformat_minor": 4
}
