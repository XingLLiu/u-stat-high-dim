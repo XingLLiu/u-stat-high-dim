{
 "cells": [
  {
   "cell_type": "code",
   "execution_count": null,
   "metadata": {},
   "outputs": [],
   "source": [
    "%load_ext autoreload\n",
    "%autoreload 2\n"
   ]
  },
  {
   "cell_type": "code",
   "execution_count": null,
   "metadata": {},
   "outputs": [],
   "source": [
    "%load_ext autoreload\n",
    "%autoreload 2\n",
    "\n",
    "import numpy as np\n",
    "import pandas as pd\n",
    "import tensorflow as tf\n",
    "import tensorflow_probability as tfp\n",
    "tfd = tfp.distributions\n",
    "import matplotlib.pyplot as plt\n",
    "import seaborn as sns\n",
    "from tqdm.notebook import tqdm\n",
    "\n",
    "from src.ksd.ksd import KSD\n",
    "from src.ksd.kernel import RBF, IMQ"
   ]
  },
  {
   "cell_type": "code",
   "execution_count": null,
   "metadata": {},
   "outputs": [],
   "source": [
    "tf.random.set_seed(0)"
   ]
  },
  {
   "cell_type": "code",
   "execution_count": null,
   "metadata": {},
   "outputs": [],
   "source": [
    "target = tfd.MultivariateNormalDiag([0.])\n",
    "proposal = tfd.MultivariateNormalDiag([0.])\n",
    "\n",
    "# kernel = RBF()\n",
    "kernel = IMQ()"
   ]
  },
  {
   "cell_type": "code",
   "execution_count": null,
   "metadata": {},
   "outputs": [],
   "source": []
  },
  {
   "cell_type": "code",
   "execution_count": null,
   "metadata": {},
   "outputs": [],
   "source": []
  },
  {
   "cell_type": "code",
   "execution_count": null,
   "metadata": {},
   "outputs": [],
   "source": [
    "proposal_sample = proposal.sample(3)"
   ]
  },
  {
   "cell_type": "code",
   "execution_count": null,
   "metadata": {},
   "outputs": [],
   "source": [
    "ksd = KSD(target=target, kernel=kernel)\n",
    "ksd_val = ksd(proposal_sample, tf.identity(proposal_sample)).numpy()"
   ]
  },
  {
   "cell_type": "code",
   "execution_count": null,
   "metadata": {},
   "outputs": [],
   "source": [
    "def ff(x, y, beta):\n",
    "    return (1 + 1/2. * (x - y)**2)**beta"
   ]
  },
  {
   "cell_type": "code",
   "execution_count": null,
   "metadata": {},
   "outputs": [],
   "source": []
  },
  {
   "cell_type": "code",
   "execution_count": null,
   "metadata": {},
   "outputs": [],
   "source": []
  },
  {
   "cell_type": "code",
   "execution_count": null,
   "metadata": {},
   "outputs": [],
   "source": []
  },
  {
   "cell_type": "code",
   "execution_count": 4,
   "metadata": {},
   "outputs": [],
   "source": [
    "proposal_sample = proposal.sample(10)"
   ]
  },
  {
   "cell_type": "code",
   "execution_count": 5,
   "metadata": {
    "scrolled": false
   },
   "outputs": [],
   "source": [
    "_ = plt.hist(proposal_sample.numpy())"
   ]
  },
  {
   "cell_type": "code",
   "execution_count": 6,
   "metadata": {},
   "outputs": [
    {
     "data": {
      "text/plain": [
       "12.771986"
      ]
     },
     "execution_count": 6,
     "metadata": {},
     "output_type": "execute_result"
    }
   ],
   "source": [
    "ksd = KSD(target=target, kernel=kernel)\n",
    "ksd_val = ksd(proposal_sample, tf.identity(proposal_sample)).numpy()\n",
    "ksd_val"
   ]
  },
  {
   "cell_type": "code",
   "execution_count": 366,
   "metadata": {},
   "outputs": [],
   "source": [
    "def run_ksd_experiment(nrep, target, proposal):\n",
    "    \"\"\"compute KSD and repeat for nrep times\"\"\"\n",
    "    ksd = KSD(target=target, kernel=kernel)\n",
    "    \n",
    "    nsamples_list = list(range(10, 100, 10)) + list(range(100, 1100, 100))\n",
    "    ksd_list = []\n",
    "    ksd_df = pd.DataFrame(columns=[\"n\", \"ksd\", \"seed\"])\n",
    "    for n in nsamples_list:\n",
    "        print(f\"n = {n}\")\n",
    "        ksd_n_list = []\n",
    "        for seed in range(nrep):\n",
    "            proposal_sample = proposal.sample(n)\n",
    "            ksd_val = ksd(proposal_sample, tf.identity(proposal_sample)).numpy()\n",
    "            ksd_n_list.append(ksd_val)\n",
    "            ksd_df.loc[len(ksd_df)] = [n, ksd_val, seed]\n",
    "    return ksd_df"
   ]
  },
  {
   "cell_type": "code",
   "execution_count": 367,
   "metadata": {
    "scrolled": true
   },
   "outputs": [
    {
     "name": "stdout",
     "output_type": "stream",
     "text": [
      "n = 10\n",
      "n = 20\n",
      "n = 30\n",
      "n = 40\n",
      "n = 50\n",
      "n = 60\n",
      "n = 70\n",
      "n = 80\n",
      "n = 90\n",
      "n = 100\n",
      "n = 200\n",
      "n = 300\n",
      "n = 400\n",
      "n = 500\n",
      "n = 600\n",
      "n = 700\n",
      "n = 800\n",
      "n = 900\n",
      "n = 1000\n"
     ]
    }
   ],
   "source": [
    "nrep = 10\n",
    "\n",
    "ksd_df = run_ksd_experiment(nrep, target, proposal)"
   ]
  },
  {
   "cell_type": "code",
   "execution_count": 337,
   "metadata": {},
   "outputs": [
    {
     "data": {
      "text/plain": [
       "(0.0, 2.4670787836164236)"
      ]
     },
     "execution_count": 337,
     "metadata": {},
     "output_type": "execute_result"
    },
    {
     "data": {
      "image/png": "[encoded data removed]",
      "text/plain": [
       "<Figure size 432x288 with 1 Axes>"
      ]
     },
     "metadata": {
      "needs_background": "light"
     },
     "output_type": "display_data"
    }
   ],
   "source": [
    "sns.lineplot(data=ksd_df, x=\"n\", y=\"ksd\")\n",
    "plt.ylim((0, None))"
   ]
  },
  {
   "cell_type": "code",
   "execution_count": 338,
   "metadata": {},
   "outputs": [],
   "source": [
    "def create_mixture_gaussian(dim, delta):\n",
    "    e1 = tf.eye(dim)[:, 0]\n",
    "    mix_gauss = tfd.Mixture(\n",
    "      cat=tfd.Categorical(probs=[0.5, 0.5]),\n",
    "      components=[\n",
    "        tfd.MultivariateNormalDiag(-delta * e1),\n",
    "        tfd.MultivariateNormalDiag(-delta * e1)\n",
    "    ])\n",
    "    return mix_gauss\n",
    "    "
   ]
  },
  {
   "cell_type": "code",
   "execution_count": 340,
   "metadata": {},
   "outputs": [],
   "source": [
    "delta = 1.5\n",
    "dim = 1\n",
    "\n",
    "target = create_mixture_gaussian(dim=dim, delta=delta)\n",
    "\n",
    "proposal_mean = - delta * tf.eye(dim)[:, 0]\n",
    "proposal = tfd.MultivariateNormalDiag(proposal_mean)"
   ]
  },
  {
   "cell_type": "code",
   "execution_count": 341,
   "metadata": {},
   "outputs": [
    {
     "name": "stdout",
     "output_type": "stream",
     "text": [
      "n = 10\n",
      "n = 20\n",
      "n = 30\n",
      "n = 40\n",
      "n = 50\n",
      "n = 60\n",
      "n = 70\n",
      "n = 80\n",
      "n = 90\n",
      "n = 100\n",
      "n = 200\n",
      "n = 300\n",
      "n = 400\n",
      "n = 500\n",
      "n = 600\n",
      "n = 700\n",
      "n = 800\n",
      "n = 900\n",
      "n = 1000\n"
     ]
    }
   ],
   "source": [
    "ksd_df = run_ksd_experiment(nrep, target, proposal)"
   ]
  },
  {
   "cell_type": "code",
   "execution_count": 342,
   "metadata": {},
   "outputs": [
    {
     "data": {
      "image/png": "[encoded data removed]",
      "text/plain": [
       "<Figure size 432x288 with 1 Axes>"
      ]
     },
     "metadata": {
      "needs_background": "light"
     },
     "output_type": "display_data"
    }
   ],
   "source": [
    "sns.lineplot(data=ksd_df, x=\"n\", y=\"ksd\")\n",
    "_ = plt.ylim((0, None))"
   ]
  },
  {
   "cell_type": "code",
   "execution_count": null,
   "metadata": {},
   "outputs": [],
   "source": [
    "ksd_df = run_ksd_experiment(nrep, target, proposal)"
   ]
  }
 ],
 "metadata": {
  "kernelspec": {
   "display_name": "fast-mcmc",
   "language": "python",
   "name": "fast-mcmc"
  },
  "language_info": {
   "codemirror_mode": {
    "name": "ipython",
    "version": 3
   },
   "file_extension": ".py",
   "mimetype": "text/x-python",
   "name": "python",
   "nbconvert_exporter": "python",
   "pygments_lexer": "ipython3",
   "version": "3.8.8"
  }
 },
 "nbformat": 4,
 "nbformat_minor": 2
}
