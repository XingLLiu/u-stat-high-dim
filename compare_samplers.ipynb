{
 "cells": [
  {
   "cell_type": "code",
   "execution_count": 15,
   "metadata": {},
   "outputs": [
    {
     "name": "stdout",
     "output_type": "stream",
     "text": [
      "The autoreload extension is already loaded. To reload it, use:\n",
      "  %reload_ext autoreload\n"
     ]
    }
   ],
   "source": [
    "%load_ext autoreload\n",
    "%autoreload 2\n",
    "\n",
    "import numpy as np\n",
    "import pandas as pd\n",
    "import tensorflow as tf\n",
    "import tensorflow_probability as tfp\n",
    "tfd = tfp.distributions\n",
    "import matplotlib.pyplot as plt\n",
    "import seaborn as sns\n",
    "from tqdm.notebook import tqdm\n",
    "\n",
    "from src.ksd.ksd import KSD\n",
    "from src.ksd.kernel import RBF, IMQ"
   ]
  },
  {
   "cell_type": "code",
   "execution_count": 51,
   "metadata": {},
   "outputs": [],
   "source": [
    "tf.random.set_seed(0)"
   ]
  },
  {
   "cell_type": "markdown",
   "metadata": {},
   "source": [
    "# Check the heuristics to select nosie variance"
   ]
  },
  {
   "cell_type": "code",
   "execution_count": 55,
   "metadata": {},
   "outputs": [],
   "source": [
    "from src.ksd.kernel import median_heuristic, l2norm\n",
    "from experiments.compare_samplers import create_mixture_gaussian"
   ]
  },
  {
   "cell_type": "code",
   "execution_count": 56,
   "metadata": {},
   "outputs": [
    {
     "data": {
      "application/vnd.jupyter.widget-view+json": {
       "model_id": "df14cda941d74625b0525b53c4810a17",
       "version_major": 2,
       "version_minor": 0
      },
      "text/plain": [
       "  0%|          | 0/100 [00:00<?, ?it/s]"
      ]
     },
     "metadata": {},
     "output_type": "display_data"
    }
   ],
   "source": [
    "med_ls = []\n",
    "delta_ls = np.linspace(1., 10, 100)\n",
    "dim = 5\n",
    "for delta in tqdm(delta_ls):\n",
    "    target = create_mixture_gaussian(dim=dim, delta=delta)\n",
    "    samples = target.sample(500)\n",
    "    l2norm_mat = l2norm(samples, tf.identity(samples))\n",
    "    med_ls.append(median_heuristic(l2norm_mat) / dim)\n",
    "    "
   ]
  },
  {
   "cell_type": "code",
   "execution_count": 57,
   "metadata": {
    "scrolled": true
   },
   "outputs": [
    {
     "data": {
      "image/png": "[encoded data removed]",
      "text/plain": [
       "<Figure size 432x288 with 1 Axes>"
      ]
     },
     "metadata": {
      "needs_background": "light"
     },
     "output_type": "display_data"
    }
   ],
   "source": [
    "plt.scatter(delta_ls, med_ls)\n",
    "plt.xscale(\"log\")\n",
    "plt.yscale(\"log\")"
   ]
  },
  {
   "cell_type": "code",
   "execution_count": 49,
   "metadata": {},
   "outputs": [
    {
     "data": {
      "image/png": "[encoded data removed]",
      "text/plain": [
       "<Figure size 432x288 with 1 Axes>"
      ]
     },
     "metadata": {
      "needs_background": "light"
     },
     "output_type": "display_data"
    }
   ],
   "source": [
    "_ = plt.hist(samples[:, 0].numpy())"
   ]
  },
  {
   "cell_type": "code",
   "execution_count": null,
   "metadata": {},
   "outputs": [],
   "source": []
  },
  {
   "cell_type": "code",
   "execution_count": null,
   "metadata": {},
   "outputs": [],
   "source": []
  },
  {
   "cell_type": "code",
   "execution_count": 126,
   "metadata": {},
   "outputs": [],
   "source": [
    "# target = tfd.MultivariateNormalDiag([0.])\n",
    "# proposal = tfd.MultivariateNormalDiag([0.5])\n",
    "from experiments.compare_samplers import create_mixture_gaussian\n",
    "dim = 1\n",
    "delta = 4.\n",
    "target = create_mixture_gaussian(dim=dim, delta=delta)\n",
    "proposal_mean = - delta * tf.eye(dim)[:, 0]\n",
    "proposal = tfd.MultivariateNormalDiag(proposal_mean)\n",
    "\n",
    "# kernel = RBF(sigma_sq=1e5)\n",
    "kernel = IMQ(med_heuristic=True)"
   ]
  },
  {
   "cell_type": "code",
   "execution_count": 127,
   "metadata": {},
   "outputs": [
    {
     "data": {
      "text/plain": [
       "(array([  3.,  16.,  68., 166., 217., 248., 149.,  91.,  30.,  12.]),\n",
       " array([-7.3585253 , -6.710873  , -6.0632205 , -5.4155684 , -4.767916  ,\n",
       "        -4.120264  , -3.4726114 , -2.8249593 , -2.177307  , -1.5296546 ,\n",
       "        -0.88200235], dtype=float32),\n",
       " <BarContainer object of 10 artists>)"
      ]
     },
     "execution_count": 127,
     "metadata": {},
     "output_type": "execute_result"
    },
    {
     "data": {
      "image/png": "[encoded data removed]",
      "text/plain": [
       "<Figure size 432x288 with 1 Axes>"
      ]
     },
     "metadata": {
      "needs_background": "light"
     },
     "output_type": "display_data"
    }
   ],
   "source": [
    "plt.hist(target.sample(1000).numpy(), color=\"orange\")\n",
    "plt.hist(proposal.sample(1000).numpy(), color=\"blue\")"
   ]
  },
  {
   "cell_type": "code",
   "execution_count": 128,
   "metadata": {},
   "outputs": [],
   "source": [
    "ksd = KSD(target=target, kernel=kernel)"
   ]
  },
  {
   "cell_type": "code",
   "execution_count": 129,
   "metadata": {},
   "outputs": [],
   "source": [
    "from src.ksd.bootstrap import Bootstrap\n",
    "\n",
    "bootstrap = Bootstrap(ksd)\n",
    "n = 100\n",
    "proposal_sample = proposal.sample(n)"
   ]
  },
  {
   "cell_type": "code",
   "execution_count": 130,
   "metadata": {},
   "outputs": [
    {
     "data": {
      "text/plain": [
       "<tf.Tensor: shape=(), dtype=float32, numpy=0.011349878>"
      ]
     },
     "execution_count": 130,
     "metadata": {},
     "output_type": "execute_result"
    }
   ],
   "source": [
    "ksd(proposal_sample, proposal_sample)"
   ]
  },
  {
   "cell_type": "code",
   "execution_count": 131,
   "metadata": {
    "scrolled": false
   },
   "outputs": [],
   "source": [
    "alpha = 0.05\n",
    "res  = bootstrap.test_once(alpha=alpha, num_boost=200, X=proposal_sample)"
   ]
  },
  {
   "cell_type": "code",
   "execution_count": 132,
   "metadata": {},
   "outputs": [],
   "source": [
    "# np.diagonal(res[0, :, :].numpy())\n",
    "# plt.hist(res[0, :, :].numpy().reshape((-1,)))"
   ]
  },
  {
   "cell_type": "code",
   "execution_count": 133,
   "metadata": {},
   "outputs": [
    {
     "name": "stdout",
     "output_type": "stream",
     "text": [
      "Significance\t: 0.05 \n",
      "Critical value\t: 0.02296 \n",
      "Test statistic\t: -0.01065 \n",
      "Test result\t: NOT rejected\n"
     ]
    }
   ],
   "source": [
    "print(bootstrap.test_summary)"
   ]
  },
  {
   "cell_type": "code",
   "execution_count": 134,
   "metadata": {},
   "outputs": [
    {
     "data": {
      "image/png": "[encoded data removed]",
      "text/plain": [
       "<Figure size 432x288 with 1 Axes>"
      ]
     },
     "metadata": {
      "needs_background": "light"
     },
     "output_type": "display_data"
    }
   ],
   "source": [
    "ksd_star = bootstrap.ksd_star.numpy()\n",
    "_ = plt.hist(ksd_star)"
   ]
  },
  {
   "cell_type": "code",
   "execution_count": 135,
   "metadata": {},
   "outputs": [
    {
     "name": "stderr",
     "output_type": "stream",
     "text": [
      "Repeating tests: 100 of 100: 100%|███████████████████████████████████████████████████████████████████████████████████████████████████████████████████████████████████████████████████████████| 100/100 [02:34<00:00,  1.54s/it]\n"
     ]
    }
   ],
   "source": [
    "res = bootstrap.test(alpha=alpha, num_test=100, num_boost=200, X=proposal_sample)"
   ]
  },
  {
   "cell_type": "code",
   "execution_count": 136,
   "metadata": {},
   "outputs": [
    {
     "name": "stdout",
     "output_type": "stream",
     "text": [
      "num rejected: 0 out of 100\n"
     ]
    }
   ],
   "source": [
    "reject = res[1]\n",
    "print(\"num rejected:\", np.sum(reject), \"out of\", len(reject))"
   ]
  },
  {
   "cell_type": "code",
   "execution_count": 137,
   "metadata": {},
   "outputs": [
    {
     "data": {
      "text/plain": [
       "<matplotlib.lines.Line2D at 0x7fa97a284640>"
      ]
     },
     "execution_count": 137,
     "metadata": {},
     "output_type": "execute_result"
    },
    {
     "data": {
      "image/png": "[encoded data removed]",
      "text/plain": [
       "<Figure size 432x288 with 1 Axes>"
      ]
     },
     "metadata": {
      "needs_background": "light"
     },
     "output_type": "display_data"
    }
   ],
   "source": [
    "plt.hist(res[2])\n",
    "plt.axvline(x=bootstrap.ksd_hat)"
   ]
  },
  {
   "cell_type": "code",
   "execution_count": null,
   "metadata": {},
   "outputs": [],
   "source": []
  },
  {
   "cell_type": "code",
   "execution_count": 57,
   "metadata": {},
   "outputs": [],
   "source": [
    "target = tfd.MultivariateNormalDiag([0.])\n",
    "proposal = tfd.MultivariateNormalDiag([2.])\n",
    "\n",
    "kernel = RBF()\n",
    "# kernel = IMQ()"
   ]
  },
  {
   "cell_type": "code",
   "execution_count": 26,
   "metadata": {},
   "outputs": [],
   "source": [
    "import gpflow\n",
    "\n",
    "X = tf.constant([[1., 2, 3], [4, 5, 6]], dtype=tf.float64)\n",
    "Y = tf.identity(X)"
   ]
  },
  {
   "cell_type": "code",
   "execution_count": 72,
   "metadata": {},
   "outputs": [],
   "source": [
    "## autodiff\n",
    "kernel = gpflow.kernels.SquaredExponential(lengthscales=1/tf.math.sqrt(2.))\n",
    "# kernel, grad and hessian\n",
    "with tf.GradientTape() as g:\n",
    "    g.watch(X)\n",
    "    with tf.GradientTape() as tapeY, tf.GradientTape() as tapeX:\n",
    "        tapeY.watch(Y)\n",
    "        tapeX.watch(X)\n",
    "\n",
    "        K_XY = kernel(X, Y) # n x m\n",
    "        K_XY_Y = tf.reduce_sum(K_XY, axis=1)\n",
    "        K_XY_X = tf.reduce_sum(K_XY, axis=0)\n",
    "\n",
    "    # grad_k_Y\n",
    "    grad_K_Y = tapeY.jacobian(K_XY_Y, Y) # n x m x dim\n",
    "    grad_K_Y_sum = tf.reduce_sum(grad_K_Y, axis=0)\n",
    "\n",
    "    # grad_k_X (assuming radial kernel)\n",
    "    # TODO: figure out why this is not automatically correct\n",
    "    grad_K_X = - grad_K_Y\n",
    "\n",
    "gradgrad_K = g.jacobian(grad_K_Y_sum, X) # n x dim x m x dim\n",
    "gradgrad_K = tf.transpose(gradgrad_K, (0, 2, 1, 3)) # n x m x dim x dim"
   ]
  },
  {
   "cell_type": "code",
   "execution_count": 61,
   "metadata": {},
   "outputs": [],
   "source": [
    "## explicit\n",
    "# kernel\n",
    "kernel2 = RBF()\n",
    "kernel2.sigma = tf.constant(1., dtype=tf.float64)\n",
    "K_XY2 = kernel2(X, Y) # n x m\n",
    "\n",
    "# kernel grad\n",
    "grad_K_Y2 = kernel2.grad_second(X, Y) # n x m x dim\n",
    "grad_K_X2 = kernel2.grad_first(X, Y) # n x m x dim\n",
    "\n",
    "gradgrad_K2 = kernel2.gradgrad(X, Y) # n x m x dim x dim"
   ]
  },
  {
   "cell_type": "code",
   "execution_count": 73,
   "metadata": {},
   "outputs": [
    {
     "data": {
      "text/plain": [
       "(<tf.Tensor: shape=(2, 2), dtype=float64, numpy=\n",
       " array([[1.00000000e+00, 1.87952708e-12],\n",
       "        [1.87952708e-12, 1.00000000e+00]])>,\n",
       " <tf.Tensor: shape=(2, 2), dtype=float64, numpy=\n",
       " array([[1.00000000e+00, 1.87952887e-12],\n",
       "        [1.87952887e-12, 1.00000000e+00]])>)"
      ]
     },
     "execution_count": 73,
     "metadata": {},
     "output_type": "execute_result"
    }
   ],
   "source": [
    "K_XY = kernel(X, Y)\n",
    "tf.experimental.numpy.allclose(K_XY, K_XY2)\n",
    "K_XY, K_XY2"
   ]
  },
  {
   "cell_type": "code",
   "execution_count": 59,
   "metadata": {},
   "outputs": [
    {
     "name": "stdout",
     "output_type": "stream",
     "text": [
      "tf.Tensor(True, shape=(), dtype=bool)\n",
      "tf.Tensor(True, shape=(), dtype=bool)\n"
     ]
    }
   ],
   "source": [
    "print(tf.experimental.numpy.allclose(grad_K_Y, grad_K_Y2))\n",
    "print(tf.experimental.numpy.allclose(grad_K_X, grad_K_X2))\n",
    "# grad_K_Y, grad_K_Y2"
   ]
  },
  {
   "cell_type": "code",
   "execution_count": 60,
   "metadata": {},
   "outputs": [
    {
     "data": {
      "text/plain": [
       "<tf.Tensor: shape=(), dtype=bool, numpy=True>"
      ]
     },
     "execution_count": 60,
     "metadata": {},
     "output_type": "execute_result"
    }
   ],
   "source": [
    "tf.experimental.numpy.allclose(gradgrad_K, gradgrad_K2)"
   ]
  },
  {
   "cell_type": "code",
   "execution_count": null,
   "metadata": {},
   "outputs": [],
   "source": []
  },
  {
   "cell_type": "code",
   "execution_count": 76,
   "metadata": {},
   "outputs": [],
   "source": [
    "proposal_sample = proposal.sample(100)"
   ]
  },
  {
   "cell_type": "code",
   "execution_count": 54,
   "metadata": {
    "scrolled": true
   },
   "outputs": [
    {
     "ename": "NameError",
     "evalue": "name 'proposal_sample' is not defined",
     "output_type": "error",
     "traceback": [
      "\u001b[0;31m---------------------------------------------------------------------------\u001b[0m",
      "\u001b[0;31mNameError\u001b[0m                                 Traceback (most recent call last)",
      "\u001b[0;32m/tmp/ipykernel_3330696/1637876886.py\u001b[0m in \u001b[0;36m<module>\u001b[0;34m\u001b[0m\n\u001b[0;32m----> 1\u001b[0;31m \u001b[0m_\u001b[0m \u001b[0;34m=\u001b[0m \u001b[0mplt\u001b[0m\u001b[0;34m.\u001b[0m\u001b[0mhist\u001b[0m\u001b[0;34m(\u001b[0m\u001b[0mproposal_sample\u001b[0m\u001b[0;34m.\u001b[0m\u001b[0mnumpy\u001b[0m\u001b[0;34m(\u001b[0m\u001b[0;34m)\u001b[0m\u001b[0;34m)\u001b[0m\u001b[0;34m\u001b[0m\u001b[0;34m\u001b[0m\u001b[0m\n\u001b[0m",
      "\u001b[0;31mNameError\u001b[0m: name 'proposal_sample' is not defined"
     ]
    }
   ],
   "source": [
    "_ = plt.hist(proposal_sample.numpy())"
   ]
  },
  {
   "cell_type": "code",
   "execution_count": 91,
   "metadata": {},
   "outputs": [],
   "source": [
    "# delete\n",
    "target = tfd.MultivariateNormalDiag([0.])\n",
    "proposal = tfd.MultivariateNormalDiag([2.])\n",
    "proposal_sample = proposal.sample(100)\n",
    "\n",
    "kernel = RBF()"
   ]
  },
  {
   "cell_type": "code",
   "execution_count": 92,
   "metadata": {},
   "outputs": [
    {
     "data": {
      "text/plain": [
       "1.0535643"
      ]
     },
     "execution_count": 92,
     "metadata": {},
     "output_type": "execute_result"
    }
   ],
   "source": [
    "ksd = KSD(target=target, kernel=kernel)\n",
    "ksd_val = ksd(proposal_sample, tf.identity(proposal_sample)).numpy()\n",
    "ksd_val"
   ]
  },
  {
   "cell_type": "code",
   "execution_count": 99,
   "metadata": {},
   "outputs": [
    {
     "data": {
      "text/plain": [
       "<tf.Tensor: shape=(100, 100), dtype=float32, numpy=\n",
       "array([[1.00000000e+00, 3.49921808e-02, 1.30525295e-05, ...,\n",
       "        1.39709402e-04, 9.41249132e-02, 1.06716514e-01],\n",
       "       [3.49921808e-02, 1.00000000e+00, 9.84499678e-02, ...,\n",
       "        2.67552495e-01, 9.17319119e-01, 1.56024180e-05],\n",
       "       [1.30525295e-05, 9.84499678e-02, 1.00000000e+00, ...,\n",
       "        8.69249344e-01, 3.69171910e-02, 6.11884154e-11],\n",
       "       ...,\n",
       "       [1.39709402e-04, 2.67552495e-01, 8.69249344e-01, ...,\n",
       "        1.00000000e+00, 1.25008643e-01, 2.00707295e-09],\n",
       "       [9.41249132e-02, 9.17319119e-01, 3.69171910e-02, ...,\n",
       "        1.25008643e-01, 1.00000000e+00, 1.01068239e-04],\n",
       "       [1.06716514e-01, 1.56024180e-05, 6.11884154e-11, ...,\n",
       "        2.00707295e-09, 1.01068239e-04, 1.00000000e+00]], dtype=float32)>"
      ]
     },
     "execution_count": 99,
     "metadata": {},
     "output_type": "execute_result"
    }
   ],
   "source": [
    "\n",
    "kernel_auto(proposal_sample, proposal_sample)"
   ]
  },
  {
   "cell_type": "code",
   "execution_count": 105,
   "metadata": {
    "scrolled": false
   },
   "outputs": [
    {
     "data": {
      "text/plain": [
       "1.0535648"
      ]
     },
     "execution_count": 105,
     "metadata": {},
     "output_type": "execute_result"
    }
   ],
   "source": [
    "from src.ksd.ksd import KSDAuto\n",
    "\n",
    "kernel_auto = gpflow.kernels.SquaredExponential(lengthscales=1.)\n",
    "kernel_auto.variance = tf.constant(1., dtype=tf.float32)\n",
    "ksd_auto = KSDAuto(target=target, kernel=kernel_auto)\n",
    "ksd_val = ksd_auto(proposal_sample, tf.identity(proposal_sample)).numpy()\n",
    "ksd_val"
   ]
  },
  {
   "cell_type": "code",
   "execution_count": 73,
   "metadata": {},
   "outputs": [],
   "source": [
    "def run_ksd_experiment(nrep, target, proposal, kernel):\n",
    "    \"\"\"compute KSD and repeat for nrep times\"\"\"\n",
    "    ksd = KSD(target=target, kernel=kernel)\n",
    "    \n",
    "    nsamples_list = list(range(10, 100, 10)) + list(range(100, 1100, 100))\n",
    "    ksd_list = []\n",
    "    ksd_df = pd.DataFrame(columns=[\"n\", \"ksd\", \"seed\"])\n",
    "    for n in nsamples_list:\n",
    "        print(f\"n = {n}\")\n",
    "        ksd_n_list = []\n",
    "        for seed in range(nrep):\n",
    "            proposal_sample = proposal.sample(n)\n",
    "            ksd_val = ksd(proposal_sample, tf.identity(proposal_sample)).numpy()\n",
    "            ksd_n_list.append(ksd_val)\n",
    "            ksd_df.loc[len(ksd_df)] = [n, ksd_val, seed]\n",
    "    return ksd_df"
   ]
  },
  {
   "cell_type": "code",
   "execution_count": 60,
   "metadata": {
    "scrolled": true
   },
   "outputs": [
    {
     "name": "stdout",
     "output_type": "stream",
     "text": [
      "n = 10\n",
      "n = 20\n",
      "n = 30\n",
      "n = 40\n",
      "n = 50\n",
      "n = 60\n",
      "n = 70\n",
      "n = 80\n",
      "n = 90\n",
      "n = 100\n",
      "n = 200\n",
      "n = 300\n",
      "n = 400\n",
      "n = 500\n",
      "n = 600\n",
      "n = 700\n",
      "n = 800\n",
      "n = 900\n",
      "n = 1000\n"
     ]
    }
   ],
   "source": [
    "nrep = 10\n",
    "\n",
    "ksd_df = run_ksd_experiment(nrep, target, proposal, kernel)"
   ]
  },
  {
   "cell_type": "code",
   "execution_count": 61,
   "metadata": {},
   "outputs": [
    {
     "data": {
      "text/plain": [
       "(0.0, 3.682068687856197)"
      ]
     },
     "execution_count": 61,
     "metadata": {},
     "output_type": "execute_result"
    },
    {
     "data": {
      "image/png": "[encoded data removed]",
      "text/plain": [
       "<Figure size 432x288 with 1 Axes>"
      ]
     },
     "metadata": {
      "needs_background": "light"
     },
     "output_type": "display_data"
    }
   ],
   "source": [
    "sns.lineplot(data=ksd_df, x=\"n\", y=\"ksd\")\n",
    "plt.ylim((0, None))"
   ]
  },
  {
   "cell_type": "markdown",
   "metadata": {},
   "source": [
    "# Mixture of gaussian experiment"
   ]
  },
  {
   "cell_type": "code",
   "execution_count": 84,
   "metadata": {},
   "outputs": [],
   "source": [
    "def create_mixture_gaussian(dim, delta):\n",
    "    e1 = tf.eye(dim)[:, 0]\n",
    "    mix_gauss = tfd.Mixture(\n",
    "      cat=tfd.Categorical(probs=[0.5, 0.5]),\n",
    "      components=[\n",
    "        tfd.MultivariateNormalDiag(-delta * e1),\n",
    "        tfd.MultivariateNormalDiag(delta * e1)\n",
    "    ])\n",
    "    return mix_gauss\n",
    "    "
   ]
  },
  {
   "cell_type": "code",
   "execution_count": 85,
   "metadata": {},
   "outputs": [],
   "source": [
    "delta = 3\n",
    "dim = 5\n",
    "\n",
    "target = create_mixture_gaussian(dim=dim, delta=delta)\n",
    "\n",
    "proposal_mean = - delta * tf.eye(dim)[:, 0]\n",
    "proposal = tfd.MultivariateNormalDiag(proposal_mean)"
   ]
  },
  {
   "cell_type": "code",
   "execution_count": 86,
   "metadata": {},
   "outputs": [
    {
     "data": {
      "text/plain": [
       "(array([ 27., 148., 223.,  96.,  17.,  19.,  82., 206., 146.,  36.]),\n",
       " array([-5.7075515 , -4.5770664 , -3.446581  , -2.3160958 , -1.1856105 ,\n",
       "        -0.05512524,  1.0753601 ,  2.2058454 ,  3.3363304 ,  4.466816  ,\n",
       "         5.597301  ], dtype=float32),\n",
       " <BarContainer object of 10 artists>)"
      ]
     },
     "execution_count": 86,
     "metadata": {},
     "output_type": "execute_result"
    },
    {
     "data": {
      "image/png": "[encoded data removed]",
      "text/plain": [
       "<Figure size 432x288 with 1 Axes>"
      ]
     },
     "metadata": {
      "needs_background": "light"
     },
     "output_type": "display_data"
    }
   ],
   "source": [
    "plt.hist(proposal.sample(1000).numpy()[:, 0], alpha=0.3)\n",
    "plt.hist(target.sample(1000).numpy()[:, 0], alpha=0.3)"
   ]
  },
  {
   "cell_type": "code",
   "execution_count": 87,
   "metadata": {},
   "outputs": [
    {
     "name": "stdout",
     "output_type": "stream",
     "text": [
      "n = 10\n",
      "n = 20\n",
      "n = 30\n",
      "n = 40\n",
      "n = 50\n",
      "n = 60\n",
      "n = 70\n",
      "n = 80\n",
      "n = 90\n",
      "n = 100\n",
      "n = 200\n",
      "n = 300\n",
      "n = 400\n",
      "n = 500\n",
      "n = 600\n",
      "n = 700\n",
      "n = 800\n",
      "n = 900\n",
      "n = 1000\n"
     ]
    }
   ],
   "source": [
    "ksd_df = run_ksd_experiment(nrep, target, proposal, kernel)"
   ]
  },
  {
   "cell_type": "code",
   "execution_count": 88,
   "metadata": {},
   "outputs": [
    {
     "data": {
      "image/png": "[encoded data removed]",
      "text/plain": [
       "<Figure size 432x288 with 1 Axes>"
      ]
     },
     "metadata": {
      "needs_background": "light"
     },
     "output_type": "display_data"
    }
   ],
   "source": [
    "sns.lineplot(data=ksd_df, x=\"n\", y=\"ksd\")\n",
    "_ = plt.ylim((0, None))"
   ]
  },
  {
   "cell_type": "code",
   "execution_count": 90,
   "metadata": {},
   "outputs": [
    {
     "name": "stdout",
     "output_type": "stream",
     "text": [
      "n = 10\n",
      "n = 20\n",
      "n = 30\n",
      "n = 40\n",
      "n = 50\n",
      "n = 60\n",
      "n = 70\n",
      "n = 80\n",
      "n = 90\n",
      "n = 100\n",
      "n = 200\n",
      "n = 300\n",
      "n = 400\n",
      "n = 500\n",
      "n = 600\n",
      "n = 700\n",
      "n = 800\n",
      "n = 900\n",
      "n = 1000\n"
     ]
    },
    {
     "data": {
      "image/png": "[encoded data removed]",
      "text/plain": [
       "<Figure size 432x288 with 1 Axes>"
      ]
     },
     "metadata": {
      "needs_background": "light"
     },
     "output_type": "display_data"
    }
   ],
   "source": [
    "# with RBF\n",
    "ksd_df = run_ksd_experiment(nrep, target, proposal, RBF())\n",
    "\n",
    "sns.lineplot(data=ksd_df, x=\"n\", y=\"ksd\")\n",
    "_ = plt.ylim((0, None))\n",
    "# plt.xscale(\"log\")"
   ]
  },
  {
   "cell_type": "code",
   "execution_count": 92,
   "metadata": {},
   "outputs": [
    {
     "data": {
      "image/png": "[encoded data removed]",
      "text/plain": [
       "<Figure size 432x288 with 1 Axes>"
      ]
     },
     "metadata": {
      "needs_background": "light"
     },
     "output_type": "display_data"
    }
   ],
   "source": [
    "sns.lineplot(data=ksd_df, x=\"n\", y=\"ksd\")\n",
    "_ = plt.ylim((0, None))\n",
    "plt.xscale(\"log\")"
   ]
  },
  {
   "cell_type": "code",
   "execution_count": null,
   "metadata": {},
   "outputs": [],
   "source": []
  }
 ],
 "metadata": {
  "interpreter": {
   "hash": "40d3a090f54c6569ab1632332b64b2c03c39dcf918b08424e98f38b5ae0af88f"
  },
  "kernelspec": {
   "display_name": "Python 3 (ipykernel)",
   "language": "python",
   "name": "python3"
  },
  "language_info": {
   "codemirror_mode": {
    "name": "ipython",
    "version": 3
   },
   "file_extension": ".py",
   "mimetype": "text/x-python",
   "name": "python",
   "nbconvert_exporter": "python",
   "pygments_lexer": "ipython3",
   "version": "3.8.5"
  }
 },
 "nbformat": 4,
 "nbformat_minor": 2
}
