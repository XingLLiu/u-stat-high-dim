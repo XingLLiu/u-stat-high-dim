{
 "cells": [
  {
   "cell_type": "code",
   "execution_count": 38,
   "metadata": {},
   "outputs": [
    {
     "name": "stdout",
     "output_type": "stream",
     "text": [
      "The autoreload extension is already loaded. To reload it, use:\n",
      "  %reload_ext autoreload\n"
     ]
    }
   ],
   "source": [
    "%load_ext autoreload\n",
    "%autoreload 2\n",
    "\n",
    "import numpy as np\n",
    "import pandas as pd\n",
    "import tensorflow as tf\n",
    "import tensorflow_probability as tfp\n",
    "tfd = tfp.distributions\n",
    "import matplotlib.pyplot as plt\n",
    "import seaborn as sns\n",
    "from tqdm.notebook import tqdm\n",
    "\n",
    "from src.ksd.ksd import KSD\n",
    "from src.ksd.kernel import RBF, IMQ"
   ]
  },
  {
   "cell_type": "code",
   "execution_count": 54,
   "metadata": {},
   "outputs": [],
   "source": [
    "tf.random.set_seed(0)"
   ]
  },
  {
   "cell_type": "code",
   "execution_count": 55,
   "metadata": {},
   "outputs": [],
   "source": [
    "target = tfd.MultivariateNormalDiag([0.])\n",
    "proposal = tfd.MultivariateNormalDiag([2.])\n",
    "\n",
    "# kernel = RBF()\n",
    "kernel = IMQ()"
   ]
  },
  {
   "cell_type": "code",
   "execution_count": 56,
   "metadata": {},
   "outputs": [],
   "source": [
    "proposal_sample = proposal.sample(1000)"
   ]
  },
  {
   "cell_type": "code",
   "execution_count": 57,
   "metadata": {
    "scrolled": false
   },
   "outputs": [
    {
     "data": {
      "image/png": "[encoded data removed]",
      "text/plain": [
       "<Figure size 432x288 with 1 Axes>"
      ]
     },
     "metadata": {
      "needs_background": "light"
     },
     "output_type": "display_data"
    }
   ],
   "source": [
    "_ = plt.hist(proposal_sample.numpy())"
   ]
  },
  {
   "cell_type": "code",
   "execution_count": 58,
   "metadata": {},
   "outputs": [
    {
     "data": {
      "text/plain": [
       "2.7912824"
      ]
     },
     "execution_count": 58,
     "metadata": {},
     "output_type": "execute_result"
    }
   ],
   "source": [
    "ksd = KSD(target=target, kernel=kernel)\n",
    "ksd_val = ksd(proposal_sample, tf.identity(proposal_sample)).numpy()\n",
    "ksd_val"
   ]
  },
  {
   "cell_type": "code",
   "execution_count": 73,
   "metadata": {},
   "outputs": [],
   "source": [
    "def run_ksd_experiment(nrep, target, proposal, kernel):\n",
    "    \"\"\"compute KSD and repeat for nrep times\"\"\"\n",
    "    ksd = KSD(target=target, kernel=kernel)\n",
    "    \n",
    "    nsamples_list = list(range(10, 100, 10)) + list(range(100, 1100, 100))\n",
    "    ksd_list = []\n",
    "    ksd_df = pd.DataFrame(columns=[\"n\", \"ksd\", \"seed\"])\n",
    "    for n in nsamples_list:\n",
    "        print(f\"n = {n}\")\n",
    "        ksd_n_list = []\n",
    "        for seed in range(nrep):\n",
    "            proposal_sample = proposal.sample(n)\n",
    "            ksd_val = ksd(proposal_sample, tf.identity(proposal_sample)).numpy()\n",
    "            ksd_n_list.append(ksd_val)\n",
    "            ksd_df.loc[len(ksd_df)] = [n, ksd_val, seed]\n",
    "    return ksd_df"
   ]
  },
  {
   "cell_type": "code",
   "execution_count": 60,
   "metadata": {
    "scrolled": true
   },
   "outputs": [
    {
     "name": "stdout",
     "output_type": "stream",
     "text": [
      "n = 10\n",
      "n = 20\n",
      "n = 30\n",
      "n = 40\n",
      "n = 50\n",
      "n = 60\n",
      "n = 70\n",
      "n = 80\n",
      "n = 90\n",
      "n = 100\n",
      "n = 200\n",
      "n = 300\n",
      "n = 400\n",
      "n = 500\n",
      "n = 600\n",
      "n = 700\n",
      "n = 800\n",
      "n = 900\n",
      "n = 1000\n"
     ]
    }
   ],
   "source": [
    "nrep = 10\n",
    "\n",
    "ksd_df = run_ksd_experiment(nrep, target, proposal, kernel)"
   ]
  },
  {
   "cell_type": "code",
   "execution_count": 61,
   "metadata": {},
   "outputs": [
    {
     "data": {
      "text/plain": [
       "(0.0, 3.682068687856197)"
      ]
     },
     "execution_count": 61,
     "metadata": {},
     "output_type": "execute_result"
    },
    {
     "data": {
      "image/png": "[encoded data removed]",
      "text/plain": [
       "<Figure size 432x288 with 1 Axes>"
      ]
     },
     "metadata": {
      "needs_background": "light"
     },
     "output_type": "display_data"
    }
   ],
   "source": [
    "sns.lineplot(data=ksd_df, x=\"n\", y=\"ksd\")\n",
    "plt.ylim((0, None))"
   ]
  },
  {
   "cell_type": "markdown",
   "metadata": {},
   "source": [
    "# Mixture of gaussian experiment"
   ]
  },
  {
   "cell_type": "code",
   "execution_count": 75,
   "metadata": {},
   "outputs": [],
   "source": [
    "def create_mixture_gaussian(dim, delta):\n",
    "    e1 = tf.eye(dim)[:, 0]\n",
    "    mix_gauss = tfd.Mixture(\n",
    "      cat=tfd.Categorical(probs=[0.5, 0.5]),\n",
    "      components=[\n",
    "        tfd.MultivariateNormalDiag(-delta * e1),\n",
    "        tfd.MultivariateNormalDiag(delta * e1)\n",
    "    ])\n",
    "    return mix_gauss\n",
    "    "
   ]
  },
  {
   "cell_type": "code",
   "execution_count": 76,
   "metadata": {},
   "outputs": [],
   "source": [
    "delta = 1.5\n",
    "dim = 5\n",
    "\n",
    "target = create_mixture_gaussian(dim=dim, delta=delta)\n",
    "\n",
    "proposal_mean = - delta * tf.eye(dim)[:, 0]\n",
    "proposal = tfd.MultivariateNormalDiag(proposal_mean)"
   ]
  },
  {
   "cell_type": "code",
   "execution_count": 78,
   "metadata": {},
   "outputs": [
    {
     "data": {
      "text/plain": [
       "(array([  9.,  47., 136., 178., 141., 161., 170., 117.,  32.,   9.]),\n",
       " array([-4.4571652 , -3.5498328 , -2.6425004 , -1.7351681 , -0.82783574,\n",
       "         0.07949662,  0.986829  ,  1.8941613 ,  2.8014936 ,  3.708826  ,\n",
       "         4.6161585 ], dtype=float32),\n",
       " <BarContainer object of 10 artists>)"
      ]
     },
     "execution_count": 78,
     "metadata": {},
     "output_type": "execute_result"
    },
    {
     "data": {
      "image/png": "[encoded data removed]",
      "text/plain": [
       "<Figure size 432x288 with 1 Axes>"
      ]
     },
     "metadata": {
      "needs_background": "light"
     },
     "output_type": "display_data"
    }
   ],
   "source": [
    "plt.hist(proposal.sample(1000).numpy()[:, 0], alpha=0.3)\n",
    "plt.hist(target.sample(1000).numpy()[:, 0], alpha=0.3)"
   ]
  },
  {
   "cell_type": "code",
   "execution_count": 79,
   "metadata": {},
   "outputs": [
    {
     "name": "stdout",
     "output_type": "stream",
     "text": [
      "n = 10\n",
      "n = 20\n",
      "n = 30\n",
      "n = 40\n",
      "n = 50\n",
      "n = 60\n",
      "n = 70\n",
      "n = 80\n",
      "n = 90\n",
      "n = 100\n",
      "n = 200\n",
      "n = 300\n",
      "n = 400\n",
      "n = 500\n",
      "n = 600\n",
      "n = 700\n",
      "n = 800\n",
      "n = 900\n",
      "n = 1000\n"
     ]
    }
   ],
   "source": [
    "ksd_df = run_ksd_experiment(nrep, target, proposal, kernel)"
   ]
  },
  {
   "cell_type": "code",
   "execution_count": 80,
   "metadata": {},
   "outputs": [
    {
     "data": {
      "image/png": "[encoded data removed]",
      "text/plain": [
       "<Figure size 432x288 with 1 Axes>"
      ]
     },
     "metadata": {
      "needs_background": "light"
     },
     "output_type": "display_data"
    }
   ],
   "source": [
    "sns.lineplot(data=ksd_df, x=\"n\", y=\"ksd\")\n",
    "_ = plt.ylim((0, None))"
   ]
  },
  {
   "cell_type": "code",
   "execution_count": 83,
   "metadata": {},
   "outputs": [
    {
     "name": "stdout",
     "output_type": "stream",
     "text": [
      "n = 10\n",
      "n = 20\n",
      "n = 30\n",
      "n = 40\n",
      "n = 50\n",
      "n = 60\n",
      "n = 70\n",
      "n = 80\n",
      "n = 90\n",
      "n = 100\n",
      "n = 200\n",
      "n = 300\n",
      "n = 400\n",
      "n = 500\n",
      "n = 600\n",
      "n = 700\n",
      "n = 800\n",
      "n = 900\n",
      "n = 1000\n"
     ]
    },
    {
     "data": {
      "image/png": "[encoded data removed]",
      "text/plain": [
       "<Figure size 432x288 with 1 Axes>"
      ]
     },
     "metadata": {
      "needs_background": "light"
     },
     "output_type": "display_data"
    }
   ],
   "source": [
    "# with RBF\n",
    "ksd_df = run_ksd_experiment(nrep, target, proposal, RBF())\n",
    "\n",
    "sns.lineplot(data=ksd_df, x=\"n\", y=\"ksd\")\n",
    "_ = plt.ylim((0, None))\n",
    "plt.xscale(\"log\")"
   ]
  },
  {
   "cell_type": "code",
   "execution_count": null,
   "metadata": {},
   "outputs": [],
   "source": []
  }
 ],
 "metadata": {
  "kernelspec": {
   "display_name": "fast-mcmc",
   "language": "python",
   "name": "fast-mcmc"
  },
  "language_info": {
   "codemirror_mode": {
    "name": "ipython",
    "version": 3
   },
   "file_extension": ".py",
   "mimetype": "text/x-python",
   "name": "python",
   "nbconvert_exporter": "python",
   "pygments_lexer": "ipython3",
   "version": "3.8.12"
  }
 },
 "nbformat": 4,
 "nbformat_minor": 2
}
